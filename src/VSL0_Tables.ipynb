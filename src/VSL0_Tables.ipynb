{
 "cells": [
  {
   "cell_type": "markdown",
   "metadata": {},
   "source": [
    "# VSL = 0 Model Run - Tables"
   ]
  },
  {
   "cell_type": "code",
   "execution_count": 1,
   "metadata": {
    "tags": []
   },
   "outputs": [],
   "source": [
    "using Mimi\n",
    "using MimiFUND\n",
    "using DelimitedFiles"
   ]
  },
  {
   "cell_type": "code",
   "execution_count": 2,
   "metadata": {
    "collapsed": false,
    "jupyter": {
     "outputs_hidden": false
    }
   },
   "outputs": [],
   "source": [
    "parameters = MimiFUND.load_default_parameters();"
   ]
  },
  {
   "cell_type": "code",
   "execution_count": 3,
   "metadata": {
    "tags": []
   },
   "outputs": [],
   "source": [
    "m0 = MimiFUND.get_model(params=parameters);"
   ]
  },
  {
   "cell_type": "code",
   "execution_count": 4,
   "metadata": {
    "tags": []
   },
   "outputs": [],
   "source": [
    "run(m0);"
   ]
  },
  {
   "cell_type": "markdown",
   "metadata": {},
   "source": [
    "# VSL and VMORB in 1950"
   ]
  },
  {
   "cell_type": "code",
   "execution_count": 5,
   "metadata": {
    "collapsed": false,
    "jupyter": {
     "outputs_hidden": false
    }
   },
   "outputs": [
    {
     "data": {
      "text/plain": [
       "16-element Vector{Float64}:\n",
       "      2.0835227406450824e6\n",
       "      1.2382844253883285e6\n",
       "      1.25751895043233e6\n",
       "      1.1846576551391e6\n",
       "      2.3575787745608715e6\n",
       " 200499.91081913593\n",
       " 185795.53443847643\n",
       " 259607.45039951298\n",
       " 231508.00590938915\n",
       " 336185.4191303534\n",
       "  24982.275421174447\n",
       "  28050.496290017694\n",
       "   6629.558041336494\n",
       "  60989.77875388889\n",
       " 107720.13397436087\n",
       "  68900.37750474535"
      ]
     },
     "execution_count": 5,
     "metadata": {},
     "output_type": "execute_result"
    }
   ],
   "source": [
    "vsl_1950 = m0[:vslvmorb, :vslbm] .* (m0[:socioeconomic, :ypc][1,:] ./  m0[:vslvmorb, :vslypc0]) .^ m0[:vslvmorb, :vslel]"
   ]
  },
  {
   "cell_type": "code",
   "execution_count": 6,
   "metadata": {
    "collapsed": false,
    "jupyter": {
     "outputs_hidden": false
    }
   },
   "outputs": [
    {
     "data": {
      "text/plain": [
       "16-element Vector{Float64}:\n",
       " 8334.090962580312\n",
       " 4953.1377015533035\n",
       " 5030.075801729309\n",
       " 4738.63062055639\n",
       " 9430.315098243467\n",
       "  801.999643276542\n",
       "  743.1821377539042\n",
       " 1038.4298015980498\n",
       "  926.0320236375546\n",
       " 1344.7416765214107\n",
       "   99.92910168469759\n",
       "  112.20198516007054\n",
       "   26.51823216534592\n",
       "  243.95911501555506\n",
       "  430.8805358974426\n",
       "  275.60151001898083"
      ]
     },
     "execution_count": 6,
     "metadata": {},
     "output_type": "execute_result"
    }
   ],
   "source": [
    "vmorb_1950=  m0[:vslvmorb, :vmorbbm] .* (m0[:socioeconomic, :ypc][1,:] ./  m0[:vslvmorb, :vmorbypc0]) .^  m0[:vslvmorb, :vmorbel]"
   ]
  },
  {
   "cell_type": "markdown",
   "metadata": {},
   "source": [
    "## VSL and VMORB Matrix - Constant Starting in 2010"
   ]
  },
  {
   "cell_type": "code",
   "execution_count": 7,
   "metadata": {
    "collapsed": false,
    "jupyter": {
     "outputs_hidden": false
    }
   },
   "outputs": [
    {
     "data": {
      "text/plain": [
       "1050×16 Matrix{Float64}:\n",
       " 2.08352e6  1.23828e6  1.25752e6  1.18466e6  …       1.0772e5    68900.4\n",
       " 2.12244e6  1.27277e6  1.29186e6  1.22297e6          1.0855e5    70919.2\n",
       " 2.16209e6  1.30822e6  1.32714e6  1.26252e6          1.09385e5   72997.1\n",
       " 2.20248e6  1.34465e6  1.36339e6  1.30335e6          1.10228e5   75135.9\n",
       " 2.24362e6  1.3821e6   1.40062e6  1.3455e6           1.11076e5   77337.4\n",
       " 2.28553e6  1.42059e6  1.43887e6  1.38901e6  …       1.11932e5   79603.4\n",
       " 2.32822e6  1.46015e6  1.47817e6  1.43393e6          1.12794e5   81935.8\n",
       " 2.37172e6  1.50082e6  1.51854e6  1.48031e6          1.13662e5   84336.5\n",
       " 2.41602e6  1.54262e6  1.56001e6  1.52818e6          1.14537e5   86807.5\n",
       " 2.46115e6  1.58558e6  1.60261e6  1.5776e6           1.15419e5   89351.0\n",
       " 2.50713e6  1.62974e6  1.64638e6  1.62862e6  …  116308.0         91969.0\n",
       " 2.55396e6  1.67513e6  1.69134e6  1.68129e6          1.17204e5   94663.7\n",
       " 2.60167e6  1.72178e6  1.73753e6  1.73567e6     118106.0         97437.3\n",
       " ⋮                                           ⋱                       ⋮\n",
       " 7.61527e6  5.34812e6  6.22291e6  8.3293e6           1.18884e5  278206.0\n",
       " 7.61527e6  5.34812e6  6.22291e6  8.3293e6           1.18884e5  278206.0\n",
       " 7.61527e6  5.34812e6  6.22291e6  8.3293e6   …       1.18884e5  278206.0\n",
       " 7.61527e6  5.34812e6  6.22291e6  8.3293e6           1.18884e5  278206.0\n",
       " 7.61527e6  5.34812e6  6.22291e6  8.3293e6           1.18884e5  278206.0\n",
       " 7.61527e6  5.34812e6  6.22291e6  8.3293e6           1.18884e5  278206.0\n",
       " 7.61527e6  5.34812e6  6.22291e6  8.3293e6           1.18884e5  278206.0\n",
       " 7.61527e6  5.34812e6  6.22291e6  8.3293e6   …       1.18884e5  278206.0\n",
       " 7.61527e6  5.34812e6  6.22291e6  8.3293e6           1.18884e5  278206.0\n",
       " 7.61527e6  5.34812e6  6.22291e6  8.3293e6           1.18884e5  278206.0\n",
       " 7.61527e6  5.34812e6  6.22291e6  8.3293e6           1.18884e5  278206.0\n",
       " 7.61527e6  5.34812e6  6.22291e6  8.3293e6           1.18884e5  278206.0"
      ]
     },
     "execution_count": 7,
     "metadata": {},
     "output_type": "execute_result"
    }
   ],
   "source": [
    "trick=zeros(1050,16)\n",
    "\n",
    "trick[1,:]=trick[1,:]+vsl_1950\n",
    "\n",
    "for j=2:60\n",
    "trick[j,:]=trick[j,:]+m0[:vslvmorb,:vsl][j,:]\n",
    "end\n",
    "\n",
    "for j=61:1050\n",
    "trick[j,:]=trick[j,:]+m0[:vslvmorb,:vsl][60,:]\n",
    "end\n",
    "\n",
    "trick\n",
    "vsl_matrix=trick"
   ]
  },
  {
   "cell_type": "code",
   "execution_count": 8,
   "metadata": {
    "collapsed": false,
    "jupyter": {
     "outputs_hidden": false
    }
   },
   "outputs": [
    {
     "data": {
      "text/plain": [
       "1050×16 Matrix{Float64}:\n",
       "  8334.09   4953.14   5030.08   4738.63  …   243.959  430.881   275.602\n",
       "  8489.77   5091.08   5167.45   4891.88      252.812  434.198   283.677\n",
       "  8648.36   5232.87   5308.57   5050.08      261.987  437.542   291.988\n",
       "  8809.91   5378.6    5453.55   5213.4       271.494  440.911   300.544\n",
       "  8974.48   5528.4    5602.48   5382.0       281.347  444.306   309.35\n",
       "  9142.12   5682.36   5755.49   5556.06  …   291.557  447.727   318.413\n",
       "  9312.9    5840.62   5912.67   5735.74      302.138  451.174   327.743\n",
       "  9486.86   6003.28   6074.14   5921.23      313.102  454.648   337.346\n",
       "  9664.08   6170.47   6240.03   6112.73      324.465  458.149   347.23\n",
       "  9844.6    6342.32   6410.44   6310.41      336.24   461.677   357.404\n",
       " 10028.5    6518.95   6585.51   6514.49  …   348.442  465.232   367.876\n",
       " 10215.8    6700.51   6765.36   6725.17      361.087  468.814   378.655\n",
       " 10406.7    6887.11   6950.13   6942.66      374.19   472.424   389.749\n",
       "     ⋮                                   ⋱                        ⋮\n",
       " 30461.1   21392.5   24891.7   33317.2      1227.94   475.536  1112.82\n",
       " 30461.1   21392.5   24891.7   33317.2      1227.94   475.536  1112.82\n",
       " 30461.1   21392.5   24891.7   33317.2   …  1227.94   475.536  1112.82\n",
       " 30461.1   21392.5   24891.7   33317.2      1227.94   475.536  1112.82\n",
       " 30461.1   21392.5   24891.7   33317.2      1227.94   475.536  1112.82\n",
       " 30461.1   21392.5   24891.7   33317.2      1227.94   475.536  1112.82\n",
       " 30461.1   21392.5   24891.7   33317.2      1227.94   475.536  1112.82\n",
       " 30461.1   21392.5   24891.7   33317.2   …  1227.94   475.536  1112.82\n",
       " 30461.1   21392.5   24891.7   33317.2      1227.94   475.536  1112.82\n",
       " 30461.1   21392.5   24891.7   33317.2      1227.94   475.536  1112.82\n",
       " 30461.1   21392.5   24891.7   33317.2      1227.94   475.536  1112.82\n",
       " 30461.1   21392.5   24891.7   33317.2      1227.94   475.536  1112.82"
      ]
     },
     "execution_count": 8,
     "metadata": {},
     "output_type": "execute_result"
    }
   ],
   "source": [
    "trick2=zeros(1050,16)\n",
    "\n",
    "trick2[1,:]=trick2[1,:]+vmorb_1950\n",
    "\n",
    "for j=2:60\n",
    "trick2[j,:]=trick2[j,:]+m0[:vslvmorb,:vmorb][j,:]\n",
    "end\n",
    "\n",
    "for j=61:1050\n",
    "trick2[j,:]=trick2[j,:]+m0[:vslvmorb,:vmorb][60,:]\n",
    "end\n",
    "\n",
    "trick2\n",
    "vmorb_matrix=trick2"
   ]
  },
  {
   "cell_type": "markdown",
   "metadata": {},
   "source": [
    "# VSL Model Run"
   ]
  },
  {
   "cell_type": "code",
   "execution_count": 9,
   "metadata": {
    "tags": []
   },
   "outputs": [],
   "source": [
    "m1 = getfund(params=parameters);"
   ]
  },
  {
   "cell_type": "code",
   "execution_count": 10,
   "metadata": {
    "tags": []
   },
   "outputs": [],
   "source": [
    "run(m1);"
   ]
  },
  {
   "cell_type": "markdown",
   "metadata": {},
   "source": [
    "# Discount Factor"
   ]
  },
  {
   "cell_type": "code",
   "execution_count": 11,
   "metadata": {
    "collapsed": false,
    "jupyter": {
     "outputs_hidden": false
    }
   },
   "outputs": [],
   "source": [
    "baseyear = 60\n",
    "prtp = 0.01\n",
    "eta = 1.0\n",
    "ypc = m1[:socioeconomic, :ypc]\n",
    "df_r = [t>=baseyear ? (ypc[baseyear,r]/ypc[t,r])^eta *\n",
    "(1.0+prtp)^-(t-baseyear) : 0.0 for t in 1:1051, r in 1:16];\n",
    "#df_r_1=df_r;\n",
    "df_r_1=df_r[50:350,:];"
   ]
  },
  {
   "cell_type": "markdown",
   "metadata": {},
   "source": [
    "# Key Variables"
   ]
  },
  {
   "cell_type": "markdown",
   "metadata": {},
   "source": [
    "### Population - global population is in people while regional population is in millions"
   ]
  },
  {
   "cell_type": "code",
   "execution_count": 12,
   "metadata": {
    "collapsed": false,
    "jupyter": {
     "outputs_hidden": false
    }
   },
   "outputs": [],
   "source": [
    "pop=m1[:population, :globalpopulation];"
   ]
  },
  {
   "cell_type": "code",
   "execution_count": 13,
   "metadata": {
    "collapsed": false,
    "jupyter": {
     "outputs_hidden": false
    }
   },
   "outputs": [],
   "source": [
    "pop_glob=pop[50:350,:];"
   ]
  },
  {
   "cell_type": "code",
   "execution_count": 14,
   "metadata": {
    "collapsed": false,
    "jupyter": {
     "outputs_hidden": false
    }
   },
   "outputs": [
    {
     "data": {
      "text/plain": [
       "1-element Vector{Union{Missing, Float64}}:\n",
       " 7.137367861265218e9"
      ]
     },
     "execution_count": 14,
     "metadata": {},
     "output_type": "execute_result"
    }
   ],
   "source": [
    "pop_glob_2015=pop[65,:]"
   ]
  },
  {
   "cell_type": "code",
   "execution_count": 15,
   "metadata": {
    "collapsed": false,
    "jupyter": {
     "outputs_hidden": false
    }
   },
   "outputs": [
    {
     "data": {
      "text/plain": [
       "2.9525718318084233e12"
      ]
     },
     "execution_count": 15,
     "metadata": {},
     "output_type": "execute_result"
    }
   ],
   "source": [
    "pop_sum=sum(pop[50:350,:])"
   ]
  },
  {
   "cell_type": "code",
   "execution_count": 16,
   "metadata": {
    "collapsed": false,
    "jupyter": {
     "outputs_hidden": false
    }
   },
   "outputs": [],
   "source": [
    "pop_reg=m1[:population,:population][50:350,:];"
   ]
  },
  {
   "cell_type": "code",
   "execution_count": 17,
   "metadata": {
    "collapsed": false,
    "jupyter": {
     "outputs_hidden": false
    }
   },
   "outputs": [
    {
     "data": {
      "text/plain": [
       "16-element Vector{Union{Missing, Float64}}:\n",
       "  296.6535970838122\n",
       "   33.431249558910004\n",
       "  394.8071123966149\n",
       "  192.84156190322105\n",
       "   23.554005318590036\n",
       "  126.78375950558814\n",
       "  293.46950536833117\n",
       "  316.0640013729959\n",
       "  154.35852541453133\n",
       "  414.73441564859706\n",
       " 1669.7185639001902\n",
       "  629.4278040754219\n",
       " 1467.6906821341474\n",
       "  192.4216987419381\n",
       "  878.0180223464826\n",
       "   53.39335649584536"
      ]
     },
     "execution_count": 17,
     "metadata": {},
     "output_type": "execute_result"
    }
   ],
   "source": [
    "pop_reg_2015=m1[:population,:population][65,:]"
   ]
  },
  {
   "cell_type": "code",
   "execution_count": 18,
   "metadata": {
    "collapsed": false,
    "jupyter": {
     "outputs_hidden": false
    }
   },
   "outputs": [
    {
     "data": {
      "text/plain": [
       "1×16 Matrix{Union{Missing, Float64}}:\n",
       " 89207.3  10082.8  1.185e5  66521.1  8192.45  …  110780.0  5.0317e5  20294.9"
      ]
     },
     "execution_count": 18,
     "metadata": {},
     "output_type": "execute_result"
    }
   ],
   "source": [
    "pop_reg_sum=sum(m1[:population,:population][50:350,:],dims=1)"
   ]
  },
  {
   "cell_type": "markdown",
   "metadata": {},
   "source": [
    "#### Alternative Regions "
   ]
  },
  {
   "cell_type": "code",
   "execution_count": 19,
   "metadata": {
    "collapsed": false,
    "jupyter": {
     "outputs_hidden": false
    }
   },
   "outputs": [
    {
     "data": {
      "text/plain": [
       "3087.0211468527873"
      ]
     },
     "execution_count": 19,
     "metadata": {},
     "output_type": "execute_result"
    }
   ],
   "source": [
    "pop_r=m1[:population,:population];\n",
    "pop_high=sum(pop_r[50:350,1:5],dims=2)\n",
    "pop_med=(pop_r[50:350,6]+sum(pop_r[50:350,8:10],dims=2)+sum(pop_r[50:350,12:13],dims=2))\n",
    "pop_low=(pop_r[50:350,7]+pop_r[50:350,11]+pop_r[50:350,14]+pop_r[50:350,15]+pop_r[50:350,16])\n",
    "pop_high_avg=sum(pop_high)/301\n",
    "pop_med_avg=sum(pop_med)/301\n",
    "pop_low_avg=sum(pop_low)/301\n",
    "pop_high_2015=sum(pop_r[65,1:5],dims=2)\n",
    "pop_med_2015=(pop_r[65,6]+sum(pop_r[65,8:10])+sum(pop_r[65,12:13]))\n",
    "pop_low_2015=(pop_r[65,7]+pop_r[65,11]+pop_r[65,14]+pop_r[65,15]+pop_r[65,16])"
   ]
  },
  {
   "cell_type": "markdown",
   "metadata": {},
   "source": [
    "### Income - billions USD1995"
   ]
  },
  {
   "cell_type": "code",
   "execution_count": 20,
   "metadata": {
    "collapsed": false,
    "jupyter": {
     "outputs_hidden": false
    }
   },
   "outputs": [],
   "source": [
    "globalincome= m1[:socioeconomic, :globalincome];"
   ]
  },
  {
   "cell_type": "code",
   "execution_count": 21,
   "metadata": {
    "collapsed": false,
    "jupyter": {
     "outputs_hidden": false
    }
   },
   "outputs": [],
   "source": [
    "GDP_glob=globalincome[50:350,:];"
   ]
  },
  {
   "cell_type": "code",
   "execution_count": 22,
   "metadata": {
    "collapsed": false,
    "jupyter": {
     "outputs_hidden": false
    }
   },
   "outputs": [
    {
     "data": {
      "text/plain": [
       "1-element Vector{Union{Missing, Float64}}:\n",
       " 47678.276069999585"
      ]
     },
     "execution_count": 22,
     "metadata": {},
     "output_type": "execute_result"
    }
   ],
   "source": [
    "GDP_glob_2015=globalincome[65,:]"
   ]
  },
  {
   "cell_type": "code",
   "execution_count": 23,
   "metadata": {
    "collapsed": false,
    "jupyter": {
     "outputs_hidden": false
    }
   },
   "outputs": [],
   "source": [
    "income= m1[:socioeconomic, :income];"
   ]
  },
  {
   "cell_type": "code",
   "execution_count": 24,
   "metadata": {
    "collapsed": false,
    "jupyter": {
     "outputs_hidden": false
    }
   },
   "outputs": [],
   "source": [
    "GDP_reg=income[50:350,:];"
   ]
  },
  {
   "cell_type": "code",
   "execution_count": 25,
   "metadata": {
    "collapsed": false,
    "jupyter": {
     "outputs_hidden": false
    }
   },
   "outputs": [
    {
     "data": {
      "text/plain": [
       "16-element Vector{Union{Missing, Float64}}:\n",
       " 12358.248121308387\n",
       "   978.869745628328\n",
       " 13481.458522413834\n",
       "  8822.809906191913\n",
       "   759.2688531103068\n",
       "   589.752480936265\n",
       "   827.0252943184078\n",
       "  1095.1064692162138\n",
       "   657.7103925191634\n",
       "  2296.44173224361\n",
       "  1075.6118744144867\n",
       "  1463.5582030015614\n",
       "  2265.4061267986417\n",
       "   333.3163392439387\n",
       "   589.6628853610193\n",
       "    84.02912329351423"
      ]
     },
     "execution_count": 25,
     "metadata": {},
     "output_type": "execute_result"
    }
   ],
   "source": [
    "GDP_reg_2015=income[65,:]"
   ]
  },
  {
   "cell_type": "code",
   "execution_count": 26,
   "metadata": {
    "collapsed": false,
    "jupyter": {
     "outputs_hidden": false
    }
   },
   "outputs": [
    {
     "data": {
      "text/plain": [
       "1×16 Matrix{Float64}:\n",
       " 1.07976e6  85617.3  1.17119e6  863831.0  …  48851.4  86012.6  8682.06"
      ]
     },
     "execution_count": 26,
     "metadata": {},
     "output_type": "execute_result"
    }
   ],
   "source": [
    "GDP_reg_sum=sum(df_r_1.*GDP_reg,dims=1)"
   ]
  },
  {
   "cell_type": "code",
   "execution_count": 27,
   "metadata": {
    "collapsed": false,
    "jupyter": {
     "outputs_hidden": false
    }
   },
   "outputs": [
    {
     "data": {
      "text/plain": [
       "4.484847901103414e6"
      ]
     },
     "execution_count": 27,
     "metadata": {},
     "output_type": "execute_result"
    }
   ],
   "source": [
    "GDP_glob_sum=sum(df_r_1.*GDP_reg)"
   ]
  },
  {
   "cell_type": "markdown",
   "metadata": {},
   "source": [
    "#### Alternative Regions "
   ]
  },
  {
   "cell_type": "code",
   "execution_count": 28,
   "metadata": {
    "collapsed": false,
    "jupyter": {
     "outputs_hidden": false
    }
   },
   "outputs": [
    {
     "data": {
      "text/plain": [
       "2909.6455166313663"
      ]
     },
     "execution_count": 28,
     "metadata": {},
     "output_type": "execute_result"
    }
   ],
   "source": [
    "gdp_high=sum(income[50:350,1:5],dims=2)\n",
    "gdp_med=(income[50:350,6]+sum(income[50:350,8:10],dims=2)+sum(income[50:350,12:13],dims=2))\n",
    "gdp_low=(income[50:350,7]+income[50:350,11]+income[50:350,14]+income[50:350,15]+income[50:350,16])\n",
    "gdp_high2=sum(df_r[50:350,1:5].*income[50:350,1:5],dims=2)\n",
    "gdp_med2=(df_r[50:350,6].*income[50:350,6]+sum(df_r[50:350,8:10].*income[50:350,8:10],dims=2)+sum(df_r[50:350,12:13].*income[50:350,12:13],dims=2))\n",
    "gdp_low2=(df_r[50:350,7].*income[50:350,7]+df_r[50:350,11].*income[50:350,11]+df_r[50:350,14].*income[50:350,14]+df_r[50:350,15].*income[50:350,15]+df_r[50:350,16].*income[50:350,16])\n",
    "gdp_high_avg=sum(gdp_high2)/291\n",
    "gdp_med_avg=sum(gdp_med2)/291\n",
    "gdp_low_avg=sum(gdp_low2)/291\n",
    "gdp_high_2015=sum(income[65,1:5],dims=2)\n",
    "gdp_med_2015=(income[65,6]+sum(income[65,8:10])+sum(income[65,12:13]))\n",
    "gdp_low_2015=(income[65,7]+income[65,11]+income[65,14]+income[65,15]+income[65,16])"
   ]
  },
  {
   "cell_type": "markdown",
   "metadata": {},
   "source": [
    "### Income per capita "
   ]
  },
  {
   "cell_type": "code",
   "execution_count": 29,
   "metadata": {
    "collapsed": false,
    "jupyter": {
     "outputs_hidden": false
    }
   },
   "outputs": [],
   "source": [
    "ypc = m1[:socioeconomic, :ypc];"
   ]
  },
  {
   "cell_type": "code",
   "execution_count": 30,
   "metadata": {
    "collapsed": false,
    "jupyter": {
     "outputs_hidden": false
    }
   },
   "outputs": [
    {
     "data": {
      "text/plain": [
       "301×1 Matrix{Union{Missing, Float64}}:\n",
       "   5337.418689168101\n",
       "   5422.438217416453\n",
       "   5569.008529772254\n",
       "   5637.9743204687875\n",
       "   5710.2491846359035\n",
       "   5785.2183492772965\n",
       "   5862.892168242639\n",
       "   5943.333324301487\n",
       "   6026.592385893459\n",
       "   6112.786392293587\n",
       "   6202.023668554732\n",
       "   6294.385496073551\n",
       "   6389.471703069227\n",
       "      ⋮\n",
       " 109299.60875363878\n",
       " 109925.7274757352\n",
       " 110552.58398571922\n",
       " 111180.14861235594\n",
       " 111808.39152286264\n",
       " 112437.28274042773\n",
       " 113066.79215836048\n",
       " 113696.88951131578\n",
       " 114327.54440596217\n",
       " 114958.72633061686\n",
       " 115590.404650417\n",
       " 116222.54862704025"
      ]
     },
     "execution_count": 30,
     "metadata": {},
     "output_type": "execute_result"
    }
   ],
   "source": [
    "globalypc=m1[:socioeconomic, :globalypc]\n",
    "ypc_glob=globalypc[50:350,:]"
   ]
  },
  {
   "cell_type": "code",
   "execution_count": 31,
   "metadata": {
    "collapsed": false,
    "jupyter": {
     "outputs_hidden": false
    }
   },
   "outputs": [
    {
     "data": {
      "text/plain": [
       "1-element Vector{Union{Missing, Float64}}:\n",
       " 6680.092296874805"
      ]
     },
     "execution_count": 31,
     "metadata": {},
     "output_type": "execute_result"
    }
   ],
   "source": [
    "ypc_glob_2015=globalypc[65,:]"
   ]
  },
  {
   "cell_type": "code",
   "execution_count": 32,
   "metadata": {
    "collapsed": false,
    "jupyter": {
     "outputs_hidden": false
    }
   },
   "outputs": [],
   "source": [
    "ypc_reg=ypc[50:350,:];"
   ]
  },
  {
   "cell_type": "code",
   "execution_count": 33,
   "metadata": {
    "collapsed": false,
    "jupyter": {
     "outputs_hidden": false
    }
   },
   "outputs": [
    {
     "data": {
      "text/plain": [
       "16-element Vector{Union{Missing, Float64}}:\n",
       " 41658.85141051186\n",
       " 29280.082513919744\n",
       " 34146.94948268978\n",
       " 45751.59949502849\n",
       " 32235.233152089542\n",
       "  4651.6405826431655\n",
       "  2818.0961878148637\n",
       "  3464.825049543837\n",
       "  4260.926895698672\n",
       "  5537.138095116216\n",
       "   644.187528167641\n",
       "  2325.2201341048303\n",
       "  1543.517414380902\n",
       "  1732.218047253383\n",
       "   671.5840339873197\n",
       "  1573.7748815258074"
      ]
     },
     "execution_count": 33,
     "metadata": {},
     "output_type": "execute_result"
    }
   ],
   "source": [
    "ypc_reg_2015=ypc[65,:]"
   ]
  },
  {
   "cell_type": "code",
   "execution_count": 34,
   "metadata": {
    "collapsed": false,
    "jupyter": {
     "outputs_hidden": false
    }
   },
   "outputs": [
    {
     "data": {
      "text/plain": [
       "1×16 Matrix{Float64}:\n",
       " 3.63316e6  2.55153e6  2.96889e6  3.97382e6  …  1.46459e5  56718.3  1.32729e5"
      ]
     },
     "execution_count": 34,
     "metadata": {},
     "output_type": "execute_result"
    }
   ],
   "source": [
    "ypc_reg_sum=sum(df_r_1.*ypc_reg,dims=1)"
   ]
  },
  {
   "cell_type": "code",
   "execution_count": 35,
   "metadata": {
    "collapsed": false,
    "jupyter": {
     "outputs_hidden": false
    }
   },
   "outputs": [
    {
     "data": {
      "text/plain": [
       "1×16 Matrix{Float64}:\n",
       " 12485.1  8768.14  10202.4  13655.7  …  438.298  503.297  194.908  456.114"
      ]
     },
     "execution_count": 35,
     "metadata": {},
     "output_type": "execute_result"
    }
   ],
   "source": [
    "ypc_reg_avg=ypc_reg_sum/291"
   ]
  },
  {
   "cell_type": "code",
   "execution_count": 36,
   "metadata": {
    "collapsed": false,
    "jupyter": {
     "outputs_hidden": false
    }
   },
   "outputs": [
    {
     "data": {
      "text/plain": [
       "1×16 Matrix{Float64}:\n",
       " 12103.9  8491.43  9883.46  12985.8  …  416.971  440.977  170.942  427.795"
      ]
     },
     "execution_count": 36,
     "metadata": {},
     "output_type": "execute_result"
    }
   ],
   "source": [
    "ypc_reg_pop_avg=sum(df_r_1.*ypc_reg.*pop_reg,dims=1)./sum(pop_reg,dims=1)"
   ]
  },
  {
   "cell_type": "code",
   "execution_count": 37,
   "metadata": {
    "collapsed": false,
    "jupyter": {
     "outputs_hidden": false
    }
   },
   "outputs": [
    {
     "data": {
      "text/plain": [
       "769.9572890469371"
      ]
     },
     "execution_count": 37,
     "metadata": {},
     "output_type": "execute_result"
    }
   ],
   "source": [
    "ypc_glob_avg=(sum(GDP_reg_sum.*pop_reg)./sum(pop_reg))/291"
   ]
  },
  {
   "cell_type": "code",
   "execution_count": 38,
   "metadata": {
    "collapsed": false,
    "jupyter": {
     "outputs_hidden": false
    }
   },
   "outputs": [
    {
     "data": {
      "text/plain": [
       "1518.9631807726375"
      ]
     },
     "execution_count": 38,
     "metadata": {},
     "output_type": "execute_result"
    }
   ],
   "source": [
    "ypc_glob_pop_avg=sum(df_r_1.*ypc_reg.*pop_reg)./sum(pop_reg)"
   ]
  },
  {
   "cell_type": "markdown",
   "metadata": {},
   "source": [
    "#### Alternative Regions "
   ]
  },
  {
   "cell_type": "code",
   "execution_count": 39,
   "metadata": {
    "collapsed": false,
    "jupyter": {
     "outputs_hidden": false
    }
   },
   "outputs": [
    {
     "data": {
      "text/plain": [
       "942.5414916894058"
      ]
     },
     "execution_count": 39,
     "metadata": {},
     "output_type": "execute_result"
    }
   ],
   "source": [
    "ypc_high=1000*gdp_high./pop_high\n",
    "ypc_med=1000*gdp_med./pop_med\n",
    "ypc_low=1000*gdp_low./pop_low;\n",
    "ypc_high_avg=1000*gdp_high_avg/pop_high_avg*(301/291)\n",
    "ypc_med_avg=1000*gdp_med_avg/pop_med_avg*(301/291)\n",
    "ypc_low_avg=1000*gdp_low_avg/pop_low_avg*(301/291)\n",
    "ypc_high_2015=1000*gdp_high_2015./pop_high_2015\n",
    "ypc_med_2015=1000*gdp_med_2015./pop_med_2015\n",
    "ypc_low_2015=1000*gdp_low_2015./pop_low_2015"
   ]
  },
  {
   "cell_type": "markdown",
   "metadata": {},
   "source": [
    "## Deaths"
   ]
  },
  {
   "cell_type": "code",
   "execution_count": 40,
   "metadata": {
    "collapsed": false,
    "jupyter": {
     "outputs_hidden": false
    }
   },
   "outputs": [],
   "source": [
    "deaths = m1[:impactdeathmorbidity, :dead];"
   ]
  },
  {
   "cell_type": "code",
   "execution_count": 41,
   "metadata": {
    "collapsed": false,
    "jupyter": {
     "outputs_hidden": false
    }
   },
   "outputs": [],
   "source": [
    "deaths_reg=deaths[50:350,:];"
   ]
  },
  {
   "cell_type": "code",
   "execution_count": 42,
   "metadata": {
    "collapsed": false,
    "jupyter": {
     "outputs_hidden": false
    }
   },
   "outputs": [
    {
     "data": {
      "text/plain": [
       "16-element Vector{Union{Missing, Float64}}:\n",
       "    603.0971346388916\n",
       "      5.27988679433527\n",
       "    339.5917443201339\n",
       "    148.4104636388879\n",
       "      1.2947512277704032\n",
       "    140.33301638272204\n",
       "  13450.395789310684\n",
       "    484.25900829773593\n",
       "    610.7234099276487\n",
       "   1375.0918253082205\n",
       "   6773.554870976271\n",
       "    832.0133380108076\n",
       "   1979.789207020567\n",
       "   4243.393664693301\n",
       " 120493.90434910511\n",
       "    301.2762891164075"
      ]
     },
     "execution_count": 42,
     "metadata": {},
     "output_type": "execute_result"
    }
   ],
   "source": [
    "deaths_reg_2015=deaths[65,:]"
   ]
  },
  {
   "cell_type": "code",
   "execution_count": 43,
   "metadata": {
    "collapsed": false,
    "jupyter": {
     "outputs_hidden": false
    }
   },
   "outputs": [
    {
     "data": {
      "text/plain": [
       "1×16 Matrix{Union{Missing, Float64}}:\n",
       " 1.42828e5  87.9228  81480.8  35611.7  …  361833.0  1.02198e7  32182.2"
      ]
     },
     "execution_count": 43,
     "metadata": {},
     "output_type": "execute_result"
    }
   ],
   "source": [
    "deaths_reg_sum=sum(deaths_reg,dims=1)"
   ]
  },
  {
   "cell_type": "code",
   "execution_count": 44,
   "metadata": {
    "collapsed": false,
    "jupyter": {
     "outputs_hidden": false
    }
   },
   "outputs": [
    {
     "data": {
      "text/plain": [
       "1×16 Matrix{Float64}:\n",
       " 474.513  0.292102  270.7  118.311  …  374.878  1202.1  33952.9  106.918"
      ]
     },
     "execution_count": 44,
     "metadata": {},
     "output_type": "execute_result"
    }
   ],
   "source": [
    "deaths_reg_avg=sum(deaths_reg,dims=1)/301"
   ]
  },
  {
   "cell_type": "code",
   "execution_count": 45,
   "metadata": {
    "collapsed": false,
    "jupyter": {
     "outputs_hidden": false
    }
   },
   "outputs": [],
   "source": [
    "deaths_glob=sum(deaths,dims=2)[50:350,:];"
   ]
  },
  {
   "cell_type": "code",
   "execution_count": 46,
   "metadata": {
    "collapsed": false,
    "jupyter": {
     "outputs_hidden": false
    }
   },
   "outputs": [
    {
     "data": {
      "text/plain": [
       "1-element Vector{Union{Missing, Float64}}:\n",
       " 151782.4087487695"
      ]
     },
     "execution_count": 46,
     "metadata": {},
     "output_type": "execute_result"
    }
   ],
   "source": [
    "deaths_glob_2015=sum(deaths,dims=2)[65,:]"
   ]
  },
  {
   "cell_type": "code",
   "execution_count": 47,
   "metadata": {
    "collapsed": false,
    "jupyter": {
     "outputs_hidden": false
    }
   },
   "outputs": [
    {
     "data": {
      "text/plain": [
       "1.3925347226462541e7"
      ]
     },
     "execution_count": 47,
     "metadata": {},
     "output_type": "execute_result"
    }
   ],
   "source": [
    "deaths_glob_sum=sum(deaths_glob)"
   ]
  },
  {
   "cell_type": "code",
   "execution_count": 48,
   "metadata": {
    "collapsed": false,
    "jupyter": {
     "outputs_hidden": false
    }
   },
   "outputs": [
    {
     "data": {
      "text/plain": [
       "46263.61204804831"
      ]
     },
     "execution_count": 48,
     "metadata": {},
     "output_type": "execute_result"
    }
   ],
   "source": [
    "deaths_glob_avg=deaths_glob_sum/301"
   ]
  },
  {
   "cell_type": "markdown",
   "metadata": {},
   "source": [
    "#### Alternative Regions "
   ]
  },
  {
   "cell_type": "code",
   "execution_count": 49,
   "metadata": {
    "collapsed": false,
    "jupyter": {
     "outputs_hidden": false
    }
   },
   "outputs": [
    {
     "data": {
      "text/plain": [
       "43656.98011078971"
      ]
     },
     "execution_count": 49,
     "metadata": {},
     "output_type": "execute_result"
    }
   ],
   "source": [
    "dead_high=sum(deaths[50:350,1:5],dims=2)\n",
    "dead_med=(deaths[50:350,6]+sum(deaths[50:350,8:10],dims=2)+sum(deaths[50:350,12:13],dims=2))\n",
    "dead_low=(deaths[50:350,7]+deaths[50:350,11]+deaths[50:350,14]+deaths[50:350,15]+deaths[50:350,16])\n",
    "dead_high_sum=sum(dead_high)\n",
    "dead_med_sum=sum(dead_med)\n",
    "dead_low_sum=sum(dead_low)\n",
    "dead_high_avg=sum(dead_high)/301\n",
    "dead_med_avg=sum(dead_med)/301\n",
    "dead_low_avg=sum(dead_low)/301"
   ]
  },
  {
   "cell_type": "markdown",
   "metadata": {},
   "source": [
    "### VSL"
   ]
  },
  {
   "cell_type": "code",
   "execution_count": 50,
   "metadata": {
    "collapsed": false,
    "jupyter": {
     "outputs_hidden": false
    }
   },
   "outputs": [],
   "source": [
    "vsl=m1[:vslvmorb, :vsl];"
   ]
  },
  {
   "cell_type": "code",
   "execution_count": 51,
   "metadata": {
    "collapsed": false,
    "jupyter": {
     "outputs_hidden": false
    }
   },
   "outputs": [],
   "source": [
    "vsl_reg=vsl[50:350,:];"
   ]
  },
  {
   "cell_type": "code",
   "execution_count": 52,
   "metadata": {
    "collapsed": false,
    "jupyter": {
     "outputs_hidden": false
    }
   },
   "outputs": [
    {
     "data": {
      "text/plain": [
       "16-element Vector{Union{Missing, Float64}}:\n",
       "      8.331770282102372e6\n",
       "      5.8560165027839495e6\n",
       "      6.829389896537956e6\n",
       "      9.150319899005698e6\n",
       "      6.4470466304179095e6\n",
       " 930328.1165286332\n",
       " 563619.2375629727\n",
       " 692965.0099087674\n",
       " 852185.3791397344\n",
       "      1.1074276190232434e6\n",
       " 128837.50563352818\n",
       " 465044.0268209661\n",
       " 308703.48287618044\n",
       " 346443.6094506766\n",
       " 134316.80679746394\n",
       " 314754.9763051615"
      ]
     },
     "execution_count": 52,
     "metadata": {},
     "output_type": "execute_result"
    }
   ],
   "source": [
    "vsl_reg_2015=vsl[65,:]"
   ]
  },
  {
   "cell_type": "code",
   "execution_count": 53,
   "metadata": {
    "collapsed": false,
    "jupyter": {
     "outputs_hidden": false
    }
   },
   "outputs": [
    {
     "data": {
      "text/plain": [
       "1×16 Matrix{Float64}:\n",
       " 2.49702e6  1.75363e6  2.04047e6  2.73115e6  …  1.00659e5  38981.7  91222.7"
      ]
     },
     "execution_count": 53,
     "metadata": {},
     "output_type": "execute_result"
    }
   ],
   "source": [
    "vsl_reg_avg=sum(df_r_1.*vsl_reg,dims=1)/291"
   ]
  },
  {
   "cell_type": "code",
   "execution_count": 54,
   "metadata": {
    "collapsed": false,
    "jupyter": {
     "outputs_hidden": false
    }
   },
   "outputs": [
    {
     "data": {
      "text/plain": [
       "1×16 Matrix{Float64}:\n",
       " 2.8815e6  -449031.0  2.33299e6  2.95313e6  …  1.81917e5  71461.8  1.36382e5"
      ]
     },
     "execution_count": 54,
     "metadata": {},
     "output_type": "execute_result"
    }
   ],
   "source": [
    "vsl_reg_pop_avg=vsl_reg_pop_avg=sum(df_r_1[10:300,:].*vsl_reg[10:300,:].*deaths_reg[10:300,:],dims=1)./sum(deaths_reg[10:300,:],dims=1)"
   ]
  },
  {
   "cell_type": "code",
   "execution_count": 55,
   "metadata": {
    "collapsed": false,
    "jupyter": {
     "outputs_hidden": false
    }
   },
   "outputs": [
    {
     "data": {
      "text/plain": [
       "301×1 Matrix{Union{Missing, Float64}}:\n",
       "      0.0\n",
       "      0.0\n",
       "      0.0\n",
       "      0.0\n",
       "      0.0\n",
       "      0.0\n",
       "      0.0\n",
       "      0.0\n",
       "      0.0\n",
       "      0.0\n",
       " 228575.34846442926\n",
       " 225647.78688795803\n",
       " 222944.6452829596\n",
       "      ⋮\n",
       "  35742.593828489225\n",
       "  35367.03371750702\n",
       "  34994.58705747758\n",
       "  34625.2443205913\n",
       "  34258.99575871409\n",
       "  33895.831374257185\n",
       "  33535.740501691915\n",
       "  33178.71241031991\n",
       "  32824.736099656126\n",
       "  32473.800167135534\n",
       "  32125.893054399843\n",
       "  31781.002726001876"
      ]
     },
     "execution_count": 55,
     "metadata": {},
     "output_type": "execute_result"
    }
   ],
   "source": [
    "#Incorrect\n",
    "vsl_glob=sum(df_r.*vsl.*deaths,dims=2)./sum(deaths,dims=2)\n",
    "vsl_glob=vsl_glob[50:350,:]"
   ]
  },
  {
   "cell_type": "code",
   "execution_count": 56,
   "metadata": {
    "collapsed": false,
    "jupyter": {
     "outputs_hidden": false
    }
   },
   "outputs": [
    {
     "data": {
      "text/plain": [
       "1-element Vector{Union{Missing, Float64}}:\n",
       " 149441.0367455261"
      ]
     },
     "execution_count": 56,
     "metadata": {},
     "output_type": "execute_result"
    }
   ],
   "source": [
    "vsl_glob_2015=vsl_glob[65,:]"
   ]
  },
  {
   "cell_type": "code",
   "execution_count": 57,
   "metadata": {
    "collapsed": false,
    "jupyter": {
     "outputs_hidden": false
    }
   },
   "outputs": [
    {
     "data": {
      "text/plain": [
       "109296.0426956537"
      ]
     },
     "execution_count": 57,
     "metadata": {},
     "output_type": "execute_result"
    }
   ],
   "source": [
    "vsl_glob_avg=sum(vsl_glob)/291"
   ]
  },
  {
   "cell_type": "markdown",
   "metadata": {},
   "source": [
    "#### Alternative Regions "
   ]
  },
  {
   "cell_type": "code",
   "execution_count": 58,
   "metadata": {
    "collapsed": false,
    "jupyter": {
     "outputs_hidden": false
    }
   },
   "outputs": [
    {
     "data": {
      "text/plain": [
       "1.1670998741855812e6"
      ]
     },
     "execution_count": 58,
     "metadata": {},
     "output_type": "execute_result"
    }
   ],
   "source": [
    "mort_val=vsl.*deaths\n",
    "vsl_high=sum(mort_val[50:350,1:5],dims=2)./sum(deaths[50:350,1:5],dims=2)\n",
    "vsl_med=(mort_val[50:350,6]+sum(mort_val[50:350,8:10],dims=2)+sum(mort_val[50:350,12:13],dims=2))./(deaths[50:350,6]+sum(deaths[50:350,8:10],dims=2)+sum(deaths[50:350,12:13],dims=2))\n",
    "vsl_low=(mort_val[50:350,7]+mort_val[50:350,11]+mort_val[50:350,14]+mort_val[50:350,15]+mort_val[50:350,16])./(deaths[50:350,7]+deaths[50:350,11]+deaths[50:350,14]+deaths[50:350,15]+deaths[50:350,16]);\n",
    "vsl_high_avg=sum(vsl_high)/291\n",
    "vsl_med_avg=sum(vsl_med)/291\n",
    "vsl_low_avg=sum(vsl_low)/291\n",
    "vsl_high_pop_avg=sum(mort_val[50:350,1:5])./sum(deaths[50:350,1:5])\n",
    "vsl_med_pop_avg=(sum(mort_val[50:350,6])+sum(mort_val[50:350,8:10])+sum(mort_val[50:350,12:13]))./(sum(deaths[50:350,6])+sum(deaths[50:350,8:10])+sum(deaths[50:350,12:13]))\n",
    "vsl_low_pop_avg=(sum(mort_val[50:350,7])+sum(mort_val[50:350,11])+sum(mort_val[50:350,14])+sum(mort_val[50:350,15])+sum(mort_val[50:350,16]))./(sum(deaths[50:350,7])+sum(deaths[50:350,11])+sum(deaths[50:350,14])+sum(deaths[50:350,15])+sum(deaths[50:350,16]))\n"
   ]
  },
  {
   "cell_type": "markdown",
   "metadata": {},
   "source": [
    "# SCC"
   ]
  },
  {
   "cell_type": "code",
   "execution_count": 59,
   "metadata": {
    "tags": []
   },
   "outputs": [],
   "source": [
    "m3 = MimiFUND.get_model(params=parameters);"
   ]
  },
  {
   "cell_type": "code",
   "execution_count": 60,
   "metadata": {
    "tags": []
   },
   "outputs": [],
   "source": [
    "add_comp!(m3, Mimi.adder, :co2marg, before=:climateco2cycle);"
   ]
  },
  {
   "cell_type": "code",
   "execution_count": 61,
   "metadata": {
    "tags": []
   },
   "outputs": [],
   "source": [
    "connect_param!(m3, :co2marg, :input, :emissions, :mco2)"
   ]
  },
  {
   "cell_type": "code",
   "execution_count": 62,
   "metadata": {
    "tags": []
   },
   "outputs": [],
   "source": [
    "connect_param!(m3, :climateco2cycle, :mco2, :co2marg, :output)"
   ]
  },
  {
   "cell_type": "code",
   "execution_count": 63,
   "metadata": {
    "tags": []
   },
   "outputs": [],
   "source": [
    "marginalemissions = zeros(1051)\n",
    "marginalemissions[60] = 1\n",
    "set_param!(m3, :co2marg, :add, marginalemissions);"
   ]
  },
  {
   "cell_type": "code",
   "execution_count": 64,
   "metadata": {
    "tags": []
   },
   "outputs": [],
   "source": [
    "run(m3)"
   ]
  },
  {
   "cell_type": "code",
   "execution_count": 65,
   "metadata": {
    "tags": []
   },
   "outputs": [],
   "source": [
    "md = (m3[:impactaggregation, :loss]-\n",
    "    m1[:impactaggregation, :loss])/10^6;"
   ]
  },
  {
   "cell_type": "code",
   "execution_count": 66,
   "metadata": {
    "collapsed": false,
    "jupyter": {
     "outputs_hidden": false
    }
   },
   "outputs": [
    {
     "data": {
      "text/plain": [
       "19.997817800256435"
      ]
     },
     "execution_count": 66,
     "metadata": {},
     "output_type": "execute_result"
    }
   ],
   "source": [
    "pd=df_r.*md\n",
    "SCC=sum(pd[60:300,:])"
   ]
  },
  {
   "cell_type": "markdown",
   "metadata": {},
   "source": [
    "# Regional SCC"
   ]
  },
  {
   "cell_type": "code",
   "execution_count": 67,
   "metadata": {
    "collapsed": false,
    "jupyter": {
     "outputs_hidden": false
    }
   },
   "outputs": [
    {
     "data": {
      "text/plain": [
       "1×16 Matrix{Union{Missing, Float64}}:\n",
       " 4.38892  0.205078  6.53488  -0.541623  …  1.45016  1.76328  -0.0242873"
      ]
     },
     "execution_count": 67,
     "metadata": {},
     "output_type": "execute_result"
    }
   ],
   "source": [
    "reg_SCC=sum(pd[60:300,:],dims=1);\n",
    "SCC_reg=reg_SCC"
   ]
  },
  {
   "cell_type": "markdown",
   "metadata": {},
   "source": [
    "#### Alternative Regions "
   ]
  },
  {
   "cell_type": "code",
   "execution_count": 68,
   "metadata": {
    "collapsed": false,
    "jupyter": {
     "outputs_hidden": false
    }
   },
   "outputs": [
    {
     "data": {
      "text/plain": [
       "6.104490942111087"
      ]
     },
     "execution_count": 68,
     "metadata": {},
     "output_type": "execute_result"
    }
   ],
   "source": [
    "SCC_high=sum(SCC_reg[1:5])\n",
    "SCC_med=(SCC_reg[6]+sum(SCC_reg[8:10])+sum(SCC_reg[12:13]))\n",
    "SCC_low=(SCC_reg[7]+SCC_reg[11]+SCC_reg[14]+SCC_reg[15]+SCC_reg[16])"
   ]
  },
  {
   "cell_type": "markdown",
   "metadata": {},
   "source": [
    "## Health SCC"
   ]
  },
  {
   "cell_type": "code",
   "execution_count": 69,
   "metadata": {
    "collapsed": false,
    "jupyter": {
     "outputs_hidden": false
    }
   },
   "outputs": [],
   "source": [
    "marg_health=10^9*((m3[:impactdeathmorbidity, :deadcost]+m3[:impactdeathmorbidity, :morbcost])-(m1[:impactdeathmorbidity, :deadcost]+m1[:impactdeathmorbidity, :morbcost]));"
   ]
  },
  {
   "cell_type": "code",
   "execution_count": 70,
   "metadata": {
    "collapsed": false,
    "jupyter": {
     "outputs_hidden": false
    }
   },
   "outputs": [
    {
     "data": {
      "text/plain": [
       "1.7448486940676682"
      ]
     },
     "execution_count": 70,
     "metadata": {},
     "output_type": "execute_result"
    }
   ],
   "source": [
    "pd_health=(df_r.*marg_health)/10^6\n",
    "health_SCC=sum(pd_health[60:300,:])"
   ]
  },
  {
   "cell_type": "code",
   "execution_count": 71,
   "metadata": {
    "collapsed": false,
    "jupyter": {
     "outputs_hidden": false
    }
   },
   "outputs": [
    {
     "data": {
      "text/plain": [
       "0.08725195476304888"
      ]
     },
     "execution_count": 71,
     "metadata": {},
     "output_type": "execute_result"
    }
   ],
   "source": [
    "Perc_Health_SCC=health_SCC/SCC"
   ]
  },
  {
   "cell_type": "markdown",
   "metadata": {},
   "source": [
    "## Health Regional SCC"
   ]
  },
  {
   "cell_type": "code",
   "execution_count": 72,
   "metadata": {
    "collapsed": false,
    "jupyter": {
     "outputs_hidden": false
    }
   },
   "outputs": [
    {
     "data": {
      "text/plain": [
       "1×16 Matrix{Union{Missing, Float64}}:\n",
       " 0.371899  3.18727e-5  0.177026  …  0.0569041  0.603641  0.00339514"
      ]
     },
     "execution_count": 72,
     "metadata": {},
     "output_type": "execute_result"
    }
   ],
   "source": [
    "reg_health_SCC=sum(pd_health[60:300,:],dims=1)"
   ]
  },
  {
   "cell_type": "code",
   "execution_count": 73,
   "metadata": {
    "collapsed": false,
    "jupyter": {
     "outputs_hidden": false
    }
   },
   "outputs": [
    {
     "data": {
      "text/plain": [
       "1×16 Matrix{Float64}:\n",
       " 0.084736  0.000155418  0.0270894  …  0.0392399  0.34234  -0.139791"
      ]
     },
     "execution_count": 73,
     "metadata": {},
     "output_type": "execute_result"
    }
   ],
   "source": [
    "Reg_Perc_Health_SCC=reg_health_SCC./reg_SCC"
   ]
  },
  {
   "cell_type": "code",
   "execution_count": 74,
   "metadata": {
    "collapsed": false,
    "jupyter": {
     "outputs_hidden": false
    }
   },
   "outputs": [
    {
     "data": {
      "text/plain": [
       "1×16 Matrix{Float64}:\n",
       " 0.084736  0.000155418  0.0270894  …  0.0392399  0.34234  -0.139791"
      ]
     },
     "execution_count": 74,
     "metadata": {},
     "output_type": "execute_result"
    }
   ],
   "source": [
    "Perc_health_SCC_reg=reg_health_SCC./reg_SCC"
   ]
  },
  {
   "cell_type": "markdown",
   "metadata": {},
   "source": [
    "#### Alternative Regions "
   ]
  },
  {
   "cell_type": "code",
   "execution_count": 75,
   "metadata": {
    "collapsed": false,
    "jupyter": {
     "outputs_hidden": false
    }
   },
   "outputs": [
    {
     "data": {
      "text/plain": [
       "0.9774287191391161"
      ]
     },
     "execution_count": 75,
     "metadata": {},
     "output_type": "execute_result"
    }
   ],
   "source": [
    "health_SCC_high=sum(reg_health_SCC[1:5])\n",
    "health_SCC_med=(reg_health_SCC[6]+sum(reg_health_SCC[8:10])+sum(reg_health_SCC[12:13]))\n",
    "health_SCC_low=(reg_health_SCC[7]+reg_health_SCC[11]+reg_health_SCC[14]+reg_health_SCC[15]+reg_health_SCC[16])"
   ]
  },
  {
   "cell_type": "markdown",
   "metadata": {},
   "source": [
    "# Health Endpoint SCC"
   ]
  },
  {
   "cell_type": "markdown",
   "metadata": {},
   "source": [
    "### Dengue Fever "
   ]
  },
  {
   "cell_type": "code",
   "execution_count": 76,
   "metadata": {
    "collapsed": false,
    "jupyter": {
     "outputs_hidden": false
    }
   },
   "outputs": [],
   "source": [
    "dv_1=m1[:vslvmorb, :vsl].*m1[:impactvectorbornediseases, :dengue]./(10^9)\n",
    "\n",
    "trick=ones(1051,16)\n",
    "trick2=parameters[:d2dd]\n",
    "for j=1:16\n",
    "trick[:,j]=trick[:,j].*trick2[j]\n",
    "end\n",
    "trick\n",
    "\n",
    "#dv_2=m1[:vslvmorb, :vmorb]*parameters[\"d2dd\"].*m1[:impactvectorbornediseases, :dengue]./1000000000.0\n",
    "dv_2=m1[:vslvmorb, :vmorb].*trick.*m1[:impactvectorbornediseases, :dengue]./(10^9)\n",
    "dv_3=dv_1+dv_2\n",
    "pv_dv_1=df_r.*dv_1\n",
    "pv_dv_2=df_r.*dv_2\n",
    "pv_dv_3=df_r.*dv_3;"
   ]
  },
  {
   "cell_type": "code",
   "execution_count": 77,
   "metadata": {
    "collapsed": false,
    "jupyter": {
     "outputs_hidden": false
    }
   },
   "outputs": [
    {
     "data": {
      "text/plain": [
       "1051×16 Matrix{Union{Missing, Float64}}:\n",
       "  missing   missing   missing  …   missing     missing      missing\n",
       " 0.0       0.0       0.0          0.00714076  0.000529003  0.00135431\n",
       " 0.0       0.0       0.0          0.00705276  0.000546377  0.00134619\n",
       " 0.0       0.0       0.0          0.00696585  0.000564321  0.00133812\n",
       " 0.0       0.0       0.0          0.00687919  0.000582785  0.00132995\n",
       " 0.0       0.0       0.0       …  0.00679232  0.00060174   0.00132157\n",
       " 0.0       0.0       0.0          0.0067046   0.00062113   0.00131286\n",
       " 0.0       0.0       0.0          0.00661568  0.00064092   0.00130376\n",
       " 0.0       0.0       0.0          0.00652688  0.000661233  0.0012945\n",
       " 0.0       0.0       0.0          0.00643965  0.00068223   0.00128539\n",
       " 0.0       0.0       0.0       …  0.00635705  0.000704277  0.00127704\n",
       " 0.0       0.0       0.0          0.00628238  0.00072969   0.00127002\n",
       " 0.0       0.0       0.0          0.0062078   0.000755924  0.00126288\n",
       " ⋮                             ⋱                           ⋮\n",
       " 0.0       0.0       0.0          5.44947e-7  2.73583e-7   1.77269e-8\n",
       " 0.0       0.0       0.0       …  5.39644e-7  2.70887e-7   1.75507e-8\n",
       " 0.0       0.0       0.0          5.34393e-7  2.68218e-7   1.73761e-8\n",
       " 0.0       0.0       0.0          5.29193e-7  2.65575e-7   1.72034e-8\n",
       " 0.0       0.0       0.0          5.24043e-7  2.62958e-7   1.70323e-8\n",
       " 0.0       0.0       0.0          5.18943e-7  2.60367e-7   1.6863e-8\n",
       " 0.0       0.0       0.0       …  5.13893e-7  2.57802e-7   1.66953e-8\n",
       " 0.0       0.0       0.0          5.08892e-7  2.55262e-7   1.65293e-8\n",
       " 0.0       0.0       0.0          5.03939e-7  2.52747e-7   1.6365e-8\n",
       " 0.0       0.0       0.0          4.99034e-7  2.50256e-7   1.62023e-8\n",
       " 0.0       0.0       0.0          4.94177e-7  2.4779e-7    1.60412e-8\n",
       " 0.0       0.0       0.0       …  4.89368e-7  2.45349e-7   1.58817e-8"
      ]
     },
     "execution_count": 77,
     "metadata": {},
     "output_type": "execute_result"
    }
   ],
   "source": [
    "dv_1b=m3[:vslvmorb, :vsl].*m3[:impactvectorbornediseases, :dengue]./(10^9)\n",
    "\n",
    "trick=ones(1051,16)\n",
    "trick2=parameters[:d2dd]\n",
    "for j=1:16\n",
    "trick[:,j]=trick[:,j].*trick2[j]\n",
    "end\n",
    "trick;\n",
    "\n",
    "dv_2b=m3[:vslvmorb, :vmorb].*trick.*m3[:impactvectorbornediseases, :dengue]./(10^9)\n",
    "dv_3b=dv_1b+dv_2b"
   ]
  },
  {
   "cell_type": "code",
   "execution_count": 78,
   "metadata": {
    "collapsed": false,
    "jupyter": {
     "outputs_hidden": false
    }
   },
   "outputs": [
    {
     "data": {
      "text/plain": [
       "0.00018823548880147884"
      ]
     },
     "execution_count": 78,
     "metadata": {},
     "output_type": "execute_result"
    }
   ],
   "source": [
    "marg_dengue=10^9*(dv_3b-dv_3)\n",
    "pd_dengue=(df_r.*marg_dengue)/10^6\n",
    "dv_SCC=sum(pd_dengue[60:300,:])\n",
    "perc_dv_SCC=dv_SCC/SCC"
   ]
  },
  {
   "cell_type": "code",
   "execution_count": 79,
   "metadata": {
    "collapsed": false,
    "jupyter": {
     "outputs_hidden": false
    }
   },
   "outputs": [
    {
     "data": {
      "text/plain": [
       "1×16 Matrix{Union{Missing, Float64}}:\n",
       " 0.0  0.0  0.0  0.000771059  0.0  0.0  …  0.000186428  0.000178709  2.5242e-5"
      ]
     },
     "execution_count": 79,
     "metadata": {},
     "output_type": "execute_result"
    }
   ],
   "source": [
    "reg_dv_SCC=sum(pd_dengue[60:300,:],dims=1)"
   ]
  },
  {
   "cell_type": "code",
   "execution_count": 80,
   "metadata": {
    "collapsed": false,
    "jupyter": {
     "outputs_hidden": false
    }
   },
   "outputs": [
    {
     "data": {
      "text/plain": [
       "1×16 Matrix{Float64}:\n",
       " 0.0  0.0  0.0  -0.00142361  0.0  0.0  0.0  …  0.00010135  -0.00103931"
      ]
     },
     "execution_count": 80,
     "metadata": {},
     "output_type": "execute_result"
    }
   ],
   "source": [
    "reg_perc_dv_SCC=reg_dv_SCC./reg_SCC"
   ]
  },
  {
   "cell_type": "markdown",
   "metadata": {},
   "source": [
    "### Schist "
   ]
  },
  {
   "cell_type": "code",
   "execution_count": 81,
   "metadata": {
    "tags": []
   },
   "outputs": [],
   "source": [
    "sv_1=m1[:vslvmorb, :vsl].*m1[:impactvectorbornediseases, :schisto]./(10^9)\n",
    "\n",
    "#sv_2=m1[:vslvmorb, :vmorb]*parameters[\"d2ds\"].*m1[:impactvectorbornediseases, :schisto]./(10^9)\n",
    "trick=ones(1051,16)\n",
    "trick2=parameters[:d2ds]\n",
    "for j=1:16\n",
    "trick[:,j]=trick[:,j].*trick2[j]\n",
    "end\n",
    "trick\n",
    "sv_2=m1[:vslvmorb, :vmorb].*trick.*m1[:impactvectorbornediseases, :schisto]./(10^9)\n",
    "\n",
    "sv_3=sv_1+sv_2\n",
    "pv_sv_1=df_r.*sv_1\n",
    "pv_sv_2=df_r.*sv_2\n",
    "pv_sv_3=df_r.*sv_3;"
   ]
  },
  {
   "cell_type": "code",
   "execution_count": 82,
   "metadata": {
    "collapsed": false,
    "jupyter": {
     "outputs_hidden": false
    }
   },
   "outputs": [
    {
     "data": {
      "text/plain": [
       "-0.0002999193226689261"
      ]
     },
     "execution_count": 82,
     "metadata": {},
     "output_type": "execute_result"
    }
   ],
   "source": [
    "sv_1b=m3[:vslvmorb, :vsl].*m3[:impactvectorbornediseases, :schisto]./(10^9)\n",
    "\n",
    "trick=ones(1051,16)\n",
    "trick2=parameters[:d2ds]\n",
    "for j=1:16\n",
    "trick[:,j]=trick[:,j].*trick2[j]\n",
    "end\n",
    "trick\n",
    "sv_2b=m3[:vslvmorb, :vmorb].*trick.*m3[:impactvectorbornediseases, :schisto]./(10^9)\n",
    "sv_3b=sv_1b+sv_2b\n",
    "\n",
    "marg_schisto=10^9*(sv_3b-sv_3)\n",
    "pd_schisto=(df_r.*marg_schisto)/10^6\n",
    "schisto_SCC=sum(pd_schisto[60:300,:])\n",
    "perc_schisto_SCC=schisto_SCC/SCC"
   ]
  },
  {
   "cell_type": "code",
   "execution_count": 83,
   "metadata": {
    "collapsed": false,
    "jupyter": {
     "outputs_hidden": false
    }
   },
   "outputs": [
    {
     "data": {
      "text/plain": [
       "1×16 Matrix{Union{Missing, Float64}}:\n",
       " -1.39211e-5  -1.38747e-6  -5.23315e-5  …  -0.00297935  -1.34373e-5"
      ]
     },
     "execution_count": 83,
     "metadata": {},
     "output_type": "execute_result"
    }
   ],
   "source": [
    "reg_sv_SCC=sum(pd_schisto[60:300,:],dims=1)"
   ]
  },
  {
   "cell_type": "code",
   "execution_count": 84,
   "metadata": {
    "collapsed": false,
    "jupyter": {
     "outputs_hidden": false
    }
   },
   "outputs": [
    {
     "data": {
      "text/plain": [
       "1×16 Matrix{Float64}:\n",
       " -3.17188e-6  -6.76561e-6  -8.00804e-6  …  -0.00168966  0.000553265"
      ]
     },
     "execution_count": 84,
     "metadata": {},
     "output_type": "execute_result"
    }
   ],
   "source": [
    "reg_perc_sv_SCC=reg_sv_SCC./reg_SCC"
   ]
  },
  {
   "cell_type": "markdown",
   "metadata": {},
   "source": [
    "### Malaria "
   ]
  },
  {
   "cell_type": "code",
   "execution_count": 85,
   "metadata": {
    "tags": []
   },
   "outputs": [],
   "source": [
    "mv_1=m1[:vslvmorb, :vsl].*m1[:impactvectorbornediseases, :malaria]./(10^9)\n",
    "\n",
    "#mv_2=m1[:vslvmorb, :vmorb]*parameters[\"d2dm\"].*m1[:impactvectorbornediseases, :malaria]./(10^9)\n",
    "trick=ones(1051,16)\n",
    "trick2=parameters[:d2dm]\n",
    "for j=1:16\n",
    "trick[:,j]=trick[:,j].*trick2[j]\n",
    "end\n",
    "trick\n",
    "mv_2=m1[:vslvmorb, :vmorb].*trick.*m1[:impactvectorbornediseases, :malaria]./(10^9)\n",
    "\n",
    "mv_3=mv_1+mv_2\n",
    "pv_mv_1=df_r.*mv_1\n",
    "pv_mv_2=df_r.*mv_2\n",
    "pv_mv_3=df_r.*mv_3;"
   ]
  },
  {
   "cell_type": "code",
   "execution_count": 86,
   "metadata": {
    "collapsed": false,
    "jupyter": {
     "outputs_hidden": false
    }
   },
   "outputs": [
    {
     "data": {
      "text/plain": [
       "0.009769874023577686"
      ]
     },
     "execution_count": 86,
     "metadata": {},
     "output_type": "execute_result"
    }
   ],
   "source": [
    "mv_1b=m3[:vslvmorb, :vsl].*m3[:impactvectorbornediseases, :malaria]./(10^9)\n",
    "trick=ones(1051,16)\n",
    "trick2=parameters[:d2dm]\n",
    "for j=1:16\n",
    "trick[:,j]=trick[:,j].*trick2[j]\n",
    "end\n",
    "trick\n",
    "mv_2b=m3[:vslvmorb, :vmorb].*trick.*m3[:impactvectorbornediseases, :malaria]./(10^9)\n",
    "mv_3b=mv_1b+mv_2b\n",
    "\n",
    "marg_malaria=10^9*(mv_3b-mv_3)\n",
    "pd_malaria=(df_r.*marg_malaria)/10^6\n",
    "malaria_SCC=sum(pd_malaria[60:300,:])\n",
    "perc_malaria_SCC=malaria_SCC/SCC"
   ]
  },
  {
   "cell_type": "code",
   "execution_count": 87,
   "metadata": {
    "collapsed": false,
    "jupyter": {
     "outputs_hidden": false
    }
   },
   "outputs": [
    {
     "data": {
      "text/plain": [
       "1×16 Matrix{Union{Missing, Float64}}:\n",
       " 3.16085e-5  3.15032e-6  0.000433956  …  0.0193729  0.164173  0.000666612"
      ]
     },
     "execution_count": 87,
     "metadata": {},
     "output_type": "execute_result"
    }
   ],
   "source": [
    "reg_mv_SCC=sum(pd_malaria[60:300,:],dims=1)"
   ]
  },
  {
   "cell_type": "code",
   "execution_count": 88,
   "metadata": {
    "collapsed": false,
    "jupyter": {
     "outputs_hidden": false
    }
   },
   "outputs": [
    {
     "data": {
      "text/plain": [
       "1×16 Matrix{Float64}:\n",
       " 7.20189e-6  1.53616e-5  6.64061e-5  …  0.0133591  0.0931064  -0.027447"
      ]
     },
     "execution_count": 88,
     "metadata": {},
     "output_type": "execute_result"
    }
   ],
   "source": [
    "reg_perc_mv_SCC=reg_mv_SCC./reg_SCC"
   ]
  },
  {
   "cell_type": "markdown",
   "metadata": {},
   "source": [
    "### Cardiovascular - Heat Related"
   ]
  },
  {
   "cell_type": "code",
   "execution_count": 89,
   "metadata": {
    "tags": []
   },
   "outputs": [],
   "source": [
    "hv_1=m1[:vslvmorb, :vsl].*m1[:impactcardiovascularrespiratory, :cardheat]./(10^9)\n",
    "\n",
    "#hv_2=m1[:vslvmorb, :vmorb]*parameters[\"d2dc\"].*m1[:impactcardiovascularrespiratory, :cardheat]./(10^9)\n",
    "trick=ones(1051,16)\n",
    "trick2=parameters[:d2dc]\n",
    "for j=1:16\n",
    "trick[:,j]=trick[:,j].*trick2[j]\n",
    "end\n",
    "trick\n",
    "hv_2=m1[:vslvmorb, :vmorb].*trick.*m1[:impactcardiovascularrespiratory, :cardheat]./(10^9)\n",
    "\n",
    "hv_3=hv_1+hv_2\n",
    "pv_hv_1=df_r.*hv_1\n",
    "pv_hv_2=df_r.*hv_2\n",
    "pv_hv_3=df_r.*hv_3;"
   ]
  },
  {
   "cell_type": "code",
   "execution_count": 90,
   "metadata": {
    "collapsed": false,
    "jupyter": {
     "outputs_hidden": false
    }
   },
   "outputs": [
    {
     "data": {
      "text/plain": [
       "-0.0018704598748399519"
      ]
     },
     "execution_count": 90,
     "metadata": {},
     "output_type": "execute_result"
    }
   ],
   "source": [
    "hv_1b=m3[:vslvmorb, :vsl].*m3[:impactcardiovascularrespiratory, :cardheat]./(10^9)\n",
    "trick=ones(1051,16)\n",
    "trick2=parameters[:d2dc]\n",
    "for j=1:16\n",
    "trick[:,j]=trick[:,j].*trick2[j]\n",
    "end\n",
    "trick\n",
    "hv_2b=m3[:vslvmorb, :vmorb].*trick.*m3[:impactcardiovascularrespiratory, :cardheat]./(10^9)\n",
    "hv_3b=hv_1b+hv_2b\n",
    "\n",
    "marg_chr=10^9*(hv_3b-hv_3)\n",
    "pd_chr=(df_r.*marg_chr)/10^6\n",
    "chr_SCC=sum(pd_chr[60:300,:])"
   ]
  },
  {
   "cell_type": "code",
   "execution_count": 91,
   "metadata": {
    "collapsed": false,
    "jupyter": {
     "outputs_hidden": false
    }
   },
   "outputs": [
    {
     "data": {
      "text/plain": [
       "-9.35331991481574e-5"
      ]
     },
     "execution_count": 91,
     "metadata": {},
     "output_type": "execute_result"
    }
   ],
   "source": [
    "perc_chr_SCC=chr_SCC/SCC"
   ]
  },
  {
   "cell_type": "code",
   "execution_count": 92,
   "metadata": {
    "collapsed": false,
    "jupyter": {
     "outputs_hidden": false
    }
   },
   "outputs": [
    {
     "data": {
      "text/plain": [
       "1×16 Matrix{Union{Missing, Float64}}:\n",
       " -0.000424259  -1.9893e-5  -0.000826782  …  -5.20762e-5  2.86771e-6"
      ]
     },
     "execution_count": 92,
     "metadata": {},
     "output_type": "execute_result"
    }
   ],
   "source": [
    "reg_chr_SCC=sum(pd_chr[60:300,:],dims=1)"
   ]
  },
  {
   "cell_type": "code",
   "execution_count": 93,
   "metadata": {
    "collapsed": false,
    "jupyter": {
     "outputs_hidden": false
    }
   },
   "outputs": [
    {
     "data": {
      "text/plain": [
       "1×16 Matrix{Float64}:\n",
       " -9.66659e-5  -9.70025e-5  -0.000126518  …  -2.95337e-5  -0.000118074"
      ]
     },
     "execution_count": 93,
     "metadata": {},
     "output_type": "execute_result"
    }
   ],
   "source": [
    "reg_perc_chr_SCC=reg_chr_SCC./reg_SCC"
   ]
  },
  {
   "cell_type": "markdown",
   "metadata": {},
   "source": [
    "### Cardiovascular - Cold Related"
   ]
  },
  {
   "cell_type": "code",
   "execution_count": 94,
   "metadata": {
    "tags": []
   },
   "outputs": [],
   "source": [
    "cv_1=m1[:vslvmorb, :vsl].*m1[:impactcardiovascularrespiratory, :cardcold]./(10^9)\n",
    "\n",
    "#cv_2=m1[:vslvmorb, :vmorb]*parameters[\"d2dc\"].*m1[:impactcardiovascularrespiratory, :cardcold]./(10^9)\n",
    "trick=ones(1051,16)\n",
    "trick2=parameters[:d2dc]\n",
    "for j=1:16\n",
    "trick[:,j]=trick[:,j].*trick2[j]\n",
    "end\n",
    "cv_2=m1[:vslvmorb, :vmorb].*trick.*m1[:impactcardiovascularrespiratory, :cardcold]./(10^9)\n",
    "\n",
    "cv_3=cv_1+cv_2\n",
    "pv_cv_1=df_r.*cv_1\n",
    "pv_cv_2=df_r.*cv_2\n",
    "pv_cv_3=df_r.*cv_3;"
   ]
  },
  {
   "cell_type": "code",
   "execution_count": 95,
   "metadata": {
    "collapsed": false,
    "jupyter": {
     "outputs_hidden": false
    }
   },
   "outputs": [
    {
     "data": {
      "text/plain": [
       "0.0016046213411199297"
      ]
     },
     "execution_count": 95,
     "metadata": {},
     "output_type": "execute_result"
    }
   ],
   "source": [
    "cv_1b=m3[:vslvmorb, :vsl].*m3[:impactcardiovascularrespiratory, :cardcold]./(10^9)\n",
    "trick=ones(1051,16)\n",
    "trick2=parameters[:d2dc]\n",
    "for j=1:16\n",
    "trick[:,j]=trick[:,j].*trick2[j]\n",
    "end\n",
    "cv_2b=m3[:vslvmorb, :vmorb].*trick.*m3[:impactcardiovascularrespiratory, :cardcold]./(10^9)\n",
    "cv_3b=cv_1b+cv_2b\n",
    "\n",
    "marg_ccr=10^9*(cv_3b-cv_3)\n",
    "pd_ccr=(df_r.*marg_ccr)/10^6\n",
    "ccr_SCC=sum(pd_ccr[60:300,:])"
   ]
  },
  {
   "cell_type": "code",
   "execution_count": 96,
   "metadata": {
    "collapsed": false,
    "jupyter": {
     "outputs_hidden": false
    }
   },
   "outputs": [
    {
     "data": {
      "text/plain": [
       "8.023982202194849e-5"
      ]
     },
     "execution_count": 96,
     "metadata": {},
     "output_type": "execute_result"
    }
   ],
   "source": [
    "perc_ccr_SCC=ccr_SCC/SCC"
   ]
  },
  {
   "cell_type": "code",
   "execution_count": 97,
   "metadata": {
    "collapsed": false,
    "jupyter": {
     "outputs_hidden": false
    }
   },
   "outputs": [
    {
     "data": {
      "text/plain": [
       "1×16 Matrix{Union{Missing, Float64}}:\n",
       " 0.000443848  2.04933e-5  0.000865812  …  6.51904e-5  -3.57049e-6"
      ]
     },
     "execution_count": 97,
     "metadata": {},
     "output_type": "execute_result"
    }
   ],
   "source": [
    "reg_ccr_SCC=sum(pd_ccr[60:300,:],dims=1)"
   ]
  },
  {
   "cell_type": "code",
   "execution_count": 98,
   "metadata": {
    "collapsed": false,
    "jupyter": {
     "outputs_hidden": false
    }
   },
   "outputs": [
    {
     "data": {
      "text/plain": [
       "1×16 Matrix{Float64}:\n",
       " 0.000101129  9.99294e-5  0.000132491  …  9.11041e-5  3.69711e-5  0.000147011"
      ]
     },
     "execution_count": 98,
     "metadata": {},
     "output_type": "execute_result"
    }
   ],
   "source": [
    "reg_perc_ccr_SCC=reg_ccr_SCC./reg_SCC"
   ]
  },
  {
   "cell_type": "markdown",
   "metadata": {},
   "source": [
    "## Cardiovascular - Respiratory"
   ]
  },
  {
   "cell_type": "code",
   "execution_count": 99,
   "metadata": {
    "tags": []
   },
   "outputs": [],
   "source": [
    "rv_1=m1[:vslvmorb, :vsl].*m1[:impactcardiovascularrespiratory, :resp]./(10^9)\n",
    "\n",
    "#rv_2=m1[:vslvmorb, :vmorb]*parameters[\"d2dr\"].*m1[:impactcardiovascularrespiratory, :resp]./(10^9)\n",
    "trick=ones(1051,16)\n",
    "trick2=parameters[:d2dr]\n",
    "for j=1:16\n",
    "trick[:,j]=trick[:,j].*trick2[j]\n",
    "end\n",
    "rv_2=m1[:vslvmorb, :vmorb].*trick.*m1[:impactcardiovascularrespiratory, :resp]./(10^9)\n",
    "\n",
    "\n",
    "rv_3=rv_1+rv_2\n",
    "pv_rv_1=df_r.*rv_1\n",
    "pv_rv_2=df_r.*rv_2\n",
    "pv_rv_3=df_r.*rv_3;"
   ]
  },
  {
   "cell_type": "code",
   "execution_count": 100,
   "metadata": {
    "collapsed": false,
    "jupyter": {
     "outputs_hidden": false
    }
   },
   "outputs": [
    {
     "data": {
      "text/plain": [
       "-0.00019295565267656617"
      ]
     },
     "execution_count": 100,
     "metadata": {},
     "output_type": "execute_result"
    }
   ],
   "source": [
    "rv_1b=m3[:vslvmorb, :vsl].*m3[:impactcardiovascularrespiratory, :resp]./(10^9)\n",
    "trick=ones(1051,16)\n",
    "trick2=parameters[:d2dr]\n",
    "for j=1:16\n",
    "trick[:,j]=trick[:,j].*trick2[j]\n",
    "end\n",
    "rv_2b=m3[:vslvmorb, :vmorb].*trick.*m3[:impactcardiovascularrespiratory, :resp]./(10^9)\n",
    "rv_3b=rv_1b+rv_2b\n",
    "\n",
    "marg_resp=10^9*(rv_3b-rv_3)\n",
    "pd_resp=(df_r.*marg_resp)/10^6\n",
    "resp_SCC=sum(pd_resp[60:300,:])"
   ]
  },
  {
   "cell_type": "code",
   "execution_count": 101,
   "metadata": {
    "collapsed": false,
    "jupyter": {
     "outputs_hidden": false
    }
   },
   "outputs": [
    {
     "data": {
      "text/plain": [
       "-9.648835418137066e-6"
      ]
     },
     "execution_count": 101,
     "metadata": {},
     "output_type": "execute_result"
    }
   ],
   "source": [
    "perc_resp_SCC=resp_SCC/SCC"
   ]
  },
  {
   "cell_type": "code",
   "execution_count": 102,
   "metadata": {
    "collapsed": false,
    "jupyter": {
     "outputs_hidden": false
    }
   },
   "outputs": [
    {
     "data": {
      "text/plain": [
       "1×16 Matrix{Union{Missing, Float64}}:\n",
       " -4.63193e-5  -2.09943e-6  -8.06784e-5  …  -1.49124e-5  -9.71e-6  4.35965e-7"
      ]
     },
     "execution_count": 102,
     "metadata": {},
     "output_type": "execute_result"
    }
   ],
   "source": [
    "reg_resp_SCC=sum(pd_resp[60:300,:],dims=1)"
   ]
  },
  {
   "cell_type": "code",
   "execution_count": 103,
   "metadata": {
    "collapsed": false,
    "jupyter": {
     "outputs_hidden": false
    }
   },
   "outputs": [
    {
     "data": {
      "text/plain": [
       "1×16 Matrix{Float64}:\n",
       " -1.05537e-5  -1.02373e-5  -1.23458e-5  …  -5.50678e-6  -1.79504e-5"
      ]
     },
     "execution_count": 103,
     "metadata": {},
     "output_type": "execute_result"
    }
   ],
   "source": [
    "reg_perc_resp_SCC=reg_resp_SCC./reg_SCC"
   ]
  },
  {
   "cell_type": "markdown",
   "metadata": {},
   "source": [
    "## Diarrhea "
   ]
  },
  {
   "cell_type": "code",
   "execution_count": 104,
   "metadata": {
    "tags": []
   },
   "outputs": [],
   "source": [
    "d_1=m1[:vslvmorb, :vsl].*m1[:impactdiarrhoea, :diadead]./(10^9)\n",
    "d_2=m1[:vslvmorb, :vmorb].*m1[:impactdiarrhoea, :diasick]./(10^9)\n",
    "d_3=d_1+d_2\n",
    "pv_d_1=df_r.*d_1\n",
    "pv_d_2=df_r.*d_2\n",
    "pv_d_3=df_r.*d_3;"
   ]
  },
  {
   "cell_type": "code",
   "execution_count": 105,
   "metadata": {
    "collapsed": false,
    "jupyter": {
     "outputs_hidden": false
    }
   },
   "outputs": [
    {
     "data": {
      "text/plain": [
       "1.5073218600793452"
      ]
     },
     "execution_count": 105,
     "metadata": {},
     "output_type": "execute_result"
    }
   ],
   "source": [
    "d_1b=m3[:vslvmorb, :vsl].*m3[:impactdiarrhoea, :diadead]./(10^9)\n",
    "d_2b=m3[:vslvmorb, :vmorb].*m3[:impactdiarrhoea, :diasick]./(10^9)\n",
    "d_3b=d_1b+d_2b\n",
    "\n",
    "marg_diar=10^9*(d_3b-d_3)\n",
    "pd_diar=(df_r.*marg_diar)/10^6\n",
    "diar_SCC=sum(pd_diar[60:300,:])"
   ]
  },
  {
   "cell_type": "code",
   "execution_count": 106,
   "metadata": {
    "collapsed": false,
    "jupyter": {
     "outputs_hidden": false
    }
   },
   "outputs": [
    {
     "data": {
      "text/plain": [
       "0.07537431709473903"
      ]
     },
     "execution_count": 106,
     "metadata": {},
     "output_type": "execute_result"
    }
   ],
   "source": [
    "perc_diar_SCC=diar_SCC/SCC"
   ]
  },
  {
   "cell_type": "code",
   "execution_count": 107,
   "metadata": {
    "collapsed": false,
    "jupyter": {
     "outputs_hidden": false
    }
   },
   "outputs": [
    {
     "data": {
      "text/plain": [
       "1×16 Matrix{Union{Missing, Float64}}:\n",
       " 0.363518  0.0  0.176012  0.0644843  …  0.0378394  0.442012  0.00203418"
      ]
     },
     "execution_count": 107,
     "metadata": {},
     "output_type": "execute_result"
    }
   ],
   "source": [
    "reg_diar_SCC=sum(pd_diar[60:300,:],dims=1)"
   ]
  },
  {
   "cell_type": "code",
   "execution_count": 108,
   "metadata": {
    "collapsed": false,
    "jupyter": {
     "outputs_hidden": false
    }
   },
   "outputs": [
    {
     "data": {
      "text/plain": [
       "1×16 Matrix{Float64}:\n",
       " 0.0828264  0.0  0.0269342  -0.119057  …  0.0260933  0.250676  -0.0837548"
      ]
     },
     "execution_count": 108,
     "metadata": {},
     "output_type": "execute_result"
    }
   ],
   "source": [
    "reg_perc_diar_SCC=reg_diar_SCC./reg_SCC"
   ]
  },
  {
   "cell_type": "markdown",
   "metadata": {},
   "source": [
    "## Hurricane "
   ]
  },
  {
   "cell_type": "code",
   "execution_count": 109,
   "metadata": {
    "tags": []
   },
   "outputs": [],
   "source": [
    "hd_1=m1[:vslvmorb, :vsl].*m1[:impacttropicalstorms, :hurrdead]./(10^9)\n",
    "hd_3=hd_1\n",
    "pv_hd_1=df_r.*hd_1\n",
    "pv_hd_3=pv_hd_1;"
   ]
  },
  {
   "cell_type": "code",
   "execution_count": 110,
   "metadata": {
    "collapsed": false,
    "jupyter": {
     "outputs_hidden": false
    }
   },
   "outputs": [
    {
     "data": {
      "text/plain": [
       "0.041221964457289394"
      ]
     },
     "execution_count": 110,
     "metadata": {},
     "output_type": "execute_result"
    }
   ],
   "source": [
    "hd_1b=m3[:vslvmorb, :vsl].*m3[:impacttropicalstorms, :hurrdead]./(10^9)\n",
    "hd_3b=hd_1b\n",
    "\n",
    "marg_hurr=10^9*(hd_3b-hd_3)\n",
    "pd_hurr=(df_r.*marg_hurr)/10^6\n",
    "hurr_SCC=sum(pd_hurr[60:300,:])"
   ]
  },
  {
   "cell_type": "code",
   "execution_count": 111,
   "metadata": {
    "collapsed": false,
    "jupyter": {
     "outputs_hidden": false
    }
   },
   "outputs": [
    {
     "data": {
      "text/plain": [
       "0.0020613231338051695"
      ]
     },
     "execution_count": 111,
     "metadata": {},
     "output_type": "execute_result"
    }
   ],
   "source": [
    "perc_hurr_SCC=hurr_SCC/SCC"
   ]
  },
  {
   "cell_type": "code",
   "execution_count": 112,
   "metadata": {
    "collapsed": false,
    "jupyter": {
     "outputs_hidden": false
    }
   },
   "outputs": [
    {
     "data": {
      "text/plain": [
       "1×16 Matrix{Union{Missing, Float64}}:\n",
       " 0.0070398  7.2826e-6  4.40642e-5  0.00817664  …  0.0  0.00019417  0.00053481"
      ]
     },
     "execution_count": 112,
     "metadata": {},
     "output_type": "execute_result"
    }
   ],
   "source": [
    "reg_hurr_SCC=sum(pd_hurr[60:300,:],dims=1)"
   ]
  },
  {
   "cell_type": "code",
   "execution_count": 113,
   "metadata": {
    "collapsed": false,
    "jupyter": {
     "outputs_hidden": false
    }
   },
   "outputs": [
    {
     "data": {
      "text/plain": [
       "1×16 Matrix{Float64}:\n",
       " 0.00160399  3.55114e-5  6.74293e-6  …  0.0  0.000110119  -0.0220202"
      ]
     },
     "execution_count": 113,
     "metadata": {},
     "output_type": "execute_result"
    }
   ],
   "source": [
    "reg_perc_hurr_SCC=reg_hurr_SCC./reg_SCC"
   ]
  },
  {
   "cell_type": "markdown",
   "metadata": {},
   "source": [
    "## Extratropical Storms"
   ]
  },
  {
   "cell_type": "code",
   "execution_count": 114,
   "metadata": {
    "tags": []
   },
   "outputs": [],
   "source": [
    "es_1=m1[:vslvmorb, :vsl].*m1[:impactextratropicalstorms, :extratropicalstormsdead]./(10^9)\n",
    "es_3=es_1\n",
    "pv_es_1=df_r.*es_1\n",
    "pv_es_3=pv_es_1;"
   ]
  },
  {
   "cell_type": "code",
   "execution_count": 115,
   "metadata": {
    "collapsed": false,
    "jupyter": {
     "outputs_hidden": false
    }
   },
   "outputs": [
    {
     "data": {
      "text/plain": [
       "0.003620935995083587"
      ]
     },
     "execution_count": 115,
     "metadata": {},
     "output_type": "execute_result"
    }
   ],
   "source": [
    "es_1b=m3[:vslvmorb, :vsl].*m3[:impactextratropicalstorms, :extratropicalstormsdead]./(10^9)\n",
    "es_3b=es_1b\n",
    "\n",
    "marg_extra=10^9*(es_3b-es_3)\n",
    "pd_extra=(df_r.*marg_extra)/10^6\n",
    "extra_SCC=sum(pd_extra[60:300,:])"
   ]
  },
  {
   "cell_type": "code",
   "execution_count": 116,
   "metadata": {
    "collapsed": false,
    "jupyter": {
     "outputs_hidden": false
    }
   },
   "outputs": [
    {
     "data": {
      "text/plain": [
       "0.00018106655592377462"
      ]
     },
     "execution_count": 116,
     "metadata": {},
     "output_type": "execute_result"
    }
   ],
   "source": [
    "perc_extra_SCC=extra_SCC/SCC"
   ]
  },
  {
   "cell_type": "code",
   "execution_count": 117,
   "metadata": {
    "collapsed": false,
    "jupyter": {
     "outputs_hidden": false
    }
   },
   "outputs": [
    {
     "data": {
      "text/plain": [
       "1×16 Matrix{Union{Missing, Float64}}:\n",
       " 0.00135005  2.43265e-5  0.00063062  …  5.51272e-6  5.9452e-5  0.00014801"
      ]
     },
     "execution_count": 117,
     "metadata": {},
     "output_type": "execute_result"
    }
   ],
   "source": [
    "reg_extra_SCC=sum(pd_extra[60:300,:],dims=1)"
   ]
  },
  {
   "cell_type": "code",
   "execution_count": 118,
   "metadata": {
    "collapsed": false,
    "jupyter": {
     "outputs_hidden": false
    }
   },
   "outputs": [
    {
     "data": {
      "text/plain": [
       "1×16 Matrix{Float64}:\n",
       " 0.000307604  0.000118621  9.65007e-5  …  3.80145e-6  3.37167e-5  -0.00609413"
      ]
     },
     "execution_count": 118,
     "metadata": {},
     "output_type": "execute_result"
    }
   ],
   "source": [
    "reg_perc_extra_SCC=reg_extra_SCC./reg_SCC"
   ]
  },
  {
   "cell_type": "markdown",
   "metadata": {},
   "source": [
    "#### Alternative Regions"
   ]
  },
  {
   "cell_type": "code",
   "execution_count": 119,
   "metadata": {
    "collapsed": false,
    "jupyter": {
     "outputs_hidden": false
    }
   },
   "outputs": [
    {
     "data": {
      "text/plain": [
       "0.000633753649544929"
      ]
     },
     "execution_count": 119,
     "metadata": {},
     "output_type": "execute_result"
    }
   ],
   "source": [
    "dv_SCC_high=sum(reg_dv_SCC[1:5])\n",
    "dv_SCC_med=(reg_dv_SCC[6]+sum(reg_dv_SCC[8:10])+sum(reg_dv_SCC[12:13]))\n",
    "dv_SCC_low=(reg_dv_SCC[7]+reg_dv_SCC[11]+reg_dv_SCC[14]+reg_dv_SCC[15]+reg_dv_SCC[16])\n",
    "\n",
    "sv_SCC_high=sum(reg_sv_SCC[1:5])\n",
    "sv_SCC_med=(reg_sv_SCC[6]+sum(reg_sv_SCC[8:10])+sum(reg_sv_SCC[12:13]))\n",
    "sv_SCC_low=(reg_sv_SCC[7]+reg_sv_SCC[11]+reg_sv_SCC[14]+reg_sv_SCC[15]+reg_sv_SCC[16])\n",
    "\n",
    "mv_SCC_high=sum(reg_mv_SCC[1:5])\n",
    "mv_SCC_med=(reg_mv_SCC[6]+sum(reg_mv_SCC[8:10])+sum(reg_mv_SCC[12:13]))\n",
    "mv_SCC_low=(reg_mv_SCC[7]+reg_mv_SCC[11]+reg_mv_SCC[14]+reg_mv_SCC[15]+reg_mv_SCC[16])\n",
    "\n",
    "chr_SCC_high=sum(reg_chr_SCC[1:5])\n",
    "chr_SCC_med=(reg_chr_SCC[6]+sum(reg_chr_SCC[8:10])+sum(reg_chr_SCC[12:13]))\n",
    "chr_SCC_low=(reg_chr_SCC[7]+reg_chr_SCC[11]+reg_chr_SCC[14]+reg_chr_SCC[15]+reg_chr_SCC[16])\n",
    "\n",
    "ccr_SCC_high=sum(reg_ccr_SCC[1:5])\n",
    "ccr_SCC_med=(reg_ccr_SCC[6]+sum(reg_ccr_SCC[8:10])+sum(reg_ccr_SCC[12:13]))\n",
    "ccr_SCC_low=(reg_ccr_SCC[7]+reg_ccr_SCC[11]+reg_ccr_SCC[14]+reg_ccr_SCC[15]+reg_ccr_SCC[16])\n",
    "\n",
    "resp_SCC_high=sum(reg_resp_SCC[1:5])\n",
    "resp_SCC_med=(reg_resp_SCC[6]+sum(reg_resp_SCC[8:10])+sum(reg_resp_SCC[12:13]))\n",
    "resp_SCC_low=(reg_resp_SCC[7]+reg_resp_SCC[11]+reg_resp_SCC[14]+reg_resp_SCC[15]+reg_resp_SCC[16])\n",
    "\n",
    "diar_SCC_high=sum(reg_diar_SCC[1:5])\n",
    "diar_SCC_med=(reg_diar_SCC[6]+sum(reg_diar_SCC[8:10])+sum(reg_diar_SCC[12:13]))\n",
    "diar_SCC_low=(reg_diar_SCC[7]+reg_diar_SCC[11]+reg_diar_SCC[14]+reg_diar_SCC[15]+reg_diar_SCC[16])\n",
    "\n",
    "hurr_SCC_high=sum(reg_hurr_SCC[1:5])\n",
    "hurr_SCC_med=(reg_hurr_SCC[6]+sum(reg_hurr_SCC[8:10])+sum(reg_hurr_SCC[12:13]))\n",
    "hurr_SCC_low=(reg_hurr_SCC[7]+reg_hurr_SCC[11]+reg_hurr_SCC[14]+reg_hurr_SCC[15]+reg_hurr_SCC[16])\n",
    "\n",
    "extra_SCC_high=sum(reg_extra_SCC[1:5])\n",
    "extra_SCC_med=(reg_extra_SCC[6]+sum(reg_extra_SCC[8:10])+sum(reg_extra_SCC[12:13]))\n",
    "extra_SCC_low=(reg_extra_SCC[7]+reg_extra_SCC[11]+reg_extra_SCC[14]+reg_extra_SCC[15]+reg_extra_SCC[16])"
   ]
  },
  {
   "cell_type": "markdown",
   "metadata": {},
   "source": [
    "# Mortality Endpoint"
   ]
  },
  {
   "cell_type": "markdown",
   "metadata": {},
   "source": [
    "## Dengue Fever"
   ]
  },
  {
   "cell_type": "markdown",
   "metadata": {},
   "source": [
    "### Regional"
   ]
  },
  {
   "cell_type": "code",
   "execution_count": 120,
   "metadata": {
    "collapsed": false,
    "jupyter": {
     "outputs_hidden": false
    }
   },
   "outputs": [],
   "source": [
    "dead_d=m1[:impactvectorbornediseases, :dengue]\n",
    "dead_d_region=dead_d[50:350,:];"
   ]
  },
  {
   "cell_type": "code",
   "execution_count": 121,
   "metadata": {
    "tags": []
   },
   "outputs": [],
   "source": [
    "Kevin_d_dead=permutedims(sum(dead_d[50:350,:],dims=1));"
   ]
  },
  {
   "cell_type": "markdown",
   "metadata": {},
   "source": [
    "### Global "
   ]
  },
  {
   "cell_type": "code",
   "execution_count": 122,
   "metadata": {
    "collapsed": false,
    "jupyter": {
     "outputs_hidden": false
    }
   },
   "outputs": [],
   "source": [
    "dead_d_sum=sum(dead_d,dims=2)\n",
    "dead_d_global=dead_d_sum[50:350,:];"
   ]
  },
  {
   "cell_type": "markdown",
   "metadata": {},
   "source": [
    "## Schisto"
   ]
  },
  {
   "cell_type": "markdown",
   "metadata": {},
   "source": [
    "### Regional"
   ]
  },
  {
   "cell_type": "code",
   "execution_count": 123,
   "metadata": {
    "collapsed": false,
    "jupyter": {
     "outputs_hidden": false
    }
   },
   "outputs": [],
   "source": [
    "dead_s=m1[:impactvectorbornediseases, :schisto]\n",
    "dead_s_region=dead_s[50:350,:];"
   ]
  },
  {
   "cell_type": "code",
   "execution_count": 124,
   "metadata": {
    "tags": []
   },
   "outputs": [],
   "source": [
    "Kevin_s_dead=permutedims(sum(dead_s[50:350,:],dims=1));"
   ]
  },
  {
   "cell_type": "markdown",
   "metadata": {},
   "source": [
    "### Global "
   ]
  },
  {
   "cell_type": "code",
   "execution_count": 125,
   "metadata": {
    "tags": []
   },
   "outputs": [],
   "source": [
    "dead_s_sum=sum(dead_s,dims=2)\n",
    "dead_s_global=dead_s_sum[50:350,:];"
   ]
  },
  {
   "cell_type": "markdown",
   "metadata": {},
   "source": [
    "## Malaria"
   ]
  },
  {
   "cell_type": "markdown",
   "metadata": {},
   "source": [
    "### Regional"
   ]
  },
  {
   "cell_type": "code",
   "execution_count": 126,
   "metadata": {
    "tags": []
   },
   "outputs": [],
   "source": [
    "dead_m=m1[:impactvectorbornediseases, :malaria]\n",
    "dead_m_region=dead_m[50:350,:];"
   ]
  },
  {
   "cell_type": "code",
   "execution_count": 127,
   "metadata": {
    "collapsed": false,
    "jupyter": {
     "outputs_hidden": false
    }
   },
   "outputs": [],
   "source": [
    "Kevin_m_dead=permutedims(sum(dead_m[50:350,:],dims=1));"
   ]
  },
  {
   "cell_type": "markdown",
   "metadata": {},
   "source": [
    "### Global "
   ]
  },
  {
   "cell_type": "code",
   "execution_count": 128,
   "metadata": {
    "tags": []
   },
   "outputs": [],
   "source": [
    "dead_m_sum=sum(dead_m,dims=2)\n",
    "dead_m_global=dead_m_sum[50:350,:];"
   ]
  },
  {
   "cell_type": "markdown",
   "metadata": {},
   "source": [
    "## Cardio - Heat"
   ]
  },
  {
   "cell_type": "markdown",
   "metadata": {},
   "source": [
    "### Regional"
   ]
  },
  {
   "cell_type": "code",
   "execution_count": 129,
   "metadata": {
    "tags": []
   },
   "outputs": [],
   "source": [
    "dead_ch=m1[:impactcardiovascularrespiratory, :cardheat]\n",
    "dead_ch_region=dead_ch[50:350,:];"
   ]
  },
  {
   "cell_type": "code",
   "execution_count": 130,
   "metadata": {
    "collapsed": false,
    "jupyter": {
     "outputs_hidden": false
    }
   },
   "outputs": [
    {
     "data": {
      "text/plain": [
       "16×1 Matrix{Union{Missing, Float64}}:\n",
       "  21818.74163617644\n",
       "   2322.133758747711\n",
       "  34290.81033906312\n",
       "  14548.675662153362\n",
       "   1672.9955118913272\n",
       "  11883.775196272893\n",
       "  35783.38508493988\n",
       "  20543.528855202927\n",
       "   7705.597342184571\n",
       "  23526.5365927792\n",
       " 111706.99846757957\n",
       "      6.344255610318329\n",
       " 125734.13274444145\n",
       "  15420.95611104412\n",
       "  42032.248168445905\n",
       "   3121.0505677978117"
      ]
     },
     "execution_count": 130,
     "metadata": {},
     "output_type": "execute_result"
    }
   ],
   "source": [
    "Kevin_ch_dead=permutedims(sum(dead_ch[50:350,:],dims=1))"
   ]
  },
  {
   "cell_type": "markdown",
   "metadata": {},
   "source": [
    "### Global "
   ]
  },
  {
   "cell_type": "code",
   "execution_count": 131,
   "metadata": {
    "tags": []
   },
   "outputs": [],
   "source": [
    "dead_ch_sum=sum(dead_ch,dims=2)\n",
    "dead_ch_global=dead_ch_sum[50:350,:];"
   ]
  },
  {
   "cell_type": "markdown",
   "metadata": {},
   "source": [
    "## Cardio - Cold "
   ]
  },
  {
   "cell_type": "markdown",
   "metadata": {},
   "source": [
    "### Regional"
   ]
  },
  {
   "cell_type": "code",
   "execution_count": 132,
   "metadata": {
    "tags": []
   },
   "outputs": [],
   "source": [
    "dead_cc=m1[:impactcardiovascularrespiratory, :cardcold]\n",
    "dead_cc_region=dead_ch[50:350,:];"
   ]
  },
  {
   "cell_type": "code",
   "execution_count": 133,
   "metadata": {
    "collapsed": false,
    "jupyter": {
     "outputs_hidden": false
    }
   },
   "outputs": [
    {
     "data": {
      "text/plain": [
       "16×1 Matrix{Union{Missing, Float64}}:\n",
       "  -23089.599469886714\n",
       "   -2466.7646930291\n",
       "  -38093.040688758505\n",
       "  -15371.017697381962\n",
       "   -1774.6810164447045\n",
       "  -13958.213310474408\n",
       "  -44492.92472888647\n",
       "  -23638.15297259017\n",
       "   -8767.876749543866\n",
       "  -25894.764472156134\n",
       " -157677.55184235756\n",
       "   -2582.7026151270143\n",
       " -152163.86859739484\n",
       "  -19072.472361700376\n",
       "  -57668.942071222446\n",
       "   -3824.2263504144366"
      ]
     },
     "execution_count": 133,
     "metadata": {},
     "output_type": "execute_result"
    }
   ],
   "source": [
    "Kevin_cc_dead=permutedims(sum(dead_cc[50:350,:],dims=1))"
   ]
  },
  {
   "cell_type": "markdown",
   "metadata": {},
   "source": [
    "### Global "
   ]
  },
  {
   "cell_type": "code",
   "execution_count": 134,
   "metadata": {
    "tags": []
   },
   "outputs": [],
   "source": [
    "dead_cc_sum=sum(dead_cc,dims=2)\n",
    "dead_cc_global=dead_cc_sum[50:350,:];"
   ]
  },
  {
   "cell_type": "markdown",
   "metadata": {},
   "source": [
    "## Respiratory"
   ]
  },
  {
   "cell_type": "markdown",
   "metadata": {},
   "source": [
    "### Regional"
   ]
  },
  {
   "cell_type": "code",
   "execution_count": 135,
   "metadata": {
    "tags": []
   },
   "outputs": [],
   "source": [
    "dead_r=m1[:impactcardiovascularrespiratory, :resp]\n",
    "dead_r_region=dead_ch[50:350,:];"
   ]
  },
  {
   "cell_type": "code",
   "execution_count": 136,
   "metadata": {
    "collapsed": false,
    "jupyter": {
     "outputs_hidden": false
    }
   },
   "outputs": [
    {
     "data": {
      "text/plain": [
       "16×1 Matrix{Union{Missing, Float64}}:\n",
       "  2611.31622326968\n",
       "   187.50245552776383\n",
       "  2880.9148505228304\n",
       "  1520.82690169071\n",
       "   180.76359683823242\n",
       "   591.8621744789118\n",
       "  2137.3937335556016\n",
       "  1707.4773960273142\n",
       "  1182.0969725005536\n",
       "  3398.467713031047\n",
       " 12406.63457164271\n",
       "  6050.528803173632\n",
       "  7390.461347985384\n",
       "  1935.1649748225968\n",
       "  7709.227839377183\n",
       "   413.55562411153414"
      ]
     },
     "execution_count": 136,
     "metadata": {},
     "output_type": "execute_result"
    }
   ],
   "source": [
    "Kevin_r_dead=permutedims(sum(dead_r[50:350,:],dims=1))"
   ]
  },
  {
   "cell_type": "markdown",
   "metadata": {},
   "source": [
    "### Global "
   ]
  },
  {
   "cell_type": "code",
   "execution_count": 137,
   "metadata": {
    "tags": []
   },
   "outputs": [],
   "source": [
    "dead_r_sum=sum(dead_r,dims=2)\n",
    "dead_r_global=dead_r_sum[50:350,:];"
   ]
  },
  {
   "cell_type": "markdown",
   "metadata": {},
   "source": [
    "## Diarrhea"
   ]
  },
  {
   "cell_type": "markdown",
   "metadata": {},
   "source": [
    "### Regional"
   ]
  },
  {
   "cell_type": "code",
   "execution_count": 138,
   "metadata": {
    "collapsed": false,
    "jupyter": {
     "outputs_hidden": false
    }
   },
   "outputs": [
    {
     "data": {
      "text/plain": [
       "1×16 Matrix{Union{Missing, Float64}}:\n",
       " 1.32797e5  0.0  81434.4  25669.2  151.99  …  2.64583e5  7.84304e6  14024.5"
      ]
     },
     "execution_count": 138,
     "metadata": {},
     "output_type": "execute_result"
    }
   ],
   "source": [
    "dead_diah=m1[:impactdiarrhoea, :diadead]\n",
    "dead_diah_reg=sum(dead_diah[50:350,:],dims=1)"
   ]
  },
  {
   "cell_type": "code",
   "execution_count": 139,
   "metadata": {
    "collapsed": false,
    "jupyter": {
     "outputs_hidden": false
    }
   },
   "outputs": [
    {
     "data": {
      "text/plain": [
       "16×1 Matrix{Union{Missing, Float64}}:\n",
       " 132797.12067746656\n",
       "      0.0\n",
       "  81434.44419187715\n",
       "  25669.180377485434\n",
       "    151.98993789910242\n",
       "  13064.998035333658\n",
       "      1.337416061013332e6\n",
       "  32674.769288544416\n",
       "  43121.47805775782\n",
       " 112190.88686834685\n",
       " 442808.19837358495\n",
       "  62215.00750920037\n",
       " 120307.28163385433\n",
       " 264582.6053588498\n",
       "      7.843037210004224e6\n",
       "  14024.50292899489"
      ]
     },
     "execution_count": 139,
     "metadata": {},
     "output_type": "execute_result"
    }
   ],
   "source": [
    "Kevin_diar_death=permutedims(dead_diah_reg)"
   ]
  },
  {
   "cell_type": "markdown",
   "metadata": {},
   "source": [
    "### Global "
   ]
  },
  {
   "cell_type": "code",
   "execution_count": 140,
   "metadata": {
    "tags": []
   },
   "outputs": [],
   "source": [
    "dead_diah_sum=sum(dead_diah,dims=2)\n",
    "dead_diah_global=dead_diah_sum[50:350,:];"
   ]
  },
  {
   "cell_type": "markdown",
   "metadata": {},
   "source": [
    "## Hurricane"
   ]
  },
  {
   "cell_type": "markdown",
   "metadata": {},
   "source": [
    "### Regional"
   ]
  },
  {
   "cell_type": "code",
   "execution_count": 141,
   "metadata": {
    "collapsed": false,
    "jupyter": {
     "outputs_hidden": false
    }
   },
   "outputs": [
    {
     "data": {
      "text/plain": [
       "1×16 Matrix{Union{Missing, Float64}}:\n",
       " 7372.57  10.791  57.4282  7909.78  …  9204.96  0.0  11343.4  10895.8"
      ]
     },
     "execution_count": 141,
     "metadata": {},
     "output_type": "execute_result"
    }
   ],
   "source": [
    "dead_hurr=m1[:impacttropicalstorms, :hurrdead];\n",
    "dead_hurr_reg=sum(dead_hurr[50:350,:],dims=1)"
   ]
  },
  {
   "cell_type": "code",
   "execution_count": 142,
   "metadata": {
    "tags": []
   },
   "outputs": [],
   "source": [
    "Kevin_hurr_dead=permutedims(sum(dead_hurr[50:350,:],dims=1));"
   ]
  },
  {
   "cell_type": "markdown",
   "metadata": {},
   "source": [
    "### Global "
   ]
  },
  {
   "cell_type": "code",
   "execution_count": 143,
   "metadata": {
    "collapsed": false,
    "jupyter": {
     "outputs_hidden": false
    }
   },
   "outputs": [],
   "source": [
    "dead_hurr_sum=sum(dead_hurr,dims=2)\n",
    "dead_hurr_global=dead_hurr_sum[50:350,:];"
   ]
  },
  {
   "cell_type": "markdown",
   "metadata": {},
   "source": [
    "## Extra-tropical"
   ]
  },
  {
   "cell_type": "markdown",
   "metadata": {},
   "source": [
    "### Regional"
   ]
  },
  {
   "cell_type": "code",
   "execution_count": 144,
   "metadata": {
    "collapsed": false,
    "jupyter": {
     "outputs_hidden": false
    }
   },
   "outputs": [
    {
     "data": {
      "text/plain": [
       "1×16 Matrix{Union{Missing, Float64}}:\n",
       " 1312.57  33.4705  759.717  404.388  …  1006.09  134.81  3478.54  2938.2"
      ]
     },
     "execution_count": 144,
     "metadata": {},
     "output_type": "execute_result"
    }
   ],
   "source": [
    "dead_extra=m1[:impactextratropicalstorms, :extratropicalstormsdead];\n",
    "dead_extra_reg=sum(dead_extra[50:350,:],dims=1)"
   ]
  },
  {
   "cell_type": "code",
   "execution_count": 145,
   "metadata": {
    "tags": []
   },
   "outputs": [],
   "source": [
    "Kevin_extra_dead=permutedims(sum(dead_extra[50:350,:],dims=1));"
   ]
  },
  {
   "cell_type": "markdown",
   "metadata": {},
   "source": [
    "### Global "
   ]
  },
  {
   "cell_type": "code",
   "execution_count": 146,
   "metadata": {
    "collapsed": false,
    "jupyter": {
     "outputs_hidden": false
    }
   },
   "outputs": [],
   "source": [
    "dead_extra_sum=sum(dead_extra,dims=2)\n",
    "dead_extra_global=dead_extra_sum[50:350,:];"
   ]
  },
  {
   "cell_type": "markdown",
   "metadata": {},
   "source": [
    "# SCC - Breakdown"
   ]
  },
  {
   "cell_type": "markdown",
   "metadata": {},
   "source": [
    "## Agriculture "
   ]
  },
  {
   "cell_type": "code",
   "execution_count": 147,
   "metadata": {
    "collapsed": false,
    "jupyter": {
     "outputs_hidden": false
    }
   },
   "outputs": [
    {
     "data": {
      "text/plain": [
       "-6.13816959108143"
      ]
     },
     "execution_count": 147,
     "metadata": {},
     "output_type": "execute_result"
    }
   ],
   "source": [
    "agr_1=m1[:impactagriculture, :agcost]\n",
    "pv_agr_1=df_r.*agr_1;\n",
    "agr_3=m3[:impactagriculture, :agcost]\n",
    "pv_agr_3=df_r.*agr_3;\n",
    "marg_agr=1000000000.0*(agr_3-agr_1);\n",
    "pd_agr=(df_r.*marg_agr)/10^6\n",
    "agr_SCC=-1*sum(pd_agr[60:300,:])"
   ]
  },
  {
   "cell_type": "code",
   "execution_count": 148,
   "metadata": {
    "collapsed": false,
    "jupyter": {
     "outputs_hidden": false
    }
   },
   "outputs": [
    {
     "data": {
      "text/plain": [
       "-0.3069419699884814"
      ]
     },
     "execution_count": 148,
     "metadata": {},
     "output_type": "execute_result"
    }
   ],
   "source": [
    "perc_agr_SCC=agr_SCC/SCC"
   ]
  },
  {
   "cell_type": "markdown",
   "metadata": {},
   "source": [
    "## Cooling"
   ]
  },
  {
   "cell_type": "code",
   "execution_count": 149,
   "metadata": {
    "collapsed": false,
    "jupyter": {
     "outputs_hidden": false
    }
   },
   "outputs": [
    {
     "data": {
      "text/plain": [
       "24.227774277605008"
      ]
     },
     "execution_count": 149,
     "metadata": {},
     "output_type": "execute_result"
    }
   ],
   "source": [
    "cool_1=m1[:impactcooling, :cooling]\n",
    "pv_cool_1=df_r.*cool_1;\n",
    "cool_3=m3[:impactcooling, :cooling]\n",
    "pv_cool_3=df_r.*cool_3;\n",
    "marg_cool=1000000000.0*(cool_3-cool_1);\n",
    "pd_cool=(df_r.*marg_cool)/10^6\n",
    "cool_SCC=-1*sum(pd_cool[60:300,:])"
   ]
  },
  {
   "cell_type": "code",
   "execution_count": 150,
   "metadata": {
    "collapsed": false,
    "jupyter": {
     "outputs_hidden": false
    }
   },
   "outputs": [
    {
     "data": {
      "text/plain": [
       "1.211520902910433"
      ]
     },
     "execution_count": 150,
     "metadata": {},
     "output_type": "execute_result"
    }
   ],
   "source": [
    "perc_cool_SCC=cool_SCC/SCC"
   ]
  },
  {
   "cell_type": "markdown",
   "metadata": {},
   "source": [
    "## Biodiversity"
   ]
  },
  {
   "cell_type": "code",
   "execution_count": 151,
   "metadata": {
    "collapsed": false,
    "jupyter": {
     "outputs_hidden": false
    }
   },
   "outputs": [
    {
     "data": {
      "text/plain": [
       "1.5444475236840045"
      ]
     },
     "execution_count": 151,
     "metadata": {},
     "output_type": "execute_result"
    }
   ],
   "source": [
    "bio_1=m1[:impactbiodiversity, :species]\n",
    "bio_3=m3[:impactbiodiversity, :species]\n",
    "marg_bio=1000000000.0*(bio_3-bio_1);\n",
    "pd_bio=(df_r.*marg_bio)/10^6\n",
    "bio_SCC=sum(pd_bio[60:300,:])"
   ]
  },
  {
   "cell_type": "code",
   "execution_count": 152,
   "metadata": {
    "collapsed": false,
    "jupyter": {
     "outputs_hidden": false
    }
   },
   "outputs": [
    {
     "data": {
      "text/plain": [
       "0.07723080283610743"
      ]
     },
     "execution_count": 152,
     "metadata": {},
     "output_type": "execute_result"
    }
   ],
   "source": [
    "perc_bio_SCC=bio_SCC/SCC"
   ]
  },
  {
   "cell_type": "markdown",
   "metadata": {},
   "source": [
    "## Extra-tropical storm: Non-health "
   ]
  },
  {
   "cell_type": "code",
   "execution_count": 153,
   "metadata": {
    "collapsed": false,
    "jupyter": {
     "outputs_hidden": false
    }
   },
   "outputs": [
    {
     "data": {
      "text/plain": [
       "0.017622757219879055"
      ]
     },
     "execution_count": 153,
     "metadata": {},
     "output_type": "execute_result"
    }
   ],
   "source": [
    "extra_dam_1=m1[:impactextratropicalstorms, :extratropicalstormsdam]\n",
    "extra_dam_3=m3[:impactextratropicalstorms, :extratropicalstormsdam]\n",
    "marg_extra_dam=1000000000.0*(extra_dam_3-extra_dam_1);\n",
    "pd_extra_dam=(df_r.*marg_extra_dam)/10^6\n",
    "extra_dam_SCC=sum(pd_extra_dam[60:300,:])"
   ]
  },
  {
   "cell_type": "code",
   "execution_count": 154,
   "metadata": {
    "collapsed": false,
    "jupyter": {
     "outputs_hidden": false
    }
   },
   "outputs": [
    {
     "data": {
      "text/plain": [
       "0.0008812340124257496"
      ]
     },
     "execution_count": 154,
     "metadata": {},
     "output_type": "execute_result"
    }
   ],
   "source": [
    "perc_extra_dam_SCC=extra_dam_SCC/SCC"
   ]
  },
  {
   "cell_type": "markdown",
   "metadata": {},
   "source": [
    "## Forestry"
   ]
  },
  {
   "cell_type": "code",
   "execution_count": 155,
   "metadata": {
    "collapsed": false,
    "jupyter": {
     "outputs_hidden": false
    }
   },
   "outputs": [
    {
     "data": {
      "text/plain": [
       "-0.12687991076882543"
      ]
     },
     "execution_count": 155,
     "metadata": {},
     "output_type": "execute_result"
    }
   ],
   "source": [
    "forest_1=m1[:impactforests, :forests]\n",
    "forest_3=m3[:impactforests, :forests]\n",
    "marg_forest=1000000000.0*(forest_3-forest_1);\n",
    "pd_forest=(df_r.*marg_forest)/10^6\n",
    "forest_SCC=-1*sum(pd_forest[60:300,:])"
   ]
  },
  {
   "cell_type": "code",
   "execution_count": 156,
   "metadata": {
    "collapsed": false,
    "jupyter": {
     "outputs_hidden": false
    }
   },
   "outputs": [
    {
     "data": {
      "text/plain": [
       "-0.006344687807246571"
      ]
     },
     "execution_count": 156,
     "metadata": {},
     "output_type": "execute_result"
    }
   ],
   "source": [
    "perc_forest_SCC=forest_SCC/SCC"
   ]
  },
  {
   "cell_type": "markdown",
   "metadata": {},
   "source": [
    "## Health"
   ]
  },
  {
   "cell_type": "code",
   "execution_count": 157,
   "metadata": {
    "collapsed": false,
    "jupyter": {
     "outputs_hidden": false
    }
   },
   "outputs": [
    {
     "data": {
      "text/plain": [
       "1.7448486940676682"
      ]
     },
     "execution_count": 157,
     "metadata": {},
     "output_type": "execute_result"
    }
   ],
   "source": [
    "health_alt_1=m1[:impactdeathmorbidity, :deadcost]+m1[:impactdeathmorbidity, :morbcost]\n",
    "health_alt_3=m3[:impactdeathmorbidity, :deadcost]+m3[:impactdeathmorbidity, :morbcost]\n",
    "marg_health_alt=1000000000.0*(health_alt_3-health_alt_1);\n",
    "pd_health_alt=(df_r.*marg_health_alt)/10^6\n",
    "health_alt_SCC=sum(pd_health_alt[60:300,:])## Health"
   ]
  },
  {
   "cell_type": "code",
   "execution_count": 158,
   "metadata": {
    "collapsed": false,
    "jupyter": {
     "outputs_hidden": false
    }
   },
   "outputs": [
    {
     "data": {
      "text/plain": [
       "0.08725195476304888"
      ]
     },
     "execution_count": 158,
     "metadata": {},
     "output_type": "execute_result"
    }
   ],
   "source": [
    "perc_health_alt_SCC=health_alt_SCC/SCC"
   ]
  },
  {
   "cell_type": "markdown",
   "metadata": {},
   "source": [
    "## Heating "
   ]
  },
  {
   "cell_type": "code",
   "execution_count": 159,
   "metadata": {
    "collapsed": false,
    "jupyter": {
     "outputs_hidden": false
    }
   },
   "outputs": [
    {
     "data": {
      "text/plain": [
       "-4.8404465745904375"
      ]
     },
     "execution_count": 159,
     "metadata": {},
     "output_type": "execute_result"
    }
   ],
   "source": [
    "heat_1=m1[:impactheating, :heating]\n",
    "pv_heat_1=df_r.*heat_1;\n",
    "heat_3=m3[:impactheating, :heating]\n",
    "pv_heat_3=df_r.*heat_3;\n",
    "marg_heat=1000000000.0*(heat_3-heat_1);\n",
    "pd_heat=(df_r.*marg_heat)/10^6\n",
    "heat_SCC=-1*sum(pd_heat[60:300,:])"
   ]
  },
  {
   "cell_type": "code",
   "execution_count": 160,
   "metadata": {
    "collapsed": false,
    "jupyter": {
     "outputs_hidden": false
    }
   },
   "outputs": [
    {
     "data": {
      "text/plain": [
       "-0.24204873866429405"
      ]
     },
     "execution_count": 160,
     "metadata": {},
     "output_type": "execute_result"
    }
   ],
   "source": [
    "perc_heat_SCC=heat_SCC/SCC"
   ]
  },
  {
   "cell_type": "markdown",
   "metadata": {},
   "source": [
    "## Energy Consumption"
   ]
  },
  {
   "cell_type": "code",
   "execution_count": 161,
   "metadata": {
    "collapsed": false,
    "jupyter": {
     "outputs_hidden": false
    }
   },
   "outputs": [
    {
     "data": {
      "text/plain": [
       "19.38732770301457"
      ]
     },
     "execution_count": 161,
     "metadata": {},
     "output_type": "execute_result"
    }
   ],
   "source": [
    "energy_SCC=heat_SCC+cool_SCC"
   ]
  },
  {
   "cell_type": "code",
   "execution_count": 162,
   "metadata": {
    "collapsed": false,
    "jupyter": {
     "outputs_hidden": false
    }
   },
   "outputs": [
    {
     "data": {
      "text/plain": [
       "0.969472164246139"
      ]
     },
     "execution_count": 162,
     "metadata": {},
     "output_type": "execute_result"
    }
   ],
   "source": [
    "perc_energy_SCC=energy_SCC/SCC"
   ]
  },
  {
   "cell_type": "markdown",
   "metadata": {},
   "source": [
    "## Sea-level rise"
   ]
  },
  {
   "cell_type": "code",
   "execution_count": 163,
   "metadata": {
    "collapsed": false,
    "jupyter": {
     "outputs_hidden": false
    }
   },
   "outputs": [
    {
     "data": {
      "text/plain": [
       "0.4733317397036487"
      ]
     },
     "execution_count": 163,
     "metadata": {},
     "output_type": "execute_result"
    }
   ],
   "source": [
    "slr_1=m1[:impactsealevelrise, :leavecost]+m1[:impactsealevelrise, :entercost]\n",
    "slr_1=slr_1+m1[:impactsealevelrise, :drycost]+m1[:impactsealevelrise, :protcost]\n",
    "slr_1=slr_1+m1[:impactsealevelrise, :wetcost]\n",
    "pv_slr_1=df_r.*slr_1;\n",
    "slr_3=m3[:impactsealevelrise, :leavecost]+m3[:impactsealevelrise, :entercost]\n",
    "slr_3=slr_3+m3[:impactsealevelrise, :drycost]+m3[:impactsealevelrise, :protcost]\n",
    "slr_3=slr_3+m3[:impactsealevelrise, :wetcost]\n",
    "pv_slr_3=df_r.*slr_3;\n",
    "marg_slr=1000000000.0*(slr_3-slr_1);\n",
    "pd_slr=(df_r.*marg_slr)/10^6\n",
    "slr_SCC=sum(pd_slr[60:300,:])"
   ]
  },
  {
   "cell_type": "code",
   "execution_count": 164,
   "metadata": {
    "collapsed": false,
    "jupyter": {
     "outputs_hidden": false
    }
   },
   "outputs": [
    {
     "data": {
      "text/plain": [
       "0.023669169527966154"
      ]
     },
     "execution_count": 164,
     "metadata": {},
     "output_type": "execute_result"
    }
   ],
   "source": [
    "perc_slr_SCC=slr_SCC/SCC"
   ]
  },
  {
   "cell_type": "markdown",
   "metadata": {},
   "source": [
    "## Tropical - Non-health"
   ]
  },
  {
   "cell_type": "code",
   "execution_count": 165,
   "metadata": {
    "collapsed": false,
    "jupyter": {
     "outputs_hidden": false
    }
   },
   "outputs": [
    {
     "data": {
      "text/plain": [
       "0.1941669946234637"
      ]
     },
     "execution_count": 165,
     "metadata": {},
     "output_type": "execute_result"
    }
   ],
   "source": [
    "hurr_dam_1=m1[:impacttropicalstorms, :hurrdam]\n",
    "hurr_dam_3=m3[:impacttropicalstorms, :hurrdam]\n",
    "marg_hurr_dam=1000000000.0*(hurr_dam_3-hurr_dam_1);\n",
    "pd_hurr_dam=(df_r.*marg_hurr_dam)/10^6\n",
    "hurr_dam_SCC=sum(pd_hurr_dam[60:300,:])"
   ]
  },
  {
   "cell_type": "code",
   "execution_count": 166,
   "metadata": {
    "collapsed": false,
    "jupyter": {
     "outputs_hidden": false
    }
   },
   "outputs": [
    {
     "data": {
      "text/plain": [
       "0.009709409124678287"
      ]
     },
     "execution_count": 166,
     "metadata": {},
     "output_type": "execute_result"
    }
   ],
   "source": [
    "perc_hurr_dam_SCC=hurr_dam_SCC/SCC"
   ]
  },
  {
   "cell_type": "markdown",
   "metadata": {},
   "source": [
    "## Storms"
   ]
  },
  {
   "cell_type": "code",
   "execution_count": 167,
   "metadata": {
    "collapsed": false,
    "jupyter": {
     "outputs_hidden": false
    }
   },
   "outputs": [
    {
     "data": {
      "text/plain": [
       "0.21178975184334276"
      ]
     },
     "execution_count": 167,
     "metadata": {},
     "output_type": "execute_result"
    }
   ],
   "source": [
    "storm_SCC=hurr_dam_SCC+extra_dam_SCC"
   ]
  },
  {
   "cell_type": "code",
   "execution_count": 168,
   "metadata": {
    "collapsed": false,
    "jupyter": {
     "outputs_hidden": false
    }
   },
   "outputs": [
    {
     "data": {
      "text/plain": [
       "0.010590643137104037"
      ]
     },
     "execution_count": 168,
     "metadata": {},
     "output_type": "execute_result"
    }
   ],
   "source": [
    "perc_storm_SCC=perc_hurr_dam_SCC+perc_extra_dam_SCC"
   ]
  },
  {
   "cell_type": "markdown",
   "metadata": {},
   "source": [
    "## Water"
   ]
  },
  {
   "cell_type": "code",
   "execution_count": 169,
   "metadata": {
    "collapsed": false,
    "jupyter": {
     "outputs_hidden": false
    }
   },
   "outputs": [
    {
     "data": {
      "text/plain": [
       "2.9011218897967397"
      ]
     },
     "execution_count": 169,
     "metadata": {},
     "output_type": "execute_result"
    }
   ],
   "source": [
    "water_1=m1[:impactwaterresources, :water]\n",
    "pv_water_1=df_r.*water_1;\n",
    "water_3=m3[:impactwaterresources, :water]\n",
    "pv_water_3=df_r.*water_3;\n",
    "marg_water=1000000000.0*(water_3-water_1);\n",
    "pd_water=(df_r.*marg_water)/10^6\n",
    "water_SCC=-1*sum(pd_water[60:300,:])"
   ]
  },
  {
   "cell_type": "code",
   "execution_count": 170,
   "metadata": {
    "collapsed": false,
    "jupyter": {
     "outputs_hidden": false
    }
   },
   "outputs": [
    {
     "data": {
      "text/plain": [
       "0.1450719232855266"
      ]
     },
     "execution_count": 170,
     "metadata": {},
     "output_type": "execute_result"
    }
   ],
   "source": [
    "perc_water_SCC=water_SCC/SCC"
   ]
  },
  {
   "cell_type": "markdown",
   "metadata": {},
   "source": [
    "## Other"
   ]
  },
  {
   "cell_type": "code",
   "execution_count": 171,
   "metadata": {
    "collapsed": false,
    "jupyter": {
     "outputs_hidden": false
    }
   },
   "outputs": [
    {
     "data": {
      "text/plain": [
       "0.0"
      ]
     },
     "execution_count": 171,
     "metadata": {},
     "output_type": "execute_result"
    }
   ],
   "source": [
    "eloss_other=parameters[:eloss_other]\n",
    "eloss_other=sum(eloss_other)"
   ]
  },
  {
   "cell_type": "code",
   "execution_count": 172,
   "metadata": {
    "collapsed": false,
    "jupyter": {
     "outputs_hidden": false
    }
   },
   "outputs": [
    {
     "data": {
      "text/plain": [
       "0.0"
      ]
     },
     "execution_count": 172,
     "metadata": {},
     "output_type": "execute_result"
    }
   ],
   "source": [
    "sloss_other=parameters[:sloss_other]\n",
    "sloss_other=sum(sloss_other)"
   ]
  },
  {
   "cell_type": "markdown",
   "metadata": {},
   "source": [
    "## SCC - Check"
   ]
  },
  {
   "cell_type": "markdown",
   "metadata": {},
   "source": [
    "### SCC-Aggregate"
   ]
  },
  {
   "cell_type": "code",
   "execution_count": 173,
   "metadata": {
    "collapsed": false,
    "jupyter": {
     "outputs_hidden": false
    }
   },
   "outputs": [
    {
     "data": {
      "text/plain": [
       "19.99781780025643"
      ]
     },
     "execution_count": 173,
     "metadata": {},
     "output_type": "execute_result"
    }
   ],
   "source": [
    "SCC_Check_1=m1[:impactaggregation, :loss]\n",
    "SCC_Check_3=m3[:impactaggregation, :loss]\n",
    "marg_SCC_Check=(SCC_Check_3-SCC_Check_1);\n",
    "pd_SCC_Check=(df_r.*marg_SCC_Check)/10^6\n",
    "SCC_Check=sum(pd_SCC_Check[60:300,:])"
   ]
  },
  {
   "cell_type": "markdown",
   "metadata": {},
   "source": [
    "### SCC-Aggregate-2"
   ]
  },
  {
   "cell_type": "code",
   "execution_count": 174,
   "metadata": {
    "collapsed": false,
    "jupyter": {
     "outputs_hidden": false
    }
   },
   "outputs": [
    {
     "data": {
      "text/plain": [
       "19.980195043039846"
      ]
     },
     "execution_count": 174,
     "metadata": {},
     "output_type": "execute_result"
    }
   ],
   "source": [
    "SCC_Check_2=agr_SCC+cool_SCC+bio_SCC+forest_SCC+health_alt_SCC+heat_SCC+slr_SCC+hurr_dam_SCC+water_SCC"
   ]
  },
  {
   "cell_type": "markdown",
   "metadata": {},
   "source": [
    "### SCC-Aggregate-3"
   ]
  },
  {
   "cell_type": "code",
   "execution_count": 175,
   "metadata": {
    "collapsed": false,
    "jupyter": {
     "outputs_hidden": false
    }
   },
   "outputs": [
    {
     "data": {
      "text/plain": [
       "0.9991187659877383"
      ]
     },
     "execution_count": 175,
     "metadata": {},
     "output_type": "execute_result"
    }
   ],
   "source": [
    "SCC_Check_3=perc_agr_SCC+perc_cool_SCC+perc_bio_SCC+perc_forest_SCC+perc_health_alt_SCC+perc_heat_SCC+perc_slr_SCC+perc_hurr_dam_SCC+perc_water_SCC"
   ]
  },
  {
   "cell_type": "markdown",
   "metadata": {},
   "source": [
    "# Tables"
   ]
  },
  {
   "cell_type": "markdown",
   "metadata": {},
   "source": [
    "## Tables for Figure 1"
   ]
  },
  {
   "cell_type": "code",
   "execution_count": 176,
   "metadata": {
    "collapsed": false,
    "jupyter": {
     "outputs_hidden": false
    }
   },
   "outputs": [
    {
     "data": {
      "text/plain": [
       "10×3 Matrix{Float64}:\n",
       " 99.0  99.0       99.0\n",
       " 99.0  -6.13817   -0.306942\n",
       " 99.0   1.54445    0.0772308\n",
       " 99.0  19.3873     0.969472\n",
       " 99.0  -0.12688   -0.00634469\n",
       " 99.0   1.74485    0.087252\n",
       " 99.0   0.473332   0.0236692\n",
       " 99.0   0.21179    0.0105906\n",
       " 99.0   2.90112    0.145072\n",
       " 99.0  19.9978     1.0"
      ]
     },
     "execution_count": 176,
     "metadata": {},
     "output_type": "execute_result"
    }
   ],
   "source": [
    "Table_Fig1a=zeros(10,3)\n",
    "Table_Fig1a[1,:].=99\n",
    "Table_Fig1a[:,1].=99\n",
    "\n",
    "Table_Fig1a[2,2]=agr_SCC\n",
    "Table_Fig1a[3,2]=bio_SCC\n",
    "Table_Fig1a[4,2]=energy_SCC\n",
    "Table_Fig1a[5,2]=forest_SCC\n",
    "Table_Fig1a[6,2]=health_alt_SCC\n",
    "Table_Fig1a[7,2]=slr_SCC\n",
    "Table_Fig1a[8,2]=storm_SCC\n",
    "Table_Fig1a[9,2]=water_SCC\n",
    "Table_Fig1a[10,2]=SCC\n",
    "\n",
    "Table_Fig1a[2,3]=perc_agr_SCC\n",
    "Table_Fig1a[3,3]=perc_bio_SCC\n",
    "Table_Fig1a[4,3]=perc_energy_SCC\n",
    "Table_Fig1a[5,3]=perc_forest_SCC\n",
    "Table_Fig1a[6,3]=perc_health_alt_SCC\n",
    "Table_Fig1a[7,3]=perc_slr_SCC\n",
    "Table_Fig1a[8,3]=perc_storm_SCC\n",
    "Table_Fig1a[9,3]=perc_water_SCC\n",
    "Table_Fig1a[10,3]=1\n",
    "\n",
    "Table_Fig1a"
   ]
  },
  {
   "cell_type": "code",
   "execution_count": 177,
   "metadata": {
    "collapsed": false,
    "jupyter": {
     "outputs_hidden": false
    }
   },
   "outputs": [
    {
     "data": {
      "text/plain": [
       "3-element Vector{String}:\n",
       " \"Impact\"\n",
       " \"SCC\"\n",
       " \"% of SCC\""
      ]
     },
     "execution_count": 177,
     "metadata": {},
     "output_type": "execute_result"
    }
   ],
   "source": [
    "Table_Figure1a_row=([\"Impact\";\"SCC\";\"% of SCC\"])"
   ]
  },
  {
   "cell_type": "code",
   "execution_count": 178,
   "metadata": {
    "collapsed": false,
    "jupyter": {
     "outputs_hidden": false
    }
   },
   "outputs": [
    {
     "data": {
      "text/plain": [
       "9-element Vector{String}:\n",
       " \"Agriculture\"\n",
       " \"Ecosystems\"\n",
       " \"Energy consumption\"\n",
       " \"Forestry\"\n",
       " \"Health\"\n",
       " \"Sea level rise\"\n",
       " \"Storms - non-health\"\n",
       " \"Water resources\"\n",
       " \"Total\""
      ]
     },
     "execution_count": 178,
     "metadata": {},
     "output_type": "execute_result"
    }
   ],
   "source": [
    "Table1_Figure1a_col=[\"Agriculture\";\"Ecosystems\";\"Energy consumption\";\"Forestry\";\"Health\";\"Sea level rise\";\"Storms - non-health\";\"Water resources\";\"Total\"]"
   ]
  },
  {
   "cell_type": "code",
   "execution_count": 179,
   "metadata": {
    "collapsed": false,
    "jupyter": {
     "outputs_hidden": false
    }
   },
   "outputs": [],
   "source": [
    "table_Fig1a=Array{String}(undef,10,3)\n",
    "table_Fig1a[1,:]=[\"Impact\";\"SCC\";\"% of SCC\"]\n",
    "table_Fig1a[:,1]=[\"Impact\";\"Agriculture\";\"Ecosystems\";\"Energy consumption\";\"Forestry\";\"Health\";\"Sea level rise\";\"Storms - non-health\";\"Water resources\";\"Total\"]\n",
    "\n",
    "\n",
    "table_Fig1a[2:10,2]=[string(agr_SCC);string(bio_SCC);string(energy_SCC);string(forest_SCC);string(health_alt_SCC);string(slr_SCC);string(storm_SCC);string(water_SCC);string(SCC)]\n",
    "table_Fig1a[2:10,3]=[string(perc_agr_SCC);string(perc_bio_SCC);string(perc_energy_SCC);string(perc_forest_SCC);string(perc_health_alt_SCC);string(perc_slr_SCC);string(perc_storm_SCC);string(perc_water_SCC);string(1)]\n",
    "\n",
    "\n",
    "table_Fig1a\n",
    "\n",
    "writedlm(\"../output/vsl0_fig1a.csv\",table_Fig1a, \",\")"
   ]
  },
  {
   "cell_type": "code",
   "execution_count": 180,
   "metadata": {
    "collapsed": false,
    "jupyter": {
     "outputs_hidden": false
    }
   },
   "outputs": [
    {
     "data": {
      "text/plain": [
       "17×3 Matrix{Float64}:\n",
       " 99.0    99.0        99.0\n",
       " 99.0   296.654   41658.9\n",
       " 99.0    33.4312  29280.1\n",
       " 99.0   394.807   34146.9\n",
       " 99.0   192.842   45751.6\n",
       " 99.0    23.554   32235.2\n",
       " 99.0   126.784    4651.64\n",
       " 99.0   293.47     2818.1\n",
       " 99.0   316.064    3464.83\n",
       " 99.0   154.359    4260.93\n",
       " 99.0   414.734    5537.14\n",
       " 99.0  1669.72      644.188\n",
       " 99.0   629.428    2325.22\n",
       " 99.0  1467.69     1543.52\n",
       " 99.0   192.422    1732.22\n",
       " 99.0   878.018     671.584\n",
       " 99.0    53.3934   1573.77"
      ]
     },
     "execution_count": 180,
     "metadata": {},
     "output_type": "execute_result"
    }
   ],
   "source": [
    "Table_Fig1b=zeros(17,3)\n",
    "Table_Fig1b[1,:].=99\n",
    "Table_Fig1b[:,1].=99\n",
    "\n",
    "for j=2:17\n",
    "    Table_Fig1b[j,2]=pop_reg_2015[j-1]\n",
    "    Table_Fig1b[j,3]=ypc_reg_2015[j-1]\n",
    "    \n",
    "end    \n",
    "\n",
    "Table_Fig1b"
   ]
  },
  {
   "cell_type": "code",
   "execution_count": 181,
   "metadata": {
    "collapsed": false,
    "jupyter": {
     "outputs_hidden": false
    }
   },
   "outputs": [
    {
     "data": {
      "text/plain": [
       "3-element Vector{String}:\n",
       " \"Regions\"\n",
       " \"2015 Population\"\n",
       " \"2015 GDP per Capita\""
      ]
     },
     "execution_count": 181,
     "metadata": {},
     "output_type": "execute_result"
    }
   ],
   "source": [
    "Table_Figure1b_row=([\"Regions\";\"2015 Population\";\"2015 GDP per Capita\"])"
   ]
  },
  {
   "cell_type": "code",
   "execution_count": 182,
   "metadata": {
    "collapsed": false,
    "jupyter": {
     "outputs_hidden": false
    }
   },
   "outputs": [
    {
     "data": {
      "text/plain": [
       "17-element Vector{String}:\n",
       " \"Regsions\"\n",
       " \"USA\"\n",
       " \"CAN\"\n",
       " \"WEU\"\n",
       " \"JPK\"\n",
       " \"ANZ\"\n",
       " \"CEE\"\n",
       " \"FSU\"\n",
       " \"MDE\"\n",
       " \"CAM\"\n",
       " \"SAM\"\n",
       " \"SAS\"\n",
       " \"SEA\"\n",
       " \"CHI\"\n",
       " \"NAF\"\n",
       " \"SSA\"\n",
       " \"SIS\""
      ]
     },
     "execution_count": 182,
     "metadata": {},
     "output_type": "execute_result"
    }
   ],
   "source": [
    "Table_Figure1b_col=[\"Regsions\";\"USA\";\"CAN\"; \"WEU\";\"JPK\";\"ANZ\";\"CEE\";\"FSU\";\"MDE\";\"CAM\";\"SAM\";\"SAS\";\"SEA\";\"CHI\";\"NAF\";\"SSA\";\"SIS\"]"
   ]
  },
  {
   "cell_type": "code",
   "execution_count": 183,
   "metadata": {
    "collapsed": false,
    "jupyter": {
     "outputs_hidden": false
    }
   },
   "outputs": [],
   "source": [
    "table_Fig1b=Array{String}(undef,17,3)\n",
    "table_Fig1b[1,:]=[\"Regions\";\"2015 Population\";\"2015 GDP per Capita\"]\n",
    "table_Fig1b[:,1]=[\"Regions\";\"USA\";\"CAN\"; \"WEU\";\"JPK\";\"ANZ\";\"CEE\";\"FSU\";\"MDE\";\"CAM\";\"SAM\";\"SAS\";\"SEA\";\"CHI\";\"NAF\";\"SSA\";\"SIS\"]\n",
    "\n",
    "table_Fig1b[2:17,2]=[string(pop_reg_2015[1]);string(pop_reg_2015[2]);string(pop_reg_2015[3]);string(pop_reg_2015[4]);string(pop_reg_2015[5]);string(pop_reg_2015[6]);string(pop_reg_2015[7]);string(pop_reg_2015[8]);string(pop_reg_2015[9]);string(pop_reg_2015[10]);string(pop_reg_2015[11]);string(pop_reg_2015[12]);string(pop_reg_2015[13]);string(pop_reg_2015[14]);string(pop_reg_2015[15]);string(pop_reg_2015[16])]\n",
    "table_Fig1b[2:17,3]=[string(ypc_reg_2015[1]);string(ypc_reg_2015[2]);string(ypc_reg_2015[3]);string(ypc_reg_2015[4]);string(ypc_reg_2015[5]);string(ypc_reg_2015[6]);string(ypc_reg_2015[7]);string(ypc_reg_2015[8]);string(ypc_reg_2015[9]);string(ypc_reg_2015[10]);string(ypc_reg_2015[11]);string(ypc_reg_2015[12]);string(ypc_reg_2015[13]);string(ypc_reg_2015[14]);string(ypc_reg_2015[15]);string(ypc_reg_2015[16])]\n",
    "\n",
    "table_Fig1b\n",
    "\n",
    "writedlm(\"../output/vsl0_fig1b.csv\",table_Fig1b, \",\")"
   ]
  },
  {
   "cell_type": "markdown",
   "metadata": {},
   "source": [
    "#### Alternative Regions"
   ]
  },
  {
   "cell_type": "code",
   "execution_count": 184,
   "metadata": {
    "collapsed": false,
    "jupyter": {
     "outputs_hidden": false
    }
   },
   "outputs": [],
   "source": [
    "table_Fig1b_Reg=Array{String}(undef,4,3)\n",
    "table_Fig1b_Reg[1,:]=[\"Regions\";\"2015 Population\";\"2015 GDP per Capita\"]\n",
    "table_Fig1b_Reg[:,1]=[\"Regions\";\"HIGH\";\"MEDIUM\";\"LOW\"]\n",
    "\n",
    "table_Fig1b_Reg[2:4,2]=[string(pop_high_2015);string(pop_med_2015);string(pop_low_2015)]\n",
    "table_Fig1b_Reg[2:4,3]=[string(ypc_high_2015);string(ypc_med_2015);string(ypc_low_2015)]\n",
    "\n",
    "table_Fig1b_Reg\n",
    "\n",
    "\n",
    "writedlm(\"../output/vsl0_fig1b_Reg.csv\",table_Fig1b_Reg, \",\")"
   ]
  },
  {
   "cell_type": "markdown",
   "metadata": {},
   "source": [
    "## Table - Figure 2"
   ]
  },
  {
   "cell_type": "code",
   "execution_count": 185,
   "metadata": {
    "collapsed": false,
    "jupyter": {
     "outputs_hidden": false
    }
   },
   "outputs": [],
   "source": [
    "#table_Fig2=Array{String}(undef,11,17)\n",
    "#table_Fig2[1,:]=[\"Endpoint/Region\";\"USA\";\"CAN\"; \"WEU\";\"JPK\";\"ANZ\";\"CEE\";\"FSU\";\"MDE\";\"CAM\";\"SAM\";\"SAS\";\"SEA\";\"CHI\";\"NAF\";\"SSA\";\"SIS\"]\n",
    "#table_Fig2[:,1]=[\"Endpoint/Region\";\"Dengue Fever\";\"Schistomiasis\";\"Malaria\";\"Cardiovascular - Heat\";\"Cardiovascular - Cold\";\"Respiratory\";\"Diarrhea\";\"Hurricane\";\"Extratropical\";\"Total Health\"]\n",
    "\n",
    "#for j=2:17\n",
    "#    table_Fig2[2,j]=string(reg_perc_dv_SCC[j-1])\n",
    "#    table_Fig2[3,j]=string(reg_perc_sv_SCC[j-1])\n",
    "#    table_Fig2[4,j]=string(reg_perc_mv_SCC[j-1])\n",
    "#    table_Fig2[5,j]=string(reg_perc_chr_SCC[j-1])\n",
    "#    table_Fig2[6,j]=string(reg_perc_ccr_SCC[j-1])\n",
    "#    table_Fig2[7,j]=string(reg_perc_resp_SCC[j-1])\n",
    "#    table_Fig2[8,j]=string(reg_perc_diar_SCC[j-1])\n",
    "#    table_Fig2[9,j]=string(reg_perc_hurr_SCC[j-1])\n",
    "#    table_Fig2[10,j]=string(reg_perc_extra_SCC[j-1])\n",
    "#    table_Fig2[11,j]=string(Reg_Perc_Health_SCC[j-1])\n",
    "#end\n",
    "#        \n",
    "#table_Fig2\n",
    "#\n",
    "#writedlm(\"vsl0_Fig2.csv\",table_Fig2, \",\")"
   ]
  },
  {
   "cell_type": "code",
   "execution_count": 186,
   "metadata": {
    "collapsed": false,
    "jupyter": {
     "outputs_hidden": false
    }
   },
   "outputs": [],
   "source": [
    "table_Fig2=Array{String}(undef,11,17)\n",
    "table_Fig2[1,:]=[\"SCC by Endpoint/Region\";\"USA\";\"CAN\"; \"WEU\";\"JPK\";\"ANZ\";\"CEE\";\"FSU\";\"MDE\";\"CAM\";\"SAM\";\"SAS\";\"SEA\";\"CHI\";\"NAF\";\"SSA\";\"SIS\"]\n",
    "table_Fig2[:,1]=[\"SCC by Endpoint/Region\";\"Dengue Fever\";\"Schistomiasis\";\"Malaria\";\"Cardiovascular - Heat\";\"Cardiovascular - Cold\";\"Respiratory\";\"Diarrhea\";\"Hurricane\";\"Extratropical\";\"Total Health\"]\n",
    "\n",
    "for j=2:17\n",
    "    table_Fig2[2,j]=string(reg_dv_SCC[j-1])\n",
    "    table_Fig2[3,j]=string(reg_sv_SCC[j-1])\n",
    "    table_Fig2[4,j]=string(reg_mv_SCC[j-1])\n",
    "    table_Fig2[5,j]=string(reg_chr_SCC[j-1])\n",
    "    table_Fig2[6,j]=string(reg_ccr_SCC[j-1])\n",
    "    table_Fig2[7,j]=string(reg_resp_SCC[j-1])\n",
    "    table_Fig2[8,j]=string(reg_diar_SCC[j-1])\n",
    "    table_Fig2[9,j]=string(reg_hurr_SCC[j-1])\n",
    "    table_Fig2[10,j]=string(reg_extra_SCC[j-1])\n",
    "    table_Fig2[11,j]=string(reg_health_SCC[j-1])\n",
    "end\n",
    "        \n",
    "table_Fig2\n",
    "\n",
    "writedlm(\"../output/vsl0_Fig2.csv\",table_Fig2, \",\")"
   ]
  },
  {
   "cell_type": "markdown",
   "metadata": {},
   "source": [
    "#### Alternative Regions"
   ]
  },
  {
   "cell_type": "code",
   "execution_count": 187,
   "metadata": {
    "collapsed": false,
    "jupyter": {
     "outputs_hidden": false
    }
   },
   "outputs": [],
   "source": [
    "table_Fig2_Reg=Array{String}(undef,11,4)\n",
    "table_Fig2_Reg[1,:]=[\"SCC by Endpoint/Region\";\"High\";\"Medium\";\"Low\"]\n",
    "table_Fig2_Reg[:,1]=[\"SCC by Endpoint/Region\";\"Dengue Fever\";\"Schistomiasis\";\"Malaria\";\"Cardiovascular - Heat\";\"Cardiovascular - Cold\";\"Respiratory\";\"Diarrhea\";\"Hurricane\";\"Extratropical\";\"Total Health\"]\n",
    "\n",
    "\n",
    "table_Fig2_Reg[2,2:4]=[string(dv_SCC_high);string(dv_SCC_med);string(dv_SCC_low)]\n",
    "table_Fig2_Reg[3,2:4]=[string(sv_SCC_high);string(sv_SCC_med);string(sv_SCC_low)]\n",
    "table_Fig2_Reg[4,2:4]=[string(mv_SCC_high);string(mv_SCC_med);string(mv_SCC_low)]\n",
    "table_Fig2_Reg[5,2:4]=[string(chr_SCC_high);string(chr_SCC_med);string(chr_SCC_low)]\n",
    "table_Fig2_Reg[6,2:4]=[string(ccr_SCC_high);string(ccr_SCC_med);string(ccr_SCC_low)]\n",
    "table_Fig2_Reg[7,2:4]=[string(resp_SCC_high);string(resp_SCC_med);string(resp_SCC_low)]\n",
    "table_Fig2_Reg[8,2:4]=[string(diar_SCC_high);string(diar_SCC_med);string(diar_SCC_low)]\n",
    "table_Fig2_Reg[9,2:4]=[string(hurr_SCC_high);string(hurr_SCC_med);string(hurr_SCC_low)]\n",
    "table_Fig2_Reg[10,2:4]=[string(extra_SCC_high);string(extra_SCC_med);string(extra_SCC_low)]\n",
    "table_Fig2_Reg[11,2:4]=[string(health_SCC_high);string(health_SCC_med);string(health_SCC_low)]\n",
    "        \n",
    "table_Fig2_Reg\n",
    "\n",
    "writedlm(\"../output/vsl0_Fig2_Reg.csv\",table_Fig2_Reg, \",\")"
   ]
  },
  {
   "cell_type": "markdown",
   "metadata": {},
   "source": [
    "## Table - Appendix Figure 1"
   ]
  },
  {
   "cell_type": "code",
   "execution_count": 188,
   "metadata": {
    "collapsed": false,
    "jupyter": {
     "outputs_hidden": false
    }
   },
   "outputs": [
    {
     "data": {
      "text/plain": [
       "301×11 Matrix{String}:\n",
       " \"Mortalities by Endpoint/Year\"  …  \"Total\"\n",
       " \"2000\"                             \"146329.3760479393\"\n",
       " \"2001\"                             \"151046.17592244447\"\n",
       " \"2002\"                             \"152292.32208001942\"\n",
       " \"2003\"                             \"154682.1588934941\"\n",
       " \"2004\"                          …  \"156637.28707168964\"\n",
       " \"2005\"                             \"158137.86526846\"\n",
       " \"2006\"                             \"159187.69793021708\"\n",
       " \"2007\"                             \"159776.56181101955\"\n",
       " \"2008\"                             \"159984.32029920336\"\n",
       " \"2009\"                          …  \"159766.82873739584\"\n",
       " \"2010\"                             \"159119.59059339002\"\n",
       " \"2011\"                             \"158032.50898717623\"\n",
       " ⋮                               ⋱  ⋮\n",
       " \"2288\"                             \"9045.241334117256\"\n",
       " \"2289\"                          …  \"8992.021033032002\"\n",
       " \"2290\"                             \"8939.392055863582\"\n",
       " \"2291\"                             \"8887.347844783566\"\n",
       " \"2292\"                             \"8835.882136321405\"\n",
       " \"2293\"                             \"8784.988159494696\"\n",
       " \"2294\"                          …  \"8734.658821978492\"\n",
       " \"2295\"                             \"8684.888705485819\"\n",
       " \"2296\"                             \"8635.67128527097\"\n",
       " \"2297\"                             \"8586.999937167227\"\n",
       " \"2298\"                             \"8538.868595989186\"\n",
       " \"2299\"                          …  \"8491.270645617724\""
      ]
     },
     "execution_count": 188,
     "metadata": {},
     "output_type": "execute_result"
    }
   ],
   "source": [
    "table_app1=Array{String}(undef,11,301)\n",
    "table_app1[:,1]=[\"Mortalities by Endpoint/Year\";\"Dengue Fever\";\"Schistomiasis\";\"Malaria\";\"Cardiovascular - Heat\";\"Cardiovascular - Cold\";\"Respiratory\";\"Diarrhea\";\"Hurricane\";\"Extratropical\";\"Total\"]\n",
    "\n",
    "for j=2:301\n",
    "    table_app1[1,j]=string(j-2+2000)\n",
    "    table_app1[2,j]=string(dead_d_global[j-1])\n",
    "    table_app1[3,j]=string(dead_s_global[j-1])\n",
    "    table_app1[4,j]=string(dead_m_global[j-1])\n",
    "    table_app1[5,j]=string(dead_ch_global[j-1])\n",
    "    table_app1[6,j]=string(dead_cc_global[j-1])\n",
    "    table_app1[7,j]=string(dead_r_global[j-1])\n",
    "    table_app1[8,j]=string(dead_diah_global[j-1])\n",
    "    table_app1[9,j]=string(dead_hurr_global[j-1])\n",
    "    table_app1[10,j]=string(dead_extra_global[j-1])\n",
    "    table_app1[11,j]=string(deaths_glob[j-1])\n",
    "end\n",
    "\n",
    "table_app1\n",
    "table_app1b=permutedims(table_app1)"
   ]
  },
  {
   "cell_type": "code",
   "execution_count": 189,
   "metadata": {
    "collapsed": false,
    "jupyter": {
     "outputs_hidden": false
    }
   },
   "outputs": [],
   "source": [
    "writedlm(\"../output/vsl0_app1.csv\",table_app1b, \",\")"
   ]
  },
  {
   "cell_type": "markdown",
   "metadata": {},
   "source": [
    "## Table_Fig3 "
   ]
  },
  {
   "cell_type": "code",
   "execution_count": 190,
   "metadata": {
    "collapsed": false,
    "jupyter": {
     "outputs_hidden": false
    }
   },
   "outputs": [],
   "source": [
    "table_Fig3=Array{String}(undef,3,17)\n",
    "table_Fig3[1,:]=[\"Endpoint/Region\";\"USA\";\"CAN\"; \"WEU\";\"JPK\";\"ANZ\";\"CEE\";\"FSU\";\"MDE\";\"CAM\";\"SAM\";\"SAS\";\"SEA\";\"CHI\";\"NAF\";\"SSA\";\"SIS\"]\n",
    "table_Fig3[:,1]=[\"Endpoint/Region\";\"Health\";\"SCC\"]\n",
    "\n",
    "for j=2:17\n",
    "    table_Fig3[2,j]=string(reg_health_SCC[j-1])\n",
    "    table_Fig3[3,j]=string(SCC_reg[j-1])\n",
    "end\n",
    "        \n",
    "table_Fig3\n",
    "table_Fig3=permutedims(table_Fig3)\n",
    "\n",
    "writedlm(\"../output/vsl0_table_fig3.csv\",table_Fig3, \",\")"
   ]
  },
  {
   "cell_type": "markdown",
   "metadata": {},
   "source": [
    "#### Alternative Regions"
   ]
  },
  {
   "cell_type": "code",
   "execution_count": 191,
   "metadata": {
    "collapsed": false,
    "jupyter": {
     "outputs_hidden": false
    }
   },
   "outputs": [],
   "source": [
    "table_Fig3_Reg=Array{String}(undef,3,4)\n",
    "table_Fig3_Reg[1,:]=[\"Endpoint/Region\";\"High\";\"Medium\";\"Low\"]\n",
    "table_Fig3_Reg[:,1]=[\"Endpoint/Region\";\"Health\";\"SCC\"]\n",
    "\n",
    "\n",
    "table_Fig3_Reg[2,2:4]=[string(health_SCC_high);string(health_SCC_med);string(health_SCC_low)]\n",
    "table_Fig3_Reg[3,2:4]=[string(SCC_high);string(SCC_med);string(SCC_low)]\n",
    "        \n",
    "table_Fig3_Reg\n",
    "table_Fig3_Reg=permutedims(table_Fig3_Reg)\n",
    "\n",
    "writedlm(\"../output/vsl0_fig3_Reg.csv\",table_Fig3_Reg, \",\")"
   ]
  },
  {
   "cell_type": "markdown",
   "metadata": {},
   "source": [
    "## Table_Fig4"
   ]
  },
  {
   "cell_type": "code",
   "execution_count": 192,
   "metadata": {
    "collapsed": false,
    "jupyter": {
     "outputs_hidden": false
    }
   },
   "outputs": [],
   "source": [
    "table_Fig4a=Array{String}(undef,6,17)\n",
    "table_Fig4a[1,:]=[\"Endpoint/Region\";\"USA\";\"CAN\"; \"WEU\";\"JPK\";\"ANZ\";\"CEE\";\"FSU\";\"MDE\";\"CAM\";\"SAM\";\"SAS\";\"SEA\";\"CHI\";\"NAF\";\"SSA\";\"SIS\"]\n",
    "table_Fig4a[:,1]=[\"Endpoint/Region\";\"Avg VSL\";\"Weighted VSL\";\"Deaths\";\"Avg Per Capita GDP\";\"Weighted Per Capita GDP\"]\n",
    "\n",
    "for j=2:17\n",
    "    table_Fig4a[2,j]=string(vsl_reg_avg[j-1])\n",
    "    table_Fig4a[3,j]=string(vsl_reg_pop_avg[j-1])\n",
    "    table_Fig4a[4,j]=string(deaths_reg_sum[j-1])\n",
    "    table_Fig4a[5,j]=string(ypc_reg_avg[j-1])\n",
    "    table_Fig4a[6,j]=string(ypc_reg_pop_avg[j-1])\n",
    "end\n",
    "        \n",
    "table_Fig4a\n",
    "table_Fig4a=permutedims(table_Fig4a)\n",
    "\n",
    "writedlm(\"../output/vsl0_fig4a.csv\",table_Fig4a, \",\")"
   ]
  },
  {
   "cell_type": "code",
   "execution_count": 193,
   "metadata": {
    "tags": []
   },
   "outputs": [],
   "source": [
    "table_Fig4b=Array{String}(undef,17,301)\n",
    "table_Fig4b[:,1]=[\"VSL/Region\";\"USA\";\"CAN\"; \"WEU\";\"JPK\";\"ANZ\";\"CEE\";\"FSU\";\"MDE\";\"CAM\";\"SAM\";\"SAS\";\"SEA\";\"CHI\";\"NAF\";\"SSA\";\"SIS\"]\n",
    "\n",
    "for j=2:301\n",
    "    table_Fig4b[1,j]=string(j-2+2000)\n",
    "    table_Fig4b[2,j]=string(vsl_reg[j-1,1])\n",
    "    table_Fig4b[3,j]=string(vsl_reg[j-1,2])\n",
    "    table_Fig4b[4,j]=string(vsl_reg[j-1,3])\n",
    "    table_Fig4b[5,j]=string(vsl_reg[j-1,4])\n",
    "    table_Fig4b[6,j]=string(vsl_reg[j-1,5])\n",
    "    table_Fig4b[7,j]=string(vsl_reg[j-1,6])\n",
    "    table_Fig4b[8,j]=string(vsl_reg[j-1,7])\n",
    "    table_Fig4b[9,j]=string(vsl_reg[j-1,8])\n",
    "    table_Fig4b[10,j]=string(vsl_reg[j-1,9])\n",
    "    table_Fig4b[11,j]=string(vsl_reg[j-1,10])\n",
    "    table_Fig4b[12,j]=string(vsl_reg[j-1,11])\n",
    "    table_Fig4b[13,j]=string(vsl_reg[j-1,12])\n",
    "    table_Fig4b[14,j]=string(vsl_reg[j-1,13])\n",
    "    table_Fig4b[15,j]=string(vsl_reg[j-1,14])\n",
    "    table_Fig4b[16,j]=string(vsl_reg[j-1,15])\n",
    "    table_Fig4b[17,j]=string(vsl_reg[j-1,16])\n",
    "    \n",
    "end\n",
    "\n",
    "table_Fig4b\n",
    "table_Fig4b=permutedims(table_Fig4b)\n",
    "writedlm(\"../output/vsl0_fig4b.csv\",table_Fig4b, \",\")"
   ]
  },
  {
   "cell_type": "code",
   "execution_count": 194,
   "metadata": {
    "tags": []
   },
   "outputs": [],
   "source": [
    "table_Fig4c=Array{String}(undef,17,301)\n",
    "table_Fig4c[:,1]=[\"Mortalities/Region\";\"USA\";\"CAN\"; \"WEU\";\"JPK\";\"ANZ\";\"CEE\";\"FSU\";\"MDE\";\"CAM\";\"SAM\";\"SAS\";\"SEA\";\"CHI\";\"NAF\";\"SSA\";\"SIS\"]\n",
    "\n",
    "for j=2:301\n",
    "    table_Fig4c[1,j]=string(j-2+2000)\n",
    "    table_Fig4c[2,j]=string(deaths_reg[j-1,1])\n",
    "    table_Fig4c[3,j]=string(deaths_reg[j-1,2])\n",
    "    table_Fig4c[4,j]=string(deaths_reg[j-1,3])\n",
    "    table_Fig4c[5,j]=string(deaths_reg[j-1,4])\n",
    "    table_Fig4c[6,j]=string(deaths_reg[j-1,5])\n",
    "    table_Fig4c[7,j]=string(deaths_reg[j-1,6])\n",
    "    table_Fig4c[8,j]=string(deaths_reg[j-1,7])\n",
    "    table_Fig4c[9,j]=string(deaths_reg[j-1,8])\n",
    "    table_Fig4c[10,j]=string(deaths_reg[j-1,9])\n",
    "    table_Fig4c[11,j]=string(deaths_reg[j-1,10])\n",
    "    table_Fig4c[12,j]=string(deaths_reg[j-1,11])\n",
    "    table_Fig4c[13,j]=string(deaths_reg[j-1,12])\n",
    "    table_Fig4c[14,j]=string(deaths_reg[j-1,13])\n",
    "    table_Fig4c[15,j]=string(deaths_reg[j-1,14])\n",
    "    table_Fig4c[16,j]=string(deaths_reg[j-1,15])\n",
    "    table_Fig4c[17,j]=string(deaths_reg[j-1,16])\n",
    "    \n",
    "end\n",
    "\n",
    "table_Fig4c\n",
    "table_Fig4c=permutedims(table_Fig4c)\n",
    "writedlm(\"../output/vsl0_fig4c.csv\",table_Fig4c, \",\")"
   ]
  },
  {
   "cell_type": "code",
   "execution_count": 195,
   "metadata": {
    "collapsed": false,
    "jupyter": {
     "outputs_hidden": false
    }
   },
   "outputs": [],
   "source": [
    "table_Fig4d=Array{String}(undef,17,301)\n",
    "table_Fig4d[:,1]=[\"YPC/Region\";\"USA\";\"CAN\"; \"WEU\";\"JPK\";\"ANZ\";\"CEE\";\"FSU\";\"MDE\";\"CAM\";\"SAM\";\"SAS\";\"SEA\";\"CHI\";\"NAF\";\"SSA\";\"SIS\"]\n",
    "\n",
    "for j=2:301\n",
    "    table_Fig4d[1,j]=string(j-2+2000)\n",
    "    table_Fig4d[2,j]=string(ypc_reg[j-1,1])\n",
    "    table_Fig4d[3,j]=string(ypc_reg[j-1,2])\n",
    "    table_Fig4d[4,j]=string(ypc_reg[j-1,3])\n",
    "    table_Fig4d[5,j]=string(ypc_reg[j-1,4])\n",
    "    table_Fig4d[6,j]=string(ypc_reg[j-1,5])\n",
    "    table_Fig4d[7,j]=string(ypc_reg[j-1,6])\n",
    "    table_Fig4d[8,j]=string(ypc_reg[j-1,7])\n",
    "    table_Fig4d[9,j]=string(ypc_reg[j-1,8])\n",
    "    table_Fig4d[10,j]=string(ypc_reg[j-1,9])\n",
    "    table_Fig4d[11,j]=string(ypc_reg[j-1,10])\n",
    "    table_Fig4d[12,j]=string(ypc_reg[j-1,11])\n",
    "    table_Fig4d[13,j]=string(ypc_reg[j-1,12])\n",
    "    table_Fig4d[14,j]=string(ypc_reg[j-1,13])\n",
    "    table_Fig4d[15,j]=string(ypc_reg[j-1,14])\n",
    "    table_Fig4d[16,j]=string(ypc_reg[j-1,15])\n",
    "    table_Fig4d[17,j]=string(ypc_reg[j-1,16])\n",
    "    \n",
    "end\n",
    "\n",
    "table_Fig4d\n",
    "table_Fig4d=permutedims(table_Fig4d)\n",
    "writedlm(\"../output/vsl0_fig4d.csv\",table_Fig4d, \",\")"
   ]
  },
  {
   "cell_type": "markdown",
   "metadata": {},
   "source": [
    "#### Alternative Regions"
   ]
  },
  {
   "cell_type": "code",
   "execution_count": 196,
   "metadata": {
    "collapsed": false,
    "jupyter": {
     "outputs_hidden": false
    }
   },
   "outputs": [],
   "source": [
    "table_Fig4a_Reg=Array{String}(undef,5,4)\n",
    "table_Fig4a_Reg[1,:]=[\"Endpoint/Region\";\"High\";\"Medium\";\"Low\"]\n",
    "table_Fig4a_Reg[:,1]=[\"Endpoint/Region\";\"Avg VSL\";\"Weighted VSL\";\"Deaths\";\"Avg Per Capita GDP\"]\n",
    "\n",
    "\n",
    "table_Fig4a_Reg[2,2:4]=[string(vsl_high_avg);string(vsl_med_avg);string(vsl_low_avg)]\n",
    "table_Fig4a_Reg[3,2:4]=[string(vsl_high_pop_avg);string(vsl_med_pop_avg);string(vsl_low_pop_avg)]\n",
    "table_Fig4a_Reg[4,2:4]=[string(dead_high_sum);string(dead_med_sum);string(dead_low_sum)]\n",
    "table_Fig4a_Reg[5,2:4]=[string(ypc_high_avg);string(ypc_med_avg);string(ypc_low_avg)]\n",
    "\n",
    "        \n",
    "table_Fig4a_Reg\n",
    "table_Fig4a_Reg=permutedims(table_Fig4a_Reg)\n",
    "\n",
    "writedlm(\"../output/vsl0_fig4a_Reg.csv\",table_Fig4a_Reg, \",\")"
   ]
  },
  {
   "cell_type": "code",
   "execution_count": 197,
   "metadata": {
    "tags": []
   },
   "outputs": [],
   "source": [
    "table_Fig4b_Reg=Array{String}(undef,4,301)\n",
    "table_Fig4b_Reg[:,1]=[\"VSL/Region\";\"High\";\"Medium\";\"Low\"]\n",
    "\n",
    "for j=2:301\n",
    "    table_Fig4b_Reg[1,j]=string(j-2+2000)\n",
    "    table_Fig4b_Reg[2,j]=string(vsl_high[j-1])\n",
    "    table_Fig4b_Reg[3,j]=string(vsl_med[j-1])\n",
    "    table_Fig4b_Reg[4,j]=string(vsl_low[j-1])    \n",
    "end\n",
    "\n",
    "table_Fig4b_Reg\n",
    "table_Fig4b_Reg=permutedims(table_Fig4b_Reg)\n",
    "writedlm(\"../output/vsl0_fig4b_Reg.csv\",table_Fig4b_Reg, \",\")"
   ]
  },
  {
   "cell_type": "code",
   "execution_count": 198,
   "metadata": {
    "collapsed": false,
    "jupyter": {
     "outputs_hidden": false
    }
   },
   "outputs": [],
   "source": [
    "table_Fig4c_Reg=Array{String}(undef,4,301)\n",
    "table_Fig4c_Reg[:,1]=[\"Mortalities/Region\";\"High\";\"Medium\";\"Low\"]\n",
    "\n",
    "for j=2:301\n",
    "    table_Fig4c_Reg[1,j]=string(j-2+2000)\n",
    "    table_Fig4c_Reg[2,j]=string(dead_high[j-1])\n",
    "    table_Fig4c_Reg[3,j]=string(dead_med[j-1])\n",
    "    table_Fig4c_Reg[4,j]=string(dead_low[j-1])\n",
    "end\n",
    "\n",
    "table_Fig4c_Reg\n",
    "table_Fig4c_Reg=permutedims(table_Fig4c_Reg)\n",
    "writedlm(\"../output/vsl0_fig4c_Reg.csv\",table_Fig4c_Reg, \",\")"
   ]
  },
  {
   "cell_type": "code",
   "execution_count": 199,
   "metadata": {
    "tags": []
   },
   "outputs": [],
   "source": [
    "table_Fig4d_Reg=Array{String}(undef,4,301)\n",
    "table_Fig4d_Reg[:,1]=[\"YPC/Region\";\"High\";\"Medium\";\"Low\"]\n",
    "\n",
    "for j=2:301\n",
    "    table_Fig4d_Reg[1,j]=string(j-2+2000)\n",
    "    table_Fig4d_Reg[2,j]=string(ypc_high[j-1])\n",
    "    table_Fig4d_Reg[3,j]=string(ypc_med[j-1])\n",
    "    table_Fig4d_Reg[4,j]=string(ypc_low[j-1])\n",
    "end\n",
    "\n",
    "table_Fig4d_Reg\n",
    "table_Fig4d_Reg=permutedims(table_Fig4d_Reg)\n",
    "writedlm(\"../output/vsl0_fig4d_Reg.csv\",table_Fig4d_Reg, \",\")"
   ]
  }
 ],
 "metadata": {
  "kernelspec": {
   "display_name": "Julia 1.6.1",
   "language": "julia",
   "name": "julia-1.6"
  },
  "language_info": {
   "file_extension": ".jl",
   "mimetype": "application/julia",
   "name": "julia",
   "version": "1.6.1"
  }
 },
 "nbformat": 4,
 "nbformat_minor": 4
}
