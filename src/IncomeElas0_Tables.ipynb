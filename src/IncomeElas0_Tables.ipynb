{
 "cells": [
  {
   "cell_type": "markdown",
   "metadata": {},
   "source": [
    "# Income Elasticity = 0 Model Run - Tables"
   ]
  },
  {
   "cell_type": "code",
   "execution_count": 1,
   "metadata": {
    "tags": []
   },
   "outputs": [],
   "source": [
    "using Mimi\n",
    "using MimiFUND\n",
    "using DelimitedFiles"
   ]
  },
  {
   "cell_type": "code",
   "execution_count": 2,
   "metadata": {
    "collapsed": false,
    "jupyter": {
     "outputs_hidden": false
    }
   },
   "outputs": [
    {
     "data": {
      "text/plain": [
       "set_custom_params! (generic function with 1 method)"
      ]
     },
     "execution_count": 2,
     "metadata": {},
     "output_type": "execute_result"
    }
   ],
   "source": [
    "function set_custom_params!(m)\n",
    "    set_param!(m, :vbel, -0.00001)\n",
    "    set_param!(m, :diamortel, -0.00001)\n",
    "    set_param!(m, :diayldel, -0.00001)\n",
    "    set_param!(m, :hurrdeadel, -0.00001)\n",
    "    set_param!(m, :extratropicalstormsdeadel, -0.00001)\n",
    "end"
   ]
  },
  {
   "cell_type": "code",
   "execution_count": 3,
   "metadata": {
    "tags": []
   },
   "outputs": [],
   "source": [
    "m1 = MimiFUND.get_model();\n",
    "set_custom_params!(m1)"
   ]
  },
  {
   "cell_type": "code",
   "execution_count": 4,
   "metadata": {
    "tags": []
   },
   "outputs": [],
   "source": [
    "run(m1);"
   ]
  },
  {
   "cell_type": "markdown",
   "metadata": {},
   "source": [
    "# Discount Factor"
   ]
  },
  {
   "cell_type": "code",
   "execution_count": 5,
   "metadata": {
    "collapsed": false,
    "jupyter": {
     "outputs_hidden": false
    }
   },
   "outputs": [],
   "source": [
    "baseyear = 60\n",
    "prtp = 0.01\n",
    "eta = 1.0\n",
    "ypc = m1[:socioeconomic, :ypc]\n",
    "df_r = [t>=baseyear ? (ypc[baseyear,r]/ypc[t,r])^eta *\n",
    "(1.0+prtp)^-(t-baseyear) : 0.0 for t in 1:1051, r in 1:16];\n",
    "#df_r_1=df_r;\n",
    "df_r_1=df_r[50:350,:];"
   ]
  },
  {
   "cell_type": "markdown",
   "metadata": {},
   "source": [
    "# Key Variables"
   ]
  },
  {
   "cell_type": "markdown",
   "metadata": {},
   "source": [
    "### Population - global population is in people while regional population is in millions"
   ]
  },
  {
   "cell_type": "code",
   "execution_count": 6,
   "metadata": {
    "collapsed": false,
    "jupyter": {
     "outputs_hidden": false
    }
   },
   "outputs": [],
   "source": [
    "pop=m1[:population, :globalpopulation];"
   ]
  },
  {
   "cell_type": "code",
   "execution_count": 7,
   "metadata": {
    "collapsed": false,
    "jupyter": {
     "outputs_hidden": false
    }
   },
   "outputs": [],
   "source": [
    "pop_glob=pop[50:350,:];"
   ]
  },
  {
   "cell_type": "code",
   "execution_count": 8,
   "metadata": {
    "collapsed": false,
    "jupyter": {
     "outputs_hidden": false
    }
   },
   "outputs": [
    {
     "data": {
      "text/plain": [
       "1-element Vector{Union{Missing, Float64}}:\n",
       " 7.136994511743061e9"
      ]
     },
     "execution_count": 8,
     "metadata": {},
     "output_type": "execute_result"
    }
   ],
   "source": [
    "pop_glob_2015=pop[65,:]"
   ]
  },
  {
   "cell_type": "code",
   "execution_count": 9,
   "metadata": {
    "collapsed": false,
    "jupyter": {
     "outputs_hidden": false
    }
   },
   "outputs": [
    {
     "data": {
      "text/plain": [
       "2.8688070717254937e12"
      ]
     },
     "execution_count": 9,
     "metadata": {},
     "output_type": "execute_result"
    }
   ],
   "source": [
    "pop_sum=sum(pop[50:350,:])"
   ]
  },
  {
   "cell_type": "code",
   "execution_count": 10,
   "metadata": {
    "collapsed": false,
    "jupyter": {
     "outputs_hidden": false
    }
   },
   "outputs": [],
   "source": [
    "pop_reg=m1[:population,:population][50:350,:];"
   ]
  },
  {
   "cell_type": "code",
   "execution_count": 11,
   "metadata": {
    "collapsed": false,
    "jupyter": {
     "outputs_hidden": false
    }
   },
   "outputs": [
    {
     "data": {
      "text/plain": [
       "16-element Vector{Union{Missing, Float64}}:\n",
       "  296.64533417997785\n",
       "   33.43124830027777\n",
       "  394.803410095592\n",
       "  192.84043982255113\n",
       "   23.553988129071048\n",
       "  126.78218518501934\n",
       "  293.6489991539043\n",
       "  316.05843318288566\n",
       "  154.35358707928273\n",
       "  414.7195244315594\n",
       " 1669.499370007048\n",
       "  629.3898515858369\n",
       " 1467.5064430352088\n",
       "  192.370918420008\n",
       "  878.0032678336242\n",
       "   53.38751130121562"
      ]
     },
     "execution_count": 11,
     "metadata": {},
     "output_type": "execute_result"
    }
   ],
   "source": [
    "pop_reg_2015=m1[:population,:population][65,:]"
   ]
  },
  {
   "cell_type": "code",
   "execution_count": 12,
   "metadata": {
    "collapsed": false,
    "jupyter": {
     "outputs_hidden": false
    }
   },
   "outputs": [
    {
     "data": {
      "text/plain": [
       "1×16 Matrix{Union{Missing, Float64}}:\n",
       " 88947.4  10081.8  1.18354e5  66470.1  …  1.06831e5  4.39945e5  20083.8"
      ]
     },
     "execution_count": 12,
     "metadata": {},
     "output_type": "execute_result"
    }
   ],
   "source": [
    "pop_reg_sum=sum(m1[:population,:population][50:350,:],dims=1)"
   ]
  },
  {
   "cell_type": "markdown",
   "metadata": {},
   "source": [
    "#### Alternative Regions "
   ]
  },
  {
   "cell_type": "code",
   "execution_count": 13,
   "metadata": {
    "collapsed": false,
    "jupyter": {
     "outputs_hidden": false
    }
   },
   "outputs": [
    {
     "data": {
      "text/plain": [
       "3086.9100667158"
      ]
     },
     "execution_count": 13,
     "metadata": {},
     "output_type": "execute_result"
    }
   ],
   "source": [
    "pop_r=m1[:population,:population];\n",
    "pop_high=sum(pop_r[50:350,1:5],dims=2)\n",
    "pop_med=(pop_r[50:350,6]+sum(pop_r[50:350,8:10],dims=2)+sum(pop_r[50:350,12:13],dims=2))\n",
    "pop_low=(pop_r[50:350,7]+pop_r[50:350,11]+pop_r[50:350,14]+pop_r[50:350,15]+pop_r[50:350,16])\n",
    "pop_high_avg=sum(pop_high)/301\n",
    "pop_med_avg=sum(pop_med)/301\n",
    "pop_low_avg=sum(pop_low)/301\n",
    "pop_high_2015=sum(pop_r[65,1:5],dims=2)\n",
    "pop_med_2015=(pop_r[65,6]+sum(pop_r[65,8:10])+sum(pop_r[65,12:13]))\n",
    "pop_low_2015=(pop_r[65,7]+pop_r[65,11]+pop_r[65,14]+pop_r[65,15]+pop_r[65,16])"
   ]
  },
  {
   "cell_type": "markdown",
   "metadata": {},
   "source": [
    "### Income - billions USD1995"
   ]
  },
  {
   "cell_type": "code",
   "execution_count": 14,
   "metadata": {
    "collapsed": false,
    "jupyter": {
     "outputs_hidden": false
    }
   },
   "outputs": [],
   "source": [
    "globalincome= m1[:socioeconomic, :globalincome];"
   ]
  },
  {
   "cell_type": "code",
   "execution_count": 15,
   "metadata": {
    "collapsed": false,
    "jupyter": {
     "outputs_hidden": false
    }
   },
   "outputs": [],
   "source": [
    "GDP_glob=globalincome[50:350,:];"
   ]
  },
  {
   "cell_type": "code",
   "execution_count": 16,
   "metadata": {
    "collapsed": false,
    "jupyter": {
     "outputs_hidden": false
    }
   },
   "outputs": [
    {
     "data": {
      "text/plain": [
       "1-element Vector{Union{Missing, Float64}}:\n",
       " 47678.27610454091"
      ]
     },
     "execution_count": 16,
     "metadata": {},
     "output_type": "execute_result"
    }
   ],
   "source": [
    "GDP_glob_2015=globalincome[65,:]"
   ]
  },
  {
   "cell_type": "code",
   "execution_count": 17,
   "metadata": {
    "collapsed": false,
    "jupyter": {
     "outputs_hidden": false
    }
   },
   "outputs": [],
   "source": [
    "income= m1[:socioeconomic, :income];"
   ]
  },
  {
   "cell_type": "code",
   "execution_count": 18,
   "metadata": {
    "collapsed": false,
    "jupyter": {
     "outputs_hidden": false
    }
   },
   "outputs": [],
   "source": [
    "GDP_reg=income[50:350,:];"
   ]
  },
  {
   "cell_type": "code",
   "execution_count": 19,
   "metadata": {
    "collapsed": false,
    "jupyter": {
     "outputs_hidden": false
    }
   },
   "outputs": [
    {
     "data": {
      "text/plain": [
       "16-element Vector{Union{Missing, Float64}}:\n",
       " 12358.248081513664\n",
       "   978.869745795805\n",
       " 13481.458500401504\n",
       "  8822.809888826234\n",
       "   759.2688531977443\n",
       "   589.752477985309\n",
       "   827.0262854422156\n",
       "  1095.106448029111\n",
       "   657.7103796623765\n",
       "  2296.4417322086542\n",
       "  1075.6117639648041\n",
       "  1463.5581401941959\n",
       "  2265.405427158926\n",
       "   333.31631263578515\n",
       "   589.6629436045165\n",
       "    84.02912392005976"
      ]
     },
     "execution_count": 19,
     "metadata": {},
     "output_type": "execute_result"
    }
   ],
   "source": [
    "GDP_reg_2015=income[65,:]"
   ]
  },
  {
   "cell_type": "code",
   "execution_count": 20,
   "metadata": {
    "collapsed": false,
    "jupyter": {
     "outputs_hidden": false
    }
   },
   "outputs": [
    {
     "data": {
      "text/plain": [
       "1×16 Matrix{Float64}:\n",
       " 1.0784e6  85614.5  1.17058e6  8.6354e5  …  48005.2  80686.4  8640.86"
      ]
     },
     "execution_count": 20,
     "metadata": {},
     "output_type": "execute_result"
    }
   ],
   "source": [
    "GDP_reg_sum=sum(df_r_1.*GDP_reg,dims=1)"
   ]
  },
  {
   "cell_type": "code",
   "execution_count": 21,
   "metadata": {
    "collapsed": false,
    "jupyter": {
     "outputs_hidden": false
    }
   },
   "outputs": [
    {
     "data": {
      "text/plain": [
       "4.4732662935610125e6"
      ]
     },
     "execution_count": 21,
     "metadata": {},
     "output_type": "execute_result"
    }
   ],
   "source": [
    "GDP_glob_sum=sum(df_r_1.*GDP_reg)"
   ]
  },
  {
   "cell_type": "markdown",
   "metadata": {},
   "source": [
    "#### Alternative Regions "
   ]
  },
  {
   "cell_type": "code",
   "execution_count": 22,
   "metadata": {
    "collapsed": false,
    "jupyter": {
     "outputs_hidden": false
    }
   },
   "outputs": [
    {
     "data": {
      "text/plain": [
       "2909.646429567381"
      ]
     },
     "execution_count": 22,
     "metadata": {},
     "output_type": "execute_result"
    }
   ],
   "source": [
    "gdp_high=sum(income[50:350,1:5],dims=2)\n",
    "gdp_med=(income[50:350,6]+sum(income[50:350,8:10],dims=2)+sum(income[50:350,12:13],dims=2))\n",
    "gdp_low=(income[50:350,7]+income[50:350,11]+income[50:350,14]+income[50:350,15]+income[50:350,16])\n",
    "gdp_high2=sum(df_r[50:350,1:5].*income[50:350,1:5],dims=2)\n",
    "gdp_med2=(df_r[50:350,6].*income[50:350,6]+sum(df_r[50:350,8:10].*income[50:350,8:10],dims=2)+sum(df_r[50:350,12:13].*income[50:350,12:13],dims=2))\n",
    "gdp_low2=(df_r[50:350,7].*income[50:350,7]+df_r[50:350,11].*income[50:350,11]+df_r[50:350,14].*income[50:350,14]+df_r[50:350,15].*income[50:350,15]+df_r[50:350,16].*income[50:350,16])\n",
    "gdp_high_avg=sum(gdp_high2)/291\n",
    "gdp_med_avg=sum(gdp_med2)/291\n",
    "gdp_low_avg=sum(gdp_low2)/291\n",
    "gdp_high_2015=sum(income[65,1:5],dims=2)\n",
    "gdp_med_2015=(income[65,6]+sum(income[65,8:10])+sum(income[65,12:13]))\n",
    "gdp_low_2015=(income[65,7]+income[65,11]+income[65,14]+income[65,15]+income[65,16])"
   ]
  },
  {
   "cell_type": "markdown",
   "metadata": {},
   "source": [
    "### Income per capita "
   ]
  },
  {
   "cell_type": "code",
   "execution_count": 23,
   "metadata": {
    "collapsed": false,
    "jupyter": {
     "outputs_hidden": false
    }
   },
   "outputs": [],
   "source": [
    "ypc = m1[:socioeconomic, :ypc];"
   ]
  },
  {
   "cell_type": "code",
   "execution_count": 24,
   "metadata": {
    "collapsed": false,
    "jupyter": {
     "outputs_hidden": false
    }
   },
   "outputs": [
    {
     "data": {
      "text/plain": [
       "301×1 Matrix{Union{Missing, Float64}}:\n",
       "   5337.363876252127\n",
       "   5422.374259667928\n",
       "   5568.935373127882\n",
       "   5637.897027516389\n",
       "   5710.171043294306\n",
       "   5785.143299296734\n",
       "   5862.824843936407\n",
       "   5943.279104285226\n",
       "   6026.55744917073\n",
       "   6112.777771536882\n",
       "   6202.049312025879\n",
       "   6294.454322545399\n",
       "   6389.5936461594965\n",
       "      ⋮\n",
       " 117555.46639272776\n",
       " 118272.79882214549\n",
       " 118991.4084451451\n",
       " 119711.26358706615\n",
       " 120432.33235337144\n",
       " 121154.58264550105\n",
       " 121877.98217388373\n",
       " 122602.49843437914\n",
       " 123328.09873541872\n",
       " 124054.75020725002\n",
       " 124782.41979887999\n",
       " 125511.0742959684"
      ]
     },
     "execution_count": 24,
     "metadata": {},
     "output_type": "execute_result"
    }
   ],
   "source": [
    "globalypc=m1[:socioeconomic, :globalypc]\n",
    "ypc_glob=globalypc[50:350,:]"
   ]
  },
  {
   "cell_type": "code",
   "execution_count": 25,
   "metadata": {
    "collapsed": false,
    "jupyter": {
     "outputs_hidden": false
    }
   },
   "outputs": [
    {
     "data": {
      "text/plain": [
       "1-element Vector{Union{Missing, Float64}}:\n",
       " 6680.441749827896"
      ]
     },
     "execution_count": 25,
     "metadata": {},
     "output_type": "execute_result"
    }
   ],
   "source": [
    "ypc_glob_2015=globalypc[65,:]"
   ]
  },
  {
   "cell_type": "code",
   "execution_count": 26,
   "metadata": {
    "collapsed": false,
    "jupyter": {
     "outputs_hidden": false
    }
   },
   "outputs": [],
   "source": [
    "ypc_reg=ypc[50:350,:];"
   ]
  },
  {
   "cell_type": "code",
   "execution_count": 27,
   "metadata": {
    "collapsed": false,
    "jupyter": {
     "outputs_hidden": false
    }
   },
   "outputs": [
    {
     "data": {
      "text/plain": [
       "16-element Vector{Union{Missing, Float64}}:\n",
       " 41660.01166233002\n",
       " 29280.083621276917\n",
       " 34147.26964272496\n",
       " 45751.865619809054\n",
       " 32235.256680826446\n",
       "  4651.698321216462\n",
       "  2816.3769937072493\n",
       "  3464.886024399903\n",
       "  4261.0631350248295\n",
       "  5537.3369154883685\n",
       "   644.2720394439343\n",
       "  2325.3602461281407\n",
       "  1543.7107195750648\n",
       "  1732.6751640705263\n",
       "   671.5953860393305\n",
       "  1573.9471998603246"
      ]
     },
     "execution_count": 27,
     "metadata": {},
     "output_type": "execute_result"
    }
   ],
   "source": [
    "ypc_reg_2015=ypc[65,:]"
   ]
  },
  {
   "cell_type": "code",
   "execution_count": 28,
   "metadata": {
    "collapsed": false,
    "jupyter": {
     "outputs_hidden": false
    }
   },
   "outputs": [
    {
     "data": {
      "text/plain": [
       "1×16 Matrix{Float64}:\n",
       " 3.63323e6  2.55153e6  2.9689e6  3.97383e6  …  1.4648e5  56708.1  1.32738e5"
      ]
     },
     "execution_count": 28,
     "metadata": {},
     "output_type": "execute_result"
    }
   ],
   "source": [
    "ypc_reg_sum=sum(df_r_1.*ypc_reg,dims=1)"
   ]
  },
  {
   "cell_type": "code",
   "execution_count": 29,
   "metadata": {
    "collapsed": false,
    "jupyter": {
     "outputs_hidden": false
    }
   },
   "outputs": [
    {
     "data": {
      "text/plain": [
       "1×16 Matrix{Float64}:\n",
       " 12485.3  8768.14  10202.4  13655.8  …  438.336  503.369  194.873  456.144"
      ]
     },
     "execution_count": 29,
     "metadata": {},
     "output_type": "execute_result"
    }
   ],
   "source": [
    "ypc_reg_avg=ypc_reg_sum/291"
   ]
  },
  {
   "cell_type": "code",
   "execution_count": 30,
   "metadata": {
    "collapsed": false,
    "jupyter": {
     "outputs_hidden": false
    }
   },
   "outputs": [
    {
     "data": {
      "text/plain": [
       "1×16 Matrix{Float64}:\n",
       " 12124.0  8491.96  9890.46  12991.4  …  418.62  449.356  183.401  430.241"
      ]
     },
     "execution_count": 30,
     "metadata": {},
     "output_type": "execute_result"
    }
   ],
   "source": [
    "ypc_reg_pop_avg=sum(df_r_1.*ypc_reg.*pop_reg,dims=1)./sum(pop_reg,dims=1)"
   ]
  },
  {
   "cell_type": "code",
   "execution_count": 31,
   "metadata": {
    "collapsed": false,
    "jupyter": {
     "outputs_hidden": false
    }
   },
   "outputs": [
    {
     "data": {
      "text/plain": [
       "777.9191627298336"
      ]
     },
     "execution_count": 31,
     "metadata": {},
     "output_type": "execute_result"
    }
   ],
   "source": [
    "ypc_glob_avg=(sum(GDP_reg_sum.*pop_reg)./sum(pop_reg))/291"
   ]
  },
  {
   "cell_type": "code",
   "execution_count": 32,
   "metadata": {
    "collapsed": false,
    "jupyter": {
     "outputs_hidden": false
    }
   },
   "outputs": [
    {
     "data": {
      "text/plain": [
       "1559.2774912083903"
      ]
     },
     "execution_count": 32,
     "metadata": {},
     "output_type": "execute_result"
    }
   ],
   "source": [
    "ypc_glob_pop_avg=sum(df_r_1.*ypc_reg.*pop_reg)./sum(pop_reg)"
   ]
  },
  {
   "cell_type": "markdown",
   "metadata": {},
   "source": [
    "#### Alternative Regions "
   ]
  },
  {
   "cell_type": "code",
   "execution_count": 33,
   "metadata": {
    "collapsed": false,
    "jupyter": {
     "outputs_hidden": false
    }
   },
   "outputs": [
    {
     "data": {
      "text/plain": [
       "942.575704080355"
      ]
     },
     "execution_count": 33,
     "metadata": {},
     "output_type": "execute_result"
    }
   ],
   "source": [
    "ypc_high=1000*gdp_high./pop_high\n",
    "ypc_med=1000*gdp_med./pop_med\n",
    "ypc_low=1000*gdp_low./pop_low;\n",
    "ypc_high_avg=1000*gdp_high_avg/pop_high_avg*(301/291)\n",
    "ypc_med_avg=1000*gdp_med_avg/pop_med_avg*(301/291)\n",
    "ypc_low_avg=1000*gdp_low_avg/pop_low_avg*(301/291)\n",
    "ypc_high_2015=1000*gdp_high_2015./pop_high_2015\n",
    "ypc_med_2015=1000*gdp_med_2015./pop_med_2015\n",
    "ypc_low_2015=1000*gdp_low_2015./pop_low_2015"
   ]
  },
  {
   "cell_type": "markdown",
   "metadata": {},
   "source": [
    "## Deaths"
   ]
  },
  {
   "cell_type": "code",
   "execution_count": 34,
   "metadata": {
    "collapsed": false,
    "jupyter": {
     "outputs_hidden": false
    }
   },
   "outputs": [],
   "source": [
    "deaths = m1[:impactdeathmorbidity, :dead];"
   ]
  },
  {
   "cell_type": "code",
   "execution_count": 35,
   "metadata": {
    "collapsed": false,
    "jupyter": {
     "outputs_hidden": false
    }
   },
   "outputs": [],
   "source": [
    "deaths_reg=deaths[50:350,:];"
   ]
  },
  {
   "cell_type": "code",
   "execution_count": 36,
   "metadata": {
    "collapsed": false,
    "jupyter": {
     "outputs_hidden": false
    }
   },
   "outputs": [
    {
     "data": {
      "text/plain": [
       "16-element Vector{Union{Missing, Float64}}:\n",
       "   1349.1299359854859\n",
       "      5.324754212051623\n",
       "    701.7274927120093\n",
       "    261.1447809159548\n",
       "      2.512467497448858\n",
       "    342.9355433077021\n",
       "  11226.398072370639\n",
       "   1025.164310549498\n",
       "   1149.4462590980968\n",
       "   2760.311950684234\n",
       "  24763.797868612306\n",
       "   3727.3301722985443\n",
       "  14788.567558100443\n",
       "   9886.301493462914\n",
       " 176729.0328164777\n",
       "    839.6737475449977"
      ]
     },
     "execution_count": 36,
     "metadata": {},
     "output_type": "execute_result"
    }
   ],
   "source": [
    "deaths_reg_2015=deaths[65,:]"
   ]
  },
  {
   "cell_type": "code",
   "execution_count": 37,
   "metadata": {
    "collapsed": false,
    "jupyter": {
     "outputs_hidden": false
    }
   },
   "outputs": [
    {
     "data": {
      "text/plain": [
       "1×16 Matrix{Union{Missing, Float64}}:\n",
       " 2.60173e6  206.565  1.39105e6  529059.0  …  3.65692e7  5.69415e8  2.00514e6"
      ]
     },
     "execution_count": 37,
     "metadata": {},
     "output_type": "execute_result"
    }
   ],
   "source": [
    "deaths_reg_sum=sum(deaths_reg,dims=1)"
   ]
  },
  {
   "cell_type": "code",
   "execution_count": 38,
   "metadata": {
    "collapsed": false,
    "jupyter": {
     "outputs_hidden": false
    }
   },
   "outputs": [
    {
     "data": {
      "text/plain": [
       "1×16 Matrix{Float64}:\n",
       " 8643.63  0.686264  4621.43  1757.67  …  1.21492e5  1.89174e6  6661.61"
      ]
     },
     "execution_count": 38,
     "metadata": {},
     "output_type": "execute_result"
    }
   ],
   "source": [
    "deaths_reg_avg=sum(deaths_reg,dims=1)/301"
   ]
  },
  {
   "cell_type": "code",
   "execution_count": 39,
   "metadata": {
    "collapsed": false,
    "jupyter": {
     "outputs_hidden": false
    }
   },
   "outputs": [],
   "source": [
    "deaths_glob=sum(deaths,dims=2)[50:350,:];"
   ]
  },
  {
   "cell_type": "code",
   "execution_count": 40,
   "metadata": {
    "collapsed": false,
    "jupyter": {
     "outputs_hidden": false
    }
   },
   "outputs": [
    {
     "data": {
      "text/plain": [
       "1-element Vector{Union{Missing, Float64}}:\n",
       " 249558.79922383002"
      ]
     },
     "execution_count": 40,
     "metadata": {},
     "output_type": "execute_result"
    }
   ],
   "source": [
    "deaths_glob_2015=sum(deaths,dims=2)[65,:]"
   ]
  },
  {
   "cell_type": "code",
   "execution_count": 41,
   "metadata": {
    "collapsed": false,
    "jupyter": {
     "outputs_hidden": false
    }
   },
   "outputs": [
    {
     "data": {
      "text/plain": [
       "7.65305156847614e8"
      ]
     },
     "execution_count": 41,
     "metadata": {},
     "output_type": "execute_result"
    }
   ],
   "source": [
    "deaths_glob_sum=sum(deaths_glob)"
   ]
  },
  {
   "cell_type": "code",
   "execution_count": 42,
   "metadata": {
    "collapsed": false,
    "jupyter": {
     "outputs_hidden": false
    }
   },
   "outputs": [
    {
     "data": {
      "text/plain": [
       "2.5425420493276212e6"
      ]
     },
     "execution_count": 42,
     "metadata": {},
     "output_type": "execute_result"
    }
   ],
   "source": [
    "deaths_glob_avg=deaths_glob_sum/301"
   ]
  },
  {
   "cell_type": "markdown",
   "metadata": {},
   "source": [
    "#### Alternative Regions "
   ]
  },
  {
   "cell_type": "code",
   "execution_count": 43,
   "metadata": {
    "collapsed": false,
    "jupyter": {
     "outputs_hidden": false
    }
   },
   "outputs": [
    {
     "data": {
      "text/plain": [
       "2.3334877486239183e6"
      ]
     },
     "execution_count": 43,
     "metadata": {},
     "output_type": "execute_result"
    }
   ],
   "source": [
    "dead_high=sum(deaths[50:350,1:5],dims=2)\n",
    "dead_med=(deaths[50:350,6]+sum(deaths[50:350,8:10],dims=2)+sum(deaths[50:350,12:13],dims=2))\n",
    "dead_low=(deaths[50:350,7]+deaths[50:350,11]+deaths[50:350,14]+deaths[50:350,15]+deaths[50:350,16])\n",
    "dead_high_sum=sum(dead_high)\n",
    "dead_med_sum=sum(dead_med)\n",
    "dead_low_sum=sum(dead_low)\n",
    "dead_high_avg=sum(dead_high)/301\n",
    "dead_med_avg=sum(dead_med)/301\n",
    "dead_low_avg=sum(dead_low)/301"
   ]
  },
  {
   "cell_type": "markdown",
   "metadata": {},
   "source": [
    "### VSL"
   ]
  },
  {
   "cell_type": "code",
   "execution_count": 44,
   "metadata": {
    "collapsed": false,
    "jupyter": {
     "outputs_hidden": false
    }
   },
   "outputs": [],
   "source": [
    "vsl=m1[:vslvmorb, :vsl];"
   ]
  },
  {
   "cell_type": "code",
   "execution_count": 45,
   "metadata": {
    "collapsed": false,
    "jupyter": {
     "outputs_hidden": false
    }
   },
   "outputs": [],
   "source": [
    "vsl_reg=vsl[50:350,:];"
   ]
  },
  {
   "cell_type": "code",
   "execution_count": 46,
   "metadata": {
    "collapsed": false,
    "jupyter": {
     "outputs_hidden": false
    }
   },
   "outputs": [
    {
     "data": {
      "text/plain": [
       "16-element Vector{Union{Missing, Float64}}:\n",
       "      8.3320023324660035e6\n",
       "      5.856016724255383e6\n",
       "      6.829453928544993e6\n",
       "      9.150373123961812e6\n",
       "      6.447051336165289e6\n",
       " 930339.6642432924\n",
       " 563275.3987414499\n",
       " 692977.2048799805\n",
       " 852212.6270049659\n",
       "      1.1074673830976738e6\n",
       " 128854.40788878687\n",
       " 465072.04922562814\n",
       " 308742.14391501294\n",
       " 346535.0328141053\n",
       " 134319.0772078661\n",
       " 314789.4399720649"
      ]
     },
     "execution_count": 46,
     "metadata": {},
     "output_type": "execute_result"
    }
   ],
   "source": [
    "vsl_reg_2015=vsl[65,:]"
   ]
  },
  {
   "cell_type": "code",
   "execution_count": 47,
   "metadata": {
    "collapsed": false,
    "jupyter": {
     "outputs_hidden": false
    }
   },
   "outputs": [
    {
     "data": {
      "text/plain": [
       "1×16 Matrix{Float64}:\n",
       " 2.49706e6  1.75363e6  2.04048e6  2.73116e6  …  1.00674e5  38974.7  91228.8"
      ]
     },
     "execution_count": 47,
     "metadata": {},
     "output_type": "execute_result"
    }
   ],
   "source": [
    "vsl_reg_avg=sum(df_r_1.*vsl_reg,dims=1)/291"
   ]
  },
  {
   "cell_type": "code",
   "execution_count": 48,
   "metadata": {
    "collapsed": false,
    "jupyter": {
     "outputs_hidden": false
    }
   },
   "outputs": [
    {
     "data": {
      "text/plain": [
       "1×16 Matrix{Float64}:\n",
       " 1.59248e6  6.73079e5  1.2965e6  …  55118.9  62467.2  25473.7  57919.8"
      ]
     },
     "execution_count": 48,
     "metadata": {},
     "output_type": "execute_result"
    }
   ],
   "source": [
    "vsl_reg_pop_avg=vsl_reg_pop_avg=sum(df_r_1[10:300,:].*vsl_reg[10:300,:].*deaths_reg[10:300,:],dims=1)./sum(deaths_reg[10:300,:],dims=1)"
   ]
  },
  {
   "cell_type": "code",
   "execution_count": 49,
   "metadata": {
    "collapsed": false,
    "jupyter": {
     "outputs_hidden": false
    }
   },
   "outputs": [
    {
     "data": {
      "text/plain": [
       "301×1 Matrix{Union{Missing, Float64}}:\n",
       "      0.0\n",
       "      0.0\n",
       "      0.0\n",
       "      0.0\n",
       "      0.0\n",
       "      0.0\n",
       "      0.0\n",
       "      0.0\n",
       "      0.0\n",
       "      0.0\n",
       " 246993.76064561648\n",
       " 242887.8084623065\n",
       " 238863.25436093644\n",
       "      ⋮\n",
       "  13273.480647497878\n",
       "  13149.78516211286\n",
       "  13027.245603198353\n",
       "  12905.851109790512\n",
       "  12785.590916880878\n",
       "  12666.45435656492\n",
       "  12548.43088324551\n",
       "  12431.510036748166\n",
       "  12315.681453972744\n",
       "  12200.934876455929\n",
       "  12087.260135156916\n",
       "  11974.647169237838"
      ]
     },
     "execution_count": 49,
     "metadata": {},
     "output_type": "execute_result"
    }
   ],
   "source": [
    "#Incorrect\n",
    "vsl_glob=sum(df_r.*vsl.*deaths,dims=2)./sum(deaths,dims=2)\n",
    "vsl_glob=vsl_glob[50:350,:]"
   ]
  },
  {
   "cell_type": "code",
   "execution_count": 50,
   "metadata": {
    "collapsed": false,
    "jupyter": {
     "outputs_hidden": false
    }
   },
   "outputs": [
    {
     "data": {
      "text/plain": [
       "1-element Vector{Union{Missing, Float64}}:\n",
       " 117728.76936553216"
      ]
     },
     "execution_count": 50,
     "metadata": {},
     "output_type": "execute_result"
    }
   ],
   "source": [
    "vsl_glob_2015=vsl_glob[65,:]"
   ]
  },
  {
   "cell_type": "code",
   "execution_count": 51,
   "metadata": {
    "collapsed": false,
    "jupyter": {
     "outputs_hidden": false
    }
   },
   "outputs": [
    {
     "data": {
      "text/plain": [
       "68181.3096894899"
      ]
     },
     "execution_count": 51,
     "metadata": {},
     "output_type": "execute_result"
    }
   ],
   "source": [
    "vsl_glob_avg=sum(vsl_glob)/291"
   ]
  },
  {
   "cell_type": "markdown",
   "metadata": {},
   "source": [
    "#### Alternative Regions "
   ]
  },
  {
   "cell_type": "code",
   "execution_count": 52,
   "metadata": {
    "collapsed": false,
    "jupyter": {
     "outputs_hidden": false
    }
   },
   "outputs": [
    {
     "data": {
      "text/plain": [
       "4.355631594122234e6"
      ]
     },
     "execution_count": 52,
     "metadata": {},
     "output_type": "execute_result"
    }
   ],
   "source": [
    "mort_val=vsl.*deaths\n",
    "vsl_high=sum(mort_val[50:350,1:5],dims=2)./sum(deaths[50:350,1:5],dims=2)\n",
    "vsl_med=(mort_val[50:350,6]+sum(mort_val[50:350,8:10],dims=2)+sum(mort_val[50:350,12:13],dims=2))./(deaths[50:350,6]+sum(deaths[50:350,8:10],dims=2)+sum(deaths[50:350,12:13],dims=2))\n",
    "vsl_low=(mort_val[50:350,7]+mort_val[50:350,11]+mort_val[50:350,14]+mort_val[50:350,15]+mort_val[50:350,16])./(deaths[50:350,7]+deaths[50:350,11]+deaths[50:350,14]+deaths[50:350,15]+deaths[50:350,16]);\n",
    "vsl_high_avg=sum(vsl_high)/291\n",
    "vsl_med_avg=sum(vsl_med)/291\n",
    "vsl_low_avg=sum(vsl_low)/291\n",
    "vsl_high_pop_avg=sum(mort_val[50:350,1:5])./sum(deaths[50:350,1:5])\n",
    "vsl_med_pop_avg=(sum(mort_val[50:350,6])+sum(mort_val[50:350,8:10])+sum(mort_val[50:350,12:13]))./(sum(deaths[50:350,6])+sum(deaths[50:350,8:10])+sum(deaths[50:350,12:13]))\n",
    "vsl_low_pop_avg=(sum(mort_val[50:350,7])+sum(mort_val[50:350,11])+sum(mort_val[50:350,14])+sum(mort_val[50:350,15])+sum(mort_val[50:350,16]))./(sum(deaths[50:350,7])+sum(deaths[50:350,11])+sum(deaths[50:350,14])+sum(deaths[50:350,15])+sum(deaths[50:350,16]))\n"
   ]
  },
  {
   "cell_type": "markdown",
   "metadata": {},
   "source": [
    "# SCC"
   ]
  },
  {
   "cell_type": "code",
   "execution_count": 53,
   "metadata": {
    "tags": []
   },
   "outputs": [],
   "source": [
    "m3 = MimiFUND.get_model();\n",
    "set_custom_params!(m3)"
   ]
  },
  {
   "cell_type": "code",
   "execution_count": 54,
   "metadata": {
    "tags": []
   },
   "outputs": [],
   "source": [
    "add_comp!(m3, Mimi.adder, :co2marg, before=:climateco2cycle);"
   ]
  },
  {
   "cell_type": "code",
   "execution_count": 55,
   "metadata": {
    "tags": []
   },
   "outputs": [],
   "source": [
    "connect_param!(m3, :co2marg, :input, :emissions, :mco2)"
   ]
  },
  {
   "cell_type": "code",
   "execution_count": 56,
   "metadata": {
    "tags": []
   },
   "outputs": [],
   "source": [
    "connect_param!(m3, :climateco2cycle, :mco2, :co2marg, :output)"
   ]
  },
  {
   "cell_type": "code",
   "execution_count": 57,
   "metadata": {
    "tags": []
   },
   "outputs": [],
   "source": [
    "marginalemissions = zeros(1051)\n",
    "marginalemissions[60] = 1\n",
    "set_param!(m3, :co2marg, :add, marginalemissions);"
   ]
  },
  {
   "cell_type": "code",
   "execution_count": 58,
   "metadata": {
    "tags": []
   },
   "outputs": [],
   "source": [
    "run(m3)"
   ]
  },
  {
   "cell_type": "code",
   "execution_count": 59,
   "metadata": {
    "tags": []
   },
   "outputs": [],
   "source": [
    "md = (m3[:impactaggregation, :loss]-\n",
    "    m1[:impactaggregation, :loss])/10^6;"
   ]
  },
  {
   "cell_type": "code",
   "execution_count": 60,
   "metadata": {
    "collapsed": false,
    "jupyter": {
     "outputs_hidden": false
    }
   },
   "outputs": [
    {
     "data": {
      "text/plain": [
       "30.445959530692576"
      ]
     },
     "execution_count": 60,
     "metadata": {},
     "output_type": "execute_result"
    }
   ],
   "source": [
    "pd=df_r.*md\n",
    "SCC=sum(pd[60:300,:])"
   ]
  },
  {
   "cell_type": "markdown",
   "metadata": {},
   "source": [
    "# Regional SCC"
   ]
  },
  {
   "cell_type": "code",
   "execution_count": 61,
   "metadata": {
    "collapsed": false,
    "jupyter": {
     "outputs_hidden": false
    }
   },
   "outputs": [
    {
     "data": {
      "text/plain": [
       "1×16 Matrix{Union{Missing, Float64}}:\n",
       " 5.83785  0.205104  7.13923  -0.233668  …  2.05054  6.28337  0.0202393"
      ]
     },
     "execution_count": 61,
     "metadata": {},
     "output_type": "execute_result"
    }
   ],
   "source": [
    "reg_SCC=sum(pd[60:300,:],dims=1);\r\n",
    "SCC_reg=reg_SCC"
   ]
  },
  {
   "cell_type": "markdown",
   "metadata": {},
   "source": [
    "#### Alternative Regions "
   ]
  },
  {
   "cell_type": "code",
   "execution_count": 62,
   "metadata": {
    "collapsed": false,
    "jupyter": {
     "outputs_hidden": false
    }
   },
   "outputs": [
    {
     "data": {
      "text/plain": [
       "12.340092995598276"
      ]
     },
     "execution_count": 62,
     "metadata": {},
     "output_type": "execute_result"
    }
   ],
   "source": [
    "SCC_high=sum(SCC_reg[1:5])\r\n",
    "SCC_med=(SCC_reg[6]+sum(SCC_reg[8:10])+sum(SCC_reg[12:13]))\r\n",
    "SCC_low=(SCC_reg[7]+SCC_reg[11]+SCC_reg[14]+SCC_reg[15]+SCC_reg[16])"
   ]
  },
  {
   "cell_type": "markdown",
   "metadata": {},
   "source": [
    "## Health SCC"
   ]
  },
  {
   "cell_type": "code",
   "execution_count": 63,
   "metadata": {
    "collapsed": false,
    "jupyter": {
     "outputs_hidden": false
    }
   },
   "outputs": [],
   "source": [
    "marg_health=10^9*((m3[:impactdeathmorbidity, :deadcost]+m3[:impactdeathmorbidity, :morbcost])-(m1[:impactdeathmorbidity, :deadcost]+m1[:impactdeathmorbidity, :morbcost]));"
   ]
  },
  {
   "cell_type": "code",
   "execution_count": 64,
   "metadata": {
    "collapsed": false,
    "jupyter": {
     "outputs_hidden": false
    }
   },
   "outputs": [
    {
     "data": {
      "text/plain": [
       "12.342858128849794"
      ]
     },
     "execution_count": 64,
     "metadata": {},
     "output_type": "execute_result"
    }
   ],
   "source": [
    "pd_health=(df_r.*marg_health)/10^6\n",
    "health_SCC=sum(pd_health[60:300,:])"
   ]
  },
  {
   "cell_type": "code",
   "execution_count": 65,
   "metadata": {
    "collapsed": false,
    "jupyter": {
     "outputs_hidden": false
    }
   },
   "outputs": [
    {
     "data": {
      "text/plain": [
       "0.4054021722129321"
      ]
     },
     "execution_count": 65,
     "metadata": {},
     "output_type": "execute_result"
    }
   ],
   "source": [
    "Perc_Health_SCC=health_SCC/SCC"
   ]
  },
  {
   "cell_type": "markdown",
   "metadata": {},
   "source": [
    "## Health Regional SCC"
   ]
  },
  {
   "cell_type": "code",
   "execution_count": 66,
   "metadata": {
    "collapsed": false,
    "jupyter": {
     "outputs_hidden": false
    }
   },
   "outputs": [
    {
     "data": {
      "text/plain": [
       "1×16 Matrix{Union{Missing, Float64}}:\n",
       " 1.82678  7.52886e-5  0.786748  0.385396  …  0.677152  5.19292  0.0480915"
      ]
     },
     "execution_count": 66,
     "metadata": {},
     "output_type": "execute_result"
    }
   ],
   "source": [
    "reg_health_SCC=sum(pd_health[60:300,:],dims=1)"
   ]
  },
  {
   "cell_type": "code",
   "execution_count": 67,
   "metadata": {
    "collapsed": false,
    "jupyter": {
     "outputs_hidden": false
    }
   },
   "outputs": [
    {
     "data": {
      "text/plain": [
       "1×16 Matrix{Float64}:\n",
       " 0.31292  0.000367075  0.110201  -1.64933  …  0.330232  0.826455  2.37614"
      ]
     },
     "execution_count": 67,
     "metadata": {},
     "output_type": "execute_result"
    }
   ],
   "source": [
    "Reg_Perc_Health_SCC=reg_health_SCC./reg_SCC"
   ]
  },
  {
   "cell_type": "code",
   "execution_count": 68,
   "metadata": {
    "collapsed": false,
    "jupyter": {
     "outputs_hidden": false
    }
   },
   "outputs": [
    {
     "data": {
      "text/plain": [
       "1×16 Matrix{Float64}:\n",
       " 0.31292  0.000367075  0.110201  -1.64933  …  0.330232  0.826455  2.37614"
      ]
     },
     "execution_count": 68,
     "metadata": {},
     "output_type": "execute_result"
    }
   ],
   "source": [
    "Perc_health_SCC_reg=reg_health_SCC./reg_SCC"
   ]
  },
  {
   "cell_type": "markdown",
   "metadata": {},
   "source": [
    "#### Alternative Regions "
   ]
  },
  {
   "cell_type": "code",
   "execution_count": 69,
   "metadata": {
    "collapsed": false,
    "jupyter": {
     "outputs_hidden": false
    }
   },
   "outputs": [
    {
     "data": {
      "text/plain": [
       "7.327453457186693"
      ]
     },
     "execution_count": 69,
     "metadata": {},
     "output_type": "execute_result"
    }
   ],
   "source": [
    "health_SCC_high=sum(reg_health_SCC[1:5])\n",
    "health_SCC_med=(reg_health_SCC[6]+sum(reg_health_SCC[8:10])+sum(reg_health_SCC[12:13]))\n",
    "health_SCC_low=(reg_health_SCC[7]+reg_health_SCC[11]+reg_health_SCC[14]+reg_health_SCC[15]+reg_health_SCC[16])"
   ]
  },
  {
   "cell_type": "markdown",
   "metadata": {},
   "source": [
    "# Health Endpoint SCC"
   ]
  },
  {
   "cell_type": "markdown",
   "metadata": {},
   "source": [
    "### Dengue Fever "
   ]
  },
  {
   "cell_type": "code",
   "execution_count": 70,
   "metadata": {
    "collapsed": false,
    "jupyter": {
     "outputs_hidden": false
    }
   },
   "outputs": [],
   "source": [
    "dv_1=m1[:vslvmorb, :vsl].*m1[:impactvectorbornediseases, :dengue]./(10^9)\n",
    "\n",
    "trick=ones(1051,16)\n",
    "trick2=m1[:impactdeathmorbidity, :d2dd]\n",
    "for j=1:16\n",
    "trick[:,j]=trick[:,j].*trick2[j]\n",
    "end\n",
    "trick\n",
    "\n",
    "#dv_2=m1[:vslvmorb, :vmorb]*parameters[\"d2dd\"].*m1[:impactvectorbornediseases, :dengue]./1000000000.0\n",
    "dv_2=m1[:vslvmorb, :vmorb].*trick.*m1[:impactvectorbornediseases, :dengue]./(10^9)\n",
    "dv_3=dv_1+dv_2\n",
    "pv_dv_1=df_r.*dv_1\n",
    "pv_dv_2=df_r.*dv_2\n",
    "pv_dv_3=df_r.*dv_3;"
   ]
  },
  {
   "cell_type": "code",
   "execution_count": 71,
   "metadata": {
    "collapsed": false,
    "jupyter": {
     "outputs_hidden": false
    }
   },
   "outputs": [
    {
     "data": {
      "text/plain": [
       "1051×16 Matrix{Union{Missing, Float64}}:\n",
       "  missing   missing   missing     missing    …     missing        missing\n",
       " 0.0       0.0       0.0         0.00116544       0.000495223    0.000104509\n",
       " 0.0       0.0       0.0         0.00124772       0.000521991    0.000112145\n",
       " 0.0       0.0       0.0         0.00133582       0.000550206    0.000120339\n",
       " 0.0       0.0       0.0         0.00142996       0.000579876    0.000129116\n",
       " 0.0       0.0       0.0         0.00153045  …    0.000611031    0.000138507\n",
       " 0.0       0.0       0.0         0.00163753       0.000643672    0.000148538\n",
       " 0.0       0.0       0.0         0.00175148       0.000677819    0.00015924\n",
       " 0.0       0.0       0.0         0.00187305       0.000713661    0.000170684\n",
       " 0.0       0.0       0.0         0.00200318       0.000751443    0.000182962\n",
       " 0.0       0.0       0.0         0.00214353  …    0.000791656    0.00019623\n",
       " 0.0       0.0       0.0         0.0022935        0.000837065    0.000210673\n",
       " 0.0       0.0       0.0         0.00245365       0.000884966    0.000226151\n",
       " ⋮                                           ⋱                   ⋮\n",
       " 0.0       0.0       0.0       319.754          539.069        176.149\n",
       " 0.0       0.0       0.0       321.608       …  542.197        177.176\n",
       " 0.0       0.0       0.0       323.473          545.343        178.208\n",
       " 0.0       0.0       0.0       325.348          548.509        179.247\n",
       " 0.0       0.0       0.0       327.235          551.692        180.292\n",
       " 0.0       0.0       0.0       329.132          554.895        181.343\n",
       " 0.0       0.0       0.0       331.041       …  558.116        182.4\n",
       " 0.0       0.0       0.0       332.961          561.357        183.463\n",
       " 0.0       0.0       0.0       334.892          564.616        184.533\n",
       " 0.0       0.0       0.0       336.835          567.895        185.609\n",
       " 0.0       0.0       0.0       338.789          571.193        186.691\n",
       " 0.0       0.0       0.0       340.754       …  574.51         187.78"
      ]
     },
     "execution_count": 71,
     "metadata": {},
     "output_type": "execute_result"
    }
   ],
   "source": [
    "dv_1b=m3[:vslvmorb, :vsl].*m3[:impactvectorbornediseases, :dengue]./(10^9)\n",
    "\n",
    "trick=ones(1051,16)\n",
    "trick2=trick2=m1[:impactdeathmorbidity, :d2dd]\n",
    "for j=1:16\n",
    "trick[:,j]=trick[:,j].*trick2[j]\n",
    "end\n",
    "trick;\n",
    "\n",
    "dv_2b=m3[:vslvmorb, :vmorb].*trick.*m3[:impactvectorbornediseases, :dengue]./(10^9)\n",
    "dv_3b=dv_1b+dv_2b"
   ]
  },
  {
   "cell_type": "code",
   "execution_count": 72,
   "metadata": {
    "collapsed": false,
    "jupyter": {
     "outputs_hidden": false
    }
   },
   "outputs": [
    {
     "data": {
      "text/plain": [
       "0.0053787048369889215"
      ]
     },
     "execution_count": 72,
     "metadata": {},
     "output_type": "execute_result"
    }
   ],
   "source": [
    "marg_dengue=10^9*(dv_3b-dv_3)\n",
    "pd_dengue=(df_r.*marg_dengue)/10^6\n",
    "dv_SCC=sum(pd_dengue[60:300,:])\n",
    "perc_dv_SCC=dv_SCC/SCC"
   ]
  },
  {
   "cell_type": "code",
   "execution_count": 73,
   "metadata": {
    "collapsed": false,
    "jupyter": {
     "outputs_hidden": false
    }
   },
   "outputs": [
    {
     "data": {
      "text/plain": [
       "1×16 Matrix{Union{Missing, Float64}}:\n",
       " 0.0  0.0  0.0  0.0106631  0.0  0.0  …  0.00387653  0.00257895  0.000880082"
      ]
     },
     "execution_count": 73,
     "metadata": {},
     "output_type": "execute_result"
    }
   ],
   "source": [
    "reg_dv_SCC=sum(pd_dengue[60:300,:],dims=1)"
   ]
  },
  {
   "cell_type": "code",
   "execution_count": 74,
   "metadata": {
    "collapsed": false,
    "jupyter": {
     "outputs_hidden": false
    }
   },
   "outputs": [
    {
     "data": {
      "text/plain": [
       "1×16 Matrix{Float64}:\n",
       " 0.0  0.0  0.0  -0.0456336  0.0  0.0  …  0.00189049  0.00041044  0.0434838"
      ]
     },
     "execution_count": 74,
     "metadata": {},
     "output_type": "execute_result"
    }
   ],
   "source": [
    "reg_perc_dv_SCC=reg_dv_SCC./reg_SCC"
   ]
  },
  {
   "cell_type": "markdown",
   "metadata": {},
   "source": [
    "### Schist "
   ]
  },
  {
   "cell_type": "code",
   "execution_count": 75,
   "metadata": {
    "tags": []
   },
   "outputs": [],
   "source": [
    "sv_1=m1[:vslvmorb, :vsl].*m1[:impactvectorbornediseases, :schisto]./(10^9)\n",
    "\n",
    "#sv_2=m1[:vslvmorb, :vmorb]*parameters[\"d2ds\"].*m1[:impactvectorbornediseases, :schisto]./(10^9)\n",
    "trick=ones(1051,16)\n",
    "trick2=trick2=m1[:impactdeathmorbidity, :d2ds]\n",
    "for j=1:16\n",
    "trick[:,j]=trick[:,j].*trick2[j]\n",
    "end\n",
    "trick\n",
    "sv_2=m1[:vslvmorb, :vmorb].*trick.*m1[:impactvectorbornediseases, :schisto]./(10^9)\n",
    "\n",
    "sv_3=sv_1+sv_2\n",
    "pv_sv_1=df_r.*sv_1\n",
    "pv_sv_2=df_r.*sv_2\n",
    "pv_sv_3=df_r.*sv_3;"
   ]
  },
  {
   "cell_type": "code",
   "execution_count": 76,
   "metadata": {
    "collapsed": false,
    "jupyter": {
     "outputs_hidden": false
    }
   },
   "outputs": [
    {
     "data": {
      "text/plain": [
       "-0.003973395122961255"
      ]
     },
     "execution_count": 76,
     "metadata": {},
     "output_type": "execute_result"
    }
   ],
   "source": [
    "sv_1b=m3[:vslvmorb, :vsl].*m3[:impactvectorbornediseases, :schisto]./(10^9)\n",
    "\n",
    "trick=ones(1051,16)\n",
    "trick2=trick2=m1[:impactdeathmorbidity, :d2ds]\n",
    "for j=1:16\n",
    "trick[:,j]=trick[:,j].*trick2[j]\n",
    "end\n",
    "trick\n",
    "sv_2b=m3[:vslvmorb, :vmorb].*trick.*m3[:impactvectorbornediseases, :schisto]./(10^9)\n",
    "sv_3b=sv_1b+sv_2b\n",
    "\n",
    "marg_schisto=10^9*(sv_3b-sv_3)\n",
    "pd_schisto=(df_r.*marg_schisto)/10^6\n",
    "schisto_SCC=sum(pd_schisto[60:300,:])\n",
    "perc_schisto_SCC=schisto_SCC/SCC"
   ]
  },
  {
   "cell_type": "code",
   "execution_count": 77,
   "metadata": {
    "collapsed": false,
    "jupyter": {
     "outputs_hidden": false
    }
   },
   "outputs": [
    {
     "data": {
      "text/plain": [
       "1×16 Matrix{Union{Missing, Float64}}:\n",
       " -0.000233425  -1.86819e-5  …  -0.010432  -0.0429949  -0.000468502"
      ]
     },
     "execution_count": 77,
     "metadata": {},
     "output_type": "execute_result"
    }
   ],
   "source": [
    "reg_sv_SCC=sum(pd_schisto[60:300,:],dims=1)"
   ]
  },
  {
   "cell_type": "code",
   "execution_count": 78,
   "metadata": {
    "collapsed": false,
    "jupyter": {
     "outputs_hidden": false
    }
   },
   "outputs": [
    {
     "data": {
      "text/plain": [
       "1×16 Matrix{Float64}:\n",
       " -3.99848e-5  -9.10849e-5  -9.97086e-5  0.0502075  …  -0.00684264  -0.0231481"
      ]
     },
     "execution_count": 78,
     "metadata": {},
     "output_type": "execute_result"
    }
   ],
   "source": [
    "reg_perc_sv_SCC=reg_sv_SCC./reg_SCC"
   ]
  },
  {
   "cell_type": "markdown",
   "metadata": {},
   "source": [
    "### Malaria "
   ]
  },
  {
   "cell_type": "code",
   "execution_count": 79,
   "metadata": {
    "tags": []
   },
   "outputs": [],
   "source": [
    "mv_1=m1[:vslvmorb, :vsl].*m1[:impactvectorbornediseases, :malaria]./(10^9)\n",
    "\n",
    "#mv_2=m1[:vslvmorb, :vmorb]*parameters[\"d2dm\"].*m1[:impactvectorbornediseases, :malaria]./(10^9)\n",
    "trick=ones(1051,16)\n",
    "trick2=trick2=m1[:impactdeathmorbidity, :d2dm]\n",
    "for j=1:16\n",
    "trick[:,j]=trick[:,j].*trick2[j]\n",
    "end\n",
    "trick\n",
    "mv_2=m1[:vslvmorb, :vmorb].*trick.*m1[:impactvectorbornediseases, :malaria]./(10^9)\n",
    "\n",
    "mv_3=mv_1+mv_2\n",
    "pv_mv_1=df_r.*mv_1\n",
    "pv_mv_2=df_r.*mv_2\n",
    "pv_mv_3=df_r.*mv_3;"
   ]
  },
  {
   "cell_type": "code",
   "execution_count": 80,
   "metadata": {
    "collapsed": false,
    "jupyter": {
     "outputs_hidden": false
    }
   },
   "outputs": [
    {
     "data": {
      "text/plain": [
       "0.1053330938485121"
      ]
     },
     "execution_count": 80,
     "metadata": {},
     "output_type": "execute_result"
    }
   ],
   "source": [
    "mv_1b=m3[:vslvmorb, :vsl].*m3[:impactvectorbornediseases, :malaria]./(10^9)\n",
    "trick=ones(1051,16)\n",
    "trick2=trick2=m1[:impactdeathmorbidity, :d2dm]\n",
    "for j=1:16\n",
    "trick[:,j]=trick[:,j].*trick2[j]\n",
    "end\n",
    "trick\n",
    "mv_2b=m3[:vslvmorb, :vmorb].*trick.*m3[:impactvectorbornediseases, :malaria]./(10^9)\n",
    "mv_3b=mv_1b+mv_2b\n",
    "\n",
    "marg_malaria=10^9*(mv_3b-mv_3)\n",
    "pd_malaria=(df_r.*marg_malaria)/10^6\n",
    "malaria_SCC=sum(pd_malaria[60:300,:])\n",
    "perc_malaria_SCC=malaria_SCC/SCC"
   ]
  },
  {
   "cell_type": "code",
   "execution_count": 81,
   "metadata": {
    "collapsed": false,
    "jupyter": {
     "outputs_hidden": false
    }
   },
   "outputs": [
    {
     "data": {
      "text/plain": [
       "1×16 Matrix{Union{Missing, Float64}}:\n",
       " 0.000530003  4.2418e-5  0.0059029  …  0.402835  2.36917  0.0232419"
      ]
     },
     "execution_count": 81,
     "metadata": {},
     "output_type": "execute_result"
    }
   ],
   "source": [
    "reg_mv_SCC=sum(pd_malaria[60:300,:],dims=1)"
   ]
  },
  {
   "cell_type": "code",
   "execution_count": 82,
   "metadata": {
    "collapsed": false,
    "jupyter": {
     "outputs_hidden": false
    }
   },
   "outputs": [
    {
     "data": {
      "text/plain": [
       "1×16 Matrix{Float64}:\n",
       " 9.07874e-5  0.000206812  0.000826826  …  0.196453  0.377054  1.14835"
      ]
     },
     "execution_count": 82,
     "metadata": {},
     "output_type": "execute_result"
    }
   ],
   "source": [
    "reg_perc_mv_SCC=reg_mv_SCC./reg_SCC"
   ]
  },
  {
   "cell_type": "markdown",
   "metadata": {},
   "source": [
    "### Cardiovascular - Heat Related"
   ]
  },
  {
   "cell_type": "code",
   "execution_count": 83,
   "metadata": {
    "tags": []
   },
   "outputs": [],
   "source": [
    "hv_1=m1[:vslvmorb, :vsl].*m1[:impactcardiovascularrespiratory, :cardheat]./(10^9)\n",
    "\n",
    "#hv_2=m1[:vslvmorb, :vmorb]*parameters[\"d2dc\"].*m1[:impactcardiovascularrespiratory, :cardheat]./(10^9)\n",
    "trick=ones(1051,16)\n",
    "trick2=trick2=m1[:impactdeathmorbidity, :d2dc]\n",
    "for j=1:16\n",
    "trick[:,j]=trick[:,j].*trick2[j]\n",
    "end\n",
    "trick\n",
    "hv_2=m1[:vslvmorb, :vmorb].*trick.*m1[:impactcardiovascularrespiratory, :cardheat]./(10^9)\n",
    "\n",
    "hv_3=hv_1+hv_2\n",
    "pv_hv_1=df_r.*hv_1\n",
    "pv_hv_2=df_r.*hv_2\n",
    "pv_hv_3=df_r.*hv_3;"
   ]
  },
  {
   "cell_type": "code",
   "execution_count": 84,
   "metadata": {
    "collapsed": false,
    "jupyter": {
     "outputs_hidden": false
    }
   },
   "outputs": [
    {
     "data": {
      "text/plain": [
       "-0.0018090816431335574"
      ]
     },
     "execution_count": 84,
     "metadata": {},
     "output_type": "execute_result"
    }
   ],
   "source": [
    "hv_1b=m3[:vslvmorb, :vsl].*m3[:impactcardiovascularrespiratory, :cardheat]./(10^9)\n",
    "trick=ones(1051,16)\n",
    "trick2=trick2=m1[:impactdeathmorbidity, :d2dc]\n",
    "for j=1:16\n",
    "trick[:,j]=trick[:,j].*trick2[j]\n",
    "end\n",
    "trick\n",
    "hv_2b=m3[:vslvmorb, :vmorb].*trick.*m3[:impactcardiovascularrespiratory, :cardheat]./(10^9)\n",
    "hv_3b=hv_1b+hv_2b\n",
    "\n",
    "marg_chr=10^9*(hv_3b-hv_3)\n",
    "pd_chr=(df_r.*marg_chr)/10^6\n",
    "chr_SCC=sum(pd_chr[60:300,:])"
   ]
  },
  {
   "cell_type": "code",
   "execution_count": 85,
   "metadata": {
    "collapsed": false,
    "jupyter": {
     "outputs_hidden": false
    }
   },
   "outputs": [
    {
     "data": {
      "text/plain": [
       "-5.941943269384635e-5"
      ]
     },
     "execution_count": 85,
     "metadata": {},
     "output_type": "execute_result"
    }
   ],
   "source": [
    "perc_chr_SCC=chr_SCC/SCC"
   ]
  },
  {
   "cell_type": "code",
   "execution_count": 86,
   "metadata": {
    "collapsed": false,
    "jupyter": {
     "outputs_hidden": false
    }
   },
   "outputs": [
    {
     "data": {
      "text/plain": [
       "1×16 Matrix{Union{Missing, Float64}}:\n",
       " -0.000415613  -1.98709e-5  -0.000821712  …  -3.64012e-5  3.03642e-6"
      ]
     },
     "execution_count": 86,
     "metadata": {},
     "output_type": "execute_result"
    }
   ],
   "source": [
    "reg_chr_SCC=sum(pd_chr[60:300,:],dims=1)"
   ]
  },
  {
   "cell_type": "code",
   "execution_count": 87,
   "metadata": {
    "collapsed": false,
    "jupyter": {
     "outputs_hidden": false
    }
   },
   "outputs": [
    {
     "data": {
      "text/plain": [
       "1×16 Matrix{Float64}:\n",
       " -7.11929e-5  -9.6882e-5  -0.000115098  …  -5.79326e-6  0.000150026"
      ]
     },
     "execution_count": 87,
     "metadata": {},
     "output_type": "execute_result"
    }
   ],
   "source": [
    "reg_perc_chr_SCC=reg_chr_SCC./reg_SCC"
   ]
  },
  {
   "cell_type": "markdown",
   "metadata": {},
   "source": [
    "### Cardiovascular - Cold Related"
   ]
  },
  {
   "cell_type": "code",
   "execution_count": 88,
   "metadata": {
    "tags": []
   },
   "outputs": [],
   "source": [
    "cv_1=m1[:vslvmorb, :vsl].*m1[:impactcardiovascularrespiratory, :cardcold]./(10^9)\n",
    "\n",
    "#cv_2=m1[:vslvmorb, :vmorb]*parameters[\"d2dc\"].*m1[:impactcardiovascularrespiratory, :cardcold]./(10^9)\n",
    "trick=ones(1051,16)\n",
    "trick2=trick2=m1[:impactdeathmorbidity, :d2dc]\n",
    "for j=1:16\n",
    "trick[:,j]=trick[:,j].*trick2[j]\n",
    "end\n",
    "cv_2=m1[:vslvmorb, :vmorb].*trick.*m1[:impactcardiovascularrespiratory, :cardcold]./(10^9)\n",
    "\n",
    "cv_3=cv_1+cv_2\n",
    "pv_cv_1=df_r.*cv_1\n",
    "pv_cv_2=df_r.*cv_2\n",
    "pv_cv_3=df_r.*cv_3;"
   ]
  },
  {
   "cell_type": "code",
   "execution_count": 89,
   "metadata": {
    "collapsed": false,
    "jupyter": {
     "outputs_hidden": false
    }
   },
   "outputs": [
    {
     "data": {
      "text/plain": [
       "0.0015468110869586514"
      ]
     },
     "execution_count": 89,
     "metadata": {},
     "output_type": "execute_result"
    }
   ],
   "source": [
    "cv_1b=m3[:vslvmorb, :vsl].*m3[:impactcardiovascularrespiratory, :cardcold]./(10^9)\n",
    "trick=ones(1051,16)\n",
    "trick2=trick2=m1[:impactdeathmorbidity, :d2dc]\n",
    "for j=1:16\n",
    "trick[:,j]=trick[:,j].*trick2[j]\n",
    "end\n",
    "cv_2b=m3[:vslvmorb, :vmorb].*trick.*m3[:impactcardiovascularrespiratory, :cardcold]./(10^9)\n",
    "cv_3b=cv_1b+cv_2b\n",
    "\n",
    "marg_ccr=10^9*(cv_3b-cv_3)\n",
    "pd_ccr=(df_r.*marg_ccr)/10^6\n",
    "ccr_SCC=sum(pd_ccr[60:300,:])"
   ]
  },
  {
   "cell_type": "code",
   "execution_count": 90,
   "metadata": {
    "collapsed": false,
    "jupyter": {
     "outputs_hidden": false
    }
   },
   "outputs": [
    {
     "data": {
      "text/plain": [
       "5.080513509187683e-5"
      ]
     },
     "execution_count": 90,
     "metadata": {},
     "output_type": "execute_result"
    }
   ],
   "source": [
    "perc_ccr_SCC=ccr_SCC/SCC"
   ]
  },
  {
   "cell_type": "code",
   "execution_count": 91,
   "metadata": {
    "collapsed": false,
    "jupyter": {
     "outputs_hidden": false
    }
   },
   "outputs": [
    {
     "data": {
      "text/plain": [
       "1×16 Matrix{Union{Missing, Float64}}:\n",
       " 0.000435607  2.04724e-5  0.000860957  …  5.04631e-5  -3.71415e-6"
      ]
     },
     "execution_count": 91,
     "metadata": {},
     "output_type": "execute_result"
    }
   ],
   "source": [
    "reg_ccr_SCC=sum(pd_ccr[60:300,:],dims=1)"
   ]
  },
  {
   "cell_type": "code",
   "execution_count": 92,
   "metadata": {
    "collapsed": false,
    "jupyter": {
     "outputs_hidden": false
    }
   },
   "outputs": [
    {
     "data": {
      "text/plain": [
       "1×16 Matrix{Float64}:\n",
       " 7.46177e-5  9.98148e-5  0.000120595  …  8.03121e-6  -0.000183512"
      ]
     },
     "execution_count": 92,
     "metadata": {},
     "output_type": "execute_result"
    }
   ],
   "source": [
    "reg_perc_ccr_SCC=reg_ccr_SCC./reg_SCC"
   ]
  },
  {
   "cell_type": "markdown",
   "metadata": {},
   "source": [
    "## Cardiovascular - Respiratory"
   ]
  },
  {
   "cell_type": "code",
   "execution_count": 93,
   "metadata": {
    "tags": []
   },
   "outputs": [],
   "source": [
    "rv_1=m1[:vslvmorb, :vsl].*m1[:impactcardiovascularrespiratory, :resp]./(10^9)\n",
    "\n",
    "#rv_2=m1[:vslvmorb, :vmorb]*parameters[\"d2dr\"].*m1[:impactcardiovascularrespiratory, :resp]./(10^9)\n",
    "trick=ones(1051,16)\n",
    "trick2=trick2=m1[:impactdeathmorbidity, :d2dr]\n",
    "for j=1:16\n",
    "trick[:,j]=trick[:,j].*trick2[j]\n",
    "end\n",
    "rv_2=m1[:vslvmorb, :vmorb].*trick.*m1[:impactcardiovascularrespiratory, :resp]./(10^9)\n",
    "\n",
    "\n",
    "rv_3=rv_1+rv_2\n",
    "pv_rv_1=df_r.*rv_1\n",
    "pv_rv_2=df_r.*rv_2\n",
    "pv_rv_3=df_r.*rv_3;"
   ]
  },
  {
   "cell_type": "code",
   "execution_count": 94,
   "metadata": {
    "collapsed": false,
    "jupyter": {
     "outputs_hidden": false
    }
   },
   "outputs": [
    {
     "data": {
      "text/plain": [
       "-0.00018683788375851946"
      ]
     },
     "execution_count": 94,
     "metadata": {},
     "output_type": "execute_result"
    }
   ],
   "source": [
    "rv_1b=m3[:vslvmorb, :vsl].*m3[:impactcardiovascularrespiratory, :resp]./(10^9)\n",
    "trick=ones(1051,16)\n",
    "trick2=trick2=m1[:impactdeathmorbidity, :d2dr]\n",
    "for j=1:16\n",
    "trick[:,j]=trick[:,j].*trick2[j]\n",
    "end\n",
    "rv_2b=m3[:vslvmorb, :vmorb].*trick.*m3[:impactcardiovascularrespiratory, :resp]./(10^9)\n",
    "rv_3b=rv_1b+rv_2b\n",
    "\n",
    "marg_resp=10^9*(rv_3b-rv_3)\n",
    "pd_resp=(df_r.*marg_resp)/10^6\n",
    "resp_SCC=sum(pd_resp[60:300,:])"
   ]
  },
  {
   "cell_type": "code",
   "execution_count": 95,
   "metadata": {
    "collapsed": false,
    "jupyter": {
     "outputs_hidden": false
    }
   },
   "outputs": [
    {
     "data": {
      "text/plain": [
       "-6.136705383522833e-6"
      ]
     },
     "execution_count": 95,
     "metadata": {},
     "output_type": "execute_result"
    }
   ],
   "source": [
    "perc_resp_SCC=resp_SCC/SCC"
   ]
  },
  {
   "cell_type": "code",
   "execution_count": 96,
   "metadata": {
    "collapsed": false,
    "jupyter": {
     "outputs_hidden": false
    }
   },
   "outputs": [
    {
     "data": {
      "text/plain": [
       "1×16 Matrix{Union{Missing, Float64}}:\n",
       " -4.56468e-5  -2.09766e-6  -8.03087e-5  …  -7.32067e-6  4.51213e-7"
      ]
     },
     "execution_count": 96,
     "metadata": {},
     "output_type": "execute_result"
    }
   ],
   "source": [
    "reg_resp_SCC=sum(pd_resp[60:300,:],dims=1)"
   ]
  },
  {
   "cell_type": "code",
   "execution_count": 97,
   "metadata": {
    "collapsed": false,
    "jupyter": {
     "outputs_hidden": false
    }
   },
   "outputs": [
    {
     "data": {
      "text/plain": [
       "1×16 Matrix{Float64}:\n",
       " -7.81912e-6  -1.02273e-5  -1.12489e-5  …  -1.16509e-6  2.22939e-5"
      ]
     },
     "execution_count": 97,
     "metadata": {},
     "output_type": "execute_result"
    }
   ],
   "source": [
    "reg_perc_resp_SCC=reg_resp_SCC./reg_SCC"
   ]
  },
  {
   "cell_type": "markdown",
   "metadata": {},
   "source": [
    "## Diarrhea "
   ]
  },
  {
   "cell_type": "code",
   "execution_count": 98,
   "metadata": {
    "tags": []
   },
   "outputs": [],
   "source": [
    "d_1=m1[:vslvmorb, :vsl].*m1[:impactdiarrhoea, :diadead]./(10^9)\n",
    "d_2=m1[:vslvmorb, :vmorb].*m1[:impactdiarrhoea, :diasick]./(10^9)\n",
    "d_3=d_1+d_2\n",
    "pv_d_1=df_r.*d_1\n",
    "pv_d_2=df_r.*d_2\n",
    "pv_d_3=df_r.*d_3;"
   ]
  },
  {
   "cell_type": "code",
   "execution_count": 99,
   "metadata": {
    "collapsed": false,
    "jupyter": {
     "outputs_hidden": false
    }
   },
   "outputs": [
    {
     "data": {
      "text/plain": [
       "8.985932778862734"
      ]
     },
     "execution_count": 99,
     "metadata": {},
     "output_type": "execute_result"
    }
   ],
   "source": [
    "d_1b=m3[:vslvmorb, :vsl].*m3[:impactdiarrhoea, :diadead]./(10^9)\n",
    "d_2b=m3[:vslvmorb, :vmorb].*m3[:impactdiarrhoea, :diasick]./(10^9)\n",
    "d_3b=d_1b+d_2b\n",
    "\n",
    "marg_diar=10^9*(d_3b-d_3)\n",
    "pd_diar=(df_r.*marg_diar)/10^6\n",
    "diar_SCC=sum(pd_diar[60:300,:])"
   ]
  },
  {
   "cell_type": "code",
   "execution_count": 100,
   "metadata": {
    "collapsed": false,
    "jupyter": {
     "outputs_hidden": false
    }
   },
   "outputs": [
    {
     "data": {
      "text/plain": [
       "0.29514368794335466"
      ]
     },
     "execution_count": 100,
     "metadata": {},
     "output_type": "execute_result"
    }
   ],
   "source": [
    "perc_diar_SCC=diar_SCC/SCC"
   ]
  },
  {
   "cell_type": "code",
   "execution_count": 101,
   "metadata": {
    "collapsed": false,
    "jupyter": {
     "outputs_hidden": false
    }
   },
   "outputs": [
    {
     "data": {
      "text/plain": [
       "1×16 Matrix{Union{Missing, Float64}}:\n",
       " 1.81098  0.0  0.780495  0.325504  …  0.280861  2.86365  0.0226673"
      ]
     },
     "execution_count": 101,
     "metadata": {},
     "output_type": "execute_result"
    }
   ],
   "source": [
    "reg_diar_SCC=sum(pd_diar[60:300,:],dims=1)"
   ]
  },
  {
   "cell_type": "code",
   "execution_count": 102,
   "metadata": {
    "collapsed": false,
    "jupyter": {
     "outputs_hidden": false
    }
   },
   "outputs": [
    {
     "data": {
      "text/plain": [
       "1×16 Matrix{Float64}:\n",
       " 0.310214  0.0  0.109325  -1.39302  …  0.60464  0.13697  0.45575  1.11996"
      ]
     },
     "execution_count": 102,
     "metadata": {},
     "output_type": "execute_result"
    }
   ],
   "source": [
    "reg_perc_diar_SCC=reg_diar_SCC./reg_SCC"
   ]
  },
  {
   "cell_type": "markdown",
   "metadata": {},
   "source": [
    "## Hurricane "
   ]
  },
  {
   "cell_type": "code",
   "execution_count": 103,
   "metadata": {
    "tags": []
   },
   "outputs": [],
   "source": [
    "hd_1=m1[:vslvmorb, :vsl].*m1[:impacttropicalstorms, :hurrdead]./(10^9)\n",
    "hd_3=hd_1\n",
    "pv_hd_1=df_r.*hd_1\n",
    "pv_hd_3=pv_hd_1;"
   ]
  },
  {
   "cell_type": "code",
   "execution_count": 104,
   "metadata": {
    "collapsed": false,
    "jupyter": {
     "outputs_hidden": false
    }
   },
   "outputs": [
    {
     "data": {
      "text/plain": [
       "0.10093416984198011"
      ]
     },
     "execution_count": 104,
     "metadata": {},
     "output_type": "execute_result"
    }
   ],
   "source": [
    "hd_1b=m3[:vslvmorb, :vsl].*m3[:impacttropicalstorms, :hurrdead]./(10^9)\n",
    "hd_3b=hd_1b\n",
    "\n",
    "marg_hurr=10^9*(hd_3b-hd_3)\n",
    "pd_hurr=(df_r.*marg_hurr)/10^6\n",
    "hurr_SCC=sum(pd_hurr[60:300,:])"
   ]
  },
  {
   "cell_type": "code",
   "execution_count": 105,
   "metadata": {
    "collapsed": false,
    "jupyter": {
     "outputs_hidden": false
    }
   },
   "outputs": [
    {
     "data": {
      "text/plain": [
       "0.0033151909612251953"
      ]
     },
     "execution_count": 105,
     "metadata": {},
     "output_type": "execute_result"
    }
   ],
   "source": [
    "perc_hurr_SCC=hurr_SCC/SCC"
   ]
  },
  {
   "cell_type": "code",
   "execution_count": 106,
   "metadata": {
    "collapsed": false,
    "jupyter": {
     "outputs_hidden": false
    }
   },
   "outputs": [
    {
     "data": {
      "text/plain": [
       "1×16 Matrix{Union{Missing, Float64}}:\n",
       " 0.0132273  1.31749e-5  7.88796e-5  0.0150242  …  0.0  0.000406936  0.0014369"
      ]
     },
     "execution_count": 106,
     "metadata": {},
     "output_type": "execute_result"
    }
   ],
   "source": [
    "reg_hurr_SCC=sum(pd_hurr[60:300,:],dims=1)"
   ]
  },
  {
   "cell_type": "code",
   "execution_count": 107,
   "metadata": {
    "collapsed": false,
    "jupyter": {
     "outputs_hidden": false
    }
   },
   "outputs": [
    {
     "data": {
      "text/plain": [
       "1×16 Matrix{Float64}:\n",
       " 0.00226578  6.4235e-5  1.10488e-5  -0.0642973  …  0.0  6.47638e-5  0.0709955"
      ]
     },
     "execution_count": 107,
     "metadata": {},
     "output_type": "execute_result"
    }
   ],
   "source": [
    "reg_perc_hurr_SCC=reg_hurr_SCC./reg_SCC"
   ]
  },
  {
   "cell_type": "markdown",
   "metadata": {},
   "source": [
    "## Extratropical Storms"
   ]
  },
  {
   "cell_type": "code",
   "execution_count": 108,
   "metadata": {
    "tags": []
   },
   "outputs": [],
   "source": [
    "es_1=m1[:vslvmorb, :vsl].*m1[:impactextratropicalstorms, :extratropicalstormsdead]./(10^9)\n",
    "es_3=es_1\n",
    "pv_es_1=df_r.*es_1\n",
    "pv_es_3=pv_es_1;"
   ]
  },
  {
   "cell_type": "code",
   "execution_count": 109,
   "metadata": {
    "collapsed": false,
    "jupyter": {
     "outputs_hidden": false
    }
   },
   "outputs": [
    {
     "data": {
      "text/plain": [
       "0.006687173382195212"
      ]
     },
     "execution_count": 109,
     "metadata": {},
     "output_type": "execute_result"
    }
   ],
   "source": [
    "es_1b=m3[:vslvmorb, :vsl].*m3[:impactextratropicalstorms, :extratropicalstormsdead]./(10^9)\n",
    "es_3b=es_1b\n",
    "\n",
    "marg_extra=10^9*(es_3b-es_3)\n",
    "pd_extra=(df_r.*marg_extra)/10^6\n",
    "extra_SCC=sum(pd_extra[60:300,:])"
   ]
  },
  {
   "cell_type": "code",
   "execution_count": 110,
   "metadata": {
    "collapsed": false,
    "jupyter": {
     "outputs_hidden": false
    }
   },
   "outputs": [
    {
     "data": {
      "text/plain": [
       "0.0002196407498818972"
      ]
     },
     "execution_count": 110,
     "metadata": {},
     "output_type": "execute_result"
    }
   ],
   "source": [
    "perc_extra_SCC=extra_SCC/SCC"
   ]
  },
  {
   "cell_type": "code",
   "execution_count": 111,
   "metadata": {
    "collapsed": false,
    "jupyter": {
     "outputs_hidden": false
    }
   },
   "outputs": [
    {
     "data": {
      "text/plain": [
       "1×16 Matrix{Union{Missing, Float64}}:\n",
       " 0.0022986  3.98737e-5  0.00102387  0.000740404  …  0.000105997  0.000333973"
      ]
     },
     "execution_count": 111,
     "metadata": {},
     "output_type": "execute_result"
    }
   ],
   "source": [
    "reg_extra_SCC=sum(pd_extra[60:300,:],dims=1)"
   ]
  },
  {
   "cell_type": "code",
   "execution_count": 112,
   "metadata": {
    "collapsed": false,
    "jupyter": {
     "outputs_hidden": false
    }
   },
   "outputs": [
    {
     "data": {
      "text/plain": [
       "1×16 Matrix{Float64}:\n",
       " 0.000393741  0.000194407  0.000143415  …  4.60658e-6  1.68694e-5  0.0165012"
      ]
     },
     "execution_count": 112,
     "metadata": {},
     "output_type": "execute_result"
    }
   ],
   "source": [
    "reg_perc_extra_SCC=reg_extra_SCC./reg_SCC"
   ]
  },
  {
   "cell_type": "markdown",
   "metadata": {},
   "source": [
    "#### Alternative Regions"
   ]
  },
  {
   "cell_type": "code",
   "execution_count": 113,
   "metadata": {
    "collapsed": false,
    "jupyter": {
     "outputs_hidden": false
    }
   },
   "outputs": [
    {
     "data": {
      "text/plain": [
       "0.0014267033967981081"
      ]
     },
     "execution_count": 113,
     "metadata": {},
     "output_type": "execute_result"
    }
   ],
   "source": [
    "dv_SCC_high=sum(reg_dv_SCC[1:5])\n",
    "dv_SCC_med=(reg_dv_SCC[6]+sum(reg_dv_SCC[8:10])+sum(reg_dv_SCC[12:13]))\n",
    "dv_SCC_low=(reg_dv_SCC[7]+reg_dv_SCC[11]+reg_dv_SCC[14]+reg_dv_SCC[15]+reg_dv_SCC[16])\n",
    "\n",
    "sv_SCC_high=sum(reg_sv_SCC[1:5])\n",
    "sv_SCC_med=(reg_sv_SCC[6]+sum(reg_sv_SCC[8:10])+sum(reg_sv_SCC[12:13]))\n",
    "sv_SCC_low=(reg_sv_SCC[7]+reg_sv_SCC[11]+reg_sv_SCC[14]+reg_sv_SCC[15]+reg_sv_SCC[16])\n",
    "\n",
    "mv_SCC_high=sum(reg_mv_SCC[1:5])\n",
    "mv_SCC_med=(reg_mv_SCC[6]+sum(reg_mv_SCC[8:10])+sum(reg_mv_SCC[12:13]))\n",
    "mv_SCC_low=(reg_mv_SCC[7]+reg_mv_SCC[11]+reg_mv_SCC[14]+reg_mv_SCC[15]+reg_mv_SCC[16])\n",
    "\n",
    "chr_SCC_high=sum(reg_chr_SCC[1:5])\n",
    "chr_SCC_med=(reg_chr_SCC[6]+sum(reg_chr_SCC[8:10])+sum(reg_chr_SCC[12:13]))\n",
    "chr_SCC_low=(reg_chr_SCC[7]+reg_chr_SCC[11]+reg_chr_SCC[14]+reg_chr_SCC[15]+reg_chr_SCC[16])\n",
    "\n",
    "ccr_SCC_high=sum(reg_ccr_SCC[1:5])\n",
    "ccr_SCC_med=(reg_ccr_SCC[6]+sum(reg_ccr_SCC[8:10])+sum(reg_ccr_SCC[12:13]))\n",
    "ccr_SCC_low=(reg_ccr_SCC[7]+reg_ccr_SCC[11]+reg_ccr_SCC[14]+reg_ccr_SCC[15]+reg_ccr_SCC[16])\n",
    "\n",
    "resp_SCC_high=sum(reg_resp_SCC[1:5])\n",
    "resp_SCC_med=(reg_resp_SCC[6]+sum(reg_resp_SCC[8:10])+sum(reg_resp_SCC[12:13]))\n",
    "resp_SCC_low=(reg_resp_SCC[7]+reg_resp_SCC[11]+reg_resp_SCC[14]+reg_resp_SCC[15]+reg_resp_SCC[16])\n",
    "\n",
    "diar_SCC_high=sum(reg_diar_SCC[1:5])\n",
    "diar_SCC_med=(reg_diar_SCC[6]+sum(reg_diar_SCC[8:10])+sum(reg_diar_SCC[12:13]))\n",
    "diar_SCC_low=(reg_diar_SCC[7]+reg_diar_SCC[11]+reg_diar_SCC[14]+reg_diar_SCC[15]+reg_diar_SCC[16])\n",
    "\n",
    "hurr_SCC_high=sum(reg_hurr_SCC[1:5])\n",
    "hurr_SCC_med=(reg_hurr_SCC[6]+sum(reg_hurr_SCC[8:10])+sum(reg_hurr_SCC[12:13]))\n",
    "hurr_SCC_low=(reg_hurr_SCC[7]+reg_hurr_SCC[11]+reg_hurr_SCC[14]+reg_hurr_SCC[15]+reg_hurr_SCC[16])\n",
    "\n",
    "extra_SCC_high=sum(reg_extra_SCC[1:5])\n",
    "extra_SCC_med=(reg_extra_SCC[6]+sum(reg_extra_SCC[8:10])+sum(reg_extra_SCC[12:13]))\n",
    "extra_SCC_low=(reg_extra_SCC[7]+reg_extra_SCC[11]+reg_extra_SCC[14]+reg_extra_SCC[15]+reg_extra_SCC[16])\n"
   ]
  },
  {
   "cell_type": "markdown",
   "metadata": {},
   "source": [
    "# Mortality Endpoint"
   ]
  },
  {
   "cell_type": "markdown",
   "metadata": {},
   "source": [
    "## Dengue Fever"
   ]
  },
  {
   "cell_type": "markdown",
   "metadata": {},
   "source": [
    "### Regional"
   ]
  },
  {
   "cell_type": "code",
   "execution_count": 114,
   "metadata": {
    "collapsed": false,
    "jupyter": {
     "outputs_hidden": false
    }
   },
   "outputs": [],
   "source": [
    "dead_d=m1[:impactvectorbornediseases, :dengue]\n",
    "dead_d_region=dead_d[50:350,:];"
   ]
  },
  {
   "cell_type": "code",
   "execution_count": 115,
   "metadata": {
    "tags": []
   },
   "outputs": [],
   "source": [
    "Kevin_d_dead=permutedims(sum(dead_d[50:350,:],dims=1));"
   ]
  },
  {
   "cell_type": "markdown",
   "metadata": {},
   "source": [
    "### Global "
   ]
  },
  {
   "cell_type": "code",
   "execution_count": 116,
   "metadata": {
    "collapsed": false,
    "jupyter": {
     "outputs_hidden": false
    }
   },
   "outputs": [],
   "source": [
    "dead_d_sum=sum(dead_d,dims=2)\n",
    "dead_d_global=dead_d_sum[50:350,:];"
   ]
  },
  {
   "cell_type": "markdown",
   "metadata": {},
   "source": [
    "## Schisto"
   ]
  },
  {
   "cell_type": "markdown",
   "metadata": {},
   "source": [
    "### Regional"
   ]
  },
  {
   "cell_type": "code",
   "execution_count": 117,
   "metadata": {
    "collapsed": false,
    "jupyter": {
     "outputs_hidden": false
    }
   },
   "outputs": [],
   "source": [
    "dead_s=m1[:impactvectorbornediseases, :schisto]\n",
    "dead_s_region=dead_s[50:350,:];"
   ]
  },
  {
   "cell_type": "code",
   "execution_count": 118,
   "metadata": {
    "tags": []
   },
   "outputs": [],
   "source": [
    "Kevin_s_dead=permutedims(sum(dead_s[50:350,:],dims=1));"
   ]
  },
  {
   "cell_type": "markdown",
   "metadata": {},
   "source": [
    "### Global "
   ]
  },
  {
   "cell_type": "code",
   "execution_count": 119,
   "metadata": {
    "tags": []
   },
   "outputs": [],
   "source": [
    "dead_s_sum=sum(dead_s,dims=2)\n",
    "dead_s_global=dead_s_sum[50:350,:];"
   ]
  },
  {
   "cell_type": "markdown",
   "metadata": {},
   "source": [
    "## Malaria"
   ]
  },
  {
   "cell_type": "markdown",
   "metadata": {},
   "source": [
    "### Regional"
   ]
  },
  {
   "cell_type": "code",
   "execution_count": 120,
   "metadata": {
    "tags": []
   },
   "outputs": [],
   "source": [
    "dead_m=m1[:impactvectorbornediseases, :malaria]\n",
    "dead_m_region=dead_m[50:350,:];"
   ]
  },
  {
   "cell_type": "code",
   "execution_count": 121,
   "metadata": {
    "collapsed": false,
    "jupyter": {
     "outputs_hidden": false
    }
   },
   "outputs": [],
   "source": [
    "Kevin_m_dead=permutedims(sum(dead_m[50:350,:],dims=1));"
   ]
  },
  {
   "cell_type": "markdown",
   "metadata": {},
   "source": [
    "### Global "
   ]
  },
  {
   "cell_type": "code",
   "execution_count": 122,
   "metadata": {
    "tags": []
   },
   "outputs": [],
   "source": [
    "dead_m_sum=sum(dead_m,dims=2)\n",
    "dead_m_global=dead_m_sum[50:350,:];"
   ]
  },
  {
   "cell_type": "markdown",
   "metadata": {},
   "source": [
    "## Cardio - Heat"
   ]
  },
  {
   "cell_type": "markdown",
   "metadata": {},
   "source": [
    "### Regional"
   ]
  },
  {
   "cell_type": "code",
   "execution_count": 123,
   "metadata": {
    "tags": []
   },
   "outputs": [],
   "source": [
    "dead_ch=m1[:impactcardiovascularrespiratory, :cardheat]\n",
    "dead_ch_region=dead_ch[50:350,:];"
   ]
  },
  {
   "cell_type": "code",
   "execution_count": 124,
   "metadata": {
    "collapsed": false,
    "jupyter": {
     "outputs_hidden": false
    }
   },
   "outputs": [
    {
     "data": {
      "text/plain": [
       "16×1 Matrix{Union{Missing, Float64}}:\n",
       "  21764.9457211987\n",
       "   2321.9442287785932\n",
       "  34255.072670982176\n",
       "  14539.817332845623\n",
       "   1672.765871112701\n",
       "  11864.118577628858\n",
       "  35013.71996286274\n",
       "  20500.275667698683\n",
       "   7670.530316010307\n",
       "  23430.619167311277\n",
       " 110654.32534969572\n",
       "      6.339410953088908\n",
       " 124917.59277836658\n",
       "  14925.539466278024\n",
       "  37185.297333189155\n",
       "   3091.7200652289653"
      ]
     },
     "execution_count": 124,
     "metadata": {},
     "output_type": "execute_result"
    }
   ],
   "source": [
    "Kevin_ch_dead=permutedims(sum(dead_ch[50:350,:],dims=1))"
   ]
  },
  {
   "cell_type": "markdown",
   "metadata": {},
   "source": [
    "### Global "
   ]
  },
  {
   "cell_type": "code",
   "execution_count": 125,
   "metadata": {
    "tags": []
   },
   "outputs": [],
   "source": [
    "dead_ch_sum=sum(dead_ch,dims=2)\n",
    "dead_ch_global=dead_ch_sum[50:350,:];"
   ]
  },
  {
   "cell_type": "markdown",
   "metadata": {},
   "source": [
    "## Cardio - Cold "
   ]
  },
  {
   "cell_type": "markdown",
   "metadata": {},
   "source": [
    "### Regional"
   ]
  },
  {
   "cell_type": "code",
   "execution_count": 126,
   "metadata": {
    "tags": []
   },
   "outputs": [],
   "source": [
    "dead_cc=m1[:impactcardiovascularrespiratory, :cardcold]\n",
    "dead_cc_region=dead_ch[50:350,:];"
   ]
  },
  {
   "cell_type": "code",
   "execution_count": 127,
   "metadata": {
    "collapsed": false,
    "jupyter": {
     "outputs_hidden": false
    }
   },
   "outputs": [
    {
     "data": {
      "text/plain": [
       "16×1 Matrix{Union{Missing, Float64}}:\n",
       "  -23029.82193703391\n",
       "   -2466.5517792513233\n",
       "  -38052.7755130413\n",
       "  -15361.178022272654\n",
       "   -1774.4239715126264\n",
       "  -13934.59881581233\n",
       "  -43507.193195382926\n",
       "  -23587.88625469136\n",
       "   -8727.543487206942\n",
       "  -25786.68747573516\n",
       " -156149.14980700292\n",
       "   -2581.6930224682233\n",
       " -151149.6310332076\n",
       "  -18443.22200791672\n",
       "  -50880.506199083895\n",
       "   -3787.4777891167923"
      ]
     },
     "execution_count": 127,
     "metadata": {},
     "output_type": "execute_result"
    }
   ],
   "source": [
    "Kevin_cc_dead=permutedims(sum(dead_cc[50:350,:],dims=1))"
   ]
  },
  {
   "cell_type": "markdown",
   "metadata": {},
   "source": [
    "### Global "
   ]
  },
  {
   "cell_type": "code",
   "execution_count": 128,
   "metadata": {
    "tags": []
   },
   "outputs": [],
   "source": [
    "dead_cc_sum=sum(dead_cc,dims=2)\n",
    "dead_cc_global=dead_cc_sum[50:350,:];"
   ]
  },
  {
   "cell_type": "markdown",
   "metadata": {},
   "source": [
    "## Respiratory"
   ]
  },
  {
   "cell_type": "markdown",
   "metadata": {},
   "source": [
    "### Regional"
   ]
  },
  {
   "cell_type": "code",
   "execution_count": 129,
   "metadata": {
    "tags": []
   },
   "outputs": [],
   "source": [
    "dead_r=m1[:impactcardiovascularrespiratory, :resp]\n",
    "dead_r_region=dead_ch[50:350,:];"
   ]
  },
  {
   "cell_type": "code",
   "execution_count": 130,
   "metadata": {
    "collapsed": false,
    "jupyter": {
     "outputs_hidden": false
    }
   },
   "outputs": [
    {
     "data": {
      "text/plain": [
       "16×1 Matrix{Union{Missing, Float64}}:\n",
       "  2604.3009695710693\n",
       "   187.47745118130547\n",
       "  2877.2166438179333\n",
       "  1519.799916389879\n",
       "   180.73663983574554\n",
       "   590.6577390376381\n",
       "  2091.4976629284547\n",
       "  1703.7930582368592\n",
       "  1176.409615733008\n",
       "  3383.8376034780977\n",
       " 12283.519355423767\n",
       "  6024.946851031833\n",
       "  7342.791899208971\n",
       "  1869.487532668165\n",
       "  6750.539180689936\n",
       "   409.3824016098244"
      ]
     },
     "execution_count": 130,
     "metadata": {},
     "output_type": "execute_result"
    }
   ],
   "source": [
    "Kevin_r_dead=permutedims(sum(dead_r[50:350,:],dims=1))"
   ]
  },
  {
   "cell_type": "markdown",
   "metadata": {},
   "source": [
    "### Global "
   ]
  },
  {
   "cell_type": "code",
   "execution_count": 131,
   "metadata": {
    "tags": []
   },
   "outputs": [],
   "source": [
    "dead_r_sum=sum(dead_r,dims=2)\n",
    "dead_r_global=dead_r_sum[50:350,:];"
   ]
  },
  {
   "cell_type": "markdown",
   "metadata": {},
   "source": [
    "## Diarrhea"
   ]
  },
  {
   "cell_type": "markdown",
   "metadata": {},
   "source": [
    "### Regional"
   ]
  },
  {
   "cell_type": "code",
   "execution_count": 132,
   "metadata": {
    "collapsed": false,
    "jupyter": {
     "outputs_hidden": false
    }
   },
   "outputs": [
    {
     "data": {
      "text/plain": [
       "1×16 Matrix{Union{Missing, Float64}}:\n",
       " 2.57589e6  0.0  1.37996e6  4.4346e5  …  1.59252e7  3.14025e8  9.46657e5"
      ]
     },
     "execution_count": 132,
     "metadata": {},
     "output_type": "execute_result"
    }
   ],
   "source": [
    "dead_diah=m1[:impactdiarrhoea, :diadead]\n",
    "dead_diah_reg=sum(dead_diah[50:350,:],dims=1)"
   ]
  },
  {
   "cell_type": "code",
   "execution_count": 133,
   "metadata": {
    "collapsed": false,
    "jupyter": {
     "outputs_hidden": false
    }
   },
   "outputs": [
    {
     "data": {
      "text/plain": [
       "16×1 Matrix{Union{Missing, Float64}}:\n",
       "      2.5758945132456003e6\n",
       "      0.0\n",
       "      1.3799557129444862e6\n",
       " 443460.3920514853\n",
       "   3492.1863118039437\n",
       " 677572.9412479668\n",
       "      2.1666917515632924e7\n",
       "      2.0679217502939308e6\n",
       "      2.492150203981022e6\n",
       "      6.526891294963131e6\n",
       "      4.419776721777987e7\n",
       "      7.063348944914783e6\n",
       "      3.1622542102847125e7\n",
       "      1.592517377183607e7\n",
       "      3.1402502205516857e8\n",
       " 946657.3394748004"
      ]
     },
     "execution_count": 133,
     "metadata": {},
     "output_type": "execute_result"
    }
   ],
   "source": [
    "Kevin_diar_death=permutedims(dead_diah_reg)"
   ]
  },
  {
   "cell_type": "markdown",
   "metadata": {},
   "source": [
    "### Global "
   ]
  },
  {
   "cell_type": "code",
   "execution_count": 134,
   "metadata": {
    "tags": []
   },
   "outputs": [],
   "source": [
    "dead_diah_sum=sum(dead_diah,dims=2)\n",
    "dead_diah_global=dead_diah_sum[50:350,:];"
   ]
  },
  {
   "cell_type": "markdown",
   "metadata": {},
   "source": [
    "## Hurricane"
   ]
  },
  {
   "cell_type": "markdown",
   "metadata": {},
   "source": [
    "### Regional"
   ]
  },
  {
   "cell_type": "code",
   "execution_count": 135,
   "metadata": {
    "collapsed": false,
    "jupyter": {
     "outputs_hidden": false
    }
   },
   "outputs": [
    {
     "data": {
      "text/plain": [
       "1×16 Matrix{Union{Missing, Float64}}:\n",
       " 20693.2  29.2568  153.896  21456.1  …  84895.3  0.0  44601.5  61078.1"
      ]
     },
     "execution_count": 135,
     "metadata": {},
     "output_type": "execute_result"
    }
   ],
   "source": [
    "dead_hurr=m1[:impacttropicalstorms, :hurrdead];\n",
    "dead_hurr_reg=sum(dead_hurr[50:350,:],dims=1)"
   ]
  },
  {
   "cell_type": "code",
   "execution_count": 136,
   "metadata": {
    "tags": []
   },
   "outputs": [],
   "source": [
    "Kevin_hurr_dead=permutedims(sum(dead_hurr[50:350,:],dims=1));"
   ]
  },
  {
   "cell_type": "markdown",
   "metadata": {},
   "source": [
    "### Global "
   ]
  },
  {
   "cell_type": "code",
   "execution_count": 137,
   "metadata": {
    "collapsed": false,
    "jupyter": {
     "outputs_hidden": false
    }
   },
   "outputs": [],
   "source": [
    "dead_hurr_sum=sum(dead_hurr,dims=2)\n",
    "dead_hurr_global=dead_hurr_sum[50:350,:];"
   ]
  },
  {
   "cell_type": "markdown",
   "metadata": {},
   "source": [
    "## Extra-tropical"
   ]
  },
  {
   "cell_type": "markdown",
   "metadata": {},
   "source": [
    "### Regional"
   ]
  },
  {
   "cell_type": "code",
   "execution_count": 138,
   "metadata": {
    "collapsed": false,
    "jupyter": {
     "outputs_hidden": false
    }
   },
   "outputs": [
    {
     "data": {
      "text/plain": [
       "1×16 Matrix{Union{Missing, Float64}}:\n",
       " 3347.24  82.3232  1853.24  998.929  …  7454.11  553.446  11987.4  13542.4"
      ]
     },
     "execution_count": 138,
     "metadata": {},
     "output_type": "execute_result"
    }
   ],
   "source": [
    "dead_extra=m1[:impactextratropicalstorms, :extratropicalstormsdead];\n",
    "dead_extra_reg=sum(dead_extra[50:350,:],dims=1)"
   ]
  },
  {
   "cell_type": "code",
   "execution_count": 139,
   "metadata": {
    "tags": []
   },
   "outputs": [],
   "source": [
    "Kevin_extra_dead=permutedims(sum(dead_extra[50:350,:],dims=1));"
   ]
  },
  {
   "cell_type": "markdown",
   "metadata": {},
   "source": [
    "### Global "
   ]
  },
  {
   "cell_type": "code",
   "execution_count": 140,
   "metadata": {
    "collapsed": false,
    "jupyter": {
     "outputs_hidden": false
    }
   },
   "outputs": [],
   "source": [
    "dead_extra_sum=sum(dead_extra,dims=2)\n",
    "dead_extra_global=dead_extra_sum[50:350,:];"
   ]
  },
  {
   "cell_type": "markdown",
   "metadata": {},
   "source": [
    "# SCC - Breakdown"
   ]
  },
  {
   "cell_type": "markdown",
   "metadata": {},
   "source": [
    "## Agriculture "
   ]
  },
  {
   "cell_type": "code",
   "execution_count": 141,
   "metadata": {
    "collapsed": false,
    "jupyter": {
     "outputs_hidden": false
    }
   },
   "outputs": [
    {
     "data": {
      "text/plain": [
       "-6.209574193783242"
      ]
     },
     "execution_count": 141,
     "metadata": {},
     "output_type": "execute_result"
    }
   ],
   "source": [
    "agr_1=m1[:impactagriculture, :agcost]\n",
    "pv_agr_1=df_r.*agr_1;\n",
    "agr_3=m3[:impactagriculture, :agcost]\n",
    "pv_agr_3=df_r.*agr_3;\n",
    "marg_agr=1000000000.0*(agr_3-agr_1);\n",
    "pd_agr=(df_r.*marg_agr)/10^6\n",
    "agr_SCC=-1*sum(pd_agr[60:300,:])"
   ]
  },
  {
   "cell_type": "code",
   "execution_count": 142,
   "metadata": {
    "collapsed": false,
    "jupyter": {
     "outputs_hidden": false
    }
   },
   "outputs": [
    {
     "data": {
      "text/plain": [
       "-0.20395396596134108"
      ]
     },
     "execution_count": 142,
     "metadata": {},
     "output_type": "execute_result"
    }
   ],
   "source": [
    "perc_agr_SCC=agr_SCC/SCC"
   ]
  },
  {
   "cell_type": "markdown",
   "metadata": {},
   "source": [
    "## Cooling"
   ]
  },
  {
   "cell_type": "code",
   "execution_count": 143,
   "metadata": {
    "collapsed": false,
    "jupyter": {
     "outputs_hidden": false
    }
   },
   "outputs": [
    {
     "data": {
      "text/plain": [
       "24.150447521517144"
      ]
     },
     "execution_count": 143,
     "metadata": {},
     "output_type": "execute_result"
    }
   ],
   "source": [
    "cool_1=m1[:impactcooling, :cooling]\n",
    "pv_cool_1=df_r.*cool_1;\n",
    "cool_3=m3[:impactcooling, :cooling]\n",
    "pv_cool_3=df_r.*cool_3;\n",
    "marg_cool=1000000000.0*(cool_3-cool_1);\n",
    "pd_cool=(df_r.*marg_cool)/10^6\n",
    "cool_SCC=-1*sum(pd_cool[60:300,:])"
   ]
  },
  {
   "cell_type": "code",
   "execution_count": 144,
   "metadata": {
    "collapsed": false,
    "jupyter": {
     "outputs_hidden": false
    }
   },
   "outputs": [
    {
     "data": {
      "text/plain": [
       "0.793223399550639"
      ]
     },
     "execution_count": 144,
     "metadata": {},
     "output_type": "execute_result"
    }
   ],
   "source": [
    "perc_cool_SCC=cool_SCC/SCC"
   ]
  },
  {
   "cell_type": "markdown",
   "metadata": {},
   "source": [
    "## Biodiversity"
   ]
  },
  {
   "cell_type": "code",
   "execution_count": 145,
   "metadata": {
    "collapsed": false,
    "jupyter": {
     "outputs_hidden": false
    }
   },
   "outputs": [
    {
     "data": {
      "text/plain": [
       "1.548081341344731"
      ]
     },
     "execution_count": 145,
     "metadata": {},
     "output_type": "execute_result"
    }
   ],
   "source": [
    "bio_1=m1[:impactbiodiversity, :species]\n",
    "bio_3=m3[:impactbiodiversity, :species]\n",
    "marg_bio=1000000000.0*(bio_3-bio_1);\n",
    "pd_bio=(df_r.*marg_bio)/10^6\n",
    "bio_SCC=sum(pd_bio[60:300,:])"
   ]
  },
  {
   "cell_type": "code",
   "execution_count": 146,
   "metadata": {
    "collapsed": false,
    "jupyter": {
     "outputs_hidden": false
    }
   },
   "outputs": [
    {
     "data": {
      "text/plain": [
       "0.05084685669979"
      ]
     },
     "execution_count": 146,
     "metadata": {},
     "output_type": "execute_result"
    }
   ],
   "source": [
    "perc_bio_SCC=bio_SCC/SCC"
   ]
  },
  {
   "cell_type": "markdown",
   "metadata": {},
   "source": [
    "## Extra-tropical storm: Non-health "
   ]
  },
  {
   "cell_type": "code",
   "execution_count": 147,
   "metadata": {
    "collapsed": false,
    "jupyter": {
     "outputs_hidden": false
    }
   },
   "outputs": [
    {
     "data": {
      "text/plain": [
       "0.017552555003359085"
      ]
     },
     "execution_count": 147,
     "metadata": {},
     "output_type": "execute_result"
    }
   ],
   "source": [
    "extra_dam_1=m1[:impactextratropicalstorms, :extratropicalstormsdam]\n",
    "extra_dam_3=m3[:impactextratropicalstorms, :extratropicalstormsdam]\n",
    "marg_extra_dam=1000000000.0*(extra_dam_3-extra_dam_1);\n",
    "pd_extra_dam=(df_r.*marg_extra_dam)/10^6\n",
    "extra_dam_SCC=sum(pd_extra_dam[60:300,:])"
   ]
  },
  {
   "cell_type": "code",
   "execution_count": 148,
   "metadata": {
    "collapsed": false,
    "jupyter": {
     "outputs_hidden": false
    }
   },
   "outputs": [
    {
     "data": {
      "text/plain": [
       "0.0005765150868595339"
      ]
     },
     "execution_count": 148,
     "metadata": {},
     "output_type": "execute_result"
    }
   ],
   "source": [
    "perc_extra_dam_SCC=extra_dam_SCC/SCC"
   ]
  },
  {
   "cell_type": "markdown",
   "metadata": {},
   "source": [
    "## Forestry"
   ]
  },
  {
   "cell_type": "code",
   "execution_count": 149,
   "metadata": {
    "collapsed": false,
    "jupyter": {
     "outputs_hidden": false
    }
   },
   "outputs": [
    {
     "data": {
      "text/plain": [
       "-0.12672676345746314"
      ]
     },
     "execution_count": 149,
     "metadata": {},
     "output_type": "execute_result"
    }
   ],
   "source": [
    "forest_1=m1[:impactforests, :forests]\n",
    "forest_3=m3[:impactforests, :forests]\n",
    "marg_forest=1000000000.0*(forest_3-forest_1);\n",
    "pd_forest=(df_r.*marg_forest)/10^6\n",
    "forest_SCC=-1*sum(pd_forest[60:300,:])"
   ]
  },
  {
   "cell_type": "code",
   "execution_count": 150,
   "metadata": {
    "collapsed": false,
    "jupyter": {
     "outputs_hidden": false
    }
   },
   "outputs": [
    {
     "data": {
      "text/plain": [
       "-0.004162350781873368"
      ]
     },
     "execution_count": 150,
     "metadata": {},
     "output_type": "execute_result"
    }
   ],
   "source": [
    "perc_forest_SCC=forest_SCC/SCC"
   ]
  },
  {
   "cell_type": "markdown",
   "metadata": {},
   "source": [
    "## Health"
   ]
  },
  {
   "cell_type": "code",
   "execution_count": 151,
   "metadata": {
    "collapsed": false,
    "jupyter": {
     "outputs_hidden": false
    }
   },
   "outputs": [
    {
     "data": {
      "text/plain": [
       "12.342858128849794"
      ]
     },
     "execution_count": 151,
     "metadata": {},
     "output_type": "execute_result"
    }
   ],
   "source": [
    "health_alt_1=m1[:impactdeathmorbidity, :deadcost]+m1[:impactdeathmorbidity, :morbcost]\n",
    "health_alt_3=m3[:impactdeathmorbidity, :deadcost]+m3[:impactdeathmorbidity, :morbcost]\n",
    "marg_health_alt=1000000000.0*(health_alt_3-health_alt_1);\n",
    "pd_health_alt=(df_r.*marg_health_alt)/10^6\n",
    "health_alt_SCC=sum(pd_health_alt[60:300,:])## Health"
   ]
  },
  {
   "cell_type": "code",
   "execution_count": 152,
   "metadata": {
    "collapsed": false,
    "jupyter": {
     "outputs_hidden": false
    }
   },
   "outputs": [
    {
     "data": {
      "text/plain": [
       "0.4054021722129321"
      ]
     },
     "execution_count": 152,
     "metadata": {},
     "output_type": "execute_result"
    }
   ],
   "source": [
    "perc_health_alt_SCC=health_alt_SCC/SCC"
   ]
  },
  {
   "cell_type": "markdown",
   "metadata": {},
   "source": [
    "## Heating "
   ]
  },
  {
   "cell_type": "code",
   "execution_count": 153,
   "metadata": {
    "collapsed": false,
    "jupyter": {
     "outputs_hidden": false
    }
   },
   "outputs": [
    {
     "data": {
      "text/plain": [
       "-4.837733447093496"
      ]
     },
     "execution_count": 153,
     "metadata": {},
     "output_type": "execute_result"
    }
   ],
   "source": [
    "heat_1=m1[:impactheating, :heating]\n",
    "pv_heat_1=df_r.*heat_1;\n",
    "heat_3=m3[:impactheating, :heating]\n",
    "pv_heat_3=df_r.*heat_3;\n",
    "marg_heat=1000000000.0*(heat_3-heat_1);\n",
    "pd_heat=(df_r.*marg_heat)/10^6\n",
    "heat_SCC=-1*sum(pd_heat[60:300,:])"
   ]
  },
  {
   "cell_type": "code",
   "execution_count": 154,
   "metadata": {
    "collapsed": false,
    "jupyter": {
     "outputs_hidden": false
    }
   },
   "outputs": [
    {
     "data": {
      "text/plain": [
       "-0.15889574582849247"
      ]
     },
     "execution_count": 154,
     "metadata": {},
     "output_type": "execute_result"
    }
   ],
   "source": [
    "perc_heat_SCC=heat_SCC/SCC"
   ]
  },
  {
   "cell_type": "markdown",
   "metadata": {},
   "source": [
    "## Energy Consumption"
   ]
  },
  {
   "cell_type": "code",
   "execution_count": 155,
   "metadata": {
    "collapsed": false,
    "jupyter": {
     "outputs_hidden": false
    }
   },
   "outputs": [
    {
     "data": {
      "text/plain": [
       "19.31271407442365"
      ]
     },
     "execution_count": 155,
     "metadata": {},
     "output_type": "execute_result"
    }
   ],
   "source": [
    "energy_SCC=heat_SCC+cool_SCC"
   ]
  },
  {
   "cell_type": "code",
   "execution_count": 156,
   "metadata": {
    "collapsed": false,
    "jupyter": {
     "outputs_hidden": false
    }
   },
   "outputs": [
    {
     "data": {
      "text/plain": [
       "0.6343276537221466"
      ]
     },
     "execution_count": 156,
     "metadata": {},
     "output_type": "execute_result"
    }
   ],
   "source": [
    "perc_energy_SCC=energy_SCC/SCC"
   ]
  },
  {
   "cell_type": "markdown",
   "metadata": {},
   "source": [
    "## Sea-level rise"
   ]
  },
  {
   "cell_type": "code",
   "execution_count": 157,
   "metadata": {
    "collapsed": false,
    "jupyter": {
     "outputs_hidden": false
    }
   },
   "outputs": [
    {
     "data": {
      "text/plain": [
       "0.4734398948977594"
      ]
     },
     "execution_count": 157,
     "metadata": {},
     "output_type": "execute_result"
    }
   ],
   "source": [
    "slr_1=m1[:impactsealevelrise, :leavecost]+m1[:impactsealevelrise, :entercost]\n",
    "slr_1=slr_1+m1[:impactsealevelrise, :drycost]+m1[:impactsealevelrise, :protcost]\n",
    "slr_1=slr_1+m1[:impactsealevelrise, :wetcost]\n",
    "pv_slr_1=df_r.*slr_1;\n",
    "slr_3=m3[:impactsealevelrise, :leavecost]+m3[:impactsealevelrise, :entercost]\n",
    "slr_3=slr_3+m3[:impactsealevelrise, :drycost]+m3[:impactsealevelrise, :protcost]\n",
    "slr_3=slr_3+m3[:impactsealevelrise, :wetcost]\n",
    "pv_slr_3=df_r.*slr_3;\n",
    "marg_slr=1000000000.0*(slr_3-slr_1);\n",
    "pd_slr=(df_r.*marg_slr)/10^6\n",
    "slr_SCC=sum(pd_slr[60:300,:])"
   ]
  },
  {
   "cell_type": "code",
   "execution_count": 158,
   "metadata": {
    "collapsed": false,
    "jupyter": {
     "outputs_hidden": false
    }
   },
   "outputs": [
    {
     "data": {
      "text/plain": [
       "0.015550171589122839"
      ]
     },
     "execution_count": 158,
     "metadata": {},
     "output_type": "execute_result"
    }
   ],
   "source": [
    "perc_slr_SCC=slr_SCC/SCC"
   ]
  },
  {
   "cell_type": "markdown",
   "metadata": {},
   "source": [
    "## Tropical - Non-health"
   ]
  },
  {
   "cell_type": "code",
   "execution_count": 159,
   "metadata": {
    "collapsed": false,
    "jupyter": {
     "outputs_hidden": false
    }
   },
   "outputs": [
    {
     "data": {
      "text/plain": [
       "0.19376623695365866"
      ]
     },
     "execution_count": 159,
     "metadata": {},
     "output_type": "execute_result"
    }
   ],
   "source": [
    "hurr_dam_1=m1[:impacttropicalstorms, :hurrdam]\n",
    "hurr_dam_3=m3[:impacttropicalstorms, :hurrdam]\n",
    "marg_hurr_dam=1000000000.0*(hurr_dam_3-hurr_dam_1);\n",
    "pd_hurr_dam=(df_r.*marg_hurr_dam)/10^6\n",
    "hurr_dam_SCC=sum(pd_hurr_dam[60:300,:])"
   ]
  },
  {
   "cell_type": "code",
   "execution_count": 160,
   "metadata": {
    "collapsed": false,
    "jupyter": {
     "outputs_hidden": false
    }
   },
   "outputs": [
    {
     "data": {
      "text/plain": [
       "0.0063642677038417165"
      ]
     },
     "execution_count": 160,
     "metadata": {},
     "output_type": "execute_result"
    }
   ],
   "source": [
    "perc_hurr_dam_SCC=hurr_dam_SCC/SCC"
   ]
  },
  {
   "cell_type": "markdown",
   "metadata": {},
   "source": [
    "## Storms"
   ]
  },
  {
   "cell_type": "code",
   "execution_count": 161,
   "metadata": {
    "collapsed": false,
    "jupyter": {
     "outputs_hidden": false
    }
   },
   "outputs": [
    {
     "data": {
      "text/plain": [
       "0.21131879195701775"
      ]
     },
     "execution_count": 161,
     "metadata": {},
     "output_type": "execute_result"
    }
   ],
   "source": [
    "storm_SCC=hurr_dam_SCC+extra_dam_SCC"
   ]
  },
  {
   "cell_type": "code",
   "execution_count": 162,
   "metadata": {
    "collapsed": false,
    "jupyter": {
     "outputs_hidden": false
    }
   },
   "outputs": [
    {
     "data": {
      "text/plain": [
       "0.0069407827907012505"
      ]
     },
     "execution_count": 162,
     "metadata": {},
     "output_type": "execute_result"
    }
   ],
   "source": [
    "perc_storm_SCC=perc_hurr_dam_SCC+perc_extra_dam_SCC"
   ]
  },
  {
   "cell_type": "markdown",
   "metadata": {},
   "source": [
    "## Water"
   ]
  },
  {
   "cell_type": "code",
   "execution_count": 163,
   "metadata": {
    "collapsed": false,
    "jupyter": {
     "outputs_hidden": false
    }
   },
   "outputs": [
    {
     "data": {
      "text/plain": [
       "2.8938482565124017"
      ]
     },
     "execution_count": 163,
     "metadata": {},
     "output_type": "execute_result"
    }
   ],
   "source": [
    "water_1=m1[:impactwaterresources, :water]\n",
    "pv_water_1=df_r.*water_1;\n",
    "water_3=m3[:impactwaterresources, :water]\n",
    "pv_water_3=df_r.*water_3;\n",
    "marg_water=1000000000.0*(water_3-water_1);\n",
    "pd_water=(df_r.*marg_water)/10^6\n",
    "water_SCC=-1*sum(pd_water[60:300,:])"
   ]
  },
  {
   "cell_type": "code",
   "execution_count": 164,
   "metadata": {
    "collapsed": false,
    "jupyter": {
     "outputs_hidden": false
    }
   },
   "outputs": [
    {
     "data": {
      "text/plain": [
       "0.09504867973023196"
      ]
     },
     "execution_count": 164,
     "metadata": {},
     "output_type": "execute_result"
    }
   ],
   "source": [
    "perc_water_SCC=water_SCC/SCC"
   ]
  },
  {
   "cell_type": "markdown",
   "metadata": {},
   "source": [
    "## Other"
   ]
  },
  {
   "cell_type": "code",
   "execution_count": 165,
   "metadata": {
    "collapsed": false,
    "jupyter": {
     "outputs_hidden": false
    }
   },
   "outputs": [
    {
     "data": {
      "text/plain": [
       "0.0"
      ]
     },
     "execution_count": 165,
     "metadata": {},
     "output_type": "execute_result"
    }
   ],
   "source": [
    "eloss_other=m1[:impactaggregation, :eloss_other]\n",
    "eloss_other=sum(eloss_other)"
   ]
  },
  {
   "cell_type": "code",
   "execution_count": 166,
   "metadata": {
    "collapsed": false,
    "jupyter": {
     "outputs_hidden": false
    }
   },
   "outputs": [
    {
     "data": {
      "text/plain": [
       "0.0"
      ]
     },
     "execution_count": 166,
     "metadata": {},
     "output_type": "execute_result"
    }
   ],
   "source": [
    "sloss_other=m1[:impactaggregation, :sloss_other]\n",
    "sloss_other=sum(sloss_other)"
   ]
  },
  {
   "cell_type": "markdown",
   "metadata": {},
   "source": [
    "## SCC - Check"
   ]
  },
  {
   "cell_type": "markdown",
   "metadata": {},
   "source": [
    "### SCC-Aggregate"
   ]
  },
  {
   "cell_type": "code",
   "execution_count": 167,
   "metadata": {
    "collapsed": false,
    "jupyter": {
     "outputs_hidden": false
    }
   },
   "outputs": [
    {
     "data": {
      "text/plain": [
       "30.445959530692576"
      ]
     },
     "execution_count": 167,
     "metadata": {},
     "output_type": "execute_result"
    }
   ],
   "source": [
    "SCC_Check_1=m1[:impactaggregation, :loss]\n",
    "SCC_Check_3=m3[:impactaggregation, :loss]\n",
    "marg_SCC_Check=(SCC_Check_3-SCC_Check_1);\n",
    "pd_SCC_Check=(df_r.*marg_SCC_Check)/10^6\n",
    "SCC_Check=sum(pd_SCC_Check[60:300,:])"
   ]
  },
  {
   "cell_type": "markdown",
   "metadata": {},
   "source": [
    "### SCC-Aggregate-2"
   ]
  },
  {
   "cell_type": "code",
   "execution_count": 168,
   "metadata": {
    "collapsed": false,
    "jupyter": {
     "outputs_hidden": false
    }
   },
   "outputs": [
    {
     "data": {
      "text/plain": [
       "30.428406975741293"
      ]
     },
     "execution_count": 168,
     "metadata": {},
     "output_type": "execute_result"
    }
   ],
   "source": [
    "SCC_Check_2=agr_SCC+cool_SCC+bio_SCC+forest_SCC+health_alt_SCC+heat_SCC+slr_SCC+hurr_dam_SCC+water_SCC"
   ]
  },
  {
   "cell_type": "markdown",
   "metadata": {},
   "source": [
    "### SCC-Aggregate-3"
   ]
  },
  {
   "cell_type": "code",
   "execution_count": 169,
   "metadata": {
    "collapsed": false,
    "jupyter": {
     "outputs_hidden": false
    }
   },
   "outputs": [
    {
     "data": {
      "text/plain": [
       "0.9994234849148509"
      ]
     },
     "execution_count": 169,
     "metadata": {},
     "output_type": "execute_result"
    }
   ],
   "source": [
    "SCC_Check_3=perc_agr_SCC+perc_cool_SCC+perc_bio_SCC+perc_forest_SCC+perc_health_alt_SCC+perc_heat_SCC+perc_slr_SCC+perc_hurr_dam_SCC+perc_water_SCC"
   ]
  },
  {
   "cell_type": "markdown",
   "metadata": {},
   "source": [
    "# Tables"
   ]
  },
  {
   "cell_type": "markdown",
   "metadata": {},
   "source": [
    "## Tables for Figure 1"
   ]
  },
  {
   "cell_type": "code",
   "execution_count": 170,
   "metadata": {
    "collapsed": false,
    "jupyter": {
     "outputs_hidden": false
    }
   },
   "outputs": [
    {
     "data": {
      "text/plain": [
       "10×3 Matrix{Float64}:\n",
       " 99.0  99.0       99.0\n",
       " 99.0  -6.20957   -0.203954\n",
       " 99.0   1.54808    0.0508469\n",
       " 99.0  19.3127     0.634328\n",
       " 99.0  -0.126727  -0.00416235\n",
       " 99.0  12.3429     0.405402\n",
       " 99.0   0.47344    0.0155502\n",
       " 99.0   0.211319   0.00694078\n",
       " 99.0   2.89385    0.0950487\n",
       " 99.0  30.446      1.0"
      ]
     },
     "execution_count": 170,
     "metadata": {},
     "output_type": "execute_result"
    }
   ],
   "source": [
    "Table_Fig1a=zeros(10,3)\n",
    "Table_Fig1a[1,:].=99\n",
    "Table_Fig1a[:,1].=99\n",
    "\n",
    "Table_Fig1a[2,2]=agr_SCC\n",
    "Table_Fig1a[3,2]=bio_SCC\n",
    "Table_Fig1a[4,2]=energy_SCC\n",
    "Table_Fig1a[5,2]=forest_SCC\n",
    "Table_Fig1a[6,2]=health_alt_SCC\n",
    "Table_Fig1a[7,2]=slr_SCC\n",
    "Table_Fig1a[8,2]=storm_SCC\n",
    "Table_Fig1a[9,2]=water_SCC\n",
    "Table_Fig1a[10,2]=SCC\n",
    "\n",
    "Table_Fig1a[2,3]=perc_agr_SCC\n",
    "Table_Fig1a[3,3]=perc_bio_SCC\n",
    "Table_Fig1a[4,3]=perc_energy_SCC\n",
    "Table_Fig1a[5,3]=perc_forest_SCC\n",
    "Table_Fig1a[6,3]=perc_health_alt_SCC\n",
    "Table_Fig1a[7,3]=perc_slr_SCC\n",
    "Table_Fig1a[8,3]=perc_storm_SCC\n",
    "Table_Fig1a[9,3]=perc_water_SCC\n",
    "Table_Fig1a[10,3]=1\n",
    "\n",
    "Table_Fig1a"
   ]
  },
  {
   "cell_type": "code",
   "execution_count": 171,
   "metadata": {
    "collapsed": false,
    "jupyter": {
     "outputs_hidden": false
    }
   },
   "outputs": [
    {
     "data": {
      "text/plain": [
       "3-element Vector{String}:\n",
       " \"Impact\"\n",
       " \"SCC\"\n",
       " \"% of SCC\""
      ]
     },
     "execution_count": 171,
     "metadata": {},
     "output_type": "execute_result"
    }
   ],
   "source": [
    "Table_Figure1a_row=([\"Impact\";\"SCC\";\"% of SCC\"])"
   ]
  },
  {
   "cell_type": "code",
   "execution_count": 172,
   "metadata": {
    "collapsed": false,
    "jupyter": {
     "outputs_hidden": false
    }
   },
   "outputs": [
    {
     "data": {
      "text/plain": [
       "9-element Vector{String}:\n",
       " \"Agriculture\"\n",
       " \"Ecosystems\"\n",
       " \"Energy consumption\"\n",
       " \"Forestry\"\n",
       " \"Health\"\n",
       " \"Sea level rise\"\n",
       " \"Storms - non-health\"\n",
       " \"Water resources\"\n",
       " \"Total\""
      ]
     },
     "execution_count": 172,
     "metadata": {},
     "output_type": "execute_result"
    }
   ],
   "source": [
    "Table1_Figure1a_col=[\"Agriculture\";\"Ecosystems\";\"Energy consumption\";\"Forestry\";\"Health\";\"Sea level rise\";\"Storms - non-health\";\"Water resources\";\"Total\"]"
   ]
  },
  {
   "cell_type": "code",
   "execution_count": 173,
   "metadata": {
    "collapsed": false,
    "jupyter": {
     "outputs_hidden": false
    }
   },
   "outputs": [],
   "source": [
    "table_Fig1a=Array{String}(undef,10,3)\n",
    "table_Fig1a[1,:]=[\"Impact\";\"SCC\";\"% of SCC\"]\n",
    "table_Fig1a[:,1]=[\"Impact\";\"Agriculture\";\"Ecosystems\";\"Energy consumption\";\"Forestry\";\"Health\";\"Sea level rise\";\"Storms - non-health\";\"Water resources\";\"Total\"]\n",
    "\n",
    "\n",
    "table_Fig1a[2:10,2]=[string(agr_SCC);string(bio_SCC);string(energy_SCC);string(forest_SCC);string(health_alt_SCC);string(slr_SCC);string(storm_SCC);string(water_SCC);string(SCC)]\n",
    "table_Fig1a[2:10,3]=[string(perc_agr_SCC);string(perc_bio_SCC);string(perc_energy_SCC);string(perc_forest_SCC);string(perc_health_alt_SCC);string(perc_slr_SCC);string(perc_storm_SCC);string(perc_water_SCC);string(1)]\n",
    "\n",
    "\n",
    "table_Fig1a\n",
    "\n",
    "writedlm(\"../output/Yelas0_fig1a.csv\",table_Fig1a, \",\")"
   ]
  },
  {
   "cell_type": "code",
   "execution_count": 174,
   "metadata": {
    "collapsed": false,
    "jupyter": {
     "outputs_hidden": false
    }
   },
   "outputs": [
    {
     "data": {
      "text/plain": [
       "17×3 Matrix{Float64}:\n",
       " 99.0    99.0        99.0\n",
       " 99.0   296.645   41660.0\n",
       " 99.0    33.4312  29280.1\n",
       " 99.0   394.803   34147.3\n",
       " 99.0   192.84    45751.9\n",
       " 99.0    23.554   32235.3\n",
       " 99.0   126.782    4651.7\n",
       " 99.0   293.649    2816.38\n",
       " 99.0   316.058    3464.89\n",
       " 99.0   154.354    4261.06\n",
       " 99.0   414.72     5537.34\n",
       " 99.0  1669.5       644.272\n",
       " 99.0   629.39     2325.36\n",
       " 99.0  1467.51     1543.71\n",
       " 99.0   192.371    1732.68\n",
       " 99.0   878.003     671.595\n",
       " 99.0    53.3875   1573.95"
      ]
     },
     "execution_count": 174,
     "metadata": {},
     "output_type": "execute_result"
    }
   ],
   "source": [
    "Table_Fig1b=zeros(17,3)\n",
    "Table_Fig1b[1,:].=99\n",
    "Table_Fig1b[:,1].=99\n",
    "\n",
    "for j=2:17\n",
    "    Table_Fig1b[j,2]=pop_reg_2015[j-1]\n",
    "    Table_Fig1b[j,3]=ypc_reg_2015[j-1]\n",
    "    \n",
    "end    \n",
    "\n",
    "Table_Fig1b"
   ]
  },
  {
   "cell_type": "code",
   "execution_count": 175,
   "metadata": {
    "collapsed": false,
    "jupyter": {
     "outputs_hidden": false
    }
   },
   "outputs": [
    {
     "data": {
      "text/plain": [
       "3-element Vector{String}:\n",
       " \"Regions\"\n",
       " \"2015 Population\"\n",
       " \"2015 GDP per Capita\""
      ]
     },
     "execution_count": 175,
     "metadata": {},
     "output_type": "execute_result"
    }
   ],
   "source": [
    "Table_Figure1b_row=([\"Regions\";\"2015 Population\";\"2015 GDP per Capita\"])"
   ]
  },
  {
   "cell_type": "code",
   "execution_count": 176,
   "metadata": {
    "collapsed": false,
    "jupyter": {
     "outputs_hidden": false
    }
   },
   "outputs": [
    {
     "data": {
      "text/plain": [
       "17-element Vector{String}:\n",
       " \"Regsions\"\n",
       " \"USA\"\n",
       " \"CAN\"\n",
       " \"WEU\"\n",
       " \"JPK\"\n",
       " \"ANZ\"\n",
       " \"CEE\"\n",
       " \"FSU\"\n",
       " \"MDE\"\n",
       " \"CAM\"\n",
       " \"SAM\"\n",
       " \"SAS\"\n",
       " \"SEA\"\n",
       " \"CHI\"\n",
       " \"NAF\"\n",
       " \"SSA\"\n",
       " \"SIS\""
      ]
     },
     "execution_count": 176,
     "metadata": {},
     "output_type": "execute_result"
    }
   ],
   "source": [
    "Table_Figure1b_col=[\"Regsions\";\"USA\";\"CAN\"; \"WEU\";\"JPK\";\"ANZ\";\"CEE\";\"FSU\";\"MDE\";\"CAM\";\"SAM\";\"SAS\";\"SEA\";\"CHI\";\"NAF\";\"SSA\";\"SIS\"]"
   ]
  },
  {
   "cell_type": "code",
   "execution_count": 177,
   "metadata": {
    "collapsed": false,
    "jupyter": {
     "outputs_hidden": false
    }
   },
   "outputs": [],
   "source": [
    "table_Fig1b=Array{String}(undef,17,3)\n",
    "table_Fig1b[1,:]=[\"Regions\";\"2015 Population\";\"2015 GDP per Capita\"]\n",
    "table_Fig1b[:,1]=[\"Regions\";\"USA\";\"CAN\"; \"WEU\";\"JPK\";\"ANZ\";\"CEE\";\"FSU\";\"MDE\";\"CAM\";\"SAM\";\"SAS\";\"SEA\";\"CHI\";\"NAF\";\"SSA\";\"SIS\"]\n",
    "\n",
    "table_Fig1b[2:17,2]=[string(pop_reg_2015[1]);string(pop_reg_2015[2]);string(pop_reg_2015[3]);string(pop_reg_2015[4]);string(pop_reg_2015[5]);string(pop_reg_2015[6]);string(pop_reg_2015[7]);string(pop_reg_2015[8]);string(pop_reg_2015[9]);string(pop_reg_2015[10]);string(pop_reg_2015[11]);string(pop_reg_2015[12]);string(pop_reg_2015[13]);string(pop_reg_2015[14]);string(pop_reg_2015[15]);string(pop_reg_2015[16])]\n",
    "table_Fig1b[2:17,3]=[string(ypc_reg_2015[1]);string(ypc_reg_2015[2]);string(ypc_reg_2015[3]);string(ypc_reg_2015[4]);string(ypc_reg_2015[5]);string(ypc_reg_2015[6]);string(ypc_reg_2015[7]);string(ypc_reg_2015[8]);string(ypc_reg_2015[9]);string(ypc_reg_2015[10]);string(ypc_reg_2015[11]);string(ypc_reg_2015[12]);string(ypc_reg_2015[13]);string(ypc_reg_2015[14]);string(ypc_reg_2015[15]);string(ypc_reg_2015[16])]\n",
    "\n",
    "table_Fig1b\n",
    "\n",
    "writedlm(\"../output/Yelas0_fig1b.csv\",table_Fig1b, \",\")"
   ]
  },
  {
   "cell_type": "markdown",
   "metadata": {},
   "source": [
    "#### Alternative Regions"
   ]
  },
  {
   "cell_type": "code",
   "execution_count": 178,
   "metadata": {
    "collapsed": false,
    "jupyter": {
     "outputs_hidden": false
    }
   },
   "outputs": [],
   "source": [
    "table_Fig1b_Reg=Array{String}(undef,4,3)\n",
    "table_Fig1b_Reg[1,:]=[\"Regions\";\"2015 Population\";\"2015 GDP per Capita\"]\n",
    "table_Fig1b_Reg[:,1]=[\"Regions\";\"HIGH\";\"MEDIUM\";\"LOW\"]\n",
    "\n",
    "table_Fig1b_Reg[2:4,2]=[string(pop_high_2015);string(pop_med_2015);string(pop_low_2015)]\n",
    "table_Fig1b_Reg[2:4,3]=[string(ypc_high_2015);string(ypc_med_2015);string(ypc_low_2015)]\n",
    "\n",
    "table_Fig1b_Reg\n",
    "\n",
    "\n",
    "writedlm(\"../output/Yelas0_fig1b_Reg.csv\",table_Fig1b_Reg, \",\")"
   ]
  },
  {
   "cell_type": "markdown",
   "metadata": {},
   "source": [
    "## Table - Figure 2"
   ]
  },
  {
   "cell_type": "code",
   "execution_count": 179,
   "metadata": {
    "collapsed": false,
    "jupyter": {
     "outputs_hidden": false
    }
   },
   "outputs": [],
   "source": [
    "#table_Fig2=Array{String}(undef,11,17)\n",
    "#table_Fig2[1,:]=[\"Endpoint/Region\";\"USA\";\"CAN\"; \"WEU\";\"JPK\";\"ANZ\";\"CEE\";\"FSU\";\"MDE\";\"CAM\";\"SAM\";\"SAS\";\"SEA\";\"CHI\";\"NAF\";\"SSA\";\"SIS\"]\n",
    "#table_Fig2[:,1]=[\"Endpoint/Region\";\"Dengue Fever\";\"Schistomiasis\";\"Malaria\";\"Cardiovascular - Heat\";\"Cardiovascular - Cold\";\"Respiratory\";\"Diarrhea\";\"Hurricane\";\"Extratropical\";\"Total Health\"]\n",
    "\n",
    "#for j=2:17\n",
    "#    table_Fig2[2,j]=string(reg_perc_dv_SCC[j-1])\n",
    "#    table_Fig2[3,j]=string(reg_perc_sv_SCC[j-1])\n",
    "#    table_Fig2[4,j]=string(reg_perc_mv_SCC[j-1])\n",
    "#    table_Fig2[5,j]=string(reg_perc_chr_SCC[j-1])\n",
    "#    table_Fig2[6,j]=string(reg_perc_ccr_SCC[j-1])\n",
    "#    table_Fig2[7,j]=string(reg_perc_resp_SCC[j-1])\n",
    "#    table_Fig2[8,j]=string(reg_perc_diar_SCC[j-1])\n",
    "#    table_Fig2[9,j]=string(reg_perc_hurr_SCC[j-1])\n",
    "#    table_Fig2[10,j]=string(reg_perc_extra_SCC[j-1])\n",
    "#    table_Fig2[11,j]=string(Reg_Perc_Health_SCC[j-1])\n",
    "#end\n",
    "#        \n",
    "#table_Fig2\n",
    "#\n",
    "#writedlm(\"Yelas0_Fig2.csv\",table_Fig2, \",\")"
   ]
  },
  {
   "cell_type": "code",
   "execution_count": 180,
   "metadata": {
    "collapsed": false,
    "jupyter": {
     "outputs_hidden": false
    }
   },
   "outputs": [],
   "source": [
    "table_Fig2=Array{String}(undef,11,17)\n",
    "table_Fig2[1,:]=[\"SCC by Endpoint/Region\";\"USA\";\"CAN\"; \"WEU\";\"JPK\";\"ANZ\";\"CEE\";\"FSU\";\"MDE\";\"CAM\";\"SAM\";\"SAS\";\"SEA\";\"CHI\";\"NAF\";\"SSA\";\"SIS\"]\n",
    "table_Fig2[:,1]=[\"SCC by Endpoint/Region\";\"Dengue Fever\";\"Schistomiasis\";\"Malaria\";\"Cardiovascular - Heat\";\"Cardiovascular - Cold\";\"Respiratory\";\"Diarrhea\";\"Hurricane\";\"Extratropical\";\"Total Health\"]\n",
    "\n",
    "for j=2:17\n",
    "    table_Fig2[2,j]=string(reg_dv_SCC[j-1])\n",
    "    table_Fig2[3,j]=string(reg_sv_SCC[j-1])\n",
    "    table_Fig2[4,j]=string(reg_mv_SCC[j-1])\n",
    "    table_Fig2[5,j]=string(reg_chr_SCC[j-1])\n",
    "    table_Fig2[6,j]=string(reg_ccr_SCC[j-1])\n",
    "    table_Fig2[7,j]=string(reg_resp_SCC[j-1])\n",
    "    table_Fig2[8,j]=string(reg_diar_SCC[j-1])\n",
    "    table_Fig2[9,j]=string(reg_hurr_SCC[j-1])\n",
    "    table_Fig2[10,j]=string(reg_extra_SCC[j-1])\n",
    "    table_Fig2[11,j]=string(reg_health_SCC[j-1])\n",
    "end\n",
    "        \n",
    "table_Fig2\n",
    "\n",
    "writedlm(\"../output/Yelas0_Fig2.csv\",table_Fig2, \",\")"
   ]
  },
  {
   "cell_type": "markdown",
   "metadata": {},
   "source": [
    "#### Alternative Regions"
   ]
  },
  {
   "cell_type": "code",
   "execution_count": 181,
   "metadata": {
    "collapsed": false,
    "jupyter": {
     "outputs_hidden": false
    }
   },
   "outputs": [],
   "source": [
    "table_Fig2_Reg=Array{String}(undef,11,4)\n",
    "table_Fig2_Reg[1,:]=[\"SCC by Endpoint/Region\";\"High\";\"Medium\";\"Low\"]\n",
    "table_Fig2_Reg[:,1]=[\"SCC by Endpoint/Region\";\"Dengue Fever\";\"Schistomiasis\";\"Malaria\";\"Cardiovascular - Heat\";\"Cardiovascular - Cold\";\"Respiratory\";\"Diarrhea\";\"Hurricane\";\"Extratropical\";\"Total Health\"]\n",
    "\n",
    "\n",
    "table_Fig2_Reg[2,2:4]=[string(dv_SCC_high);string(dv_SCC_med);string(dv_SCC_low)]\n",
    "table_Fig2_Reg[3,2:4]=[string(sv_SCC_high);string(sv_SCC_med);string(sv_SCC_low)]\n",
    "table_Fig2_Reg[4,2:4]=[string(mv_SCC_high);string(mv_SCC_med);string(mv_SCC_low)]\n",
    "table_Fig2_Reg[5,2:4]=[string(chr_SCC_high);string(chr_SCC_med);string(chr_SCC_low)]\n",
    "table_Fig2_Reg[6,2:4]=[string(ccr_SCC_high);string(ccr_SCC_med);string(ccr_SCC_low)]\n",
    "table_Fig2_Reg[7,2:4]=[string(resp_SCC_high);string(resp_SCC_med);string(resp_SCC_low)]\n",
    "table_Fig2_Reg[8,2:4]=[string(diar_SCC_high);string(diar_SCC_med);string(diar_SCC_low)]\n",
    "table_Fig2_Reg[9,2:4]=[string(hurr_SCC_high);string(hurr_SCC_med);string(hurr_SCC_low)]\n",
    "table_Fig2_Reg[10,2:4]=[string(extra_SCC_high);string(extra_SCC_med);string(extra_SCC_low)]\n",
    "table_Fig2_Reg[11,2:4]=[string(health_SCC_high);string(health_SCC_med);string(health_SCC_low)]\n",
    "        \n",
    "table_Fig2_Reg\n",
    "\n",
    "writedlm(\"../output/Yelas0_Fig2_Reg.csv\",table_Fig2_Reg, \",\")"
   ]
  },
  {
   "cell_type": "markdown",
   "metadata": {},
   "source": [
    "## Table - Appendix Figure 1"
   ]
  },
  {
   "cell_type": "code",
   "execution_count": 182,
   "metadata": {
    "collapsed": false,
    "jupyter": {
     "outputs_hidden": false
    }
   },
   "outputs": [
    {
     "data": {
      "text/plain": [
       "301×11 Matrix{String}:\n",
       " \"Mortalities by Endpoint/Year\"  …  \"Total\"\n",
       " \"2000\"                             \"137078.12637649532\"\n",
       " \"2001\"                             \"142817.93886540097\"\n",
       " \"2002\"                             \"148731.7800309848\"\n",
       " \"2003\"                             \"154848.27082948014\"\n",
       " \"2004\"                          …  \"161173.97616192544\"\n",
       " \"2005\"                             \"167716.95464664974\"\n",
       " \"2006\"                             \"174505.3805910067\"\n",
       " \"2007\"                             \"181554.08785669177\"\n",
       " \"2008\"                             \"188961.95116032736\"\n",
       " \"2009\"                          …  \"196703.7778995916\"\n",
       " \"2010\"                             \"204786.4698324864\"\n",
       " \"2011\"                             \"213201.73580438847\"\n",
       " ⋮                               ⋱  ⋮\n",
       " \"2288\"                             \"3.5319949837566437e6\"\n",
       " \"2289\"                          …  \"3.5278116262662797e6\"\n",
       " \"2290\"                             \"3.523610991174175e6\"\n",
       " \"2291\"                             \"3.5193938033035127e6\"\n",
       " \"2292\"                             \"3.51516084747003e6\"\n",
       " \"2293\"                             \"3.510912678229218e6\"\n",
       " \"2294\"                          …  \"3.506649684877844e6\"\n",
       " \"2295\"                             \"3.5023728226538687e6\"\n",
       " \"2296\"                             \"3.4980825971123427e6\"\n",
       " \"2297\"                             \"3.493779430558258e6\"\n",
       " \"2298\"                             \"3.4894639065006142e6\"\n",
       " \"2299\"                          …  \"3.4851363584260615e6\""
      ]
     },
     "execution_count": 182,
     "metadata": {},
     "output_type": "execute_result"
    }
   ],
   "source": [
    "table_app1=Array{String}(undef,11,301)\n",
    "table_app1[:,1]=[\"Mortalities by Endpoint/Year\";\"Dengue Fever\";\"Schistomiasis\";\"Malaria\";\"Cardiovascular - Heat\";\"Cardiovascular - Cold\";\"Respiratory\";\"Diarrhea\";\"Hurricane\";\"Extratropical\";\"Total\"]\n",
    "\n",
    "for j=2:301\n",
    "    table_app1[1,j]=string(j-2+2000)\n",
    "    table_app1[2,j]=string(dead_d_global[j-1])\n",
    "    table_app1[3,j]=string(dead_s_global[j-1])\n",
    "    table_app1[4,j]=string(dead_m_global[j-1])\n",
    "    table_app1[5,j]=string(dead_ch_global[j-1])\n",
    "    table_app1[6,j]=string(dead_cc_global[j-1])\n",
    "    table_app1[7,j]=string(dead_r_global[j-1])\n",
    "    table_app1[8,j]=string(dead_diah_global[j-1])\n",
    "    table_app1[9,j]=string(dead_hurr_global[j-1])\n",
    "    table_app1[10,j]=string(dead_extra_global[j-1])\n",
    "    table_app1[11,j]=string(deaths_glob[j-1])\n",
    "end\n",
    "\n",
    "table_app1\n",
    "table_app1b=permutedims(table_app1)"
   ]
  },
  {
   "cell_type": "code",
   "execution_count": 183,
   "metadata": {
    "collapsed": false,
    "jupyter": {
     "outputs_hidden": false
    }
   },
   "outputs": [],
   "source": [
    "writedlm(\"../output/Yelas0_app1.csv\",table_app1b, \",\")"
   ]
  },
  {
   "cell_type": "markdown",
   "metadata": {},
   "source": [
    "## Table_Fig3 "
   ]
  },
  {
   "cell_type": "code",
   "execution_count": 184,
   "metadata": {
    "collapsed": false,
    "jupyter": {
     "outputs_hidden": false
    }
   },
   "outputs": [],
   "source": [
    "table_Fig3=Array{String}(undef,3,17)\n",
    "table_Fig3[1,:]=[\"Endpoint/Region\";\"USA\";\"CAN\"; \"WEU\";\"JPK\";\"ANZ\";\"CEE\";\"FSU\";\"MDE\";\"CAM\";\"SAM\";\"SAS\";\"SEA\";\"CHI\";\"NAF\";\"SSA\";\"SIS\"]\n",
    "table_Fig3[:,1]=[\"Endpoint/Region\";\"Health\";\"SCC\"]\n",
    "\n",
    "for j=2:17\n",
    "    table_Fig3[2,j]=string(reg_health_SCC[j-1])\n",
    "    table_Fig3[3,j]=string(SCC_reg[j-1])\n",
    "end\n",
    "        \n",
    "table_Fig3\n",
    "table_Fig3=permutedims(table_Fig3)\n",
    "\n",
    "writedlm(\"../output/Yelas0_table_fig3.csv\",table_Fig3, \",\")"
   ]
  },
  {
   "cell_type": "markdown",
   "metadata": {},
   "source": [
    "#### Alternative Regions"
   ]
  },
  {
   "cell_type": "code",
   "execution_count": 185,
   "metadata": {
    "collapsed": false,
    "jupyter": {
     "outputs_hidden": false
    }
   },
   "outputs": [],
   "source": [
    "table_Fig3_Reg=Array{String}(undef,3,4)\n",
    "table_Fig3_Reg[1,:]=[\"Endpoint/Region\";\"High\";\"Medium\";\"Low\"]\n",
    "table_Fig3_Reg[:,1]=[\"Endpoint/Region\";\"Health\";\"SCC\"]\n",
    "\n",
    "\n",
    "table_Fig3_Reg[2,2:4]=[string(health_SCC_high);string(health_SCC_med);string(health_SCC_low)]\n",
    "table_Fig3_Reg[3,2:4]=[string(SCC_high);string(SCC_med);string(SCC_low)]\n",
    "        \n",
    "table_Fig3_Reg\n",
    "table_Fig3_Reg=permutedims(table_Fig3_Reg)\n",
    "\n",
    "writedlm(\"../output/Yelas0_fig3_Reg.csv\",table_Fig3_Reg, \",\")"
   ]
  },
  {
   "cell_type": "markdown",
   "metadata": {},
   "source": [
    "## Table_Fig4"
   ]
  },
  {
   "cell_type": "code",
   "execution_count": 186,
   "metadata": {
    "collapsed": false,
    "jupyter": {
     "outputs_hidden": false
    }
   },
   "outputs": [],
   "source": [
    "table_Fig4a=Array{String}(undef,6,17)\n",
    "table_Fig4a[1,:]=[\"Endpoint/Region\";\"USA\";\"CAN\"; \"WEU\";\"JPK\";\"ANZ\";\"CEE\";\"FSU\";\"MDE\";\"CAM\";\"SAM\";\"SAS\";\"SEA\";\"CHI\";\"NAF\";\"SSA\";\"SIS\"]\n",
    "table_Fig4a[:,1]=[\"Endpoint/Region\";\"Avg VSL\";\"Weighted VSL\";\"Deaths\";\"Avg Per Capita GDP\";\"Weighted Per Capita GDP\"]\n",
    "\n",
    "for j=2:17\n",
    "    table_Fig4a[2,j]=string(vsl_reg_avg[j-1])\n",
    "    table_Fig4a[3,j]=string(vsl_reg_pop_avg[j-1])\n",
    "    table_Fig4a[4,j]=string(deaths_reg_sum[j-1])\n",
    "    table_Fig4a[5,j]=string(ypc_reg_avg[j-1])\n",
    "    table_Fig4a[6,j]=string(ypc_reg_pop_avg[j-1])\n",
    "end\n",
    "        \n",
    "table_Fig4a\n",
    "table_Fig4a=permutedims(table_Fig4a)\n",
    "\n",
    "writedlm(\"../output/Yelas0_fig4a.csv\",table_Fig4a, \",\")"
   ]
  },
  {
   "cell_type": "code",
   "execution_count": 187,
   "metadata": {
    "tags": []
   },
   "outputs": [],
   "source": [
    "table_Fig4b=Array{String}(undef,17,301)\n",
    "table_Fig4b[:,1]=[\"VSL/Region\";\"USA\";\"CAN\"; \"WEU\";\"JPK\";\"ANZ\";\"CEE\";\"FSU\";\"MDE\";\"CAM\";\"SAM\";\"SAS\";\"SEA\";\"CHI\";\"NAF\";\"SSA\";\"SIS\"]\n",
    "\n",
    "for j=2:301\n",
    "    table_Fig4b[1,j]=string(j-2+2000)\n",
    "    table_Fig4b[2,j]=string(vsl_reg[j-1,1])\n",
    "    table_Fig4b[3,j]=string(vsl_reg[j-1,2])\n",
    "    table_Fig4b[4,j]=string(vsl_reg[j-1,3])\n",
    "    table_Fig4b[5,j]=string(vsl_reg[j-1,4])\n",
    "    table_Fig4b[6,j]=string(vsl_reg[j-1,5])\n",
    "    table_Fig4b[7,j]=string(vsl_reg[j-1,6])\n",
    "    table_Fig4b[8,j]=string(vsl_reg[j-1,7])\n",
    "    table_Fig4b[9,j]=string(vsl_reg[j-1,8])\n",
    "    table_Fig4b[10,j]=string(vsl_reg[j-1,9])\n",
    "    table_Fig4b[11,j]=string(vsl_reg[j-1,10])\n",
    "    table_Fig4b[12,j]=string(vsl_reg[j-1,11])\n",
    "    table_Fig4b[13,j]=string(vsl_reg[j-1,12])\n",
    "    table_Fig4b[14,j]=string(vsl_reg[j-1,13])\n",
    "    table_Fig4b[15,j]=string(vsl_reg[j-1,14])\n",
    "    table_Fig4b[16,j]=string(vsl_reg[j-1,15])\n",
    "    table_Fig4b[17,j]=string(vsl_reg[j-1,16])\n",
    "    \n",
    "end\n",
    "\n",
    "table_Fig4b\n",
    "table_Fig4b=permutedims(table_Fig4b)\n",
    "writedlm(\"../output/Yelas0_fig4b.csv\",table_Fig4b, \",\")"
   ]
  },
  {
   "cell_type": "code",
   "execution_count": 188,
   "metadata": {
    "tags": []
   },
   "outputs": [],
   "source": [
    "table_Fig4c=Array{String}(undef,17,301)\n",
    "table_Fig4c[:,1]=[\"Mortalities/Region\";\"USA\";\"CAN\"; \"WEU\";\"JPK\";\"ANZ\";\"CEE\";\"FSU\";\"MDE\";\"CAM\";\"SAM\";\"SAS\";\"SEA\";\"CHI\";\"NAF\";\"SSA\";\"SIS\"]\n",
    "\n",
    "for j=2:301\n",
    "    table_Fig4c[1,j]=string(j-2+2000)\n",
    "    table_Fig4c[2,j]=string(deaths_reg[j-1,1])\n",
    "    table_Fig4c[3,j]=string(deaths_reg[j-1,2])\n",
    "    table_Fig4c[4,j]=string(deaths_reg[j-1,3])\n",
    "    table_Fig4c[5,j]=string(deaths_reg[j-1,4])\n",
    "    table_Fig4c[6,j]=string(deaths_reg[j-1,5])\n",
    "    table_Fig4c[7,j]=string(deaths_reg[j-1,6])\n",
    "    table_Fig4c[8,j]=string(deaths_reg[j-1,7])\n",
    "    table_Fig4c[9,j]=string(deaths_reg[j-1,8])\n",
    "    table_Fig4c[10,j]=string(deaths_reg[j-1,9])\n",
    "    table_Fig4c[11,j]=string(deaths_reg[j-1,10])\n",
    "    table_Fig4c[12,j]=string(deaths_reg[j-1,11])\n",
    "    table_Fig4c[13,j]=string(deaths_reg[j-1,12])\n",
    "    table_Fig4c[14,j]=string(deaths_reg[j-1,13])\n",
    "    table_Fig4c[15,j]=string(deaths_reg[j-1,14])\n",
    "    table_Fig4c[16,j]=string(deaths_reg[j-1,15])\n",
    "    table_Fig4c[17,j]=string(deaths_reg[j-1,16])\n",
    "    \n",
    "end\n",
    "\n",
    "table_Fig4c\n",
    "table_Fig4c=permutedims(table_Fig4c)\n",
    "writedlm(\"../output/Yelas0_fig4c.csv\",table_Fig4c, \",\")"
   ]
  },
  {
   "cell_type": "code",
   "execution_count": 189,
   "metadata": {
    "collapsed": false,
    "jupyter": {
     "outputs_hidden": false
    }
   },
   "outputs": [],
   "source": [
    "table_Fig4d=Array{String}(undef,17,301)\n",
    "table_Fig4d[:,1]=[\"YPC/Region\";\"USA\";\"CAN\"; \"WEU\";\"JPK\";\"ANZ\";\"CEE\";\"FSU\";\"MDE\";\"CAM\";\"SAM\";\"SAS\";\"SEA\";\"CHI\";\"NAF\";\"SSA\";\"SIS\"]\n",
    "\n",
    "for j=2:301\n",
    "    table_Fig4d[1,j]=string(j-2+2000)\n",
    "    table_Fig4d[2,j]=string(ypc_reg[j-1,1])\n",
    "    table_Fig4d[3,j]=string(ypc_reg[j-1,2])\n",
    "    table_Fig4d[4,j]=string(ypc_reg[j-1,3])\n",
    "    table_Fig4d[5,j]=string(ypc_reg[j-1,4])\n",
    "    table_Fig4d[6,j]=string(ypc_reg[j-1,5])\n",
    "    table_Fig4d[7,j]=string(ypc_reg[j-1,6])\n",
    "    table_Fig4d[8,j]=string(ypc_reg[j-1,7])\n",
    "    table_Fig4d[9,j]=string(ypc_reg[j-1,8])\n",
    "    table_Fig4d[10,j]=string(ypc_reg[j-1,9])\n",
    "    table_Fig4d[11,j]=string(ypc_reg[j-1,10])\n",
    "    table_Fig4d[12,j]=string(ypc_reg[j-1,11])\n",
    "    table_Fig4d[13,j]=string(ypc_reg[j-1,12])\n",
    "    table_Fig4d[14,j]=string(ypc_reg[j-1,13])\n",
    "    table_Fig4d[15,j]=string(ypc_reg[j-1,14])\n",
    "    table_Fig4d[16,j]=string(ypc_reg[j-1,15])\n",
    "    table_Fig4d[17,j]=string(ypc_reg[j-1,16])\n",
    "    \n",
    "end\n",
    "\n",
    "table_Fig4d\n",
    "table_Fig4d=permutedims(table_Fig4d)\n",
    "writedlm(\"../output/Yelas0_fig4d.csv\",table_Fig4d, \",\")"
   ]
  },
  {
   "cell_type": "markdown",
   "metadata": {},
   "source": [
    "#### Alternative Regions"
   ]
  },
  {
   "cell_type": "code",
   "execution_count": 190,
   "metadata": {
    "collapsed": false,
    "jupyter": {
     "outputs_hidden": false
    }
   },
   "outputs": [],
   "source": [
    "table_Fig4a_Reg=Array{String}(undef,5,4)\n",
    "table_Fig4a_Reg[1,:]=[\"Endpoint/Region\";\"High\";\"Medium\";\"Low\"]\n",
    "table_Fig4a_Reg[:,1]=[\"Endpoint/Region\";\"Avg VSL\";\"Weighted VSL\";\"Deaths\";\"Avg Per Capita GDP\"]\n",
    "\n",
    "\n",
    "table_Fig4a_Reg[2,2:4]=[string(vsl_high_avg);string(vsl_med_avg);string(vsl_low_avg)]\n",
    "table_Fig4a_Reg[3,2:4]=[string(vsl_high_pop_avg);string(vsl_med_pop_avg);string(vsl_low_pop_avg)]\n",
    "table_Fig4a_Reg[4,2:4]=[string(dead_high_sum);string(dead_med_sum);string(dead_low_sum)]\n",
    "table_Fig4a_Reg[5,2:4]=[string(ypc_high_avg);string(ypc_med_avg);string(ypc_low_avg)]\n",
    "\n",
    "        \n",
    "table_Fig4a_Reg\n",
    "table_Fig4a_Reg=permutedims(table_Fig4a_Reg)\n",
    "\n",
    "writedlm(\"../output/Yelas0_fig4a_Reg.csv\",table_Fig4a_Reg, \",\")"
   ]
  },
  {
   "cell_type": "code",
   "execution_count": 191,
   "metadata": {
    "tags": []
   },
   "outputs": [],
   "source": [
    "table_Fig4b_Reg=Array{String}(undef,4,301)\n",
    "table_Fig4b_Reg[:,1]=[\"VSL/Region\";\"High\";\"Medium\";\"Low\"]\n",
    "\n",
    "for j=2:301\n",
    "    table_Fig4b_Reg[1,j]=string(j-2+2000)\n",
    "    table_Fig4b_Reg[2,j]=string(vsl_high[j-1])\n",
    "    table_Fig4b_Reg[3,j]=string(vsl_med[j-1])\n",
    "    table_Fig4b_Reg[4,j]=string(vsl_low[j-1])    \n",
    "end\n",
    "\n",
    "table_Fig4b_Reg\n",
    "table_Fig4b_Reg=permutedims(table_Fig4b_Reg)\n",
    "writedlm(\"../output/Yelas0_fig4b_Reg.csv\",table_Fig4b_Reg, \",\")"
   ]
  },
  {
   "cell_type": "code",
   "execution_count": 192,
   "metadata": {
    "collapsed": false,
    "jupyter": {
     "outputs_hidden": false
    }
   },
   "outputs": [],
   "source": [
    "table_Fig4c_Reg=Array{String}(undef,4,301)\n",
    "table_Fig4c_Reg[:,1]=[\"Mortalities/Region\";\"High\";\"Medium\";\"Low\"]\n",
    "\n",
    "for j=2:301\n",
    "    table_Fig4c_Reg[1,j]=string(j-2+2000)\n",
    "    table_Fig4c_Reg[2,j]=string(dead_high[j-1])\n",
    "    table_Fig4c_Reg[3,j]=string(dead_med[j-1])\n",
    "    table_Fig4c_Reg[4,j]=string(dead_low[j-1])\n",
    "end\n",
    "\n",
    "table_Fig4c_Reg\n",
    "table_Fig4c_Reg=permutedims(table_Fig4c_Reg)\n",
    "writedlm(\"../output/Yelas0_fig4c_Reg.csv\",table_Fig4c_Reg, \",\")"
   ]
  },
  {
   "cell_type": "code",
   "execution_count": 193,
   "metadata": {
    "tags": []
   },
   "outputs": [],
   "source": [
    "table_Fig4d_Reg=Array{String}(undef,4,301)\n",
    "table_Fig4d_Reg[:,1]=[\"YPC/Region\";\"High\";\"Medium\";\"Low\"]\n",
    "\n",
    "for j=2:301\n",
    "    table_Fig4d_Reg[1,j]=string(j-2+2000)\n",
    "    table_Fig4d_Reg[2,j]=string(ypc_high[j-1])\n",
    "    table_Fig4d_Reg[3,j]=string(ypc_med[j-1])\n",
    "    table_Fig4d_Reg[4,j]=string(ypc_low[j-1])\n",
    "end\n",
    "\n",
    "table_Fig4d_Reg\n",
    "table_Fig4d_Reg=permutedims(table_Fig4d_Reg)\n",
    "writedlm(\"../output/Yelas0_fig4d_Reg.csv\",table_Fig4d_Reg, \",\")"
   ]
  }
 ],
 "metadata": {
  "kernelspec": {
   "display_name": "Julia 1.6.1",
   "language": "julia",
   "name": "julia-1.6"
  },
  "language_info": {
   "file_extension": ".jl",
   "mimetype": "application/julia",
   "name": "julia",
   "version": "1.6.1"
  }
 },
 "nbformat": 4,
 "nbformat_minor": 4
}
