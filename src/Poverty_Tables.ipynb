{
 "cells": [
  {
   "cell_type": "markdown",
   "metadata": {},
   "source": [
    "# Poverty Trap Model Run - Tables"
   ]
  },
  {
   "cell_type": "code",
   "execution_count": 1,
   "metadata": {
    "tags": []
   },
   "outputs": [],
   "source": [
    "using Mimi\n",
    "using MimiFUND\n",
    "using DelimitedFiles"
   ]
  },
  {
   "cell_type": "code",
   "execution_count": 2,
   "metadata": {},
   "outputs": [],
   "source": [
    "parameters = MimiFUND.load_default_parameters();"
   ]
  },
  {
   "cell_type": "code",
   "execution_count": 3,
   "metadata": {
    "tags": []
   },
   "outputs": [],
   "source": [
    "m0 = MimiFUND.get_model();"
   ]
  },
  {
   "cell_type": "code",
   "execution_count": 4,
   "metadata": {
    "tags": []
   },
   "outputs": [],
   "source": [
    "run(m0);"
   ]
  },
  {
   "cell_type": "code",
   "execution_count": 5,
   "metadata": {
    "collapsed": false,
    "jupyter": {
     "outputs_hidden": false
    }
   },
   "outputs": [
    {
     "data": {
      "text/plain": [
       "1051×16 Matrix{Float64}:\n",
       " 1.868  2.785  2.731  3.234  1.143  2.909  …  4.471  4.242  3.629  0.77  2.93\n",
       " 1.868  2.785  2.731  3.234  1.143  2.909     4.471  4.242  3.629  0.77  2.93\n",
       " 1.868  2.785  2.731  3.234  1.143  2.909     4.471  4.242  3.629  0.77  2.93\n",
       " 1.868  2.785  2.731  3.234  1.143  2.909     4.471  4.242  3.629  0.77  2.93\n",
       " 1.868  2.785  2.731  3.234  1.143  2.909     4.471  4.242  3.629  0.77  2.93\n",
       " 1.868  2.785  2.731  3.234  1.143  2.909  …  4.471  4.242  3.629  0.77  2.93\n",
       " 1.868  2.785  2.731  3.234  1.143  2.909     4.471  4.242  3.629  0.77  2.93\n",
       " 1.868  2.785  2.731  3.234  1.143  2.909     4.471  4.242  3.629  0.77  2.93\n",
       " 1.868  2.785  2.731  3.234  1.143  2.909     4.471  4.242  3.629  0.77  2.93\n",
       " 1.868  2.785  2.731  3.234  1.143  2.909     4.471  4.242  3.629  0.77  2.93\n",
       " 1.868  2.785  2.731  3.234  1.143  2.909  …  4.471  4.242  3.629  0.77  2.93\n",
       " 1.868  2.785  2.731  3.234  1.143  2.909     4.471  4.242  3.629  0.77  2.93\n",
       " 1.868  2.785  2.731  3.234  1.143  2.909     4.471  4.242  3.629  0.77  2.93\n",
       " ⋮                                  ⋮      ⋱                             ⋮\n",
       " 0.6    0.6    0.6    0.6    0.6    0.6       0.6    0.6    0.6    0.6   0.6\n",
       " 0.6    0.6    0.6    0.6    0.6    0.6    …  0.6    0.6    0.6    0.6   0.6\n",
       " 0.6    0.6    0.6    0.6    0.6    0.6       0.6    0.6    0.6    0.6   0.6\n",
       " 0.6    0.6    0.6    0.6    0.6    0.6       0.6    0.6    0.6    0.6   0.6\n",
       " 0.6    0.6    0.6    0.6    0.6    0.6       0.6    0.6    0.6    0.6   0.6\n",
       " 0.6    0.6    0.6    0.6    0.6    0.6       0.6    0.6    0.6    0.6   0.6\n",
       " 0.6    0.6    0.6    0.6    0.6    0.6    …  0.6    0.6    0.6    0.6   0.6\n",
       " 0.6    0.6    0.6    0.6    0.6    0.6       0.6    0.6    0.6    0.6   0.6\n",
       " 0.6    0.6    0.6    0.6    0.6    0.6       0.6    0.6    0.6    0.6   0.6\n",
       " 0.6    0.6    0.6    0.6    0.6    0.6       0.6    0.6    0.6    0.6   0.6\n",
       " 0.6    0.6    0.6    0.6    0.6    0.6       0.6    0.6    0.6    0.6   0.6\n",
       " 0.6    0.6    0.6    0.6    0.6    0.6    …  0.6    0.6    0.6    0.6   0.6"
      ]
     },
     "execution_count": 5,
     "metadata": {},
     "output_type": "execute_result"
    }
   ],
   "source": [
    "parameters[:scenypcgrowth]"
   ]
  },
  {
   "cell_type": "code",
   "execution_count": 6,
   "metadata": {
    "collapsed": false,
    "jupyter": {
     "outputs_hidden": false
    }
   },
   "outputs": [
    {
     "data": {
      "text/plain": [
       "3.234"
      ]
     },
     "execution_count": 6,
     "metadata": {},
     "output_type": "execute_result"
    }
   ],
   "source": [
    "parameters[:scenypcgrowth][2,4]"
   ]
  },
  {
   "cell_type": "code",
   "execution_count": 7,
   "metadata": {
    "collapsed": false,
    "jupyter": {
     "outputs_hidden": false
    }
   },
   "outputs": [
    {
     "data": {
      "text/plain": [
       "1051×16 Matrix{Float64}:\n",
       " 1.868  2.785  2.731  3.234  1.143  2.909  …  4.471  4.242  3.629  0.77  2.93\n",
       " 1.868  2.785  2.731  3.234  1.143  2.909     4.471  4.242  3.629  0.77  2.93\n",
       " 1.868  2.785  2.731  3.234  1.143  2.909     4.471  4.242  3.629  0.77  2.93\n",
       " 1.868  2.785  2.731  3.234  1.143  2.909     4.471  4.242  3.629  0.77  2.93\n",
       " 1.868  2.785  2.731  3.234  1.143  2.909     4.471  4.242  3.629  0.77  2.93\n",
       " 1.868  2.785  2.731  3.234  1.143  2.909  …  4.471  4.242  3.629  0.77  2.93\n",
       " 1.868  2.785  2.731  3.234  1.143  2.909     4.471  4.242  3.629  0.77  2.93\n",
       " 1.868  2.785  2.731  3.234  1.143  2.909     4.471  4.242  3.629  0.77  2.93\n",
       " 1.868  2.785  2.731  3.234  1.143  2.909     4.471  4.242  3.629  0.77  2.93\n",
       " 1.868  2.785  2.731  3.234  1.143  2.909     4.471  4.242  3.629  0.77  2.93\n",
       " 1.868  2.785  2.731  3.234  1.143  2.909  …  4.471  4.242  3.629  0.77  2.93\n",
       " 1.868  2.785  2.731  3.234  1.143  2.909     4.471  4.242  3.629  0.77  2.93\n",
       " 1.868  2.785  2.731  3.234  1.143  2.909     4.471  4.242  3.629  0.77  2.93\n",
       " ⋮                                  ⋮      ⋱                             ⋮\n",
       " 0.6    0.6    0.6    0.6    0.6    0.0       0.0    0.0    0.0    0.0   0.0\n",
       " 0.6    0.6    0.6    0.6    0.6    0.0    …  0.0    0.0    0.0    0.0   0.0\n",
       " 0.6    0.6    0.6    0.6    0.6    0.0       0.0    0.0    0.0    0.0   0.0\n",
       " 0.6    0.6    0.6    0.6    0.6    0.0       0.0    0.0    0.0    0.0   0.0\n",
       " 0.6    0.6    0.6    0.6    0.6    0.0       0.0    0.0    0.0    0.0   0.0\n",
       " 0.6    0.6    0.6    0.6    0.6    0.0       0.0    0.0    0.0    0.0   0.0\n",
       " 0.6    0.6    0.6    0.6    0.6    0.0    …  0.0    0.0    0.0    0.0   0.0\n",
       " 0.6    0.6    0.6    0.6    0.6    0.0       0.0    0.0    0.0    0.0   0.0\n",
       " 0.6    0.6    0.6    0.6    0.6    0.0       0.0    0.0    0.0    0.0   0.0\n",
       " 0.6    0.6    0.6    0.6    0.6    0.0       0.0    0.0    0.0    0.0   0.0\n",
       " 0.6    0.6    0.6    0.6    0.6    0.0       0.0    0.0    0.0    0.0   0.0\n",
       " 0.0    0.0    0.0    0.0    0.0    0.0    …  0.0    0.0    0.0    0.0   0.0"
      ]
     },
     "execution_count": 7,
     "metadata": {},
     "output_type": "execute_result"
    }
   ],
   "source": [
    "trick=zeros(1051,16)\n",
    "for j=1:60\n",
    "trick[j,:]=trick[j,:]+parameters[:scenypcgrowth][j,:]\n",
    "end\n",
    "\n",
    "for j=61:1050\n",
    "    for k=1:5\n",
    "trick[j,k]=trick[j,k]+parameters[:scenypcgrowth][j,k]\n",
    "end\n",
    "end\n",
    "\n",
    "trick"
   ]
  },
  {
   "cell_type": "markdown",
   "metadata": {},
   "source": [
    "# New Model Run"
   ]
  },
  {
   "cell_type": "code",
   "execution_count": 8,
   "metadata": {
    "collapsed": false,
    "jupyter": {
     "outputs_hidden": false
    }
   },
   "outputs": [
    {
     "data": {
      "text/plain": [
       "1051×16 Matrix{Float64}:\n",
       " 1.868  2.785  2.731  3.234  1.143  2.909  …  4.471  4.242  3.629  0.77  2.93\n",
       " 1.868  2.785  2.731  3.234  1.143  2.909     4.471  4.242  3.629  0.77  2.93\n",
       " 1.868  2.785  2.731  3.234  1.143  2.909     4.471  4.242  3.629  0.77  2.93\n",
       " 1.868  2.785  2.731  3.234  1.143  2.909     4.471  4.242  3.629  0.77  2.93\n",
       " 1.868  2.785  2.731  3.234  1.143  2.909     4.471  4.242  3.629  0.77  2.93\n",
       " 1.868  2.785  2.731  3.234  1.143  2.909  …  4.471  4.242  3.629  0.77  2.93\n",
       " 1.868  2.785  2.731  3.234  1.143  2.909     4.471  4.242  3.629  0.77  2.93\n",
       " 1.868  2.785  2.731  3.234  1.143  2.909     4.471  4.242  3.629  0.77  2.93\n",
       " 1.868  2.785  2.731  3.234  1.143  2.909     4.471  4.242  3.629  0.77  2.93\n",
       " 1.868  2.785  2.731  3.234  1.143  2.909     4.471  4.242  3.629  0.77  2.93\n",
       " 1.868  2.785  2.731  3.234  1.143  2.909  …  4.471  4.242  3.629  0.77  2.93\n",
       " 1.868  2.785  2.731  3.234  1.143  2.909     4.471  4.242  3.629  0.77  2.93\n",
       " 1.868  2.785  2.731  3.234  1.143  2.909     4.471  4.242  3.629  0.77  2.93\n",
       " ⋮                                  ⋮      ⋱                             ⋮\n",
       " 0.6    0.6    0.6    0.6    0.6    0.0       0.0    0.0    0.0    0.0   0.0\n",
       " 0.6    0.6    0.6    0.6    0.6    0.0    …  0.0    0.0    0.0    0.0   0.0\n",
       " 0.6    0.6    0.6    0.6    0.6    0.0       0.0    0.0    0.0    0.0   0.0\n",
       " 0.6    0.6    0.6    0.6    0.6    0.0       0.0    0.0    0.0    0.0   0.0\n",
       " 0.6    0.6    0.6    0.6    0.6    0.0       0.0    0.0    0.0    0.0   0.0\n",
       " 0.6    0.6    0.6    0.6    0.6    0.0       0.0    0.0    0.0    0.0   0.0\n",
       " 0.6    0.6    0.6    0.6    0.6    0.0    …  0.0    0.0    0.0    0.0   0.0\n",
       " 0.6    0.6    0.6    0.6    0.6    0.0       0.0    0.0    0.0    0.0   0.0\n",
       " 0.6    0.6    0.6    0.6    0.6    0.0       0.0    0.0    0.0    0.0   0.0\n",
       " 0.6    0.6    0.6    0.6    0.6    0.0       0.0    0.0    0.0    0.0   0.0\n",
       " 0.6    0.6    0.6    0.6    0.6    0.0       0.0    0.0    0.0    0.0   0.0\n",
       " 0.0    0.0    0.0    0.0    0.0    0.0    …  0.0    0.0    0.0    0.0   0.0"
      ]
     },
     "execution_count": 8,
     "metadata": {},
     "output_type": "execute_result"
    }
   ],
   "source": [
    "parameters[:scenypcgrowth]=trick"
   ]
  },
  {
   "cell_type": "code",
   "execution_count": 9,
   "metadata": {
    "tags": []
   },
   "outputs": [],
   "source": [
    "m1 = MimiFUND.get_model(params=parameters);"
   ]
  },
  {
   "cell_type": "code",
   "execution_count": 10,
   "metadata": {
    "tags": []
   },
   "outputs": [],
   "source": [
    "run(m1);"
   ]
  },
  {
   "cell_type": "markdown",
   "metadata": {},
   "source": [
    "# Discount Factor"
   ]
  },
  {
   "cell_type": "code",
   "execution_count": 11,
   "metadata": {
    "collapsed": false,
    "jupyter": {
     "outputs_hidden": false
    }
   },
   "outputs": [],
   "source": [
    "baseyear = 60\n",
    "prtp = 0.01\n",
    "eta = 1.0\n",
    "ypc = m1[:socioeconomic, :ypc]\n",
    "df_r = [t>=baseyear ? (ypc[baseyear,r]/ypc[t,r])^eta *\n",
    "(1.0+prtp)^-(t-baseyear) : 0.0 for t in 1:1051, r in 1:16];\n",
    "#df_r_1=df_r;\n",
    "df_r_1=df_r[50:350,:];"
   ]
  },
  {
   "cell_type": "markdown",
   "metadata": {},
   "source": [
    "# Key Variables"
   ]
  },
  {
   "cell_type": "markdown",
   "metadata": {},
   "source": [
    "### Population - global population is in people while regional population is in millions"
   ]
  },
  {
   "cell_type": "code",
   "execution_count": 12,
   "metadata": {
    "collapsed": false,
    "jupyter": {
     "outputs_hidden": false
    }
   },
   "outputs": [],
   "source": [
    "pop=m1[:population, :globalpopulation];"
   ]
  },
  {
   "cell_type": "code",
   "execution_count": 13,
   "metadata": {
    "collapsed": false,
    "jupyter": {
     "outputs_hidden": false
    }
   },
   "outputs": [],
   "source": [
    "pop_glob=pop[50:350,:];"
   ]
  },
  {
   "cell_type": "code",
   "execution_count": 14,
   "metadata": {
    "collapsed": false,
    "jupyter": {
     "outputs_hidden": false
    }
   },
   "outputs": [
    {
     "data": {
      "text/plain": [
       "1-element Vector{Union{Missing, Float64}}:\n",
       " 7.137316657934137e9"
      ]
     },
     "execution_count": 14,
     "metadata": {},
     "output_type": "execute_result"
    }
   ],
   "source": [
    "pop_glob_2015=pop[65,:]"
   ]
  },
  {
   "cell_type": "code",
   "execution_count": 15,
   "metadata": {
    "collapsed": false,
    "jupyter": {
     "outputs_hidden": false
    }
   },
   "outputs": [
    {
     "data": {
      "text/plain": [
       "2.9022614298303384e12"
      ]
     },
     "execution_count": 15,
     "metadata": {},
     "output_type": "execute_result"
    }
   ],
   "source": [
    "pop_sum=sum(pop[50:350,:])"
   ]
  },
  {
   "cell_type": "code",
   "execution_count": 16,
   "metadata": {
    "collapsed": false,
    "jupyter": {
     "outputs_hidden": false
    }
   },
   "outputs": [],
   "source": [
    "pop_reg=m1[:population,:population][50:350,:];"
   ]
  },
  {
   "cell_type": "code",
   "execution_count": 17,
   "metadata": {
    "collapsed": false,
    "jupyter": {
     "outputs_hidden": false
    }
   },
   "outputs": [
    {
     "data": {
      "text/plain": [
       "16-element Vector{Union{Missing, Float64}}:\n",
       "  296.6694621000862\n",
       "   33.43463012269337\n",
       "  394.8249750810085\n",
       "  192.84357628713477\n",
       "   23.55806856639281\n",
       "  126.78370154652103\n",
       "  293.46431238326204\n",
       "  316.06359304305676\n",
       "  154.35828053721616\n",
       "  414.7332934301782\n",
       " 1669.702955884264\n",
       "  629.4246747851677\n",
       " 1467.6802149743398\n",
       "  192.4180808890199\n",
       "  877.9642688779521\n",
       "   53.39256942584386"
      ]
     },
     "execution_count": 17,
     "metadata": {},
     "output_type": "execute_result"
    }
   ],
   "source": [
    "pop_reg_2015=m1[:population,:population][65,:]"
   ]
  },
  {
   "cell_type": "code",
   "execution_count": 18,
   "metadata": {
    "collapsed": false,
    "jupyter": {
     "outputs_hidden": false
    }
   },
   "outputs": [
    {
     "data": {
      "text/plain": [
       "1×16 Matrix{Union{Missing, Float64}}:\n",
       " 91434.1  10560.0  1.21474e5  66752.7  …  1.08234e5  4.58802e5  20090.3"
      ]
     },
     "execution_count": 18,
     "metadata": {},
     "output_type": "execute_result"
    }
   ],
   "source": [
    "pop_reg_sum=sum(m1[:population,:population][50:350,:],dims=1)"
   ]
  },
  {
   "cell_type": "markdown",
   "metadata": {},
   "source": [
    "#### Alternative Regions "
   ]
  },
  {
   "cell_type": "code",
   "execution_count": 19,
   "metadata": {
    "collapsed": false,
    "jupyter": {
     "outputs_hidden": false
    }
   },
   "outputs": [
    {
     "data": {
      "text/plain": [
       "3086.9421874603418"
      ]
     },
     "execution_count": 19,
     "metadata": {},
     "output_type": "execute_result"
    }
   ],
   "source": [
    "pop_r=m1[:population,:population];\n",
    "pop_high=sum(pop_r[50:350,1:5],dims=2)\n",
    "pop_med=(pop_r[50:350,6]+sum(pop_r[50:350,8:10],dims=2)+sum(pop_r[50:350,12:13],dims=2))\n",
    "pop_low=(pop_r[50:350,7]+pop_r[50:350,11]+pop_r[50:350,14]+pop_r[50:350,15]+pop_r[50:350,16])\n",
    "pop_high_avg=sum(pop_high)/301\n",
    "pop_med_avg=sum(pop_med)/301\n",
    "pop_low_avg=sum(pop_low)/301\n",
    "pop_high_2015=sum(pop_r[65,1:5],dims=2)\n",
    "pop_med_2015=(pop_r[65,6]+sum(pop_r[65,8:10])+sum(pop_r[65,12:13]))\n",
    "pop_low_2015=(pop_r[65,7]+pop_r[65,11]+pop_r[65,14]+pop_r[65,15]+pop_r[65,16])"
   ]
  },
  {
   "cell_type": "markdown",
   "metadata": {},
   "source": [
    "### Income - billions USD1995"
   ]
  },
  {
   "cell_type": "code",
   "execution_count": 20,
   "metadata": {
    "collapsed": false,
    "jupyter": {
     "outputs_hidden": false
    }
   },
   "outputs": [],
   "source": [
    "globalincome= m1[:socioeconomic, :globalincome];"
   ]
  },
  {
   "cell_type": "code",
   "execution_count": 21,
   "metadata": {
    "collapsed": false,
    "jupyter": {
     "outputs_hidden": false
    }
   },
   "outputs": [],
   "source": [
    "GDP_glob=globalincome[50:350,:];"
   ]
  },
  {
   "cell_type": "code",
   "execution_count": 22,
   "metadata": {
    "collapsed": false,
    "jupyter": {
     "outputs_hidden": false
    }
   },
   "outputs": [
    {
     "data": {
      "text/plain": [
       "1-element Vector{Union{Missing, Float64}}:\n",
       " 46542.34575135166"
      ]
     },
     "execution_count": 22,
     "metadata": {},
     "output_type": "execute_result"
    }
   ],
   "source": [
    "GDP_glob_2015=globalincome[65,:]"
   ]
  },
  {
   "cell_type": "code",
   "execution_count": 23,
   "metadata": {
    "collapsed": false,
    "jupyter": {
     "outputs_hidden": false
    }
   },
   "outputs": [],
   "source": [
    "income= m1[:socioeconomic, :income];"
   ]
  },
  {
   "cell_type": "code",
   "execution_count": 24,
   "metadata": {
    "collapsed": false,
    "jupyter": {
     "outputs_hidden": false
    }
   },
   "outputs": [],
   "source": [
    "GDP_reg=income[50:350,:];"
   ]
  },
  {
   "cell_type": "code",
   "execution_count": 25,
   "metadata": {
    "collapsed": false,
    "jupyter": {
     "outputs_hidden": false
    }
   },
   "outputs": [
    {
     "data": {
      "text/plain": [
       "16-element Vector{Union{Missing, Float64}}:\n",
       " 12358.241088599054\n",
       "   978.8687250284875\n",
       " 13481.450709992328\n",
       "  8822.807438977017\n",
       "   759.2674481443755\n",
       "   511.21544281513184\n",
       "   716.8951075872199\n",
       "   992.5114742038568\n",
       "   596.0861057696892\n",
       "  2081.2723874161366\n",
       "   974.82763413769\n",
       "  1326.4232323080669\n",
       "  2029.8316335038203\n",
       "   302.0829528432541\n",
       "   534.4074438528788\n",
       "    76.15692617266512"
      ]
     },
     "execution_count": 25,
     "metadata": {},
     "output_type": "execute_result"
    }
   ],
   "source": [
    "GDP_reg_2015=income[65,:]"
   ]
  },
  {
   "cell_type": "code",
   "execution_count": 26,
   "metadata": {
    "collapsed": false,
    "jupyter": {
     "outputs_hidden": false
    }
   },
   "outputs": [
    {
     "data": {
      "text/plain": [
       "1×16 Matrix{Float64}:\n",
       " 1.09238e6  87499.3  1.18527e6  8.65258e5  …  48318.0  82201.7  8639.32"
      ]
     },
     "execution_count": 26,
     "metadata": {},
     "output_type": "execute_result"
    }
   ],
   "source": [
    "GDP_reg_sum=sum(df_r_1.*GDP_reg,dims=1)"
   ]
  },
  {
   "cell_type": "code",
   "execution_count": 27,
   "metadata": {
    "collapsed": false,
    "jupyter": {
     "outputs_hidden": false
    }
   },
   "outputs": [
    {
     "data": {
      "text/plain": [
       "4.5105729780956805e6"
      ]
     },
     "execution_count": 27,
     "metadata": {},
     "output_type": "execute_result"
    }
   ],
   "source": [
    "GDP_glob_sum=sum(df_r_1.*GDP_reg)"
   ]
  },
  {
   "cell_type": "markdown",
   "metadata": {},
   "source": [
    "#### Alternative Regions "
   ]
  },
  {
   "cell_type": "code",
   "execution_count": 28,
   "metadata": {
    "collapsed": false,
    "jupyter": {
     "outputs_hidden": false
    }
   },
   "outputs": [
    {
     "data": {
      "text/plain": [
       "2604.370064593708"
      ]
     },
     "execution_count": 28,
     "metadata": {},
     "output_type": "execute_result"
    }
   ],
   "source": [
    "gdp_high=sum(income[50:350,1:5],dims=2)\n",
    "gdp_med=(income[50:350,6]+sum(income[50:350,8:10],dims=2)+sum(income[50:350,12:13],dims=2))\n",
    "gdp_low=(income[50:350,7]+income[50:350,11]+income[50:350,14]+income[50:350,15]+income[50:350,16])\n",
    "gdp_high2=sum(df_r[50:350,1:5].*income[50:350,1:5],dims=2)\n",
    "gdp_med2=(df_r[50:350,6].*income[50:350,6]+sum(df_r[50:350,8:10].*income[50:350,8:10],dims=2)+sum(df_r[50:350,12:13].*income[50:350,12:13],dims=2))\n",
    "gdp_low2=(df_r[50:350,7].*income[50:350,7]+df_r[50:350,11].*income[50:350,11]+df_r[50:350,14].*income[50:350,14]+df_r[50:350,15].*income[50:350,15]+df_r[50:350,16].*income[50:350,16])\n",
    "gdp_high_avg=sum(gdp_high2)/291\n",
    "gdp_med_avg=sum(gdp_med2)/291\n",
    "gdp_low_avg=sum(gdp_low2)/291\n",
    "gdp_high_2015=sum(income[65,1:5],dims=2)\n",
    "gdp_med_2015=(income[65,6]+sum(income[65,8:10])+sum(income[65,12:13]))\n",
    "gdp_low_2015=(income[65,7]+income[65,11]+income[65,14]+income[65,15]+income[65,16])"
   ]
  },
  {
   "cell_type": "markdown",
   "metadata": {},
   "source": [
    "### Income per capita "
   ]
  },
  {
   "cell_type": "code",
   "execution_count": 29,
   "metadata": {
    "collapsed": false,
    "jupyter": {
     "outputs_hidden": false
    }
   },
   "outputs": [],
   "source": [
    "ypc = m1[:socioeconomic, :ypc];"
   ]
  },
  {
   "cell_type": "code",
   "execution_count": 30,
   "metadata": {
    "collapsed": false,
    "jupyter": {
     "outputs_hidden": false
    }
   },
   "outputs": [
    {
     "data": {
      "text/plain": [
       "301×1 Matrix{Union{Missing, Float64}}:\n",
       "  5337.418689168101\n",
       "  5422.438217416453\n",
       "  5569.008529772254\n",
       "  5637.9743204687875\n",
       "  5710.2491846359035\n",
       "  5785.2183492772965\n",
       "  5862.892168242639\n",
       "  5943.333324301487\n",
       "  6026.592385893459\n",
       "  6112.786392293587\n",
       "  6202.023668554732\n",
       "  6294.385496073551\n",
       "  6351.146655018377\n",
       "     ⋮\n",
       " 35692.07585956564\n",
       " 35898.54583092908\n",
       " 36106.28398567793\n",
       " 36315.29825732581\n",
       " 36525.59662720946\n",
       " 36737.18712642476\n",
       " 36950.077837305005\n",
       " 37164.27688937642\n",
       " 37379.79246296454\n",
       " 37596.632790072756\n",
       " 37814.80615340018\n",
       " 38034.32088849619"
      ]
     },
     "execution_count": 30,
     "metadata": {},
     "output_type": "execute_result"
    }
   ],
   "source": [
    "globalypc=m1[:socioeconomic, :globalypc]\n",
    "ypc_glob=globalypc[50:350,:]"
   ]
  },
  {
   "cell_type": "code",
   "execution_count": 31,
   "metadata": {
    "collapsed": false,
    "jupyter": {
     "outputs_hidden": false
    }
   },
   "outputs": [
    {
     "data": {
      "text/plain": [
       "1-element Vector{Union{Missing, Float64}}:\n",
       " 6520.986525042751"
      ]
     },
     "execution_count": 31,
     "metadata": {},
     "output_type": "execute_result"
    }
   ],
   "source": [
    "ypc_glob_2015=globalypc[65,:]"
   ]
  },
  {
   "cell_type": "code",
   "execution_count": 32,
   "metadata": {
    "collapsed": false,
    "jupyter": {
     "outputs_hidden": false
    }
   },
   "outputs": [],
   "source": [
    "ypc_reg=ypc[50:350,:];"
   ]
  },
  {
   "cell_type": "code",
   "execution_count": 33,
   "metadata": {
    "collapsed": false,
    "jupyter": {
     "outputs_hidden": false
    }
   },
   "outputs": [
    {
     "data": {
      "text/plain": [
       "16-element Vector{Union{Missing, Float64}}:\n",
       " 41656.59991128377\n",
       " 29277.091489763232\n",
       " 34145.38481823816\n",
       " 45751.108794208856\n",
       " 32229.613646151036\n",
       "  4032.1858139435253\n",
       "  2442.8698050717685\n",
       "  3140.227144316014\n",
       "  3861.7047539990663\n",
       "  5018.339304767019\n",
       "   583.8329690333617\n",
       "  2107.3581723830507\n",
       "  1383.0203696922554\n",
       "  1569.9301824836568\n",
       "   608.6892858815967\n",
       "  1426.3581429329474"
      ]
     },
     "execution_count": 33,
     "metadata": {},
     "output_type": "execute_result"
    }
   ],
   "source": [
    "ypc_reg_2015=ypc[65,:]"
   ]
  },
  {
   "cell_type": "code",
   "execution_count": 34,
   "metadata": {
    "collapsed": false,
    "jupyter": {
     "outputs_hidden": false
    }
   },
   "outputs": [
    {
     "data": {
      "text/plain": [
       "1×16 Matrix{Float64}:\n",
       " 3.63316e6  2.55153e6  2.96889e6  3.97382e6  …  1.46459e5  56718.3  1.32729e5"
      ]
     },
     "execution_count": 34,
     "metadata": {},
     "output_type": "execute_result"
    }
   ],
   "source": [
    "ypc_reg_sum=sum(df_r_1.*ypc_reg,dims=1)"
   ]
  },
  {
   "cell_type": "code",
   "execution_count": 35,
   "metadata": {
    "collapsed": false,
    "jupyter": {
     "outputs_hidden": false
    }
   },
   "outputs": [
    {
     "data": {
      "text/plain": [
       "1×16 Matrix{Float64}:\n",
       " 12485.1  8768.14  10202.4  13655.7  …  438.298  503.297  194.908  456.114"
      ]
     },
     "execution_count": 35,
     "metadata": {},
     "output_type": "execute_result"
    }
   ],
   "source": [
    "ypc_reg_avg=ypc_reg_sum/291"
   ]
  },
  {
   "cell_type": "code",
   "execution_count": 36,
   "metadata": {
    "collapsed": false,
    "jupyter": {
     "outputs_hidden": false
    }
   },
   "outputs": [
    {
     "data": {
      "text/plain": [
       "1×16 Matrix{Float64}:\n",
       " 11947.1  8285.89  9757.33  12962.1  …  417.413  446.423  179.166  430.025"
      ]
     },
     "execution_count": 36,
     "metadata": {},
     "output_type": "execute_result"
    }
   ],
   "source": [
    "ypc_reg_pop_avg=sum(df_r_1.*ypc_reg.*pop_reg,dims=1)./sum(pop_reg,dims=1)"
   ]
  },
  {
   "cell_type": "code",
   "execution_count": 37,
   "metadata": {
    "collapsed": false,
    "jupyter": {
     "outputs_hidden": false
    }
   },
   "outputs": [
    {
     "data": {
      "text/plain": [
       "785.3163818181747"
      ]
     },
     "execution_count": 37,
     "metadata": {},
     "output_type": "execute_result"
    }
   ],
   "source": [
    "ypc_glob_avg=(sum(GDP_reg_sum.*pop_reg)./sum(pop_reg))/291"
   ]
  },
  {
   "cell_type": "code",
   "execution_count": 38,
   "metadata": {
    "collapsed": false,
    "jupyter": {
     "outputs_hidden": false
    }
   },
   "outputs": [
    {
     "data": {
      "text/plain": [
       "1554.158054727469"
      ]
     },
     "execution_count": 38,
     "metadata": {},
     "output_type": "execute_result"
    }
   ],
   "source": [
    "ypc_glob_pop_avg=sum(df_r_1.*ypc_reg.*pop_reg)./sum(pop_reg)"
   ]
  },
  {
   "cell_type": "markdown",
   "metadata": {},
   "source": [
    "#### Alternative Regions "
   ]
  },
  {
   "cell_type": "code",
   "execution_count": 39,
   "metadata": {
    "collapsed": false,
    "jupyter": {
     "outputs_hidden": false
    }
   },
   "outputs": [
    {
     "data": {
      "text/plain": [
       "843.673093449265"
      ]
     },
     "execution_count": 39,
     "metadata": {},
     "output_type": "execute_result"
    }
   ],
   "source": [
    "ypc_high=1000*gdp_high./pop_high\n",
    "ypc_med=1000*gdp_med./pop_med\n",
    "ypc_low=1000*gdp_low./pop_low;\n",
    "ypc_high_avg=1000*gdp_high_avg/pop_high_avg*(301/291)\n",
    "ypc_med_avg=1000*gdp_med_avg/pop_med_avg*(301/291)\n",
    "ypc_low_avg=1000*gdp_low_avg/pop_low_avg*(301/291)\n",
    "ypc_high_2015=1000*gdp_high_2015./pop_high_2015\n",
    "ypc_med_2015=1000*gdp_med_2015./pop_med_2015\n",
    "ypc_low_2015=1000*gdp_low_2015./pop_low_2015"
   ]
  },
  {
   "cell_type": "markdown",
   "metadata": {},
   "source": [
    "## Deaths"
   ]
  },
  {
   "cell_type": "code",
   "execution_count": 40,
   "metadata": {
    "collapsed": false,
    "jupyter": {
     "outputs_hidden": false
    }
   },
   "outputs": [],
   "source": [
    "deaths = m1[:impactdeathmorbidity, :dead];"
   ]
  },
  {
   "cell_type": "code",
   "execution_count": 41,
   "metadata": {
    "collapsed": false,
    "jupyter": {
     "outputs_hidden": false
    }
   },
   "outputs": [],
   "source": [
    "deaths_reg=deaths[50:350,:];"
   ]
  },
  {
   "cell_type": "code",
   "execution_count": 42,
   "metadata": {
    "collapsed": false,
    "jupyter": {
     "outputs_hidden": false
    }
   },
   "outputs": [
    {
     "data": {
      "text/plain": [
       "16-element Vector{Union{Missing, Float64}}:\n",
       "    602.9939391919431\n",
       "      5.2801448868344405\n",
       "    339.5223193052669\n",
       "    148.37616738794915\n",
       "      1.2941787845232104\n",
       "    178.34608699330397\n",
       "  16857.664063220996\n",
       "    585.1865442813273\n",
       "    704.8954230684861\n",
       "   1609.1894287822945\n",
       "   7985.018956788081\n",
       "    991.2921722026083\n",
       "   2334.6225339902953\n",
       "   5211.948969614168\n",
       " 146972.17312618264\n",
       "    362.0436053304614"
      ]
     },
     "execution_count": 42,
     "metadata": {},
     "output_type": "execute_result"
    }
   ],
   "source": [
    "deaths_reg_2015=deaths[65,:]"
   ]
  },
  {
   "cell_type": "code",
   "execution_count": 43,
   "metadata": {
    "collapsed": false,
    "jupyter": {
     "outputs_hidden": false
    }
   },
   "outputs": [
    {
     "data": {
      "text/plain": [
       "1×16 Matrix{Union{Missing, Float64}}:\n",
       " 1.23671e5  47.9254  70073.2  29379.6  …  2.50618e7  3.75273e8  5.94722e5"
      ]
     },
     "execution_count": 43,
     "metadata": {},
     "output_type": "execute_result"
    }
   ],
   "source": [
    "deaths_reg_sum=sum(deaths_reg,dims=1)"
   ]
  },
  {
   "cell_type": "code",
   "execution_count": 44,
   "metadata": {
    "collapsed": false,
    "jupyter": {
     "outputs_hidden": false
    }
   },
   "outputs": [
    {
     "data": {
      "text/plain": [
       "1×16 Matrix{Float64}:\n",
       " 410.866  0.159221  232.801  97.6066  1.69611  …  83261.8  1.24675e6  1975.82"
      ]
     },
     "execution_count": 44,
     "metadata": {},
     "output_type": "execute_result"
    }
   ],
   "source": [
    "deaths_reg_avg=sum(deaths_reg,dims=1)/301"
   ]
  },
  {
   "cell_type": "code",
   "execution_count": 45,
   "metadata": {
    "collapsed": false,
    "jupyter": {
     "outputs_hidden": false
    }
   },
   "outputs": [],
   "source": [
    "deaths_glob=sum(deaths,dims=2)[50:350,:];"
   ]
  },
  {
   "cell_type": "code",
   "execution_count": 46,
   "metadata": {
    "collapsed": false,
    "jupyter": {
     "outputs_hidden": false
    }
   },
   "outputs": [
    {
     "data": {
      "text/plain": [
       "1-element Vector{Union{Missing, Float64}}:\n",
       " 184889.84766001118"
      ]
     },
     "execution_count": 46,
     "metadata": {},
     "output_type": "execute_result"
    }
   ],
   "source": [
    "deaths_glob_2015=sum(deaths,dims=2)[65,:]"
   ]
  },
  {
   "cell_type": "code",
   "execution_count": 47,
   "metadata": {
    "collapsed": false,
    "jupyter": {
     "outputs_hidden": false
    }
   },
   "outputs": [
    {
     "data": {
      "text/plain": [
       "4.6941805116226685e8"
      ]
     },
     "execution_count": 47,
     "metadata": {},
     "output_type": "execute_result"
    }
   ],
   "source": [
    "deaths_glob_sum=sum(deaths_glob)"
   ]
  },
  {
   "cell_type": "code",
   "execution_count": 48,
   "metadata": {
    "collapsed": false,
    "jupyter": {
     "outputs_hidden": false
    }
   },
   "outputs": [
    {
     "data": {
      "text/plain": [
       "1.5595284091769662e6"
      ]
     },
     "execution_count": 48,
     "metadata": {},
     "output_type": "execute_result"
    }
   ],
   "source": [
    "deaths_glob_avg=deaths_glob_sum/301"
   ]
  },
  {
   "cell_type": "markdown",
   "metadata": {},
   "source": [
    "#### Alternative Regions "
   ]
  },
  {
   "cell_type": "code",
   "execution_count": 49,
   "metadata": {
    "collapsed": false,
    "jupyter": {
     "outputs_hidden": false
    }
   },
   "outputs": [
    {
     "data": {
      "text/plain": [
       "1.5168387799921338e6"
      ]
     },
     "execution_count": 49,
     "metadata": {},
     "output_type": "execute_result"
    }
   ],
   "source": [
    "dead_high=sum(deaths[50:350,1:5],dims=2)\n",
    "dead_med=(deaths[50:350,6]+sum(deaths[50:350,8:10],dims=2)+sum(deaths[50:350,12:13],dims=2))\n",
    "dead_low=(deaths[50:350,7]+deaths[50:350,11]+deaths[50:350,14]+deaths[50:350,15]+deaths[50:350,16])\n",
    "dead_high_sum=sum(dead_high)\n",
    "dead_med_sum=sum(dead_med)\n",
    "dead_low_sum=sum(dead_low)\n",
    "dead_high_avg=sum(dead_high)/301\n",
    "dead_med_avg=sum(dead_med)/301\n",
    "dead_low_avg=sum(dead_low)/301"
   ]
  },
  {
   "cell_type": "markdown",
   "metadata": {},
   "source": [
    "### VSL"
   ]
  },
  {
   "cell_type": "code",
   "execution_count": 50,
   "metadata": {
    "collapsed": false,
    "jupyter": {
     "outputs_hidden": false
    }
   },
   "outputs": [],
   "source": [
    "vsl=m1[:vslvmorb, :vsl];"
   ]
  },
  {
   "cell_type": "code",
   "execution_count": 51,
   "metadata": {
    "collapsed": false,
    "jupyter": {
     "outputs_hidden": false
    }
   },
   "outputs": [],
   "source": [
    "vsl_reg=vsl[50:350,:];"
   ]
  },
  {
   "cell_type": "code",
   "execution_count": 52,
   "metadata": {
    "collapsed": false,
    "jupyter": {
     "outputs_hidden": false
    }
   },
   "outputs": [
    {
     "data": {
      "text/plain": [
       "16-element Vector{Union{Missing, Float64}}:\n",
       "      8.331319982256753e6\n",
       "      5.855418297952646e6\n",
       "      6.829076963647633e6\n",
       "      9.150221758841772e6\n",
       "      6.445922729230207e6\n",
       " 806437.1627887051\n",
       " 488573.96101435367\n",
       " 628045.4288632029\n",
       " 772340.9507998133\n",
       "      1.0036678609534038e6\n",
       " 116766.59380667233\n",
       " 421471.6344766101\n",
       " 276604.07393845107\n",
       " 313986.0364967314\n",
       " 121737.85717631935\n",
       " 285271.6285865895"
      ]
     },
     "execution_count": 52,
     "metadata": {},
     "output_type": "execute_result"
    }
   ],
   "source": [
    "vsl_reg_2015=vsl[65,:]"
   ]
  },
  {
   "cell_type": "code",
   "execution_count": 53,
   "metadata": {
    "collapsed": false,
    "jupyter": {
     "outputs_hidden": false
    }
   },
   "outputs": [
    {
     "data": {
      "text/plain": [
       "1×16 Matrix{Float64}:\n",
       " 2.49702e6  1.75363e6  2.04047e6  2.73115e6  …  1.00659e5  38981.7  91222.7"
      ]
     },
     "execution_count": 53,
     "metadata": {},
     "output_type": "execute_result"
    }
   ],
   "source": [
    "vsl_reg_avg=sum(df_r_1.*vsl_reg,dims=1)/291"
   ]
  },
  {
   "cell_type": "code",
   "execution_count": 54,
   "metadata": {
    "collapsed": false,
    "jupyter": {
     "outputs_hidden": false
    }
   },
   "outputs": [
    {
     "data": {
      "text/plain": [
       "1×16 Matrix{Float64}:\n",
       " 3.0318e6  -1.61796e7  2.46198e6  …  56775.1  53608.7  26142.8  62161.3"
      ]
     },
     "execution_count": 54,
     "metadata": {},
     "output_type": "execute_result"
    }
   ],
   "source": [
    "vsl_reg_pop_avg=vsl_reg_pop_avg=sum(df_r_1[10:300,:].*vsl_reg[10:300,:].*deaths_reg[10:300,:],dims=1)./sum(deaths_reg[10:300,:],dims=1)"
   ]
  },
  {
   "cell_type": "code",
   "execution_count": 55,
   "metadata": {
    "collapsed": false,
    "jupyter": {
     "outputs_hidden": false
    }
   },
   "outputs": [
    {
     "data": {
      "text/plain": [
       "301×1 Matrix{Union{Missing, Float64}}:\n",
       "      0.0\n",
       "      0.0\n",
       "      0.0\n",
       "      0.0\n",
       "      0.0\n",
       "      0.0\n",
       "      0.0\n",
       "      0.0\n",
       "      0.0\n",
       "      0.0\n",
       " 228575.34846442926\n",
       " 225647.78688795803\n",
       " 220507.80373317158\n",
       "      ⋮\n",
       "  11514.750946962726\n",
       "  11413.440591207946\n",
       "  11313.026994125408\n",
       "  11213.501693682349\n",
       "  11114.85631018214\n",
       "  11017.082546024181\n",
       "  10920.17221143153\n",
       "  10824.117189310282\n",
       "  10728.909444689034\n",
       "  10634.5410323509\n",
       "  10541.004081874855\n",
       "  10448.290816125722"
      ]
     },
     "execution_count": 55,
     "metadata": {},
     "output_type": "execute_result"
    }
   ],
   "source": [
    "#Incorrect\n",
    "vsl_glob=sum(df_r.*vsl.*deaths,dims=2)./sum(deaths,dims=2)\n",
    "vsl_glob=vsl_glob[50:350,:]"
   ]
  },
  {
   "cell_type": "code",
   "execution_count": 56,
   "metadata": {
    "collapsed": false,
    "jupyter": {
     "outputs_hidden": false
    }
   },
   "outputs": [
    {
     "data": {
      "text/plain": [
       "1-element Vector{Union{Missing, Float64}}:\n",
       " 97460.03252517224"
      ]
     },
     "execution_count": 56,
     "metadata": {},
     "output_type": "execute_result"
    }
   ],
   "source": [
    "vsl_glob_2015=vsl_glob[65,:]"
   ]
  },
  {
   "cell_type": "code",
   "execution_count": 57,
   "metadata": {
    "collapsed": false,
    "jupyter": {
     "outputs_hidden": false
    }
   },
   "outputs": [
    {
     "data": {
      "text/plain": [
       "57590.95920632492"
      ]
     },
     "execution_count": 57,
     "metadata": {},
     "output_type": "execute_result"
    }
   ],
   "source": [
    "vsl_glob_avg=sum(vsl_glob)/291"
   ]
  },
  {
   "cell_type": "markdown",
   "metadata": {},
   "source": [
    "#### Alternative Regions "
   ]
  },
  {
   "cell_type": "code",
   "execution_count": 58,
   "metadata": {
    "collapsed": false,
    "jupyter": {
     "outputs_hidden": false
    }
   },
   "outputs": [
    {
     "data": {
      "text/plain": [
       "150996.0998521173"
      ]
     },
     "execution_count": 58,
     "metadata": {},
     "output_type": "execute_result"
    }
   ],
   "source": [
    "mort_val=vsl.*deaths\n",
    "vsl_high=sum(mort_val[50:350,1:5],dims=2)./sum(deaths[50:350,1:5],dims=2)\n",
    "vsl_med=(mort_val[50:350,6]+sum(mort_val[50:350,8:10],dims=2)+sum(mort_val[50:350,12:13],dims=2))./(deaths[50:350,6]+sum(deaths[50:350,8:10],dims=2)+sum(deaths[50:350,12:13],dims=2))\n",
    "vsl_low=(mort_val[50:350,7]+mort_val[50:350,11]+mort_val[50:350,14]+mort_val[50:350,15]+mort_val[50:350,16])./(deaths[50:350,7]+deaths[50:350,11]+deaths[50:350,14]+deaths[50:350,15]+deaths[50:350,16]);\n",
    "vsl_high_avg=sum(vsl_high)/291\n",
    "vsl_med_avg=sum(vsl_med)/291\n",
    "vsl_low_avg=sum(vsl_low)/291\n",
    "vsl_high_pop_avg=sum(mort_val[50:350,1:5])./sum(deaths[50:350,1:5])\n",
    "vsl_med_pop_avg=(sum(mort_val[50:350,6])+sum(mort_val[50:350,8:10])+sum(mort_val[50:350,12:13]))./(sum(deaths[50:350,6])+sum(deaths[50:350,8:10])+sum(deaths[50:350,12:13]))\n",
    "vsl_low_pop_avg=(sum(mort_val[50:350,7])+sum(mort_val[50:350,11])+sum(mort_val[50:350,14])+sum(mort_val[50:350,15])+sum(mort_val[50:350,16]))./(sum(deaths[50:350,7])+sum(deaths[50:350,11])+sum(deaths[50:350,14])+sum(deaths[50:350,15])+sum(deaths[50:350,16]))\n"
   ]
  },
  {
   "cell_type": "markdown",
   "metadata": {},
   "source": [
    "# SCC"
   ]
  },
  {
   "cell_type": "code",
   "execution_count": 59,
   "metadata": {
    "tags": []
   },
   "outputs": [],
   "source": [
    "m3 = MimiFUND.get_model(params=parameters);"
   ]
  },
  {
   "cell_type": "code",
   "execution_count": 60,
   "metadata": {
    "tags": []
   },
   "outputs": [],
   "source": [
    "add_comp!(m3, Mimi.adder, :co2marg, before=:climateco2cycle);"
   ]
  },
  {
   "cell_type": "code",
   "execution_count": 61,
   "metadata": {
    "tags": []
   },
   "outputs": [],
   "source": [
    "connect_param!(m3, :co2marg, :input, :emissions, :mco2)"
   ]
  },
  {
   "cell_type": "code",
   "execution_count": 62,
   "metadata": {
    "tags": []
   },
   "outputs": [],
   "source": [
    "connect_param!(m3, :climateco2cycle, :mco2, :co2marg, :output)"
   ]
  },
  {
   "cell_type": "code",
   "execution_count": 63,
   "metadata": {
    "tags": []
   },
   "outputs": [],
   "source": [
    "marginalemissions = zeros(1051)\n",
    "marginalemissions[60] = 1\n",
    "set_param!(m3, :co2marg, :add, marginalemissions);"
   ]
  },
  {
   "cell_type": "code",
   "execution_count": 64,
   "metadata": {
    "tags": []
   },
   "outputs": [],
   "source": [
    "run(m3)"
   ]
  },
  {
   "cell_type": "code",
   "execution_count": 65,
   "metadata": {
    "tags": []
   },
   "outputs": [],
   "source": [
    "md = (m3[:impactaggregation, :loss]-\n",
    "    m1[:impactaggregation, :loss])/10^6;"
   ]
  },
  {
   "cell_type": "code",
   "execution_count": 66,
   "metadata": {
    "collapsed": false,
    "jupyter": {
     "outputs_hidden": false
    }
   },
   "outputs": [
    {
     "data": {
      "text/plain": [
       "35.724475961381174"
      ]
     },
     "execution_count": 66,
     "metadata": {},
     "output_type": "execute_result"
    }
   ],
   "source": [
    "pd=df_r.*md\n",
    "SCC=sum(pd[60:300,:])"
   ]
  },
  {
   "cell_type": "markdown",
   "metadata": {},
   "source": [
    "# Regional SCC"
   ]
  },
  {
   "cell_type": "code",
   "execution_count": 67,
   "metadata": {
    "collapsed": false,
    "jupyter": {
     "outputs_hidden": false
    }
   },
   "outputs": [
    {
     "data": {
      "text/plain": [
       "1×16 Matrix{Union{Missing, Float64}}:\n",
       " 4.68316  0.203971  6.7662  -1.11955  …  3.06773  7.14401  -0.00988374"
      ]
     },
     "execution_count": 67,
     "metadata": {},
     "output_type": "execute_result"
    }
   ],
   "source": [
    "reg_SCC=sum(pd[60:300,:],dims=1);\n",
    "SCC_reg=reg_SCC"
   ]
  },
  {
   "cell_type": "markdown",
   "metadata": {},
   "source": [
    "#### Alternative Regions "
   ]
  },
  {
   "cell_type": "code",
   "execution_count": 68,
   "metadata": {
    "collapsed": false,
    "jupyter": {
     "outputs_hidden": false
    }
   },
   "outputs": [
    {
     "data": {
      "text/plain": [
       "16.98740999513364"
      ]
     },
     "execution_count": 68,
     "metadata": {},
     "output_type": "execute_result"
    }
   ],
   "source": [
    "SCC_high=sum(SCC_reg[1:5])\n",
    "SCC_med=(SCC_reg[6]+sum(SCC_reg[8:10])+sum(SCC_reg[12:13]))\n",
    "SCC_low=(SCC_reg[7]+SCC_reg[11]+SCC_reg[14]+SCC_reg[15]+SCC_reg[16])"
   ]
  },
  {
   "cell_type": "markdown",
   "metadata": {},
   "source": [
    "## Health SCC"
   ]
  },
  {
   "cell_type": "code",
   "execution_count": 69,
   "metadata": {
    "collapsed": false,
    "jupyter": {
     "outputs_hidden": false
    }
   },
   "outputs": [],
   "source": [
    "marg_health=10^9*((m3[:impactdeathmorbidity, :deadcost]+m3[:impactdeathmorbidity, :morbcost])-(m1[:impactdeathmorbidity, :deadcost]+m1[:impactdeathmorbidity, :morbcost]));"
   ]
  },
  {
   "cell_type": "code",
   "execution_count": 70,
   "metadata": {
    "collapsed": false,
    "jupyter": {
     "outputs_hidden": false
    }
   },
   "outputs": [
    {
     "data": {
      "text/plain": [
       "10.005313623267723"
      ]
     },
     "execution_count": 70,
     "metadata": {},
     "output_type": "execute_result"
    }
   ],
   "source": [
    "pd_health=(df_r.*marg_health)/10^6\n",
    "health_SCC=sum(pd_health[60:300,:])"
   ]
  },
  {
   "cell_type": "code",
   "execution_count": 71,
   "metadata": {
    "collapsed": false,
    "jupyter": {
     "outputs_hidden": false
    }
   },
   "outputs": [
    {
     "data": {
      "text/plain": [
       "0.2800688702637277"
      ]
     },
     "execution_count": 71,
     "metadata": {},
     "output_type": "execute_result"
    }
   ],
   "source": [
    "Perc_Health_SCC=health_SCC/SCC"
   ]
  },
  {
   "cell_type": "markdown",
   "metadata": {},
   "source": [
    "## Health Regional SCC"
   ]
  },
  {
   "cell_type": "code",
   "execution_count": 72,
   "metadata": {
    "collapsed": false,
    "jupyter": {
     "outputs_hidden": false
    }
   },
   "outputs": [
    {
     "data": {
      "text/plain": [
       "1×16 Matrix{Union{Missing, Float64}}:\n",
       " 0.407704  3.32843e-5  0.193969  0.082077  …  0.865947  5.31865  0.0211097"
      ]
     },
     "execution_count": 72,
     "metadata": {},
     "output_type": "execute_result"
    }
   ],
   "source": [
    "reg_health_SCC=sum(pd_health[60:300,:],dims=1)"
   ]
  },
  {
   "cell_type": "code",
   "execution_count": 73,
   "metadata": {
    "collapsed": false,
    "jupyter": {
     "outputs_hidden": false
    }
   },
   "outputs": [
    {
     "data": {
      "text/plain": [
       "1×16 Matrix{Float64}:\n",
       " 0.0870575  0.000163181  0.0286674  …  0.282277  0.744491  -2.1358"
      ]
     },
     "execution_count": 73,
     "metadata": {},
     "output_type": "execute_result"
    }
   ],
   "source": [
    "Reg_Perc_Health_SCC=reg_health_SCC./reg_SCC"
   ]
  },
  {
   "cell_type": "code",
   "execution_count": 74,
   "metadata": {
    "collapsed": false,
    "jupyter": {
     "outputs_hidden": false
    }
   },
   "outputs": [
    {
     "data": {
      "text/plain": [
       "1×16 Matrix{Float64}:\n",
       " 0.0870575  0.000163181  0.0286674  …  0.282277  0.744491  -2.1358"
      ]
     },
     "execution_count": 74,
     "metadata": {},
     "output_type": "execute_result"
    }
   ],
   "source": [
    "Perc_health_SCC_reg=reg_health_SCC./reg_SCC"
   ]
  },
  {
   "cell_type": "markdown",
   "metadata": {},
   "source": [
    "#### Alternative Regions "
   ]
  },
  {
   "cell_type": "code",
   "execution_count": 75,
   "metadata": {
    "collapsed": false,
    "jupyter": {
     "outputs_hidden": false
    }
   },
   "outputs": [
    {
     "data": {
      "text/plain": [
       "8.415984837740972"
      ]
     },
     "execution_count": 75,
     "metadata": {},
     "output_type": "execute_result"
    }
   ],
   "source": [
    "health_SCC_high=sum(reg_health_SCC[1:5])\n",
    "health_SCC_med=(reg_health_SCC[6]+sum(reg_health_SCC[8:10])+sum(reg_health_SCC[12:13]))\n",
    "health_SCC_low=(reg_health_SCC[7]+reg_health_SCC[11]+reg_health_SCC[14]+reg_health_SCC[15]+reg_health_SCC[16])"
   ]
  },
  {
   "cell_type": "markdown",
   "metadata": {},
   "source": [
    "# Health Endpoint SCC"
   ]
  },
  {
   "cell_type": "markdown",
   "metadata": {},
   "source": [
    "### Dengue Fever "
   ]
  },
  {
   "cell_type": "code",
   "execution_count": 76,
   "metadata": {
    "collapsed": false,
    "jupyter": {
     "outputs_hidden": false
    }
   },
   "outputs": [],
   "source": [
    "dv_1=m1[:vslvmorb, :vsl].*m1[:impactvectorbornediseases, :dengue]./(10^9)\n",
    "\n",
    "trick=ones(1051,16)\n",
    "trick2=parameters[:d2dd]\n",
    "for j=1:16\n",
    "trick[:,j]=trick[:,j].*trick2[j]\n",
    "end\n",
    "trick\n",
    "\n",
    "#dv_2=m1[:vslvmorb, :vmorb]*parameters[\"d2dd\"].*m1[:impactvectorbornediseases, :dengue]./1000000000.0\n",
    "dv_2=m1[:vslvmorb, :vmorb].*trick.*m1[:impactvectorbornediseases, :dengue]./(10^9)\n",
    "dv_3=dv_1+dv_2\n",
    "pv_dv_1=df_r.*dv_1\n",
    "pv_dv_2=df_r.*dv_2\n",
    "pv_dv_3=df_r.*dv_3;"
   ]
  },
  {
   "cell_type": "code",
   "execution_count": 77,
   "metadata": {
    "collapsed": false,
    "jupyter": {
     "outputs_hidden": false
    }
   },
   "outputs": [
    {
     "data": {
      "text/plain": [
       "1051×16 Matrix{Union{Missing, Float64}}:\n",
       "  missing   missing   missing  …   missing     missing      missing\n",
       " 0.0       0.0       0.0          0.00714076  0.000529003  0.00135431\n",
       " 0.0       0.0       0.0          0.00705276  0.000546377  0.00134619\n",
       " 0.0       0.0       0.0          0.00696585  0.000564321  0.00133812\n",
       " 0.0       0.0       0.0          0.00687919  0.000582785  0.00132995\n",
       " 0.0       0.0       0.0       …  0.00679232  0.00060174   0.00132157\n",
       " 0.0       0.0       0.0          0.0067046   0.00062113   0.00131286\n",
       " 0.0       0.0       0.0          0.00661568  0.00064092   0.00130376\n",
       " 0.0       0.0       0.0          0.00652688  0.000661233  0.0012945\n",
       " 0.0       0.0       0.0          0.00643965  0.00068223   0.00128539\n",
       " 0.0       0.0       0.0       …  0.00635705  0.000704277  0.00127704\n",
       " 0.0       0.0       0.0          0.00628238  0.00072969   0.00127002\n",
       " 0.0       0.0       0.0          0.0062078   0.000755924  0.00126288\n",
       " ⋮                             ⋱                           ⋮\n",
       " 0.0       0.0       0.0          0.214783    0.0321353    0.0115549\n",
       " 0.0       0.0       0.0       …  0.214491    0.032093     0.011553\n",
       " 0.0       0.0       0.0          0.214199    0.0320508    0.0115512\n",
       " 0.0       0.0       0.0          0.213908    0.0320087    0.0115494\n",
       " 0.0       0.0       0.0          0.213617    0.0319666    0.0115476\n",
       " 0.0       0.0       0.0          0.213327    0.0319247    0.0115457\n",
       " 0.0       0.0       0.0       …  0.213037    0.0318829    0.0115439\n",
       " 0.0       0.0       0.0          0.212747    0.0318411    0.0115421\n",
       " 0.0       0.0       0.0          0.212458    0.0317995    0.0115403\n",
       " 0.0       0.0       0.0          0.212169    0.0317579    0.0115385\n",
       " 0.0       0.0       0.0          0.211881    0.0317165    0.0115367\n",
       " 0.0       0.0       0.0       …  0.211593    0.0316751    0.0115349"
      ]
     },
     "execution_count": 77,
     "metadata": {},
     "output_type": "execute_result"
    }
   ],
   "source": [
    "dv_1b=m3[:vslvmorb, :vsl].*m3[:impactvectorbornediseases, :dengue]./(10^9)\n",
    "\n",
    "trick=ones(1051,16)\n",
    "trick2=parameters[:d2dd]\n",
    "for j=1:16\n",
    "trick[:,j]=trick[:,j].*trick2[j]\n",
    "end\n",
    "trick;\n",
    "\n",
    "dv_2b=m3[:vslvmorb, :vmorb].*trick.*m3[:impactvectorbornediseases, :dengue]./(10^9)\n",
    "dv_3b=dv_1b+dv_2b"
   ]
  },
  {
   "cell_type": "code",
   "execution_count": 78,
   "metadata": {
    "collapsed": false,
    "jupyter": {
     "outputs_hidden": false
    }
   },
   "outputs": [
    {
     "data": {
      "text/plain": [
       "0.0013075520145644113"
      ]
     },
     "execution_count": 78,
     "metadata": {},
     "output_type": "execute_result"
    }
   ],
   "source": [
    "marg_dengue=10^9*(dv_3b-dv_3)\n",
    "pd_dengue=(df_r.*marg_dengue)/10^6\n",
    "dv_SCC=sum(pd_dengue[60:300,:])\n",
    "perc_dv_SCC=dv_SCC/SCC"
   ]
  },
  {
   "cell_type": "code",
   "execution_count": 79,
   "metadata": {
    "collapsed": false,
    "jupyter": {
     "outputs_hidden": false
    }
   },
   "outputs": [
    {
     "data": {
      "text/plain": [
       "1×16 Matrix{Union{Missing, Float64}}:\n",
       " 0.0  0.0  0.0  0.000801006  0.0  0.0  …  0.00503374  0.00253846  0.000276496"
      ]
     },
     "execution_count": 79,
     "metadata": {},
     "output_type": "execute_result"
    }
   ],
   "source": [
    "reg_dv_SCC=sum(pd_dengue[60:300,:],dims=1)"
   ]
  },
  {
   "cell_type": "code",
   "execution_count": 80,
   "metadata": {
    "collapsed": false,
    "jupyter": {
     "outputs_hidden": false
    }
   },
   "outputs": [
    {
     "data": {
      "text/plain": [
       "1×16 Matrix{Float64}:\n",
       " 0.0  0.0  0.0  -0.000715468  -0.0  …  0.00164087  0.000355327  -0.0279748"
      ]
     },
     "execution_count": 80,
     "metadata": {},
     "output_type": "execute_result"
    }
   ],
   "source": [
    "reg_perc_dv_SCC=reg_dv_SCC./reg_SCC"
   ]
  },
  {
   "cell_type": "markdown",
   "metadata": {},
   "source": [
    "### Schist "
   ]
  },
  {
   "cell_type": "code",
   "execution_count": 81,
   "metadata": {
    "tags": []
   },
   "outputs": [],
   "source": [
    "sv_1=m1[:vslvmorb, :vsl].*m1[:impactvectorbornediseases, :schisto]./(10^9)\n",
    "\n",
    "#sv_2=m1[:vslvmorb, :vmorb]*parameters[\"d2ds\"].*m1[:impactvectorbornediseases, :schisto]./(10^9)\n",
    "trick=ones(1051,16)\n",
    "trick2=parameters[:d2ds]\n",
    "for j=1:16\n",
    "trick[:,j]=trick[:,j].*trick2[j]\n",
    "end\n",
    "trick\n",
    "sv_2=m1[:vslvmorb, :vmorb].*trick.*m1[:impactvectorbornediseases, :schisto]./(10^9)\n",
    "\n",
    "sv_3=sv_1+sv_2\n",
    "pv_sv_1=df_r.*sv_1\n",
    "pv_sv_2=df_r.*sv_2\n",
    "pv_sv_3=df_r.*sv_3;"
   ]
  },
  {
   "cell_type": "code",
   "execution_count": 82,
   "metadata": {
    "collapsed": false,
    "jupyter": {
     "outputs_hidden": false
    }
   },
   "outputs": [
    {
     "data": {
      "text/plain": [
       "-0.0021829187002273998"
      ]
     },
     "execution_count": 82,
     "metadata": {},
     "output_type": "execute_result"
    }
   ],
   "source": [
    "sv_1b=m3[:vslvmorb, :vsl].*m3[:impactvectorbornediseases, :schisto]./(10^9)\n",
    "\n",
    "trick=ones(1051,16)\n",
    "trick2=parameters[:d2ds]\n",
    "for j=1:16\n",
    "trick[:,j]=trick[:,j].*trick2[j]\n",
    "end\n",
    "trick\n",
    "sv_2b=m3[:vslvmorb, :vmorb].*trick.*m3[:impactvectorbornediseases, :schisto]./(10^9)\n",
    "sv_3b=sv_1b+sv_2b\n",
    "\n",
    "marg_schisto=10^9*(sv_3b-sv_3)\n",
    "pd_schisto=(df_r.*marg_schisto)/10^6\n",
    "schisto_SCC=sum(pd_schisto[60:300,:])\n",
    "perc_schisto_SCC=schisto_SCC/SCC"
   ]
  },
  {
   "cell_type": "code",
   "execution_count": 83,
   "metadata": {
    "collapsed": false,
    "jupyter": {
     "outputs_hidden": false
    }
   },
   "outputs": [
    {
     "data": {
      "text/plain": [
       "1×16 Matrix{Union{Missing, Float64}}:\n",
       " -1.46154e-5  -1.47804e-6  -5.49512e-5  …  -0.0423199  -0.000147189"
      ]
     },
     "execution_count": 83,
     "metadata": {},
     "output_type": "execute_result"
    }
   ],
   "source": [
    "reg_sv_SCC=sum(pd_schisto[60:300,:],dims=1)"
   ]
  },
  {
   "cell_type": "code",
   "execution_count": 84,
   "metadata": {
    "collapsed": false,
    "jupyter": {
     "outputs_hidden": false
    }
   },
   "outputs": [
    {
     "data": {
      "text/plain": [
       "1×16 Matrix{Float64}:\n",
       " -3.12083e-6  -7.24632e-6  …  -0.00441571  -0.00592383  0.0148921"
      ]
     },
     "execution_count": 84,
     "metadata": {},
     "output_type": "execute_result"
    }
   ],
   "source": [
    "reg_perc_sv_SCC=reg_sv_SCC./reg_SCC"
   ]
  },
  {
   "cell_type": "markdown",
   "metadata": {},
   "source": [
    "### Malaria "
   ]
  },
  {
   "cell_type": "code",
   "execution_count": 85,
   "metadata": {
    "tags": []
   },
   "outputs": [],
   "source": [
    "mv_1=m1[:vslvmorb, :vsl].*m1[:impactvectorbornediseases, :malaria]./(10^9)\n",
    "\n",
    "#mv_2=m1[:vslvmorb, :vmorb]*parameters[\"d2dm\"].*m1[:impactvectorbornediseases, :malaria]./(10^9)\n",
    "trick=ones(1051,16)\n",
    "trick2=parameters[:d2dm]\n",
    "for j=1:16\n",
    "trick[:,j]=trick[:,j].*trick2[j]\n",
    "end\n",
    "trick\n",
    "mv_2=m1[:vslvmorb, :vmorb].*trick.*m1[:impactvectorbornediseases, :malaria]./(10^9)\n",
    "\n",
    "mv_3=mv_1+mv_2\n",
    "pv_mv_1=df_r.*mv_1\n",
    "pv_mv_2=df_r.*mv_2\n",
    "pv_mv_3=df_r.*mv_3;"
   ]
  },
  {
   "cell_type": "code",
   "execution_count": 86,
   "metadata": {
    "collapsed": false,
    "jupyter": {
     "outputs_hidden": false
    }
   },
   "outputs": [
    {
     "data": {
      "text/plain": [
       "0.08318774201036569"
      ]
     },
     "execution_count": 86,
     "metadata": {},
     "output_type": "execute_result"
    }
   ],
   "source": [
    "mv_1b=m3[:vslvmorb, :vsl].*m3[:impactvectorbornediseases, :malaria]./(10^9)\n",
    "trick=ones(1051,16)\n",
    "trick2=parameters[:d2dm]\n",
    "for j=1:16\n",
    "trick[:,j]=trick[:,j].*trick2[j]\n",
    "end\n",
    "trick\n",
    "mv_2b=m3[:vslvmorb, :vmorb].*trick.*m3[:impactvectorbornediseases, :malaria]./(10^9)\n",
    "mv_3b=mv_1b+mv_2b\n",
    "\n",
    "marg_malaria=10^9*(mv_3b-mv_3)\n",
    "pd_malaria=(df_r.*marg_malaria)/10^6\n",
    "malaria_SCC=sum(pd_malaria[60:300,:])\n",
    "perc_malaria_SCC=malaria_SCC/SCC"
   ]
  },
  {
   "cell_type": "code",
   "execution_count": 87,
   "metadata": {
    "collapsed": false,
    "jupyter": {
     "outputs_hidden": false
    }
   },
   "outputs": [
    {
     "data": {
      "text/plain": [
       "1×16 Matrix{Union{Missing, Float64}}:\n",
       " 3.31848e-5  3.35596e-6  0.000455679  …  0.523089  2.33198  0.00730192"
      ]
     },
     "execution_count": 87,
     "metadata": {},
     "output_type": "execute_result"
    }
   ],
   "source": [
    "reg_mv_SCC=sum(pd_malaria[60:300,:],dims=1)"
   ]
  },
  {
   "cell_type": "code",
   "execution_count": 88,
   "metadata": {
    "collapsed": false,
    "jupyter": {
     "outputs_hidden": false
    }
   },
   "outputs": [
    {
     "data": {
      "text/plain": [
       "1×16 Matrix{Float64}:\n",
       " 7.08599e-6  1.64531e-5  6.73464e-5  …  0.170514  0.326424  -0.738781"
      ]
     },
     "execution_count": 88,
     "metadata": {},
     "output_type": "execute_result"
    }
   ],
   "source": [
    "reg_perc_mv_SCC=reg_mv_SCC./reg_SCC"
   ]
  },
  {
   "cell_type": "markdown",
   "metadata": {},
   "source": [
    "### Cardiovascular - Heat Related"
   ]
  },
  {
   "cell_type": "code",
   "execution_count": 89,
   "metadata": {
    "tags": []
   },
   "outputs": [],
   "source": [
    "hv_1=m1[:vslvmorb, :vsl].*m1[:impactcardiovascularrespiratory, :cardheat]./(10^9)\n",
    "\n",
    "#hv_2=m1[:vslvmorb, :vmorb]*parameters[\"d2dc\"].*m1[:impactcardiovascularrespiratory, :cardheat]./(10^9)\n",
    "trick=ones(1051,16)\n",
    "trick2=parameters[:d2dc]\n",
    "for j=1:16\n",
    "trick[:,j]=trick[:,j].*trick2[j]\n",
    "end\n",
    "trick\n",
    "hv_2=m1[:vslvmorb, :vmorb].*trick.*m1[:impactcardiovascularrespiratory, :cardheat]./(10^9)\n",
    "\n",
    "hv_3=hv_1+hv_2\n",
    "pv_hv_1=df_r.*hv_1\n",
    "pv_hv_2=df_r.*hv_2\n",
    "pv_hv_3=df_r.*hv_3;"
   ]
  },
  {
   "cell_type": "code",
   "execution_count": 90,
   "metadata": {
    "collapsed": false,
    "jupyter": {
     "outputs_hidden": false
    }
   },
   "outputs": [
    {
     "data": {
      "text/plain": [
       "-0.001789550648747232"
      ]
     },
     "execution_count": 90,
     "metadata": {},
     "output_type": "execute_result"
    }
   ],
   "source": [
    "hv_1b=m3[:vslvmorb, :vsl].*m3[:impactcardiovascularrespiratory, :cardheat]./(10^9)\n",
    "trick=ones(1051,16)\n",
    "trick2=parameters[:d2dc]\n",
    "for j=1:16\n",
    "trick[:,j]=trick[:,j].*trick2[j]\n",
    "end\n",
    "trick\n",
    "hv_2b=m3[:vslvmorb, :vmorb].*trick.*m3[:impactcardiovascularrespiratory, :cardheat]./(10^9)\n",
    "hv_3b=hv_1b+hv_2b\n",
    "\n",
    "marg_chr=10^9*(hv_3b-hv_3)\n",
    "pd_chr=(df_r.*marg_chr)/10^6\n",
    "chr_SCC=sum(pd_chr[60:300,:])"
   ]
  },
  {
   "cell_type": "code",
   "execution_count": 91,
   "metadata": {
    "collapsed": false,
    "jupyter": {
     "outputs_hidden": false
    }
   },
   "outputs": [
    {
     "data": {
      "text/plain": [
       "-5.009312524784883e-5"
      ]
     },
     "execution_count": 91,
     "metadata": {},
     "output_type": "execute_result"
    }
   ],
   "source": [
    "perc_chr_SCC=chr_SCC/SCC"
   ]
  },
  {
   "cell_type": "code",
   "execution_count": 92,
   "metadata": {
    "collapsed": false,
    "jupyter": {
     "outputs_hidden": false
    }
   },
   "outputs": [
    {
     "data": {
      "text/plain": [
       "1×16 Matrix{Union{Missing, Float64}}:\n",
       " -0.00052082  -3.02326e-5  -0.000919724  …  -2.27135e-5  2.10952e-6"
      ]
     },
     "execution_count": 92,
     "metadata": {},
     "output_type": "execute_result"
    }
   ],
   "source": [
    "reg_chr_SCC=sum(pd_chr[60:300,:],dims=1)"
   ]
  },
  {
   "cell_type": "code",
   "execution_count": 93,
   "metadata": {
    "collapsed": false,
    "jupyter": {
     "outputs_hidden": false
    }
   },
   "outputs": [
    {
     "data": {
      "text/plain": [
       "1×16 Matrix{Float64}:\n",
       " -0.000111211  -0.00014822  -0.000135929  …  -3.17937e-6  -0.000213434"
      ]
     },
     "execution_count": 93,
     "metadata": {},
     "output_type": "execute_result"
    }
   ],
   "source": [
    "reg_perc_chr_SCC=reg_chr_SCC./reg_SCC"
   ]
  },
  {
   "cell_type": "markdown",
   "metadata": {},
   "source": [
    "### Cardiovascular - Cold Related"
   ]
  },
  {
   "cell_type": "code",
   "execution_count": 94,
   "metadata": {
    "tags": []
   },
   "outputs": [],
   "source": [
    "cv_1=m1[:vslvmorb, :vsl].*m1[:impactcardiovascularrespiratory, :cardcold]./(10^9)\n",
    "\n",
    "#cv_2=m1[:vslvmorb, :vmorb]*parameters[\"d2dc\"].*m1[:impactcardiovascularrespiratory, :cardcold]./(10^9)\n",
    "trick=ones(1051,16)\n",
    "trick2=parameters[:d2dc]\n",
    "for j=1:16\n",
    "trick[:,j]=trick[:,j].*trick2[j]\n",
    "end\n",
    "cv_2=m1[:vslvmorb, :vmorb].*trick.*m1[:impactcardiovascularrespiratory, :cardcold]./(10^9)\n",
    "\n",
    "cv_3=cv_1+cv_2\n",
    "pv_cv_1=df_r.*cv_1\n",
    "pv_cv_2=df_r.*cv_2\n",
    "pv_cv_3=df_r.*cv_3;"
   ]
  },
  {
   "cell_type": "code",
   "execution_count": 95,
   "metadata": {
    "collapsed": false,
    "jupyter": {
     "outputs_hidden": false
    }
   },
   "outputs": [
    {
     "data": {
      "text/plain": [
       "0.002218256042803651"
      ]
     },
     "execution_count": 95,
     "metadata": {},
     "output_type": "execute_result"
    }
   ],
   "source": [
    "cv_1b=m3[:vslvmorb, :vsl].*m3[:impactcardiovascularrespiratory, :cardcold]./(10^9)\n",
    "trick=ones(1051,16)\n",
    "trick2=parameters[:d2dc]\n",
    "for j=1:16\n",
    "trick[:,j]=trick[:,j].*trick2[j]\n",
    "end\n",
    "cv_2b=m3[:vslvmorb, :vmorb].*trick.*m3[:impactcardiovascularrespiratory, :cardcold]./(10^9)\n",
    "cv_3b=cv_1b+cv_2b\n",
    "\n",
    "marg_ccr=10^9*(cv_3b-cv_3)\n",
    "pd_ccr=(df_r.*marg_ccr)/10^6\n",
    "ccr_SCC=sum(pd_ccr[60:300,:])"
   ]
  },
  {
   "cell_type": "code",
   "execution_count": 96,
   "metadata": {
    "collapsed": false,
    "jupyter": {
     "outputs_hidden": false
    }
   },
   "outputs": [
    {
     "data": {
      "text/plain": [
       "6.209345226509766e-5"
      ]
     },
     "execution_count": 96,
     "metadata": {},
     "output_type": "execute_result"
    }
   ],
   "source": [
    "perc_ccr_SCC=ccr_SCC/SCC"
   ]
  },
  {
   "cell_type": "code",
   "execution_count": 97,
   "metadata": {
    "collapsed": false,
    "jupyter": {
     "outputs_hidden": false
    }
   },
   "outputs": [
    {
     "data": {
      "text/plain": [
       "1×16 Matrix{Union{Missing, Float64}}:\n",
       " 0.000535499  2.97589e-5  0.000949858  …  5.38671e-5  -3.21067e-6"
      ]
     },
     "execution_count": 97,
     "metadata": {},
     "output_type": "execute_result"
    }
   ],
   "source": [
    "reg_ccr_SCC=sum(pd_ccr[60:300,:],dims=1)"
   ]
  },
  {
   "cell_type": "code",
   "execution_count": 98,
   "metadata": {
    "collapsed": false,
    "jupyter": {
     "outputs_hidden": false
    }
   },
   "outputs": [
    {
     "data": {
      "text/plain": [
       "1×16 Matrix{Float64}:\n",
       " 0.000114346  0.000145898  …  4.20068e-5  7.54018e-6  0.000324844"
      ]
     },
     "execution_count": 98,
     "metadata": {},
     "output_type": "execute_result"
    }
   ],
   "source": [
    "reg_perc_ccr_SCC=reg_ccr_SCC./reg_SCC"
   ]
  },
  {
   "cell_type": "markdown",
   "metadata": {},
   "source": [
    "## Cardiovascular - Respiratory"
   ]
  },
  {
   "cell_type": "code",
   "execution_count": 99,
   "metadata": {
    "tags": []
   },
   "outputs": [],
   "source": [
    "rv_1=m1[:vslvmorb, :vsl].*m1[:impactcardiovascularrespiratory, :resp]./(10^9)\n",
    "\n",
    "#rv_2=m1[:vslvmorb, :vmorb]*parameters[\"d2dr\"].*m1[:impactcardiovascularrespiratory, :resp]./(10^9)\n",
    "trick=ones(1051,16)\n",
    "trick2=parameters[:d2dr]\n",
    "for j=1:16\n",
    "trick[:,j]=trick[:,j].*trick2[j]\n",
    "end\n",
    "rv_2=m1[:vslvmorb, :vmorb].*trick.*m1[:impactcardiovascularrespiratory, :resp]./(10^9)\n",
    "\n",
    "\n",
    "rv_3=rv_1+rv_2\n",
    "pv_rv_1=df_r.*rv_1\n",
    "pv_rv_2=df_r.*rv_2\n",
    "pv_rv_3=df_r.*rv_3;"
   ]
  },
  {
   "cell_type": "code",
   "execution_count": 100,
   "metadata": {
    "collapsed": false,
    "jupyter": {
     "outputs_hidden": false
    }
   },
   "outputs": [
    {
     "data": {
      "text/plain": [
       "-0.0001870637261446131"
      ]
     },
     "execution_count": 100,
     "metadata": {},
     "output_type": "execute_result"
    }
   ],
   "source": [
    "rv_1b=m3[:vslvmorb, :vsl].*m3[:impactcardiovascularrespiratory, :resp]./(10^9)\n",
    "trick=ones(1051,16)\n",
    "trick2=parameters[:d2dr]\n",
    "for j=1:16\n",
    "trick[:,j]=trick[:,j].*trick2[j]\n",
    "end\n",
    "rv_2b=m3[:vslvmorb, :vmorb].*trick.*m3[:impactcardiovascularrespiratory, :resp]./(10^9)\n",
    "rv_3b=rv_1b+rv_2b\n",
    "\n",
    "marg_resp=10^9*(rv_3b-rv_3)\n",
    "pd_resp=(df_r.*marg_resp)/10^6\n",
    "resp_SCC=sum(pd_resp[60:300,:])"
   ]
  },
  {
   "cell_type": "code",
   "execution_count": 101,
   "metadata": {
    "collapsed": false,
    "jupyter": {
     "outputs_hidden": false
    }
   },
   "outputs": [
    {
     "data": {
      "text/plain": [
       "-5.236290277479017e-6"
      ]
     },
     "execution_count": 101,
     "metadata": {},
     "output_type": "execute_result"
    }
   ],
   "source": [
    "perc_resp_SCC=resp_SCC/SCC"
   ]
  },
  {
   "cell_type": "code",
   "execution_count": 102,
   "metadata": {
    "collapsed": false,
    "jupyter": {
     "outputs_hidden": false
    }
   },
   "outputs": [
    {
     "data": {
      "text/plain": [
       "1×16 Matrix{Union{Missing, Float64}}:\n",
       " -5.37188e-5  -2.03785e-6  -8.67926e-5  …  -6.04808e-6  4.02155e-7"
      ]
     },
     "execution_count": 102,
     "metadata": {},
     "output_type": "execute_result"
    }
   ],
   "source": [
    "reg_resp_SCC=sum(pd_resp[60:300,:],dims=1)"
   ]
  },
  {
   "cell_type": "code",
   "execution_count": 103,
   "metadata": {
    "collapsed": false,
    "jupyter": {
     "outputs_hidden": false
    }
   },
   "outputs": [
    {
     "data": {
      "text/plain": [
       "1×16 Matrix{Float64}:\n",
       " -1.14706e-5  -9.99089e-6  -1.28274e-5  …  -8.46595e-7  -4.06885e-5"
      ]
     },
     "execution_count": 103,
     "metadata": {},
     "output_type": "execute_result"
    }
   ],
   "source": [
    "reg_perc_resp_SCC=reg_resp_SCC./reg_SCC"
   ]
  },
  {
   "cell_type": "markdown",
   "metadata": {},
   "source": [
    "## Diarrhea "
   ]
  },
  {
   "cell_type": "code",
   "execution_count": 104,
   "metadata": {
    "tags": []
   },
   "outputs": [],
   "source": [
    "d_1=m1[:vslvmorb, :vsl].*m1[:impactdiarrhoea, :diadead]./(10^9)\n",
    "d_2=m1[:vslvmorb, :vmorb].*m1[:impactdiarrhoea, :diasick]./(10^9)\n",
    "d_3=d_1+d_2\n",
    "pv_d_1=df_r.*d_1\n",
    "pv_d_2=df_r.*d_2\n",
    "pv_d_3=df_r.*d_3;"
   ]
  },
  {
   "cell_type": "code",
   "execution_count": 105,
   "metadata": {
    "collapsed": false,
    "jupyter": {
     "outputs_hidden": false
    }
   },
   "outputs": [
    {
     "data": {
      "text/plain": [
       "6.980167967038792"
      ]
     },
     "execution_count": 105,
     "metadata": {},
     "output_type": "execute_result"
    }
   ],
   "source": [
    "d_1b=m3[:vslvmorb, :vsl].*m3[:impactdiarrhoea, :diadead]./(10^9)\n",
    "d_2b=m3[:vslvmorb, :vmorb].*m3[:impactdiarrhoea, :diasick]./(10^9)\n",
    "d_3b=d_1b+d_2b\n",
    "\n",
    "marg_diar=10^9*(d_3b-d_3)\n",
    "pd_diar=(df_r.*marg_diar)/10^6\n",
    "diar_SCC=sum(pd_diar[60:300,:])"
   ]
  },
  {
   "cell_type": "code",
   "execution_count": 106,
   "metadata": {
    "collapsed": false,
    "jupyter": {
     "outputs_hidden": false
    }
   },
   "outputs": [
    {
     "data": {
      "text/plain": [
       "0.19538895334908438"
      ]
     },
     "execution_count": 106,
     "metadata": {},
     "output_type": "execute_result"
    }
   ],
   "source": [
    "perc_diar_SCC=diar_SCC/SCC"
   ]
  },
  {
   "cell_type": "code",
   "execution_count": 107,
   "metadata": {
    "collapsed": false,
    "jupyter": {
     "outputs_hidden": false
    }
   },
   "outputs": [
    {
     "data": {
      "text/plain": [
       "1×16 Matrix{Union{Missing, Float64}}:\n",
       " 0.398425  0.0  0.192917  0.0692558  …  0.351324  3.02587  0.0121339"
      ]
     },
     "execution_count": 107,
     "metadata": {},
     "output_type": "execute_result"
    }
   ],
   "source": [
    "reg_diar_SCC=sum(pd_diar[60:300,:],dims=1)"
   ]
  },
  {
   "cell_type": "code",
   "execution_count": 108,
   "metadata": {
    "collapsed": false,
    "jupyter": {
     "outputs_hidden": false
    }
   },
   "outputs": [
    {
     "data": {
      "text/plain": [
       "1×16 Matrix{Float64}:\n",
       " 0.085076  0.0  0.0285118  -0.0618601  …  0.114523  0.423553  -1.22766"
      ]
     },
     "execution_count": 108,
     "metadata": {},
     "output_type": "execute_result"
    }
   ],
   "source": [
    "reg_perc_diar_SCC=reg_diar_SCC./reg_SCC"
   ]
  },
  {
   "cell_type": "markdown",
   "metadata": {},
   "source": [
    "## Hurricane "
   ]
  },
  {
   "cell_type": "code",
   "execution_count": 109,
   "metadata": {
    "tags": []
   },
   "outputs": [],
   "source": [
    "hd_1=m1[:vslvmorb, :vsl].*m1[:impacttropicalstorms, :hurrdead]./(10^9)\n",
    "hd_3=hd_1\n",
    "pv_hd_1=df_r.*hd_1\n",
    "pv_hd_3=pv_hd_1;"
   ]
  },
  {
   "cell_type": "code",
   "execution_count": 110,
   "metadata": {
    "collapsed": false,
    "jupyter": {
     "outputs_hidden": false
    }
   },
   "outputs": [
    {
     "data": {
      "text/plain": [
       "0.07975524886025173"
      ]
     },
     "execution_count": 110,
     "metadata": {},
     "output_type": "execute_result"
    }
   ],
   "source": [
    "hd_1b=m3[:vslvmorb, :vsl].*m3[:impacttropicalstorms, :hurrdead]./(10^9)\n",
    "hd_3b=hd_1b\n",
    "\n",
    "marg_hurr=10^9*(hd_3b-hd_3)\n",
    "pd_hurr=(df_r.*marg_hurr)/10^6\n",
    "hurr_SCC=sum(pd_hurr[60:300,:])"
   ]
  },
  {
   "cell_type": "code",
   "execution_count": 111,
   "metadata": {
    "collapsed": false,
    "jupyter": {
     "outputs_hidden": false
    }
   },
   "outputs": [
    {
     "data": {
      "text/plain": [
       "0.002232509972895576"
      ]
     },
     "execution_count": 111,
     "metadata": {},
     "output_type": "execute_result"
    }
   ],
   "source": [
    "perc_hurr_SCC=hurr_SCC/SCC"
   ]
  },
  {
   "cell_type": "code",
   "execution_count": 112,
   "metadata": {
    "collapsed": false,
    "jupyter": {
     "outputs_hidden": false
    }
   },
   "outputs": [
    {
     "data": {
      "text/plain": [
       "1×16 Matrix{Union{Missing, Float64}}:\n",
       " 0.00789262  8.28624e-6  4.95158e-5  …  0.0  0.000452589  0.00127288"
      ]
     },
     "execution_count": 112,
     "metadata": {},
     "output_type": "execute_result"
    }
   ],
   "source": [
    "reg_hurr_SCC=sum(pd_hurr[60:300,:],dims=1)"
   ]
  },
  {
   "cell_type": "code",
   "execution_count": 113,
   "metadata": {
    "collapsed": false,
    "jupyter": {
     "outputs_hidden": false
    }
   },
   "outputs": [
    {
     "data": {
      "text/plain": [
       "1×16 Matrix{Float64}:\n",
       " 0.00168532  4.06246e-5  7.31811e-6  …  0.0  6.33523e-5  -0.128786"
      ]
     },
     "execution_count": 113,
     "metadata": {},
     "output_type": "execute_result"
    }
   ],
   "source": [
    "reg_perc_hurr_SCC=reg_hurr_SCC./reg_SCC"
   ]
  },
  {
   "cell_type": "markdown",
   "metadata": {},
   "source": [
    "## Extratropical Storms"
   ]
  },
  {
   "cell_type": "code",
   "execution_count": 114,
   "metadata": {
    "tags": []
   },
   "outputs": [],
   "source": [
    "es_1=m1[:vslvmorb, :vsl].*m1[:impactextratropicalstorms, :extratropicalstormsdead]./(10^9)\n",
    "es_3=es_1\n",
    "pv_es_1=df_r.*es_1\n",
    "pv_es_3=pv_es_1;"
   ]
  },
  {
   "cell_type": "code",
   "execution_count": 115,
   "metadata": {
    "collapsed": false,
    "jupyter": {
     "outputs_hidden": false
    }
   },
   "outputs": [
    {
     "data": {
      "text/plain": [
       "0.0045822921548098125"
      ]
     },
     "execution_count": 115,
     "metadata": {},
     "output_type": "execute_result"
    }
   ],
   "source": [
    "es_1b=m3[:vslvmorb, :vsl].*m3[:impactextratropicalstorms, :extratropicalstormsdead]./(10^9)\n",
    "es_3b=es_1b\n",
    "\n",
    "marg_extra=10^9*(es_3b-es_3)\n",
    "pd_extra=(df_r.*marg_extra)/10^6\n",
    "extra_SCC=sum(pd_extra[60:300,:])"
   ]
  },
  {
   "cell_type": "code",
   "execution_count": 116,
   "metadata": {
    "collapsed": false,
    "jupyter": {
     "outputs_hidden": false
    }
   },
   "outputs": [
    {
     "data": {
      "text/plain": [
       "0.00012826758214069692"
      ]
     },
     "execution_count": 116,
     "metadata": {},
     "output_type": "execute_result"
    }
   ],
   "source": [
    "perc_extra_SCC=extra_SCC/SCC"
   ]
  },
  {
   "cell_type": "code",
   "execution_count": 117,
   "metadata": {
    "collapsed": false,
    "jupyter": {
     "outputs_hidden": false
    }
   },
   "outputs": [
    {
     "data": {
      "text/plain": [
       "1×16 Matrix{Union{Missing, Float64}}:\n",
       " 0.00140746  2.56316e-5  0.000658839  …  0.000108823  0.000272428"
      ]
     },
     "execution_count": 117,
     "metadata": {},
     "output_type": "execute_result"
    }
   ],
   "source": [
    "reg_extra_SCC=sum(pd_extra[60:300,:],dims=1)"
   ]
  },
  {
   "cell_type": "code",
   "execution_count": 118,
   "metadata": {
    "collapsed": false,
    "jupyter": {
     "outputs_hidden": false
    }
   },
   "outputs": [
    {
     "data": {
      "text/plain": [
       "1×16 Matrix{Float64}:\n",
       " 0.000300537  0.000125663  9.73721e-5  …  3.36714e-6  1.52327e-5  -0.0275632"
      ]
     },
     "execution_count": 118,
     "metadata": {},
     "output_type": "execute_result"
    }
   ],
   "source": [
    "reg_perc_extra_SCC=reg_extra_SCC./reg_SCC"
   ]
  },
  {
   "cell_type": "markdown",
   "metadata": {},
   "source": [
    "#### Alternative Regions"
   ]
  },
  {
   "cell_type": "code",
   "execution_count": 119,
   "metadata": {
    "collapsed": false,
    "jupyter": {
     "outputs_hidden": false
    }
   },
   "outputs": [
    {
     "data": {
      "text/plain": [
       "0.0011756213149214563"
      ]
     },
     "execution_count": 119,
     "metadata": {},
     "output_type": "execute_result"
    }
   ],
   "source": [
    "dv_SCC_high=sum(reg_dv_SCC[1:5])\n",
    "dv_SCC_med=(reg_dv_SCC[6]+sum(reg_dv_SCC[8:10])+sum(reg_dv_SCC[12:13]))\n",
    "dv_SCC_low=(reg_dv_SCC[7]+reg_dv_SCC[11]+reg_dv_SCC[14]+reg_dv_SCC[15]+reg_dv_SCC[16])\n",
    "\n",
    "sv_SCC_high=sum(reg_sv_SCC[1:5])\n",
    "sv_SCC_med=(reg_sv_SCC[6]+sum(reg_sv_SCC[8:10])+sum(reg_sv_SCC[12:13]))\n",
    "sv_SCC_low=(reg_sv_SCC[7]+reg_sv_SCC[11]+reg_sv_SCC[14]+reg_sv_SCC[15]+reg_sv_SCC[16])\n",
    "\n",
    "mv_SCC_high=sum(reg_mv_SCC[1:5])\n",
    "mv_SCC_med=(reg_mv_SCC[6]+sum(reg_mv_SCC[8:10])+sum(reg_mv_SCC[12:13]))\n",
    "mv_SCC_low=(reg_mv_SCC[7]+reg_mv_SCC[11]+reg_mv_SCC[14]+reg_mv_SCC[15]+reg_mv_SCC[16])\n",
    "\n",
    "chr_SCC_high=sum(reg_chr_SCC[1:5])\n",
    "chr_SCC_med=(reg_chr_SCC[6]+sum(reg_chr_SCC[8:10])+sum(reg_chr_SCC[12:13]))\n",
    "chr_SCC_low=(reg_chr_SCC[7]+reg_chr_SCC[11]+reg_chr_SCC[14]+reg_chr_SCC[15]+reg_chr_SCC[16])\n",
    "\n",
    "ccr_SCC_high=sum(reg_ccr_SCC[1:5])\n",
    "ccr_SCC_med=(reg_ccr_SCC[6]+sum(reg_ccr_SCC[8:10])+sum(reg_ccr_SCC[12:13]))\n",
    "ccr_SCC_low=(reg_ccr_SCC[7]+reg_ccr_SCC[11]+reg_ccr_SCC[14]+reg_ccr_SCC[15]+reg_ccr_SCC[16])\n",
    "\n",
    "resp_SCC_high=sum(reg_resp_SCC[1:5])\n",
    "resp_SCC_med=(reg_resp_SCC[6]+sum(reg_resp_SCC[8:10])+sum(reg_resp_SCC[12:13]))\n",
    "resp_SCC_low=(reg_resp_SCC[7]+reg_resp_SCC[11]+reg_resp_SCC[14]+reg_resp_SCC[15]+reg_resp_SCC[16])\n",
    "\n",
    "diar_SCC_high=sum(reg_diar_SCC[1:5])\n",
    "diar_SCC_med=(reg_diar_SCC[6]+sum(reg_diar_SCC[8:10])+sum(reg_diar_SCC[12:13]))\n",
    "diar_SCC_low=(reg_diar_SCC[7]+reg_diar_SCC[11]+reg_diar_SCC[14]+reg_diar_SCC[15]+reg_diar_SCC[16])\n",
    "\n",
    "hurr_SCC_high=sum(reg_hurr_SCC[1:5])\n",
    "hurr_SCC_med=(reg_hurr_SCC[6]+sum(reg_hurr_SCC[8:10])+sum(reg_hurr_SCC[12:13]))\n",
    "hurr_SCC_low=(reg_hurr_SCC[7]+reg_hurr_SCC[11]+reg_hurr_SCC[14]+reg_hurr_SCC[15]+reg_hurr_SCC[16])\n",
    "\n",
    "extra_SCC_high=sum(reg_extra_SCC[1:5])\n",
    "extra_SCC_med=(reg_extra_SCC[6]+sum(reg_extra_SCC[8:10])+sum(reg_extra_SCC[12:13]))\n",
    "extra_SCC_low=(reg_extra_SCC[7]+reg_extra_SCC[11]+reg_extra_SCC[14]+reg_extra_SCC[15]+reg_extra_SCC[16])"
   ]
  },
  {
   "cell_type": "markdown",
   "metadata": {},
   "source": [
    "# Mortality Endpoint"
   ]
  },
  {
   "cell_type": "markdown",
   "metadata": {},
   "source": [
    "## Dengue Fever"
   ]
  },
  {
   "cell_type": "markdown",
   "metadata": {},
   "source": [
    "### Regional"
   ]
  },
  {
   "cell_type": "code",
   "execution_count": 120,
   "metadata": {
    "collapsed": false,
    "jupyter": {
     "outputs_hidden": false
    }
   },
   "outputs": [],
   "source": [
    "dead_d=m1[:impactvectorbornediseases, :dengue]\n",
    "dead_d_region=dead_d[50:350,:];"
   ]
  },
  {
   "cell_type": "code",
   "execution_count": 121,
   "metadata": {
    "tags": []
   },
   "outputs": [],
   "source": [
    "Kevin_d_dead=permutedims(sum(dead_d[50:350,:],dims=1));"
   ]
  },
  {
   "cell_type": "markdown",
   "metadata": {},
   "source": [
    "### Global "
   ]
  },
  {
   "cell_type": "code",
   "execution_count": 122,
   "metadata": {
    "collapsed": false,
    "jupyter": {
     "outputs_hidden": false
    }
   },
   "outputs": [],
   "source": [
    "dead_d_sum=sum(dead_d,dims=2)\n",
    "dead_d_global=dead_d_sum[50:350,:];"
   ]
  },
  {
   "cell_type": "markdown",
   "metadata": {},
   "source": [
    "## Schisto"
   ]
  },
  {
   "cell_type": "markdown",
   "metadata": {},
   "source": [
    "### Regional"
   ]
  },
  {
   "cell_type": "code",
   "execution_count": 123,
   "metadata": {
    "collapsed": false,
    "jupyter": {
     "outputs_hidden": false
    }
   },
   "outputs": [],
   "source": [
    "dead_s=m1[:impactvectorbornediseases, :schisto]\n",
    "dead_s_region=dead_s[50:350,:];"
   ]
  },
  {
   "cell_type": "code",
   "execution_count": 124,
   "metadata": {
    "tags": []
   },
   "outputs": [],
   "source": [
    "Kevin_s_dead=permutedims(sum(dead_s[50:350,:],dims=1));"
   ]
  },
  {
   "cell_type": "markdown",
   "metadata": {},
   "source": [
    "### Global "
   ]
  },
  {
   "cell_type": "code",
   "execution_count": 125,
   "metadata": {
    "tags": []
   },
   "outputs": [],
   "source": [
    "dead_s_sum=sum(dead_s,dims=2)\n",
    "dead_s_global=dead_s_sum[50:350,:];"
   ]
  },
  {
   "cell_type": "markdown",
   "metadata": {},
   "source": [
    "## Malaria"
   ]
  },
  {
   "cell_type": "markdown",
   "metadata": {},
   "source": [
    "### Regional"
   ]
  },
  {
   "cell_type": "code",
   "execution_count": 126,
   "metadata": {
    "tags": []
   },
   "outputs": [],
   "source": [
    "dead_m=m1[:impactvectorbornediseases, :malaria]\n",
    "dead_m_region=dead_m[50:350,:];"
   ]
  },
  {
   "cell_type": "code",
   "execution_count": 127,
   "metadata": {
    "collapsed": false,
    "jupyter": {
     "outputs_hidden": false
    }
   },
   "outputs": [],
   "source": [
    "Kevin_m_dead=permutedims(sum(dead_m[50:350,:],dims=1));"
   ]
  },
  {
   "cell_type": "markdown",
   "metadata": {},
   "source": [
    "### Global "
   ]
  },
  {
   "cell_type": "code",
   "execution_count": 128,
   "metadata": {
    "tags": []
   },
   "outputs": [],
   "source": [
    "dead_m_sum=sum(dead_m,dims=2)\n",
    "dead_m_global=dead_m_sum[50:350,:];"
   ]
  },
  {
   "cell_type": "markdown",
   "metadata": {},
   "source": [
    "## Cardio - Heat"
   ]
  },
  {
   "cell_type": "markdown",
   "metadata": {},
   "source": [
    "### Regional"
   ]
  },
  {
   "cell_type": "code",
   "execution_count": 129,
   "metadata": {
    "tags": []
   },
   "outputs": [],
   "source": [
    "dead_ch=m1[:impactcardiovascularrespiratory, :cardheat]\n",
    "dead_ch_region=dead_ch[50:350,:];"
   ]
  },
  {
   "cell_type": "code",
   "execution_count": 130,
   "metadata": {
    "collapsed": false,
    "jupyter": {
     "outputs_hidden": false
    }
   },
   "outputs": [
    {
     "data": {
      "text/plain": [
       "16×1 Matrix{Union{Missing, Float64}}:\n",
       " 22334.0345629733\n",
       "  2420.3895628220826\n",
       " 35180.18838445287\n",
       " 14626.816471688999\n",
       "  1758.433081121272\n",
       "  6219.273730420876\n",
       " 20894.424061174\n",
       "  9884.005819029653\n",
       "  3629.1969042242413\n",
       " 10543.67386762377\n",
       " 35340.40576942649\n",
       "  1452.0359030524355\n",
       " 34441.84273124489\n",
       "  6539.44063750345\n",
       " 13591.615039868444\n",
       "  1034.6260554792768"
      ]
     },
     "execution_count": 130,
     "metadata": {},
     "output_type": "execute_result"
    }
   ],
   "source": [
    "Kevin_ch_dead=permutedims(sum(dead_ch[50:350,:],dims=1))"
   ]
  },
  {
   "cell_type": "markdown",
   "metadata": {},
   "source": [
    "### Global "
   ]
  },
  {
   "cell_type": "code",
   "execution_count": 131,
   "metadata": {
    "tags": []
   },
   "outputs": [],
   "source": [
    "dead_ch_sum=sum(dead_ch,dims=2)\n",
    "dead_ch_global=dead_ch_sum[50:350,:];"
   ]
  },
  {
   "cell_type": "markdown",
   "metadata": {},
   "source": [
    "## Cardio - Cold "
   ]
  },
  {
   "cell_type": "markdown",
   "metadata": {},
   "source": [
    "### Regional"
   ]
  },
  {
   "cell_type": "code",
   "execution_count": 132,
   "metadata": {
    "tags": []
   },
   "outputs": [],
   "source": [
    "dead_cc=m1[:impactcardiovascularrespiratory, :cardcold]\n",
    "dead_cc_region=dead_ch[50:350,:];"
   ]
  },
  {
   "cell_type": "code",
   "execution_count": 133,
   "metadata": {
    "collapsed": false,
    "jupyter": {
     "outputs_hidden": false
    }
   },
   "outputs": [
    {
     "data": {
      "text/plain": [
       "16×1 Matrix{Union{Missing, Float64}}:\n",
       "  -23653.63178585394\n",
       "   -2576.8389217522968\n",
       "  -39065.881342807545\n",
       "  -15452.580670576608\n",
       "   -1870.133610857323\n",
       "   -9589.739630999487\n",
       "  -35953.01467018173\n",
       "  -15733.077615202805\n",
       "   -5582.551983418151\n",
       "  -14983.993292179306\n",
       " -110420.22490138229\n",
       "  -31095.625326655358\n",
       "  -67925.92870718252\n",
       "  -13001.849042875469\n",
       "  -34646.12713933369\n",
       "   -2027.0733349751124"
      ]
     },
     "execution_count": 133,
     "metadata": {},
     "output_type": "execute_result"
    }
   ],
   "source": [
    "Kevin_cc_dead=permutedims(sum(dead_cc[50:350,:],dims=1))"
   ]
  },
  {
   "cell_type": "markdown",
   "metadata": {},
   "source": [
    "### Global "
   ]
  },
  {
   "cell_type": "code",
   "execution_count": 134,
   "metadata": {
    "tags": []
   },
   "outputs": [],
   "source": [
    "dead_cc_sum=sum(dead_cc,dims=2)\n",
    "dead_cc_global=dead_cc_sum[50:350,:];"
   ]
  },
  {
   "cell_type": "markdown",
   "metadata": {},
   "source": [
    "## Respiratory"
   ]
  },
  {
   "cell_type": "markdown",
   "metadata": {},
   "source": [
    "### Regional"
   ]
  },
  {
   "cell_type": "code",
   "execution_count": 135,
   "metadata": {
    "tags": []
   },
   "outputs": [],
   "source": [
    "dead_r=m1[:impactcardiovascularrespiratory, :resp]\n",
    "dead_r_region=dead_ch[50:350,:];"
   ]
  },
  {
   "cell_type": "code",
   "execution_count": 136,
   "metadata": {
    "collapsed": false,
    "jupyter": {
     "outputs_hidden": false
    }
   },
   "outputs": [
    {
     "data": {
      "text/plain": [
       "16×1 Matrix{Union{Missing, Float64}}:\n",
       " 2675.0172123594384\n",
       "  168.48101834554922\n",
       " 2937.8958883004934\n",
       " 1527.9139274841775\n",
       "  190.69098622096303\n",
       "  261.1275411828764\n",
       " 1242.2339752482537\n",
       "  935.389919589962\n",
       "  754.6609308178872\n",
       " 2170.3996200774172\n",
       " 4748.307194526771\n",
       " 3412.5938393643496\n",
       " 1919.702608848296\n",
       " 1012.2391208068387\n",
       " 3430.6662341223873\n",
       "  206.14794911797395"
      ]
     },
     "execution_count": 136,
     "metadata": {},
     "output_type": "execute_result"
    }
   ],
   "source": [
    "Kevin_r_dead=permutedims(sum(dead_r[50:350,:],dims=1))"
   ]
  },
  {
   "cell_type": "markdown",
   "metadata": {},
   "source": [
    "### Global "
   ]
  },
  {
   "cell_type": "code",
   "execution_count": 137,
   "metadata": {
    "tags": []
   },
   "outputs": [],
   "source": [
    "dead_r_sum=sum(dead_r,dims=2)\n",
    "dead_r_global=dead_r_sum[50:350,:];"
   ]
  },
  {
   "cell_type": "markdown",
   "metadata": {},
   "source": [
    "## Diarrhea"
   ]
  },
  {
   "cell_type": "markdown",
   "metadata": {},
   "source": [
    "### Regional"
   ]
  },
  {
   "cell_type": "code",
   "execution_count": 138,
   "metadata": {
    "collapsed": false,
    "jupyter": {
     "outputs_hidden": false
    }
   },
   "outputs": [
    {
     "data": {
      "text/plain": [
       "1×16 Matrix{Union{Missing, Float64}}:\n",
       " 115468.0  0.0  70259.3  21495.8  141.138  …  1.1238e7  2.17577e8  3.41407e5"
      ]
     },
     "execution_count": 138,
     "metadata": {},
     "output_type": "execute_result"
    }
   ],
   "source": [
    "dead_diah=m1[:impactdiarrhoea, :diadead]\n",
    "dead_diah_reg=sum(dead_diah[50:350,:],dims=1)"
   ]
  },
  {
   "cell_type": "code",
   "execution_count": 139,
   "metadata": {
    "collapsed": false,
    "jupyter": {
     "outputs_hidden": false
    }
   },
   "outputs": [
    {
     "data": {
      "text/plain": [
       "16×1 Matrix{Union{Missing, Float64}}:\n",
       " 115467.95321805614\n",
       "      0.0\n",
       "  70259.3443104782\n",
       "  21495.79017858301\n",
       "    141.13819412915691\n",
       " 306571.2298730135\n",
       "      3.527817006267024e7\n",
       " 962378.9049742644\n",
       "      1.2368313643665297e6\n",
       "      3.074560083833563e6\n",
       "      1.3865850790010726e7\n",
       "      1.9825242077212536e6\n",
       "      3.5571199695247733e6\n",
       "      1.1237973824285563e7\n",
       "      2.1757665209630427e8\n",
       " 341407.1556618294"
      ]
     },
     "execution_count": 139,
     "metadata": {},
     "output_type": "execute_result"
    }
   ],
   "source": [
    "Kevin_diar_death=permutedims(dead_diah_reg)"
   ]
  },
  {
   "cell_type": "markdown",
   "metadata": {},
   "source": [
    "### Global "
   ]
  },
  {
   "cell_type": "code",
   "execution_count": 140,
   "metadata": {
    "tags": []
   },
   "outputs": [],
   "source": [
    "dead_diah_sum=sum(dead_diah,dims=2)\n",
    "dead_diah_global=dead_diah_sum[50:350,:];"
   ]
  },
  {
   "cell_type": "markdown",
   "metadata": {},
   "source": [
    "## Hurricane"
   ]
  },
  {
   "cell_type": "markdown",
   "metadata": {},
   "source": [
    "### Regional"
   ]
  },
  {
   "cell_type": "code",
   "execution_count": 141,
   "metadata": {
    "collapsed": false,
    "jupyter": {
     "outputs_hidden": false
    }
   },
   "outputs": [
    {
     "data": {
      "text/plain": [
       "1×16 Matrix{Union{Missing, Float64}}:\n",
       " 5842.29  8.88812  45.267  6038.39  …  34648.8  0.0  33237.1  35710.9"
      ]
     },
     "execution_count": 141,
     "metadata": {},
     "output_type": "execute_result"
    }
   ],
   "source": [
    "dead_hurr=m1[:impacttropicalstorms, :hurrdead];\n",
    "dead_hurr_reg=sum(dead_hurr[50:350,:],dims=1)"
   ]
  },
  {
   "cell_type": "code",
   "execution_count": 142,
   "metadata": {
    "tags": []
   },
   "outputs": [],
   "source": [
    "Kevin_hurr_dead=permutedims(sum(dead_hurr[50:350,:],dims=1));"
   ]
  },
  {
   "cell_type": "markdown",
   "metadata": {},
   "source": [
    "### Global "
   ]
  },
  {
   "cell_type": "code",
   "execution_count": 143,
   "metadata": {
    "collapsed": false,
    "jupyter": {
     "outputs_hidden": false
    }
   },
   "outputs": [],
   "source": [
    "dead_hurr_sum=sum(dead_hurr,dims=2)\n",
    "dead_hurr_global=dead_hurr_sum[50:350,:];"
   ]
  },
  {
   "cell_type": "markdown",
   "metadata": {},
   "source": [
    "## Extra-tropical"
   ]
  },
  {
   "cell_type": "markdown",
   "metadata": {},
   "source": [
    "### Regional"
   ]
  },
  {
   "cell_type": "code",
   "execution_count": 144,
   "metadata": {
    "collapsed": false,
    "jupyter": {
     "outputs_hidden": false
    }
   },
   "outputs": [
    {
     "data": {
      "text/plain": [
       "1×16 Matrix{Union{Missing, Float64}}:\n",
       " 999.787  26.2521  576.957  298.142  …  2886.45  372.904  8387.04  7537.54"
      ]
     },
     "execution_count": 144,
     "metadata": {},
     "output_type": "execute_result"
    }
   ],
   "source": [
    "dead_extra=m1[:impactextratropicalstorms, :extratropicalstormsdead];\n",
    "dead_extra_reg=sum(dead_extra[50:350,:],dims=1)"
   ]
  },
  {
   "cell_type": "code",
   "execution_count": 145,
   "metadata": {
    "tags": []
   },
   "outputs": [],
   "source": [
    "Kevin_extra_dead=permutedims(sum(dead_extra[50:350,:],dims=1));"
   ]
  },
  {
   "cell_type": "markdown",
   "metadata": {},
   "source": [
    "### Global "
   ]
  },
  {
   "cell_type": "code",
   "execution_count": 146,
   "metadata": {
    "collapsed": false,
    "jupyter": {
     "outputs_hidden": false
    }
   },
   "outputs": [],
   "source": [
    "dead_extra_sum=sum(dead_extra,dims=2)\n",
    "dead_extra_global=dead_extra_sum[50:350,:];"
   ]
  },
  {
   "cell_type": "markdown",
   "metadata": {},
   "source": [
    "# SCC - Breakdown"
   ]
  },
  {
   "cell_type": "markdown",
   "metadata": {},
   "source": [
    "## Agriculture "
   ]
  },
  {
   "cell_type": "code",
   "execution_count": 147,
   "metadata": {
    "collapsed": false,
    "jupyter": {
     "outputs_hidden": false
    }
   },
   "outputs": [
    {
     "data": {
      "text/plain": [
       "-5.684341463636025"
      ]
     },
     "execution_count": 147,
     "metadata": {},
     "output_type": "execute_result"
    }
   ],
   "source": [
    "agr_1=m1[:impactagriculture, :agcost]\n",
    "pv_agr_1=df_r.*agr_1;\n",
    "agr_3=m3[:impactagriculture, :agcost]\n",
    "pv_agr_3=df_r.*agr_3;\n",
    "marg_agr=1000000000.0*(agr_3-agr_1);\n",
    "pd_agr=(df_r.*marg_agr)/10^6\n",
    "agr_SCC=-1*sum(pd_agr[60:300,:])"
   ]
  },
  {
   "cell_type": "code",
   "execution_count": 148,
   "metadata": {
    "collapsed": false,
    "jupyter": {
     "outputs_hidden": false
    }
   },
   "outputs": [
    {
     "data": {
      "text/plain": [
       "-0.15911616085792007"
      ]
     },
     "execution_count": 148,
     "metadata": {},
     "output_type": "execute_result"
    }
   ],
   "source": [
    "perc_agr_SCC=agr_SCC/SCC"
   ]
  },
  {
   "cell_type": "markdown",
   "metadata": {},
   "source": [
    "## Cooling"
   ]
  },
  {
   "cell_type": "code",
   "execution_count": 149,
   "metadata": {
    "collapsed": false,
    "jupyter": {
     "outputs_hidden": false
    }
   },
   "outputs": [
    {
     "data": {
      "text/plain": [
       "30.764357987285948"
      ]
     },
     "execution_count": 149,
     "metadata": {},
     "output_type": "execute_result"
    }
   ],
   "source": [
    "cool_1=m1[:impactcooling, :cooling]\n",
    "pv_cool_1=df_r.*cool_1;\n",
    "cool_3=m3[:impactcooling, :cooling]\n",
    "pv_cool_3=df_r.*cool_3;\n",
    "marg_cool=1000000000.0*(cool_3-cool_1);\n",
    "pd_cool=(df_r.*marg_cool)/10^6\n",
    "cool_SCC=-1*sum(pd_cool[60:300,:])"
   ]
  },
  {
   "cell_type": "code",
   "execution_count": 150,
   "metadata": {
    "collapsed": false,
    "jupyter": {
     "outputs_hidden": false
    }
   },
   "outputs": [
    {
     "data": {
      "text/plain": [
       "0.8611563125668461"
      ]
     },
     "execution_count": 150,
     "metadata": {},
     "output_type": "execute_result"
    }
   ],
   "source": [
    "perc_cool_SCC=cool_SCC/SCC"
   ]
  },
  {
   "cell_type": "markdown",
   "metadata": {},
   "source": [
    "## Biodiversity"
   ]
  },
  {
   "cell_type": "code",
   "execution_count": 151,
   "metadata": {
    "collapsed": false,
    "jupyter": {
     "outputs_hidden": false
    }
   },
   "outputs": [
    {
     "data": {
      "text/plain": [
       "1.8044597822156396"
      ]
     },
     "execution_count": 151,
     "metadata": {},
     "output_type": "execute_result"
    }
   ],
   "source": [
    "bio_1=m1[:impactbiodiversity, :species]\n",
    "bio_3=m3[:impactbiodiversity, :species]\n",
    "marg_bio=1000000000.0*(bio_3-bio_1);\n",
    "pd_bio=(df_r.*marg_bio)/10^6\n",
    "bio_SCC=sum(pd_bio[60:300,:])"
   ]
  },
  {
   "cell_type": "code",
   "execution_count": 152,
   "metadata": {
    "collapsed": false,
    "jupyter": {
     "outputs_hidden": false
    }
   },
   "outputs": [
    {
     "data": {
      "text/plain": [
       "0.05051046190758108"
      ]
     },
     "execution_count": 152,
     "metadata": {},
     "output_type": "execute_result"
    }
   ],
   "source": [
    "perc_bio_SCC=bio_SCC/SCC"
   ]
  },
  {
   "cell_type": "markdown",
   "metadata": {},
   "source": [
    "## Extra-tropical storm: Non-health "
   ]
  },
  {
   "cell_type": "code",
   "execution_count": 153,
   "metadata": {
    "collapsed": false,
    "jupyter": {
     "outputs_hidden": false
    }
   },
   "outputs": [
    {
     "data": {
      "text/plain": [
       "0.024229623548065946"
      ]
     },
     "execution_count": 153,
     "metadata": {},
     "output_type": "execute_result"
    }
   ],
   "source": [
    "extra_dam_1=m1[:impactextratropicalstorms, :extratropicalstormsdam]\n",
    "extra_dam_3=m3[:impactextratropicalstorms, :extratropicalstormsdam]\n",
    "marg_extra_dam=1000000000.0*(extra_dam_3-extra_dam_1);\n",
    "pd_extra_dam=(df_r.*marg_extra_dam)/10^6\n",
    "extra_dam_SCC=sum(pd_extra_dam[60:300,:])"
   ]
  },
  {
   "cell_type": "code",
   "execution_count": 154,
   "metadata": {
    "collapsed": false,
    "jupyter": {
     "outputs_hidden": false
    }
   },
   "outputs": [
    {
     "data": {
      "text/plain": [
       "0.0006782359403748461"
      ]
     },
     "execution_count": 154,
     "metadata": {},
     "output_type": "execute_result"
    }
   ],
   "source": [
    "perc_extra_dam_SCC=extra_dam_SCC/SCC"
   ]
  },
  {
   "cell_type": "markdown",
   "metadata": {},
   "source": [
    "## Forestry"
   ]
  },
  {
   "cell_type": "code",
   "execution_count": 155,
   "metadata": {
    "collapsed": false,
    "jupyter": {
     "outputs_hidden": false
    }
   },
   "outputs": [
    {
     "data": {
      "text/plain": [
       "-0.1612012823683333"
      ]
     },
     "execution_count": 155,
     "metadata": {},
     "output_type": "execute_result"
    }
   ],
   "source": [
    "forest_1=m1[:impactforests, :forests]\n",
    "forest_3=m3[:impactforests, :forests]\n",
    "marg_forest=1000000000.0*(forest_3-forest_1);\n",
    "pd_forest=(df_r.*marg_forest)/10^6\n",
    "forest_SCC=-1*sum(pd_forest[60:300,:])"
   ]
  },
  {
   "cell_type": "code",
   "execution_count": 156,
   "metadata": {
    "collapsed": false,
    "jupyter": {
     "outputs_hidden": false
    }
   },
   "outputs": [
    {
     "data": {
      "text/plain": [
       "-0.004512348411845003"
      ]
     },
     "execution_count": 156,
     "metadata": {},
     "output_type": "execute_result"
    }
   ],
   "source": [
    "perc_forest_SCC=forest_SCC/SCC"
   ]
  },
  {
   "cell_type": "markdown",
   "metadata": {},
   "source": [
    "## Health"
   ]
  },
  {
   "cell_type": "code",
   "execution_count": 157,
   "metadata": {
    "collapsed": false,
    "jupyter": {
     "outputs_hidden": false
    }
   },
   "outputs": [
    {
     "data": {
      "text/plain": [
       "10.005313623267723"
      ]
     },
     "execution_count": 157,
     "metadata": {},
     "output_type": "execute_result"
    }
   ],
   "source": [
    "health_alt_1=m1[:impactdeathmorbidity, :deadcost]+m1[:impactdeathmorbidity, :morbcost]\n",
    "health_alt_3=m3[:impactdeathmorbidity, :deadcost]+m3[:impactdeathmorbidity, :morbcost]\n",
    "marg_health_alt=1000000000.0*(health_alt_3-health_alt_1);\n",
    "pd_health_alt=(df_r.*marg_health_alt)/10^6\n",
    "health_alt_SCC=sum(pd_health_alt[60:300,:])## Health"
   ]
  },
  {
   "cell_type": "code",
   "execution_count": 158,
   "metadata": {
    "collapsed": false,
    "jupyter": {
     "outputs_hidden": false
    }
   },
   "outputs": [
    {
     "data": {
      "text/plain": [
       "0.2800688702637277"
      ]
     },
     "execution_count": 158,
     "metadata": {},
     "output_type": "execute_result"
    }
   ],
   "source": [
    "perc_health_alt_SCC=health_alt_SCC/SCC"
   ]
  },
  {
   "cell_type": "markdown",
   "metadata": {},
   "source": [
    "## Heating "
   ]
  },
  {
   "cell_type": "code",
   "execution_count": 159,
   "metadata": {
    "collapsed": false,
    "jupyter": {
     "outputs_hidden": false
    }
   },
   "outputs": [
    {
     "data": {
      "text/plain": [
       "-5.913436394440914"
      ]
     },
     "execution_count": 159,
     "metadata": {},
     "output_type": "execute_result"
    }
   ],
   "source": [
    "heat_1=m1[:impactheating, :heating]\n",
    "pv_heat_1=df_r.*heat_1;\n",
    "heat_3=m3[:impactheating, :heating]\n",
    "pv_heat_3=df_r.*heat_3;\n",
    "marg_heat=1000000000.0*(heat_3-heat_1);\n",
    "pd_heat=(df_r.*marg_heat)/10^6\n",
    "heat_SCC=-1*sum(pd_heat[60:300,:])"
   ]
  },
  {
   "cell_type": "code",
   "execution_count": 160,
   "metadata": {
    "collapsed": false,
    "jupyter": {
     "outputs_hidden": false
    }
   },
   "outputs": [
    {
     "data": {
      "text/plain": [
       "-0.16552898916791525"
      ]
     },
     "execution_count": 160,
     "metadata": {},
     "output_type": "execute_result"
    }
   ],
   "source": [
    "perc_heat_SCC=heat_SCC/SCC"
   ]
  },
  {
   "cell_type": "markdown",
   "metadata": {},
   "source": [
    "## Energy Consumption"
   ]
  },
  {
   "cell_type": "code",
   "execution_count": 161,
   "metadata": {
    "collapsed": false,
    "jupyter": {
     "outputs_hidden": false
    }
   },
   "outputs": [
    {
     "data": {
      "text/plain": [
       "24.850921592845033"
      ]
     },
     "execution_count": 161,
     "metadata": {},
     "output_type": "execute_result"
    }
   ],
   "source": [
    "energy_SCC=heat_SCC+cool_SCC"
   ]
  },
  {
   "cell_type": "code",
   "execution_count": 162,
   "metadata": {
    "collapsed": false,
    "jupyter": {
     "outputs_hidden": false
    }
   },
   "outputs": [
    {
     "data": {
      "text/plain": [
       "0.6956273233989309"
      ]
     },
     "execution_count": 162,
     "metadata": {},
     "output_type": "execute_result"
    }
   ],
   "source": [
    "perc_energy_SCC=energy_SCC/SCC"
   ]
  },
  {
   "cell_type": "markdown",
   "metadata": {},
   "source": [
    "## Sea-level rise"
   ]
  },
  {
   "cell_type": "code",
   "execution_count": 163,
   "metadata": {
    "collapsed": false,
    "jupyter": {
     "outputs_hidden": false
    }
   },
   "outputs": [
    {
     "data": {
      "text/plain": [
       "0.93813314151531"
      ]
     },
     "execution_count": 163,
     "metadata": {},
     "output_type": "execute_result"
    }
   ],
   "source": [
    "slr_1=m1[:impactsealevelrise, :leavecost]+m1[:impactsealevelrise, :entercost]\n",
    "slr_1=slr_1+m1[:impactsealevelrise, :drycost]+m1[:impactsealevelrise, :protcost]\n",
    "slr_1=slr_1+m1[:impactsealevelrise, :wetcost]\n",
    "pv_slr_1=df_r.*slr_1;\n",
    "slr_3=m3[:impactsealevelrise, :leavecost]+m3[:impactsealevelrise, :entercost]\n",
    "slr_3=slr_3+m3[:impactsealevelrise, :drycost]+m3[:impactsealevelrise, :protcost]\n",
    "slr_3=slr_3+m3[:impactsealevelrise, :wetcost]\n",
    "pv_slr_3=df_r.*slr_3;\n",
    "marg_slr=1000000000.0*(slr_3-slr_1);\n",
    "pd_slr=(df_r.*marg_slr)/10^6\n",
    "slr_SCC=sum(pd_slr[60:300,:])"
   ]
  },
  {
   "cell_type": "code",
   "execution_count": 164,
   "metadata": {
    "collapsed": false,
    "jupyter": {
     "outputs_hidden": false
    }
   },
   "outputs": [
    {
     "data": {
      "text/plain": [
       "0.026260235210432463"
      ]
     },
     "execution_count": 164,
     "metadata": {},
     "output_type": "execute_result"
    }
   ],
   "source": [
    "perc_slr_SCC=slr_SCC/SCC"
   ]
  },
  {
   "cell_type": "markdown",
   "metadata": {},
   "source": [
    "## Tropical - Non-health"
   ]
  },
  {
   "cell_type": "code",
   "execution_count": 165,
   "metadata": {
    "collapsed": false,
    "jupyter": {
     "outputs_hidden": false
    }
   },
   "outputs": [
    {
     "data": {
      "text/plain": [
       "0.2704239895936219"
      ]
     },
     "execution_count": 165,
     "metadata": {},
     "output_type": "execute_result"
    }
   ],
   "source": [
    "hurr_dam_1=m1[:impacttropicalstorms, :hurrdam]\n",
    "hurr_dam_3=m3[:impacttropicalstorms, :hurrdam]\n",
    "marg_hurr_dam=1000000000.0*(hurr_dam_3-hurr_dam_1);\n",
    "pd_hurr_dam=(df_r.*marg_hurr_dam)/10^6\n",
    "hurr_dam_SCC=sum(pd_hurr_dam[60:300,:])"
   ]
  },
  {
   "cell_type": "code",
   "execution_count": 166,
   "metadata": {
    "collapsed": false,
    "jupyter": {
     "outputs_hidden": false
    }
   },
   "outputs": [
    {
     "data": {
      "text/plain": [
       "0.007569711866059429"
      ]
     },
     "execution_count": 166,
     "metadata": {},
     "output_type": "execute_result"
    }
   ],
   "source": [
    "perc_hurr_dam_SCC=hurr_dam_SCC/SCC"
   ]
  },
  {
   "cell_type": "markdown",
   "metadata": {},
   "source": [
    "## Storms"
   ]
  },
  {
   "cell_type": "code",
   "execution_count": 167,
   "metadata": {
    "collapsed": false,
    "jupyter": {
     "outputs_hidden": false
    }
   },
   "outputs": [
    {
     "data": {
      "text/plain": [
       "0.29465361314168786"
      ]
     },
     "execution_count": 167,
     "metadata": {},
     "output_type": "execute_result"
    }
   ],
   "source": [
    "storm_SCC=hurr_dam_SCC+extra_dam_SCC"
   ]
  },
  {
   "cell_type": "code",
   "execution_count": 168,
   "metadata": {
    "collapsed": false,
    "jupyter": {
     "outputs_hidden": false
    }
   },
   "outputs": [
    {
     "data": {
      "text/plain": [
       "0.008247947806434276"
      ]
     },
     "execution_count": 168,
     "metadata": {},
     "output_type": "execute_result"
    }
   ],
   "source": [
    "perc_storm_SCC=perc_hurr_dam_SCC+perc_extra_dam_SCC"
   ]
  },
  {
   "cell_type": "markdown",
   "metadata": {},
   "source": [
    "## Water"
   ]
  },
  {
   "cell_type": "code",
   "execution_count": 169,
   "metadata": {
    "collapsed": false,
    "jupyter": {
     "outputs_hidden": false
    }
   },
   "outputs": [
    {
     "data": {
      "text/plain": [
       "3.6765369543703366"
      ]
     },
     "execution_count": 169,
     "metadata": {},
     "output_type": "execute_result"
    }
   ],
   "source": [
    "water_1=m1[:impactwaterresources, :water]\n",
    "pv_water_1=df_r.*water_1;\n",
    "water_3=m3[:impactwaterresources, :water]\n",
    "pv_water_3=df_r.*water_3;\n",
    "marg_water=1000000000.0*(water_3-water_1);\n",
    "pd_water=(df_r.*marg_water)/10^6\n",
    "water_SCC=-1*sum(pd_water[60:300,:])"
   ]
  },
  {
   "cell_type": "code",
   "execution_count": 170,
   "metadata": {
    "collapsed": false,
    "jupyter": {
     "outputs_hidden": false
    }
   },
   "outputs": [
    {
     "data": {
      "text/plain": [
       "0.10291367068182447"
      ]
     },
     "execution_count": 170,
     "metadata": {},
     "output_type": "execute_result"
    }
   ],
   "source": [
    "perc_water_SCC=water_SCC/SCC"
   ]
  },
  {
   "cell_type": "markdown",
   "metadata": {},
   "source": [
    "## Other"
   ]
  },
  {
   "cell_type": "code",
   "execution_count": 171,
   "metadata": {
    "collapsed": false,
    "jupyter": {
     "outputs_hidden": false
    }
   },
   "outputs": [
    {
     "data": {
      "text/plain": [
       "0.0"
      ]
     },
     "execution_count": 171,
     "metadata": {},
     "output_type": "execute_result"
    }
   ],
   "source": [
    "eloss_other=parameters[:eloss_other]\n",
    "eloss_other=sum(eloss_other)"
   ]
  },
  {
   "cell_type": "code",
   "execution_count": 172,
   "metadata": {
    "collapsed": false,
    "jupyter": {
     "outputs_hidden": false
    }
   },
   "outputs": [
    {
     "data": {
      "text/plain": [
       "0.0"
      ]
     },
     "execution_count": 172,
     "metadata": {},
     "output_type": "execute_result"
    }
   ],
   "source": [
    "sloss_other=parameters[:sloss_other]\n",
    "sloss_other=sum(sloss_other)"
   ]
  },
  {
   "cell_type": "markdown",
   "metadata": {},
   "source": [
    "## SCC - Check"
   ]
  },
  {
   "cell_type": "markdown",
   "metadata": {},
   "source": [
    "### SCC-Aggregate"
   ]
  },
  {
   "cell_type": "code",
   "execution_count": 173,
   "metadata": {
    "collapsed": false,
    "jupyter": {
     "outputs_hidden": false
    }
   },
   "outputs": [
    {
     "data": {
      "text/plain": [
       "35.724475961381174"
      ]
     },
     "execution_count": 173,
     "metadata": {},
     "output_type": "execute_result"
    }
   ],
   "source": [
    "SCC_Check_1=m1[:impactaggregation, :loss]\n",
    "SCC_Check_3=m3[:impactaggregation, :loss]\n",
    "marg_SCC_Check=(SCC_Check_3-SCC_Check_1);\n",
    "pd_SCC_Check=(df_r.*marg_SCC_Check)/10^6\n",
    "SCC_Check=sum(pd_SCC_Check[60:300,:])"
   ]
  },
  {
   "cell_type": "markdown",
   "metadata": {},
   "source": [
    "### SCC-Aggregate-2"
   ]
  },
  {
   "cell_type": "code",
   "execution_count": 174,
   "metadata": {
    "collapsed": false,
    "jupyter": {
     "outputs_hidden": false
    }
   },
   "outputs": [
    {
     "data": {
      "text/plain": [
       "35.70024633780331"
      ]
     },
     "execution_count": 174,
     "metadata": {},
     "output_type": "execute_result"
    }
   ],
   "source": [
    "SCC_Check_2=agr_SCC+cool_SCC+bio_SCC+forest_SCC+health_alt_SCC+heat_SCC+slr_SCC+hurr_dam_SCC+water_SCC"
   ]
  },
  {
   "cell_type": "markdown",
   "metadata": {},
   "source": [
    "### SCC-Aggregate-3"
   ]
  },
  {
   "cell_type": "code",
   "execution_count": 175,
   "metadata": {
    "collapsed": false,
    "jupyter": {
     "outputs_hidden": false
    }
   },
   "outputs": [
    {
     "data": {
      "text/plain": [
       "0.999321764058791"
      ]
     },
     "execution_count": 175,
     "metadata": {},
     "output_type": "execute_result"
    }
   ],
   "source": [
    "SCC_Check_3=perc_agr_SCC+perc_cool_SCC+perc_bio_SCC+perc_forest_SCC+perc_health_alt_SCC+perc_heat_SCC+perc_slr_SCC+perc_hurr_dam_SCC+perc_water_SCC"
   ]
  },
  {
   "cell_type": "markdown",
   "metadata": {},
   "source": [
    "# Tables"
   ]
  },
  {
   "cell_type": "markdown",
   "metadata": {},
   "source": [
    "## Tables for Figure 1"
   ]
  },
  {
   "cell_type": "code",
   "execution_count": 176,
   "metadata": {
    "collapsed": false,
    "jupyter": {
     "outputs_hidden": false
    }
   },
   "outputs": [
    {
     "data": {
      "text/plain": [
       "10×3 Matrix{Float64}:\n",
       " 99.0  99.0       99.0\n",
       " 99.0  -5.68434   -0.159116\n",
       " 99.0   1.80446    0.0505105\n",
       " 99.0  24.8509     0.695627\n",
       " 99.0  -0.161201  -0.00451235\n",
       " 99.0  10.0053     0.280069\n",
       " 99.0   0.938133   0.0262602\n",
       " 99.0   0.294654   0.00824795\n",
       " 99.0   3.67654    0.102914\n",
       " 99.0  35.7245     1.0"
      ]
     },
     "execution_count": 176,
     "metadata": {},
     "output_type": "execute_result"
    }
   ],
   "source": [
    "Table_Fig1a=zeros(10,3)\n",
    "Table_Fig1a[1,:].=99\n",
    "Table_Fig1a[:,1].=99\n",
    "\n",
    "Table_Fig1a[2,2]=agr_SCC\n",
    "Table_Fig1a[3,2]=bio_SCC\n",
    "Table_Fig1a[4,2]=energy_SCC\n",
    "Table_Fig1a[5,2]=forest_SCC\n",
    "Table_Fig1a[6,2]=health_alt_SCC\n",
    "Table_Fig1a[7,2]=slr_SCC\n",
    "Table_Fig1a[8,2]=storm_SCC\n",
    "Table_Fig1a[9,2]=water_SCC\n",
    "Table_Fig1a[10,2]=SCC\n",
    "\n",
    "Table_Fig1a[2,3]=perc_agr_SCC\n",
    "Table_Fig1a[3,3]=perc_bio_SCC\n",
    "Table_Fig1a[4,3]=perc_energy_SCC\n",
    "Table_Fig1a[5,3]=perc_forest_SCC\n",
    "Table_Fig1a[6,3]=perc_health_alt_SCC\n",
    "Table_Fig1a[7,3]=perc_slr_SCC\n",
    "Table_Fig1a[8,3]=perc_storm_SCC\n",
    "Table_Fig1a[9,3]=perc_water_SCC\n",
    "Table_Fig1a[10,3]=1\n",
    "\n",
    "Table_Fig1a"
   ]
  },
  {
   "cell_type": "code",
   "execution_count": 177,
   "metadata": {
    "collapsed": false,
    "jupyter": {
     "outputs_hidden": false
    }
   },
   "outputs": [
    {
     "data": {
      "text/plain": [
       "3-element Vector{String}:\n",
       " \"Impact\"\n",
       " \"SCC\"\n",
       " \"% of SCC\""
      ]
     },
     "execution_count": 177,
     "metadata": {},
     "output_type": "execute_result"
    }
   ],
   "source": [
    "Table_Figure1a_row=([\"Impact\";\"SCC\";\"% of SCC\"])"
   ]
  },
  {
   "cell_type": "code",
   "execution_count": 178,
   "metadata": {
    "collapsed": false,
    "jupyter": {
     "outputs_hidden": false
    }
   },
   "outputs": [
    {
     "data": {
      "text/plain": [
       "9-element Vector{String}:\n",
       " \"Agriculture\"\n",
       " \"Ecosystems\"\n",
       " \"Energy consumption\"\n",
       " \"Forestry\"\n",
       " \"Health\"\n",
       " \"Sea level rise\"\n",
       " \"Storms - non-health\"\n",
       " \"Water resources\"\n",
       " \"Total\""
      ]
     },
     "execution_count": 178,
     "metadata": {},
     "output_type": "execute_result"
    }
   ],
   "source": [
    "Table1_Figure1a_col=[\"Agriculture\";\"Ecosystems\";\"Energy consumption\";\"Forestry\";\"Health\";\"Sea level rise\";\"Storms - non-health\";\"Water resources\";\"Total\"]"
   ]
  },
  {
   "cell_type": "code",
   "execution_count": 179,
   "metadata": {
    "collapsed": false,
    "jupyter": {
     "outputs_hidden": false
    }
   },
   "outputs": [],
   "source": [
    "table_Fig1a=Array{String}(undef,10,3)\n",
    "table_Fig1a[1,:]=[\"Impact\";\"SCC\";\"% of SCC\"]\n",
    "table_Fig1a[:,1]=[\"Impact\";\"Agriculture\";\"Ecosystems\";\"Energy consumption\";\"Forestry\";\"Health\";\"Sea level rise\";\"Storms - non-health\";\"Water resources\";\"Total\"]\n",
    "\n",
    "\n",
    "table_Fig1a[2:10,2]=[string(agr_SCC);string(bio_SCC);string(energy_SCC);string(forest_SCC);string(health_alt_SCC);string(slr_SCC);string(storm_SCC);string(water_SCC);string(SCC)]\n",
    "table_Fig1a[2:10,3]=[string(perc_agr_SCC);string(perc_bio_SCC);string(perc_energy_SCC);string(perc_forest_SCC);string(perc_health_alt_SCC);string(perc_slr_SCC);string(perc_storm_SCC);string(perc_water_SCC);string(1)]\n",
    "\n",
    "\n",
    "table_Fig1a\n",
    "\n",
    "writedlm(\"../output/poverty_fig1a.csv\",table_Fig1a, \",\")"
   ]
  },
  {
   "cell_type": "code",
   "execution_count": 180,
   "metadata": {
    "collapsed": false,
    "jupyter": {
     "outputs_hidden": false
    }
   },
   "outputs": [
    {
     "data": {
      "text/plain": [
       "17×3 Matrix{Float64}:\n",
       " 99.0    99.0        99.0\n",
       " 99.0   296.669   41656.6\n",
       " 99.0    33.4346  29277.1\n",
       " 99.0   394.825   34145.4\n",
       " 99.0   192.844   45751.1\n",
       " 99.0    23.5581  32229.6\n",
       " 99.0   126.784    4032.19\n",
       " 99.0   293.464    2442.87\n",
       " 99.0   316.064    3140.23\n",
       " 99.0   154.358    3861.7\n",
       " 99.0   414.733    5018.34\n",
       " 99.0  1669.7       583.833\n",
       " 99.0   629.425    2107.36\n",
       " 99.0  1467.68     1383.02\n",
       " 99.0   192.418    1569.93\n",
       " 99.0   877.964     608.689\n",
       " 99.0    53.3926   1426.36"
      ]
     },
     "execution_count": 180,
     "metadata": {},
     "output_type": "execute_result"
    }
   ],
   "source": [
    "Table_Fig1b=zeros(17,3)\n",
    "Table_Fig1b[1,:].=99\n",
    "Table_Fig1b[:,1].=99\n",
    "\n",
    "for j=2:17\n",
    "    Table_Fig1b[j,2]=pop_reg_2015[j-1]\n",
    "    Table_Fig1b[j,3]=ypc_reg_2015[j-1]\n",
    "    \n",
    "end    \n",
    "\n",
    "Table_Fig1b"
   ]
  },
  {
   "cell_type": "code",
   "execution_count": 181,
   "metadata": {
    "collapsed": false,
    "jupyter": {
     "outputs_hidden": false
    }
   },
   "outputs": [
    {
     "data": {
      "text/plain": [
       "3-element Vector{String}:\n",
       " \"Regions\"\n",
       " \"2015 Population\"\n",
       " \"2015 GDP per Capita\""
      ]
     },
     "execution_count": 181,
     "metadata": {},
     "output_type": "execute_result"
    }
   ],
   "source": [
    "Table_Figure1b_row=([\"Regions\";\"2015 Population\";\"2015 GDP per Capita\"])"
   ]
  },
  {
   "cell_type": "code",
   "execution_count": 182,
   "metadata": {
    "collapsed": false,
    "jupyter": {
     "outputs_hidden": false
    }
   },
   "outputs": [
    {
     "data": {
      "text/plain": [
       "17-element Vector{String}:\n",
       " \"Regsions\"\n",
       " \"USA\"\n",
       " \"CAN\"\n",
       " \"WEU\"\n",
       " \"JPK\"\n",
       " \"ANZ\"\n",
       " \"CEE\"\n",
       " \"FSU\"\n",
       " \"MDE\"\n",
       " \"CAM\"\n",
       " \"SAM\"\n",
       " \"SAS\"\n",
       " \"SEA\"\n",
       " \"CHI\"\n",
       " \"NAF\"\n",
       " \"SSA\"\n",
       " \"SIS\""
      ]
     },
     "execution_count": 182,
     "metadata": {},
     "output_type": "execute_result"
    }
   ],
   "source": [
    "Table_Figure1b_col=[\"Regsions\";\"USA\";\"CAN\"; \"WEU\";\"JPK\";\"ANZ\";\"CEE\";\"FSU\";\"MDE\";\"CAM\";\"SAM\";\"SAS\";\"SEA\";\"CHI\";\"NAF\";\"SSA\";\"SIS\"]"
   ]
  },
  {
   "cell_type": "code",
   "execution_count": 183,
   "metadata": {
    "collapsed": false,
    "jupyter": {
     "outputs_hidden": false
    }
   },
   "outputs": [],
   "source": [
    "table_Fig1b=Array{String}(undef,17,3)\n",
    "table_Fig1b[1,:]=[\"Regions\";\"2015 Population\";\"2015 GDP per Capita\"]\n",
    "table_Fig1b[:,1]=[\"Regions\";\"USA\";\"CAN\"; \"WEU\";\"JPK\";\"ANZ\";\"CEE\";\"FSU\";\"MDE\";\"CAM\";\"SAM\";\"SAS\";\"SEA\";\"CHI\";\"NAF\";\"SSA\";\"SIS\"]\n",
    "\n",
    "table_Fig1b[2:17,2]=[string(pop_reg_2015[1]);string(pop_reg_2015[2]);string(pop_reg_2015[3]);string(pop_reg_2015[4]);string(pop_reg_2015[5]);string(pop_reg_2015[6]);string(pop_reg_2015[7]);string(pop_reg_2015[8]);string(pop_reg_2015[9]);string(pop_reg_2015[10]);string(pop_reg_2015[11]);string(pop_reg_2015[12]);string(pop_reg_2015[13]);string(pop_reg_2015[14]);string(pop_reg_2015[15]);string(pop_reg_2015[16])]\n",
    "table_Fig1b[2:17,3]=[string(ypc_reg_2015[1]);string(ypc_reg_2015[2]);string(ypc_reg_2015[3]);string(ypc_reg_2015[4]);string(ypc_reg_2015[5]);string(ypc_reg_2015[6]);string(ypc_reg_2015[7]);string(ypc_reg_2015[8]);string(ypc_reg_2015[9]);string(ypc_reg_2015[10]);string(ypc_reg_2015[11]);string(ypc_reg_2015[12]);string(ypc_reg_2015[13]);string(ypc_reg_2015[14]);string(ypc_reg_2015[15]);string(ypc_reg_2015[16])]\n",
    "\n",
    "table_Fig1b\n",
    "\n",
    "writedlm(\"../output/poverty_fig1b.csv\",table_Fig1b, \",\")"
   ]
  },
  {
   "cell_type": "markdown",
   "metadata": {},
   "source": [
    "#### Alternative Regions"
   ]
  },
  {
   "cell_type": "code",
   "execution_count": 184,
   "metadata": {
    "collapsed": false,
    "jupyter": {
     "outputs_hidden": false
    }
   },
   "outputs": [],
   "source": [
    "table_Fig1b_Reg=Array{String}(undef,4,3)\n",
    "table_Fig1b_Reg[1,:]=[\"Regions\";\"2015 Population\";\"2015 GDP per Capita\"]\n",
    "table_Fig1b_Reg[:,1]=[\"Regions\";\"HIGH\";\"MEDIUM\";\"LOW\"]\n",
    "\n",
    "table_Fig1b_Reg[2:4,2]=[string(pop_high_2015);string(pop_med_2015);string(pop_low_2015)]\n",
    "table_Fig1b_Reg[2:4,3]=[string(ypc_high_2015);string(ypc_med_2015);string(ypc_low_2015)]\n",
    "\n",
    "table_Fig1b_Reg\n",
    "\n",
    "\n",
    "writedlm(\"../output/poverty_fig1b_Reg.csv\",table_Fig1b_Reg, \",\")"
   ]
  },
  {
   "cell_type": "markdown",
   "metadata": {},
   "source": [
    "## Table - Figure 2"
   ]
  },
  {
   "cell_type": "code",
   "execution_count": 185,
   "metadata": {
    "collapsed": false,
    "jupyter": {
     "outputs_hidden": false
    }
   },
   "outputs": [],
   "source": [
    "#table_Fig2=Array{String}(undef,11,17)\n",
    "#table_Fig2[1,:]=[\"Endpoint/Region\";\"USA\";\"CAN\"; \"WEU\";\"JPK\";\"ANZ\";\"CEE\";\"FSU\";\"MDE\";\"CAM\";\"SAM\";\"SAS\";\"SEA\";\"CHI\";\"NAF\";\"SSA\";\"SIS\"]\n",
    "#table_Fig2[:,1]=[\"Endpoint/Region\";\"Dengue Fever\";\"Schistomiasis\";\"Malaria\";\"Cardiovascular - Heat\";\"Cardiovascular - Cold\";\"Respiratory\";\"Diarrhea\";\"Hurricane\";\"Extratropical\";\"Total Health\"]\n",
    "\n",
    "#for j=2:17\n",
    "#    table_Fig2[2,j]=string(reg_perc_dv_SCC[j-1])\n",
    "#    table_Fig2[3,j]=string(reg_perc_sv_SCC[j-1])\n",
    "#    table_Fig2[4,j]=string(reg_perc_mv_SCC[j-1])\n",
    "#    table_Fig2[5,j]=string(reg_perc_chr_SCC[j-1])\n",
    "#    table_Fig2[6,j]=string(reg_perc_ccr_SCC[j-1])\n",
    "#    table_Fig2[7,j]=string(reg_perc_resp_SCC[j-1])\n",
    "#    table_Fig2[8,j]=string(reg_perc_diar_SCC[j-1])\n",
    "#    table_Fig2[9,j]=string(reg_perc_hurr_SCC[j-1])\n",
    "#    table_Fig2[10,j]=string(reg_perc_extra_SCC[j-1])\n",
    "#    table_Fig2[11,j]=string(Reg_Perc_Health_SCC[j-1])\n",
    "#end\n",
    "#        \n",
    "#table_Fig2\n",
    "#\n",
    "#writedlm(\"poverty_Fig2.csv\",table_Fig2, \",\")"
   ]
  },
  {
   "cell_type": "code",
   "execution_count": 186,
   "metadata": {
    "collapsed": false,
    "jupyter": {
     "outputs_hidden": false
    }
   },
   "outputs": [],
   "source": [
    "table_Fig2=Array{String}(undef,11,17)\n",
    "table_Fig2[1,:]=[\"SCC by Endpoint/Region\";\"USA\";\"CAN\"; \"WEU\";\"JPK\";\"ANZ\";\"CEE\";\"FSU\";\"MDE\";\"CAM\";\"SAM\";\"SAS\";\"SEA\";\"CHI\";\"NAF\";\"SSA\";\"SIS\"]\n",
    "table_Fig2[:,1]=[\"SCC by Endpoint/Region\";\"Dengue Fever\";\"Schistomiasis\";\"Malaria\";\"Cardiovascular - Heat\";\"Cardiovascular - Cold\";\"Respiratory\";\"Diarrhea\";\"Hurricane\";\"Extratropical\";\"Total Health\"]\n",
    "\n",
    "for j=2:17\n",
    "    table_Fig2[2,j]=string(reg_dv_SCC[j-1])\n",
    "    table_Fig2[3,j]=string(reg_sv_SCC[j-1])\n",
    "    table_Fig2[4,j]=string(reg_mv_SCC[j-1])\n",
    "    table_Fig2[5,j]=string(reg_chr_SCC[j-1])\n",
    "    table_Fig2[6,j]=string(reg_ccr_SCC[j-1])\n",
    "    table_Fig2[7,j]=string(reg_resp_SCC[j-1])\n",
    "    table_Fig2[8,j]=string(reg_diar_SCC[j-1])\n",
    "    table_Fig2[9,j]=string(reg_hurr_SCC[j-1])\n",
    "    table_Fig2[10,j]=string(reg_extra_SCC[j-1])\n",
    "    table_Fig2[11,j]=string(reg_health_SCC[j-1])\n",
    "end\n",
    "        \n",
    "table_Fig2\n",
    "\n",
    "writedlm(\"../output/poverty_Fig2.csv\",table_Fig2, \",\")"
   ]
  },
  {
   "cell_type": "markdown",
   "metadata": {},
   "source": [
    "#### Alternative Regions"
   ]
  },
  {
   "cell_type": "code",
   "execution_count": 187,
   "metadata": {
    "collapsed": false,
    "jupyter": {
     "outputs_hidden": false
    }
   },
   "outputs": [],
   "source": [
    "table_Fig2_Reg=Array{String}(undef,11,4)\n",
    "table_Fig2_Reg[1,:]=[\"SCC by Endpoint/Region\";\"High\";\"Medium\";\"Low\"]\n",
    "table_Fig2_Reg[:,1]=[\"SCC by Endpoint/Region\";\"Dengue Fever\";\"Schistomiasis\";\"Malaria\";\"Cardiovascular - Heat\";\"Cardiovascular - Cold\";\"Respiratory\";\"Diarrhea\";\"Hurricane\";\"Extratropical\";\"Total Health\"]\n",
    "\n",
    "\n",
    "table_Fig2_Reg[2,2:4]=[string(dv_SCC_high);string(dv_SCC_med);string(dv_SCC_low)]\n",
    "table_Fig2_Reg[3,2:4]=[string(sv_SCC_high);string(sv_SCC_med);string(sv_SCC_low)]\n",
    "table_Fig2_Reg[4,2:4]=[string(mv_SCC_high);string(mv_SCC_med);string(mv_SCC_low)]\n",
    "table_Fig2_Reg[5,2:4]=[string(chr_SCC_high);string(chr_SCC_med);string(chr_SCC_low)]\n",
    "table_Fig2_Reg[6,2:4]=[string(ccr_SCC_high);string(ccr_SCC_med);string(ccr_SCC_low)]\n",
    "table_Fig2_Reg[7,2:4]=[string(resp_SCC_high);string(resp_SCC_med);string(resp_SCC_low)]\n",
    "table_Fig2_Reg[8,2:4]=[string(diar_SCC_high);string(diar_SCC_med);string(diar_SCC_low)]\n",
    "table_Fig2_Reg[9,2:4]=[string(hurr_SCC_high);string(hurr_SCC_med);string(hurr_SCC_low)]\n",
    "table_Fig2_Reg[10,2:4]=[string(extra_SCC_high);string(extra_SCC_med);string(extra_SCC_low)]\n",
    "table_Fig2_Reg[11,2:4]=[string(health_SCC_high);string(health_SCC_med);string(health_SCC_low)]\n",
    "        \n",
    "table_Fig2_Reg\n",
    "\n",
    "writedlm(\"../output/poverty_Fig2_Reg.csv\",table_Fig2_Reg, \",\")"
   ]
  },
  {
   "cell_type": "markdown",
   "metadata": {},
   "source": [
    "## Table - Appendix Figure 1"
   ]
  },
  {
   "cell_type": "code",
   "execution_count": 188,
   "metadata": {
    "collapsed": false,
    "jupyter": {
     "outputs_hidden": false
    }
   },
   "outputs": [
    {
     "data": {
      "text/plain": [
       "301×11 Matrix{String}:\n",
       " \"Mortalities by Endpoint/Year\"  …  \"Total\"\n",
       " \"2000\"                             \"146329.3760479393\"\n",
       " \"2001\"                             \"151046.17592244447\"\n",
       " \"2002\"                             \"152292.32208001942\"\n",
       " \"2003\"                             \"154682.1588934941\"\n",
       " \"2004\"                          …  \"156637.28707168964\"\n",
       " \"2005\"                             \"158137.86526846\"\n",
       " \"2006\"                             \"159187.69793021708\"\n",
       " \"2007\"                             \"159776.56181101955\"\n",
       " \"2008\"                             \"159984.32029920336\"\n",
       " \"2009\"                          …  \"159766.82873739584\"\n",
       " \"2010\"                             \"159119.59059339002\"\n",
       " \"2011\"                             \"158032.50898717623\"\n",
       " ⋮                               ⋱  ⋮\n",
       " \"2288\"                             \"2.358140897794621e6\"\n",
       " \"2289\"                          …  \"2.3593990724841915e6\"\n",
       " \"2290\"                             \"2.3606458609262207e6\"\n",
       " \"2291\"                             \"2.361881571782511e6\"\n",
       " \"2292\"                             \"2.3631065743244933e6\"\n",
       " \"2293\"                             \"2.364321050233199e6\"\n",
       " \"2294\"                          …  \"2.365525046918514e6\"\n",
       " \"2295\"                             \"2.3667191038162396e6\"\n",
       " \"2296\"                             \"2.367903384790236e6\"\n",
       " \"2297\"                             \"2.369077988872547e6\"\n",
       " \"2298\"                             \"2.3702431600218336e6\"\n",
       " \"2299\"                          …  \"2.3713989338599113e6\""
      ]
     },
     "execution_count": 188,
     "metadata": {},
     "output_type": "execute_result"
    }
   ],
   "source": [
    "table_app1=Array{String}(undef,11,301)\n",
    "table_app1[:,1]=[\"Mortalities by Endpoint/Year\";\"Dengue Fever\";\"Schistomiasis\";\"Malaria\";\"Cardiovascular - Heat\";\"Cardiovascular - Cold\";\"Respiratory\";\"Diarrhea\";\"Hurricane\";\"Extratropical\";\"Total\"]\n",
    "\n",
    "for j=2:301\n",
    "    table_app1[1,j]=string(j-2+2000)\n",
    "    table_app1[2,j]=string(dead_d_global[j-1])\n",
    "    table_app1[3,j]=string(dead_s_global[j-1])\n",
    "    table_app1[4,j]=string(dead_m_global[j-1])\n",
    "    table_app1[5,j]=string(dead_ch_global[j-1])\n",
    "    table_app1[6,j]=string(dead_cc_global[j-1])\n",
    "    table_app1[7,j]=string(dead_r_global[j-1])\n",
    "    table_app1[8,j]=string(dead_diah_global[j-1])\n",
    "    table_app1[9,j]=string(dead_hurr_global[j-1])\n",
    "    table_app1[10,j]=string(dead_extra_global[j-1])\n",
    "    table_app1[11,j]=string(deaths_glob[j-1])\n",
    "end\n",
    "\n",
    "table_app1\n",
    "table_app1b=permutedims(table_app1)"
   ]
  },
  {
   "cell_type": "code",
   "execution_count": 189,
   "metadata": {
    "collapsed": false,
    "jupyter": {
     "outputs_hidden": false
    }
   },
   "outputs": [],
   "source": [
    "writedlm(\"../output/poverty_app1.csv\",table_app1b, \",\")"
   ]
  },
  {
   "cell_type": "markdown",
   "metadata": {},
   "source": [
    "## Table_Fig3 "
   ]
  },
  {
   "cell_type": "code",
   "execution_count": 190,
   "metadata": {
    "collapsed": false,
    "jupyter": {
     "outputs_hidden": false
    }
   },
   "outputs": [],
   "source": [
    "table_Fig3=Array{String}(undef,3,17)\n",
    "table_Fig3[1,:]=[\"Endpoint/Region\";\"USA\";\"CAN\"; \"WEU\";\"JPK\";\"ANZ\";\"CEE\";\"FSU\";\"MDE\";\"CAM\";\"SAM\";\"SAS\";\"SEA\";\"CHI\";\"NAF\";\"SSA\";\"SIS\"]\n",
    "table_Fig3[:,1]=[\"Endpoint/Region\";\"Health\";\"SCC\"]\n",
    "\n",
    "for j=2:17\n",
    "    table_Fig3[2,j]=string(reg_health_SCC[j-1])\n",
    "    table_Fig3[3,j]=string(SCC_reg[j-1])\n",
    "end\n",
    "        \n",
    "table_Fig3\n",
    "table_Fig3=permutedims(table_Fig3)\n",
    "\n",
    "writedlm(\"../output/poverty_table_fig3.csv\",table_Fig3, \",\")"
   ]
  },
  {
   "cell_type": "markdown",
   "metadata": {},
   "source": [
    "#### Alternative Regions"
   ]
  },
  {
   "cell_type": "code",
   "execution_count": 191,
   "metadata": {
    "collapsed": false,
    "jupyter": {
     "outputs_hidden": false
    }
   },
   "outputs": [],
   "source": [
    "table_Fig3_Reg=Array{String}(undef,3,4)\n",
    "table_Fig3_Reg[1,:]=[\"Endpoint/Region\";\"High\";\"Medium\";\"Low\"]\n",
    "table_Fig3_Reg[:,1]=[\"Endpoint/Region\";\"Health\";\"SCC\"]\n",
    "\n",
    "\n",
    "table_Fig3_Reg[2,2:4]=[string(health_SCC_high);string(health_SCC_med);string(health_SCC_low)]\n",
    "table_Fig3_Reg[3,2:4]=[string(SCC_high);string(SCC_med);string(SCC_low)]\n",
    "        \n",
    "table_Fig3_Reg\n",
    "table_Fig3_Reg=permutedims(table_Fig3_Reg)\n",
    "\n",
    "writedlm(\"../output/poverty_fig3_Reg.csv\",table_Fig3_Reg, \",\")"
   ]
  },
  {
   "cell_type": "markdown",
   "metadata": {},
   "source": [
    "## Table_Fig4"
   ]
  },
  {
   "cell_type": "code",
   "execution_count": 192,
   "metadata": {
    "collapsed": false,
    "jupyter": {
     "outputs_hidden": false
    }
   },
   "outputs": [],
   "source": [
    "table_Fig4a=Array{String}(undef,6,17)\n",
    "table_Fig4a[1,:]=[\"Endpoint/Region\";\"USA\";\"CAN\"; \"WEU\";\"JPK\";\"ANZ\";\"CEE\";\"FSU\";\"MDE\";\"CAM\";\"SAM\";\"SAS\";\"SEA\";\"CHI\";\"NAF\";\"SSA\";\"SIS\"]\n",
    "table_Fig4a[:,1]=[\"Endpoint/Region\";\"Avg VSL\";\"Weighted VSL\";\"Deaths\";\"Avg Per Capita GDP\";\"Weighted Per Capita GDP\"]\n",
    "\n",
    "for j=2:17\n",
    "    table_Fig4a[2,j]=string(vsl_reg_avg[j-1])\n",
    "    table_Fig4a[3,j]=string(vsl_reg_pop_avg[j-1])\n",
    "    table_Fig4a[4,j]=string(deaths_reg_sum[j-1])\n",
    "    table_Fig4a[5,j]=string(ypc_reg_avg[j-1])\n",
    "    table_Fig4a[6,j]=string(ypc_reg_pop_avg[j-1])\n",
    "end\n",
    "        \n",
    "table_Fig4a\n",
    "table_Fig4a=permutedims(table_Fig4a)\n",
    "\n",
    "writedlm(\"../output/poverty_fig4a.csv\",table_Fig4a, \",\")"
   ]
  },
  {
   "cell_type": "code",
   "execution_count": 193,
   "metadata": {
    "tags": []
   },
   "outputs": [],
   "source": [
    "table_Fig4b=Array{String}(undef,17,301)\n",
    "table_Fig4b[:,1]=[\"VSL/Region\";\"USA\";\"CAN\"; \"WEU\";\"JPK\";\"ANZ\";\"CEE\";\"FSU\";\"MDE\";\"CAM\";\"SAM\";\"SAS\";\"SEA\";\"CHI\";\"NAF\";\"SSA\";\"SIS\"]\n",
    "\n",
    "for j=2:301\n",
    "    table_Fig4b[1,j]=string(j-2+2000)\n",
    "    table_Fig4b[2,j]=string(vsl_reg[j-1,1])\n",
    "    table_Fig4b[3,j]=string(vsl_reg[j-1,2])\n",
    "    table_Fig4b[4,j]=string(vsl_reg[j-1,3])\n",
    "    table_Fig4b[5,j]=string(vsl_reg[j-1,4])\n",
    "    table_Fig4b[6,j]=string(vsl_reg[j-1,5])\n",
    "    table_Fig4b[7,j]=string(vsl_reg[j-1,6])\n",
    "    table_Fig4b[8,j]=string(vsl_reg[j-1,7])\n",
    "    table_Fig4b[9,j]=string(vsl_reg[j-1,8])\n",
    "    table_Fig4b[10,j]=string(vsl_reg[j-1,9])\n",
    "    table_Fig4b[11,j]=string(vsl_reg[j-1,10])\n",
    "    table_Fig4b[12,j]=string(vsl_reg[j-1,11])\n",
    "    table_Fig4b[13,j]=string(vsl_reg[j-1,12])\n",
    "    table_Fig4b[14,j]=string(vsl_reg[j-1,13])\n",
    "    table_Fig4b[15,j]=string(vsl_reg[j-1,14])\n",
    "    table_Fig4b[16,j]=string(vsl_reg[j-1,15])\n",
    "    table_Fig4b[17,j]=string(vsl_reg[j-1,16])\n",
    "    \n",
    "end\n",
    "\n",
    "table_Fig4b\n",
    "table_Fig4b=permutedims(table_Fig4b)\n",
    "writedlm(\"../output/poverty_fig4b.csv\",table_Fig4b, \",\")"
   ]
  },
  {
   "cell_type": "code",
   "execution_count": 194,
   "metadata": {
    "tags": []
   },
   "outputs": [],
   "source": [
    "table_Fig4c=Array{String}(undef,17,301)\n",
    "table_Fig4c[:,1]=[\"Mortalities/Region\";\"USA\";\"CAN\"; \"WEU\";\"JPK\";\"ANZ\";\"CEE\";\"FSU\";\"MDE\";\"CAM\";\"SAM\";\"SAS\";\"SEA\";\"CHI\";\"NAF\";\"SSA\";\"SIS\"]\n",
    "\n",
    "for j=2:301\n",
    "    table_Fig4c[1,j]=string(j-2+2000)\n",
    "    table_Fig4c[2,j]=string(deaths_reg[j-1,1])\n",
    "    table_Fig4c[3,j]=string(deaths_reg[j-1,2])\n",
    "    table_Fig4c[4,j]=string(deaths_reg[j-1,3])\n",
    "    table_Fig4c[5,j]=string(deaths_reg[j-1,4])\n",
    "    table_Fig4c[6,j]=string(deaths_reg[j-1,5])\n",
    "    table_Fig4c[7,j]=string(deaths_reg[j-1,6])\n",
    "    table_Fig4c[8,j]=string(deaths_reg[j-1,7])\n",
    "    table_Fig4c[9,j]=string(deaths_reg[j-1,8])\n",
    "    table_Fig4c[10,j]=string(deaths_reg[j-1,9])\n",
    "    table_Fig4c[11,j]=string(deaths_reg[j-1,10])\n",
    "    table_Fig4c[12,j]=string(deaths_reg[j-1,11])\n",
    "    table_Fig4c[13,j]=string(deaths_reg[j-1,12])\n",
    "    table_Fig4c[14,j]=string(deaths_reg[j-1,13])\n",
    "    table_Fig4c[15,j]=string(deaths_reg[j-1,14])\n",
    "    table_Fig4c[16,j]=string(deaths_reg[j-1,15])\n",
    "    table_Fig4c[17,j]=string(deaths_reg[j-1,16])\n",
    "    \n",
    "end\n",
    "\n",
    "table_Fig4c\n",
    "table_Fig4c=permutedims(table_Fig4c)\n",
    "writedlm(\"../output/poverty_fig4c.csv\",table_Fig4c, \",\")"
   ]
  },
  {
   "cell_type": "code",
   "execution_count": 195,
   "metadata": {
    "collapsed": false,
    "jupyter": {
     "outputs_hidden": false
    }
   },
   "outputs": [],
   "source": [
    "table_Fig4d=Array{String}(undef,17,301)\n",
    "table_Fig4d[:,1]=[\"YPC/Region\";\"USA\";\"CAN\"; \"WEU\";\"JPK\";\"ANZ\";\"CEE\";\"FSU\";\"MDE\";\"CAM\";\"SAM\";\"SAS\";\"SEA\";\"CHI\";\"NAF\";\"SSA\";\"SIS\"]\n",
    "\n",
    "for j=2:301\n",
    "    table_Fig4d[1,j]=string(j-2+2000)\n",
    "    table_Fig4d[2,j]=string(ypc_reg[j-1,1])\n",
    "    table_Fig4d[3,j]=string(ypc_reg[j-1,2])\n",
    "    table_Fig4d[4,j]=string(ypc_reg[j-1,3])\n",
    "    table_Fig4d[5,j]=string(ypc_reg[j-1,4])\n",
    "    table_Fig4d[6,j]=string(ypc_reg[j-1,5])\n",
    "    table_Fig4d[7,j]=string(ypc_reg[j-1,6])\n",
    "    table_Fig4d[8,j]=string(ypc_reg[j-1,7])\n",
    "    table_Fig4d[9,j]=string(ypc_reg[j-1,8])\n",
    "    table_Fig4d[10,j]=string(ypc_reg[j-1,9])\n",
    "    table_Fig4d[11,j]=string(ypc_reg[j-1,10])\n",
    "    table_Fig4d[12,j]=string(ypc_reg[j-1,11])\n",
    "    table_Fig4d[13,j]=string(ypc_reg[j-1,12])\n",
    "    table_Fig4d[14,j]=string(ypc_reg[j-1,13])\n",
    "    table_Fig4d[15,j]=string(ypc_reg[j-1,14])\n",
    "    table_Fig4d[16,j]=string(ypc_reg[j-1,15])\n",
    "    table_Fig4d[17,j]=string(ypc_reg[j-1,16])\n",
    "    \n",
    "end\n",
    "\n",
    "table_Fig4d\n",
    "table_Fig4d=permutedims(table_Fig4d)\n",
    "writedlm(\"../output/poverty_fig4d.csv\",table_Fig4d, \",\")"
   ]
  },
  {
   "cell_type": "markdown",
   "metadata": {},
   "source": [
    "#### Alternative Regions"
   ]
  },
  {
   "cell_type": "code",
   "execution_count": 196,
   "metadata": {
    "collapsed": false,
    "jupyter": {
     "outputs_hidden": false
    }
   },
   "outputs": [],
   "source": [
    "table_Fig4a_Reg=Array{String}(undef,5,4)\n",
    "table_Fig4a_Reg[1,:]=[\"Endpoint/Region\";\"High\";\"Medium\";\"Low\"]\n",
    "table_Fig4a_Reg[:,1]=[\"Endpoint/Region\";\"Avg VSL\";\"Weighted VSL\";\"Deaths\";\"Avg Per Capita GDP\"]\n",
    "\n",
    "\n",
    "table_Fig4a_Reg[2,2:4]=[string(vsl_high_avg);string(vsl_med_avg);string(vsl_low_avg)]\n",
    "table_Fig4a_Reg[3,2:4]=[string(vsl_high_pop_avg);string(vsl_med_pop_avg);string(vsl_low_pop_avg)]\n",
    "table_Fig4a_Reg[4,2:4]=[string(dead_high_sum);string(dead_med_sum);string(dead_low_sum)]\n",
    "table_Fig4a_Reg[5,2:4]=[string(ypc_high_avg);string(ypc_med_avg);string(ypc_low_avg)]\n",
    "\n",
    "        \n",
    "table_Fig4a_Reg\n",
    "table_Fig4a_Reg=permutedims(table_Fig4a_Reg)\n",
    "\n",
    "writedlm(\"../output/poverty_fig4a_Reg.csv\",table_Fig4a_Reg, \",\")"
   ]
  },
  {
   "cell_type": "code",
   "execution_count": 197,
   "metadata": {
    "tags": []
   },
   "outputs": [],
   "source": [
    "table_Fig4b_Reg=Array{String}(undef,4,301)\n",
    "table_Fig4b_Reg[:,1]=[\"VSL/Region\";\"High\";\"Medium\";\"Low\"]\n",
    "\n",
    "for j=2:301\n",
    "    table_Fig4b_Reg[1,j]=string(j-2+2000)\n",
    "    table_Fig4b_Reg[2,j]=string(vsl_high[j-1])\n",
    "    table_Fig4b_Reg[3,j]=string(vsl_med[j-1])\n",
    "    table_Fig4b_Reg[4,j]=string(vsl_low[j-1])    \n",
    "end\n",
    "\n",
    "table_Fig4b_Reg\n",
    "table_Fig4b_Reg=permutedims(table_Fig4b_Reg)\n",
    "writedlm(\"../output/poverty_fig4b_Reg.csv\",table_Fig4b_Reg, \",\")"
   ]
  },
  {
   "cell_type": "code",
   "execution_count": 198,
   "metadata": {
    "collapsed": false,
    "jupyter": {
     "outputs_hidden": false
    }
   },
   "outputs": [],
   "source": [
    "table_Fig4c_Reg=Array{String}(undef,4,301)\n",
    "table_Fig4c_Reg[:,1]=[\"Mortalities/Region\";\"High\";\"Medium\";\"Low\"]\n",
    "\n",
    "for j=2:301\n",
    "    table_Fig4c_Reg[1,j]=string(j-2+2000)\n",
    "    table_Fig4c_Reg[2,j]=string(dead_high[j-1])\n",
    "    table_Fig4c_Reg[3,j]=string(dead_med[j-1])\n",
    "    table_Fig4c_Reg[4,j]=string(dead_low[j-1])\n",
    "end\n",
    "\n",
    "table_Fig4c_Reg\n",
    "table_Fig4c_Reg=permutedims(table_Fig4c_Reg)\n",
    "writedlm(\"../output/poverty_fig4c_Reg.csv\",table_Fig4c_Reg, \",\")"
   ]
  },
  {
   "cell_type": "code",
   "execution_count": 199,
   "metadata": {
    "tags": []
   },
   "outputs": [],
   "source": [
    "table_Fig4d_Reg=Array{String}(undef,4,301)\n",
    "table_Fig4d_Reg[:,1]=[\"YPC/Region\";\"High\";\"Medium\";\"Low\"]\n",
    "\n",
    "for j=2:301\n",
    "    table_Fig4d_Reg[1,j]=string(j-2+2000)\n",
    "    table_Fig4d_Reg[2,j]=string(ypc_high[j-1])\n",
    "    table_Fig4d_Reg[3,j]=string(ypc_med[j-1])\n",
    "    table_Fig4d_Reg[4,j]=string(ypc_low[j-1])\n",
    "end\n",
    "\n",
    "table_Fig4d_Reg\n",
    "table_Fig4d_Reg=permutedims(table_Fig4d_Reg)\n",
    "writedlm(\"../output/poverty_fig4d_Reg.csv\",table_Fig4d_Reg, \",\")"
   ]
  }
 ],
 "metadata": {
  "kernelspec": {
   "display_name": "Julia 1.6.1",
   "language": "julia",
   "name": "julia-1.6"
  },
  "language_info": {
   "file_extension": ".jl",
   "mimetype": "application/julia",
   "name": "julia",
   "version": "1.6.1"
  }
 },
 "nbformat": 4,
 "nbformat_minor": 4
}
